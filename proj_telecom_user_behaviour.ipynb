{
 "cells": [
  {
   "cell_type": "markdown",
   "metadata": {},
   "source": [
    "# Contents<a id='back'></a>\n",
    "\n",
    "* [Introduction](#intro)\n",
    "* [Step 1. Data overview](#overview)\n",
    "* [Step 2. EDA](#eda)\n",
    "    * [2.1 Split source data](#split)\n",
    "* [Stage 3. Investigate the quality of different models](#invest)\n",
    "    * [3.1 Decision Tree Classifier](#dtc)\n",
    "    * [3.2 Random Tree Classifier](#rtc)\n",
    "* [Conclusion](#end)"
   ]
  },
  {
   "cell_type": "markdown",
   "metadata": {},
   "source": [
    "# Introduction<a id='intro'></a>\n",
    "\n",
    "Mobile carrier Megaline has found out that many of their subscribers use legacy plans. They want to develop a model that would analyze subscribers' behavior and recommend one of Megaline's newer plans: Smart or Ultra.\n",
    "\n",
    "Develop a model with the highest possible accuracy. In this project, the threshold for accuracy is 0.75. Check the accuracy using the test dataset.\n",
    "\n",
    "**Goal:**\n",
    "\n",
    "1. Split the source data into a training set, a validation set, and a test set.\n",
    "2. Investigate the quality of different models by changing hyperparameters. Briefly describe the findings of the study.\n",
    "3. Check the quality of the model using the test set.\n",
    "4. Additional task: sanity check the model.  "
   ]
  },
  {
   "cell_type": "markdown",
   "metadata": {},
   "source": [
    "## Step 1.Data overview<a id='overview'></a>"
   ]
  },
  {
   "cell_type": "code",
   "execution_count": 17,
   "metadata": {},
   "outputs": [],
   "source": [
    "# Loading libraries\n",
    "\n",
    "import pandas as pd\n",
    "import numpy as np\n",
    "from sklearn.model_selection import train_test_split\n",
    "import seaborn as sns"
   ]
  },
  {
   "cell_type": "code",
   "execution_count": 2,
   "metadata": {
    "scrolled": true
   },
   "outputs": [
    {
     "name": "stdout",
     "output_type": "stream",
     "text": [
      "<class 'pandas.core.frame.DataFrame'>\n",
      "RangeIndex: 3214 entries, 0 to 3213\n",
      "Data columns (total 5 columns):\n",
      " #   Column    Non-Null Count  Dtype  \n",
      "---  ------    --------------  -----  \n",
      " 0   calls     3214 non-null   float64\n",
      " 1   minutes   3214 non-null   float64\n",
      " 2   messages  3214 non-null   float64\n",
      " 3   mb_used   3214 non-null   float64\n",
      " 4   is_ultra  3214 non-null   int64  \n",
      "dtypes: float64(4), int64(1)\n",
      "memory usage: 125.7 KB\n"
     ]
    }
   ],
   "source": [
    "# Read data\n",
    "\n",
    "df = pd.read_csv(\"users_behavior.csv\")\n",
    "\n",
    "df.info()"
   ]
  },
  {
   "cell_type": "code",
   "execution_count": 4,
   "metadata": {
    "scrolled": false
   },
   "outputs": [
    {
     "data": {
      "text/html": [
       "<div>\n",
       "<style scoped>\n",
       "    .dataframe tbody tr th:only-of-type {\n",
       "        vertical-align: middle;\n",
       "    }\n",
       "\n",
       "    .dataframe tbody tr th {\n",
       "        vertical-align: top;\n",
       "    }\n",
       "\n",
       "    .dataframe thead th {\n",
       "        text-align: right;\n",
       "    }\n",
       "</style>\n",
       "<table border=\"1\" class=\"dataframe\">\n",
       "  <thead>\n",
       "    <tr style=\"text-align: right;\">\n",
       "      <th></th>\n",
       "      <th>calls</th>\n",
       "      <th>minutes</th>\n",
       "      <th>messages</th>\n",
       "      <th>mb_used</th>\n",
       "      <th>is_ultra</th>\n",
       "    </tr>\n",
       "  </thead>\n",
       "  <tbody>\n",
       "    <tr>\n",
       "      <th>0</th>\n",
       "      <td>40.0</td>\n",
       "      <td>311.90</td>\n",
       "      <td>83.0</td>\n",
       "      <td>19915.42</td>\n",
       "      <td>0</td>\n",
       "    </tr>\n",
       "    <tr>\n",
       "      <th>1</th>\n",
       "      <td>85.0</td>\n",
       "      <td>516.75</td>\n",
       "      <td>56.0</td>\n",
       "      <td>22696.96</td>\n",
       "      <td>0</td>\n",
       "    </tr>\n",
       "    <tr>\n",
       "      <th>2</th>\n",
       "      <td>77.0</td>\n",
       "      <td>467.66</td>\n",
       "      <td>86.0</td>\n",
       "      <td>21060.45</td>\n",
       "      <td>0</td>\n",
       "    </tr>\n",
       "    <tr>\n",
       "      <th>3</th>\n",
       "      <td>106.0</td>\n",
       "      <td>745.53</td>\n",
       "      <td>81.0</td>\n",
       "      <td>8437.39</td>\n",
       "      <td>1</td>\n",
       "    </tr>\n",
       "    <tr>\n",
       "      <th>4</th>\n",
       "      <td>66.0</td>\n",
       "      <td>418.74</td>\n",
       "      <td>1.0</td>\n",
       "      <td>14502.75</td>\n",
       "      <td>0</td>\n",
       "    </tr>\n",
       "  </tbody>\n",
       "</table>\n",
       "</div>"
      ],
      "text/plain": [
       "   calls  minutes  messages   mb_used  is_ultra\n",
       "0   40.0   311.90      83.0  19915.42         0\n",
       "1   85.0   516.75      56.0  22696.96         0\n",
       "2   77.0   467.66      86.0  21060.45         0\n",
       "3  106.0   745.53      81.0   8437.39         1\n",
       "4   66.0   418.74       1.0  14502.75         0"
      ]
     },
     "execution_count": 4,
     "metadata": {},
     "output_type": "execute_result"
    }
   ],
   "source": [
    "df.head()"
   ]
  },
  {
   "cell_type": "code",
   "execution_count": 3,
   "metadata": {
    "scrolled": true
   },
   "outputs": [
    {
     "data": {
      "text/plain": [
       "calls       0\n",
       "minutes     0\n",
       "messages    0\n",
       "mb_used     0\n",
       "is_ultra    0\n",
       "dtype: int64"
      ]
     },
     "execution_count": 3,
     "metadata": {},
     "output_type": "execute_result"
    }
   ],
   "source": [
    "df.isna().sum()"
   ]
  },
  {
   "cell_type": "markdown",
   "metadata": {},
   "source": [
    "**Observation**\n",
    "\n",
    "The data set seems clean and does not contain any missing values."
   ]
  },
  {
   "cell_type": "markdown",
   "metadata": {},
   "source": [
    "## Step 2. EDA<a id='eda'></a>"
   ]
  },
  {
   "cell_type": "code",
   "execution_count": 16,
   "metadata": {
    "scrolled": true
   },
   "outputs": [
    {
     "data": {
      "text/html": [
       "<div>\n",
       "<style scoped>\n",
       "    .dataframe tbody tr th:only-of-type {\n",
       "        vertical-align: middle;\n",
       "    }\n",
       "\n",
       "    .dataframe tbody tr th {\n",
       "        vertical-align: top;\n",
       "    }\n",
       "\n",
       "    .dataframe thead th {\n",
       "        text-align: right;\n",
       "    }\n",
       "</style>\n",
       "<table border=\"1\" class=\"dataframe\">\n",
       "  <thead>\n",
       "    <tr style=\"text-align: right;\">\n",
       "      <th></th>\n",
       "      <th>calls</th>\n",
       "      <th>minutes</th>\n",
       "      <th>messages</th>\n",
       "      <th>mb_used</th>\n",
       "      <th>is_ultra</th>\n",
       "    </tr>\n",
       "  </thead>\n",
       "  <tbody>\n",
       "    <tr>\n",
       "      <th>calls</th>\n",
       "      <td>1.000000</td>\n",
       "      <td>0.982083</td>\n",
       "      <td>0.177385</td>\n",
       "      <td>0.286442</td>\n",
       "      <td>0.207122</td>\n",
       "    </tr>\n",
       "    <tr>\n",
       "      <th>minutes</th>\n",
       "      <td>0.982083</td>\n",
       "      <td>1.000000</td>\n",
       "      <td>0.173110</td>\n",
       "      <td>0.280967</td>\n",
       "      <td>0.206955</td>\n",
       "    </tr>\n",
       "    <tr>\n",
       "      <th>messages</th>\n",
       "      <td>0.177385</td>\n",
       "      <td>0.173110</td>\n",
       "      <td>1.000000</td>\n",
       "      <td>0.195721</td>\n",
       "      <td>0.203830</td>\n",
       "    </tr>\n",
       "    <tr>\n",
       "      <th>mb_used</th>\n",
       "      <td>0.286442</td>\n",
       "      <td>0.280967</td>\n",
       "      <td>0.195721</td>\n",
       "      <td>1.000000</td>\n",
       "      <td>0.198568</td>\n",
       "    </tr>\n",
       "    <tr>\n",
       "      <th>is_ultra</th>\n",
       "      <td>0.207122</td>\n",
       "      <td>0.206955</td>\n",
       "      <td>0.203830</td>\n",
       "      <td>0.198568</td>\n",
       "      <td>1.000000</td>\n",
       "    </tr>\n",
       "  </tbody>\n",
       "</table>\n",
       "</div>"
      ],
      "text/plain": [
       "             calls   minutes  messages   mb_used  is_ultra\n",
       "calls     1.000000  0.982083  0.177385  0.286442  0.207122\n",
       "minutes   0.982083  1.000000  0.173110  0.280967  0.206955\n",
       "messages  0.177385  0.173110  1.000000  0.195721  0.203830\n",
       "mb_used   0.286442  0.280967  0.195721  1.000000  0.198568\n",
       "is_ultra  0.207122  0.206955  0.203830  0.198568  1.000000"
      ]
     },
     "execution_count": 16,
     "metadata": {},
     "output_type": "execute_result"
    }
   ],
   "source": [
    "# Check corelation\n",
    "\n",
    "df.corr()"
   ]
  },
  {
   "cell_type": "code",
   "execution_count": 18,
   "metadata": {},
   "outputs": [
    {
     "data": {
      "text/plain": [
       "<seaborn.axisgrid.PairGrid at 0x7f6a15076be0>"
      ]
     },
     "execution_count": 18,
     "metadata": {},
     "output_type": "execute_result"
    },
    {
     "data": {
      "image/png": "[encoded data removed]",
      "text/plain": [
       "<Figure size 1250x1250 with 30 Axes>"
      ]
     },
     "metadata": {},
     "output_type": "display_data"
    }
   ],
   "source": [
    "# Plot pairplot to view the relationship\n",
    "\n",
    "sns.pairplot(df)"
   ]
  },
  {
   "cell_type": "markdown",
   "metadata": {},
   "source": [
    "### Split the source data into a training set, a validation set, and a test set.<a id='split'></a>"
   ]
  },
  {
   "cell_type": "code",
   "execution_count": 5,
   "metadata": {},
   "outputs": [],
   "source": [
    "X = df[['calls', 'minutes', 'messages', 'mb_used']]\n",
    "y = df[['is_ultra']]"
   ]
  },
  {
   "cell_type": "code",
   "execution_count": 6,
   "metadata": {},
   "outputs": [],
   "source": [
    "# Training, validation & test set\n",
    "\n",
    "X_train, X_test, y_train, y_test = train_test_split(X, y, test_size=0.1, random_state=1)\n",
    "\n",
    "X_train, X_val, y_train, y_val = train_test_split(X_train, y_train, test_size=0.2, random_state=1)"
   ]
  },
  {
   "cell_type": "code",
   "execution_count": 7,
   "metadata": {},
   "outputs": [
    {
     "name": "stdout",
     "output_type": "stream",
     "text": [
      "(2313, 4)\n",
      "(2313, 1)\n",
      "(322, 4)\n",
      "(322, 1)\n",
      "(579, 4)\n",
      "(579, 1)\n"
     ]
    }
   ],
   "source": [
    "print(X_train.shape)\n",
    "print(y_train.shape)\n",
    "print(X_test.shape)\n",
    "print(y_test.shape)\n",
    "print(X_val.shape)\n",
    "print(y_val.shape)"
   ]
  },
  {
   "cell_type": "markdown",
   "metadata": {},
   "source": [
    "## Step 3. Investigate the quality of different models<a id='invest'></a>\n",
    "\n",
    "Investigate the quality of different models by changing hyperparameters. Describe the findings."
   ]
  },
  {
   "cell_type": "markdown",
   "metadata": {},
   "source": [
    "### Decision Tree Classifier<a id='dtc'></a>"
   ]
  },
  {
   "cell_type": "code",
   "execution_count": 8,
   "metadata": {},
   "outputs": [],
   "source": [
    "from sklearn.tree import DecisionTreeClassifier "
   ]
  },
  {
   "cell_type": "code",
   "execution_count": 9,
   "metadata": {},
   "outputs": [
    {
     "name": "stdout",
     "output_type": "stream",
     "text": [
      "Max Depth-None, Samples Split-2, Samples Leaf-1: 0.7142857142857143\n",
      "Max Depth-None, Samples Split-2, Samples Leaf-2: 0.7608695652173914\n",
      "Max Depth-None, Samples Split-2, Samples Leaf-3: 0.7298136645962733\n",
      "Max Depth-None, Samples Split-2, Samples Leaf-4: 0.7608695652173914\n",
      "Max Depth-None, Samples Split-2, Samples Leaf-5: 0.7453416149068323\n",
      "Max Depth-None, Samples Split-3, Samples Leaf-1: 0.7111801242236024\n",
      "Max Depth-None, Samples Split-3, Samples Leaf-2: 0.7391304347826086\n",
      "Max Depth-None, Samples Split-3, Samples Leaf-3: 0.7453416149068323\n",
      "Max Depth-None, Samples Split-3, Samples Leaf-4: 0.7577639751552795\n",
      "Max Depth-None, Samples Split-3, Samples Leaf-5: 0.7515527950310559\n",
      "Max Depth-None, Samples Split-4, Samples Leaf-1: 0.7236024844720497\n",
      "Max Depth-None, Samples Split-4, Samples Leaf-2: 0.7391304347826086\n",
      "Max Depth-None, Samples Split-4, Samples Leaf-3: 0.7360248447204969\n",
      "Max Depth-None, Samples Split-4, Samples Leaf-4: 0.7639751552795031\n",
      "Max Depth-None, Samples Split-4, Samples Leaf-5: 0.7515527950310559\n",
      "Max Depth-None, Samples Split-5, Samples Leaf-1: 0.6987577639751553\n",
      "Max Depth-None, Samples Split-5, Samples Leaf-2: 0.7391304347826086\n",
      "Max Depth-None, Samples Split-5, Samples Leaf-3: 0.7360248447204969\n",
      "Max Depth-None, Samples Split-5, Samples Leaf-4: 0.7577639751552795\n",
      "Max Depth-None, Samples Split-5, Samples Leaf-5: 0.7608695652173914\n",
      "Max Depth-None, Samples Split-6, Samples Leaf-1: 0.717391304347826\n",
      "Max Depth-None, Samples Split-6, Samples Leaf-2: 0.7577639751552795\n",
      "Max Depth-None, Samples Split-6, Samples Leaf-3: 0.7360248447204969\n",
      "Max Depth-None, Samples Split-6, Samples Leaf-4: 0.7577639751552795\n",
      "Max Depth-None, Samples Split-6, Samples Leaf-5: 0.7546583850931677\n",
      "Max Depth-1, Samples Split-2, Samples Leaf-1: 0.7080745341614907\n",
      "Max Depth-1, Samples Split-2, Samples Leaf-2: 0.7080745341614907\n",
      "Max Depth-1, Samples Split-2, Samples Leaf-3: 0.7080745341614907\n",
      "Max Depth-1, Samples Split-2, Samples Leaf-4: 0.7080745341614907\n",
      "Max Depth-1, Samples Split-2, Samples Leaf-5: 0.7080745341614907\n",
      "Max Depth-1, Samples Split-3, Samples Leaf-1: 0.7080745341614907\n",
      "Max Depth-1, Samples Split-3, Samples Leaf-2: 0.7080745341614907\n",
      "Max Depth-1, Samples Split-3, Samples Leaf-3: 0.7080745341614907\n",
      "Max Depth-1, Samples Split-3, Samples Leaf-4: 0.7080745341614907\n",
      "Max Depth-1, Samples Split-3, Samples Leaf-5: 0.7080745341614907\n",
      "Max Depth-1, Samples Split-4, Samples Leaf-1: 0.7080745341614907\n",
      "Max Depth-1, Samples Split-4, Samples Leaf-2: 0.7080745341614907\n",
      "Max Depth-1, Samples Split-4, Samples Leaf-3: 0.7080745341614907\n",
      "Max Depth-1, Samples Split-4, Samples Leaf-4: 0.7080745341614907\n",
      "Max Depth-1, Samples Split-4, Samples Leaf-5: 0.7080745341614907\n",
      "Max Depth-1, Samples Split-5, Samples Leaf-1: 0.7080745341614907\n",
      "Max Depth-1, Samples Split-5, Samples Leaf-2: 0.7080745341614907\n",
      "Max Depth-1, Samples Split-5, Samples Leaf-3: 0.7080745341614907\n",
      "Max Depth-1, Samples Split-5, Samples Leaf-4: 0.7080745341614907\n",
      "Max Depth-1, Samples Split-5, Samples Leaf-5: 0.7080745341614907\n",
      "Max Depth-1, Samples Split-6, Samples Leaf-1: 0.7080745341614907\n",
      "Max Depth-1, Samples Split-6, Samples Leaf-2: 0.7080745341614907\n",
      "Max Depth-1, Samples Split-6, Samples Leaf-3: 0.7080745341614907\n",
      "Max Depth-1, Samples Split-6, Samples Leaf-4: 0.7080745341614907\n",
      "Max Depth-1, Samples Split-6, Samples Leaf-5: 0.7080745341614907\n",
      "Max Depth-2, Samples Split-2, Samples Leaf-1: 0.7701863354037267\n",
      "Max Depth-2, Samples Split-2, Samples Leaf-2: 0.7701863354037267\n",
      "Max Depth-2, Samples Split-2, Samples Leaf-3: 0.7701863354037267\n",
      "Max Depth-2, Samples Split-2, Samples Leaf-4: 0.7701863354037267\n",
      "Max Depth-2, Samples Split-2, Samples Leaf-5: 0.7701863354037267\n",
      "Max Depth-2, Samples Split-3, Samples Leaf-1: 0.7701863354037267\n",
      "Max Depth-2, Samples Split-3, Samples Leaf-2: 0.7701863354037267\n",
      "Max Depth-2, Samples Split-3, Samples Leaf-3: 0.7701863354037267\n",
      "Max Depth-2, Samples Split-3, Samples Leaf-4: 0.7701863354037267\n",
      "Max Depth-2, Samples Split-3, Samples Leaf-5: 0.7701863354037267\n",
      "Max Depth-2, Samples Split-4, Samples Leaf-1: 0.7701863354037267\n",
      "Max Depth-2, Samples Split-4, Samples Leaf-2: 0.7701863354037267\n",
      "Max Depth-2, Samples Split-4, Samples Leaf-3: 0.7701863354037267\n",
      "Max Depth-2, Samples Split-4, Samples Leaf-4: 0.7701863354037267\n",
      "Max Depth-2, Samples Split-4, Samples Leaf-5: 0.7701863354037267\n",
      "Max Depth-2, Samples Split-5, Samples Leaf-1: 0.7701863354037267\n",
      "Max Depth-2, Samples Split-5, Samples Leaf-2: 0.7701863354037267\n",
      "Max Depth-2, Samples Split-5, Samples Leaf-3: 0.7701863354037267\n",
      "Max Depth-2, Samples Split-5, Samples Leaf-4: 0.7701863354037267\n",
      "Max Depth-2, Samples Split-5, Samples Leaf-5: 0.7701863354037267\n",
      "Max Depth-2, Samples Split-6, Samples Leaf-1: 0.7701863354037267\n",
      "Max Depth-2, Samples Split-6, Samples Leaf-2: 0.7701863354037267\n",
      "Max Depth-2, Samples Split-6, Samples Leaf-3: 0.7701863354037267\n",
      "Max Depth-2, Samples Split-6, Samples Leaf-4: 0.7701863354037267\n",
      "Max Depth-2, Samples Split-6, Samples Leaf-5: 0.7701863354037267\n",
      "Max Depth-3, Samples Split-2, Samples Leaf-1: 0.7795031055900621\n",
      "Max Depth-3, Samples Split-2, Samples Leaf-2: 0.7795031055900621\n",
      "Max Depth-3, Samples Split-2, Samples Leaf-3: 0.7795031055900621\n",
      "Max Depth-3, Samples Split-2, Samples Leaf-4: 0.7795031055900621\n",
      "Max Depth-3, Samples Split-2, Samples Leaf-5: 0.7795031055900621\n",
      "Max Depth-3, Samples Split-3, Samples Leaf-1: 0.7795031055900621\n",
      "Max Depth-3, Samples Split-3, Samples Leaf-2: 0.7795031055900621\n",
      "Max Depth-3, Samples Split-3, Samples Leaf-3: 0.7795031055900621\n",
      "Max Depth-3, Samples Split-3, Samples Leaf-4: 0.7795031055900621\n",
      "Max Depth-3, Samples Split-3, Samples Leaf-5: 0.7795031055900621\n",
      "Max Depth-3, Samples Split-4, Samples Leaf-1: 0.7795031055900621\n",
      "Max Depth-3, Samples Split-4, Samples Leaf-2: 0.7795031055900621\n",
      "Max Depth-3, Samples Split-4, Samples Leaf-3: 0.7795031055900621\n",
      "Max Depth-3, Samples Split-4, Samples Leaf-4: 0.7795031055900621\n",
      "Max Depth-3, Samples Split-4, Samples Leaf-5: 0.7795031055900621\n",
      "Max Depth-3, Samples Split-5, Samples Leaf-1: 0.7795031055900621\n",
      "Max Depth-3, Samples Split-5, Samples Leaf-2: 0.7795031055900621\n",
      "Max Depth-3, Samples Split-5, Samples Leaf-3: 0.7795031055900621\n",
      "Max Depth-3, Samples Split-5, Samples Leaf-4: 0.7795031055900621\n",
      "Max Depth-3, Samples Split-5, Samples Leaf-5: 0.7795031055900621\n",
      "Max Depth-3, Samples Split-6, Samples Leaf-1: 0.7795031055900621\n",
      "Max Depth-3, Samples Split-6, Samples Leaf-2: 0.7795031055900621\n",
      "Max Depth-3, Samples Split-6, Samples Leaf-3: 0.7795031055900621\n",
      "Max Depth-3, Samples Split-6, Samples Leaf-4: 0.7795031055900621\n",
      "Max Depth-3, Samples Split-6, Samples Leaf-5: 0.7795031055900621\n",
      "Max Depth-4, Samples Split-2, Samples Leaf-1: 0.7639751552795031\n",
      "Max Depth-4, Samples Split-2, Samples Leaf-2: 0.7670807453416149\n",
      "Max Depth-4, Samples Split-2, Samples Leaf-3: 0.7670807453416149\n",
      "Max Depth-4, Samples Split-2, Samples Leaf-4: 0.7701863354037267\n",
      "Max Depth-4, Samples Split-2, Samples Leaf-5: 0.7701863354037267\n",
      "Max Depth-4, Samples Split-3, Samples Leaf-1: 0.7577639751552795\n",
      "Max Depth-4, Samples Split-3, Samples Leaf-2: 0.7639751552795031\n",
      "Max Depth-4, Samples Split-3, Samples Leaf-3: 0.7701863354037267\n",
      "Max Depth-4, Samples Split-3, Samples Leaf-4: 0.7670807453416149\n",
      "Max Depth-4, Samples Split-3, Samples Leaf-5: 0.7670807453416149\n",
      "Max Depth-4, Samples Split-4, Samples Leaf-1: 0.7639751552795031\n",
      "Max Depth-4, Samples Split-4, Samples Leaf-2: 0.7639751552795031\n",
      "Max Depth-4, Samples Split-4, Samples Leaf-3: 0.7701863354037267\n",
      "Max Depth-4, Samples Split-4, Samples Leaf-4: 0.7701863354037267\n",
      "Max Depth-4, Samples Split-4, Samples Leaf-5: 0.7701863354037267\n",
      "Max Depth-4, Samples Split-5, Samples Leaf-1: 0.7608695652173914\n",
      "Max Depth-4, Samples Split-5, Samples Leaf-2: 0.7639751552795031\n",
      "Max Depth-4, Samples Split-5, Samples Leaf-3: 0.7670807453416149\n",
      "Max Depth-4, Samples Split-5, Samples Leaf-4: 0.7670807453416149\n",
      "Max Depth-4, Samples Split-5, Samples Leaf-5: 0.7670807453416149\n",
      "Max Depth-4, Samples Split-6, Samples Leaf-1: 0.7639751552795031\n",
      "Max Depth-4, Samples Split-6, Samples Leaf-2: 0.7639751552795031\n",
      "Max Depth-4, Samples Split-6, Samples Leaf-3: 0.7670807453416149\n",
      "Max Depth-4, Samples Split-6, Samples Leaf-4: 0.7670807453416149\n",
      "Max Depth-4, Samples Split-6, Samples Leaf-5: 0.7701863354037267\n",
      "Max Depth-5, Samples Split-2, Samples Leaf-1: 0.7732919254658385\n",
      "Max Depth-5, Samples Split-2, Samples Leaf-2: 0.7701863354037267\n",
      "Max Depth-5, Samples Split-2, Samples Leaf-3: 0.7763975155279503\n",
      "Max Depth-5, Samples Split-2, Samples Leaf-4: 0.7763975155279503\n"
     ]
    },
    {
     "name": "stdout",
     "output_type": "stream",
     "text": [
      "Max Depth-5, Samples Split-2, Samples Leaf-5: 0.7763975155279503\n",
      "Max Depth-5, Samples Split-3, Samples Leaf-1: 0.7639751552795031\n",
      "Max Depth-5, Samples Split-3, Samples Leaf-2: 0.7701863354037267\n",
      "Max Depth-5, Samples Split-3, Samples Leaf-3: 0.7763975155279503\n",
      "Max Depth-5, Samples Split-3, Samples Leaf-4: 0.7732919254658385\n",
      "Max Depth-5, Samples Split-3, Samples Leaf-5: 0.7763975155279503\n",
      "Max Depth-5, Samples Split-4, Samples Leaf-1: 0.7701863354037267\n",
      "Max Depth-5, Samples Split-4, Samples Leaf-2: 0.7701863354037267\n",
      "Max Depth-5, Samples Split-4, Samples Leaf-3: 0.7763975155279503\n",
      "Max Depth-5, Samples Split-4, Samples Leaf-4: 0.7732919254658385\n",
      "Max Depth-5, Samples Split-4, Samples Leaf-5: 0.7763975155279503\n",
      "Max Depth-5, Samples Split-5, Samples Leaf-1: 0.7639751552795031\n",
      "Max Depth-5, Samples Split-5, Samples Leaf-2: 0.7701863354037267\n",
      "Max Depth-5, Samples Split-5, Samples Leaf-3: 0.7732919254658385\n",
      "Max Depth-5, Samples Split-5, Samples Leaf-4: 0.7763975155279503\n",
      "Max Depth-5, Samples Split-5, Samples Leaf-5: 0.7763975155279503\n",
      "Max Depth-5, Samples Split-6, Samples Leaf-1: 0.7670807453416149\n",
      "Max Depth-5, Samples Split-6, Samples Leaf-2: 0.7701863354037267\n",
      "Max Depth-5, Samples Split-6, Samples Leaf-3: 0.7732919254658385\n",
      "Max Depth-5, Samples Split-6, Samples Leaf-4: 0.7732919254658385\n",
      "Max Depth-5, Samples Split-6, Samples Leaf-5: 0.7763975155279503\n"
     ]
    }
   ],
   "source": [
    "depths = [None, 1, 2, 3, 4, 5]\n",
    "samples_split = [2,3,4,5,6]\n",
    "samples_leaf = [1,2,3,4,5]\n",
    "\n",
    "best_accuracy = {\"depth\":0, \"split\":0, \"leaf\":0, \"accuracy\":0}\n",
    "for i in depths:\n",
    "    for j in samples_split:\n",
    "        for k in samples_leaf:\n",
    "            # create a regressor object \n",
    "            dt_classifier = DecisionTreeClassifier(max_depth=i, min_samples_split=j, min_samples_leaf=k)\n",
    "            dt_classifier.fit(X_train, y_train)\n",
    "            print(f\"Max Depth-{i}, Samples Split-{j}, Samples Leaf-{k}:\" ,dt_classifier.score(X_test, y_test))\n",
    "            \n",
    "            if best_accuracy['accuracy'] < dt_classifier.score(X_test, y_test):\n",
    "                best_accuracy['depth'] = i\n",
    "                best_accuracy['split'] = j\n",
    "                best_accuracy['leaf'] = k\n",
    "                best_accuracy['accuracy'] = dt_classifier.score(X_test, y_test)"
   ]
  },
  {
   "cell_type": "code",
   "execution_count": 10,
   "metadata": {},
   "outputs": [
    {
     "data": {
      "text/plain": [
       "{'depth': 3, 'split': 2, 'leaf': 1, 'accuracy': 0.7795031055900621}"
      ]
     },
     "execution_count": 10,
     "metadata": {},
     "output_type": "execute_result"
    }
   ],
   "source": [
    "best_accuracy"
   ]
  },
  {
   "cell_type": "code",
   "execution_count": 11,
   "metadata": {},
   "outputs": [
    {
     "name": "stdout",
     "output_type": "stream",
     "text": [
      "Max Depth-3, Samples Slit-2, Samples Leaf-1: 0.7737478411053541\n"
     ]
    }
   ],
   "source": [
    "# Use the Validation set to evaluate the accuracy\n",
    "\n",
    "dt_classifier = DecisionTreeClassifier(max_depth=3, min_samples_split=2, min_samples_leaf=1)\n",
    "dt_classifier.fit(X_train, y_train)\n",
    "print(f\"Max Depth-{3}, Samples Slit-{2}, Samples Leaf-{1}:\" ,dt_classifier.score(X_val, y_val))"
   ]
  },
  {
   "cell_type": "markdown",
   "metadata": {},
   "source": [
    "**Findings**\n",
    "\n",
    "The Decision Tree Classifier has a `Max Depth-3`, `Samples Slit-2`, `Samples Leaf-1`. The accuracy of this model, as measured by the R² score, is approximately 0.77. This accuracy is within the threshold of 0.75."
   ]
  },
  {
   "cell_type": "markdown",
   "metadata": {},
   "source": [
    "### Random Tree Classifier<a id='rtc'></a>"
   ]
  },
  {
   "cell_type": "code",
   "execution_count": 12,
   "metadata": {},
   "outputs": [],
   "source": [
    "from sklearn.ensemble import RandomForestClassifier"
   ]
  },
  {
   "cell_type": "code",
   "execution_count": 13,
   "metadata": {},
   "outputs": [
    {
     "name": "stderr",
     "output_type": "stream",
     "text": [
      "/tmp/ipykernel_535/610545005.py:11: DataConversionWarning: A column-vector y was passed when a 1d array was expected. Please change the shape of y to (n_samples,), for example using ravel().\n",
      "  dt_classifier.fit(X_train, y_train)\n"
     ]
    },
    {
     "name": "stdout",
     "output_type": "stream",
     "text": [
      "Max Depth-None, Samples Split-2, Samples Leaf-1: 0.8074534161490683\n"
     ]
    },
    {
     "name": "stderr",
     "output_type": "stream",
     "text": [
      "/tmp/ipykernel_535/610545005.py:11: DataConversionWarning: A column-vector y was passed when a 1d array was expected. Please change the shape of y to (n_samples,), for example using ravel().\n",
      "  dt_classifier.fit(X_train, y_train)\n"
     ]
    },
    {
     "name": "stdout",
     "output_type": "stream",
     "text": [
      "Max Depth-None, Samples Split-2, Samples Leaf-2: 0.8229813664596274\n"
     ]
    },
    {
     "name": "stderr",
     "output_type": "stream",
     "text": [
      "/tmp/ipykernel_535/610545005.py:11: DataConversionWarning: A column-vector y was passed when a 1d array was expected. Please change the shape of y to (n_samples,), for example using ravel().\n",
      "  dt_classifier.fit(X_train, y_train)\n"
     ]
    },
    {
     "name": "stdout",
     "output_type": "stream",
     "text": [
      "Max Depth-None, Samples Split-2, Samples Leaf-3: 0.8198757763975155\n"
     ]
    },
    {
     "name": "stderr",
     "output_type": "stream",
     "text": [
      "/tmp/ipykernel_535/610545005.py:11: DataConversionWarning: A column-vector y was passed when a 1d array was expected. Please change the shape of y to (n_samples,), for example using ravel().\n",
      "  dt_classifier.fit(X_train, y_train)\n"
     ]
    },
    {
     "name": "stdout",
     "output_type": "stream",
     "text": [
      "Max Depth-None, Samples Split-2, Samples Leaf-4: 0.8105590062111802\n"
     ]
    },
    {
     "name": "stderr",
     "output_type": "stream",
     "text": [
      "/tmp/ipykernel_535/610545005.py:11: DataConversionWarning: A column-vector y was passed when a 1d array was expected. Please change the shape of y to (n_samples,), for example using ravel().\n",
      "  dt_classifier.fit(X_train, y_train)\n"
     ]
    },
    {
     "name": "stdout",
     "output_type": "stream",
     "text": [
      "Max Depth-None, Samples Split-2, Samples Leaf-5: 0.8043478260869565\n"
     ]
    },
    {
     "name": "stderr",
     "output_type": "stream",
     "text": [
      "/tmp/ipykernel_535/610545005.py:11: DataConversionWarning: A column-vector y was passed when a 1d array was expected. Please change the shape of y to (n_samples,), for example using ravel().\n",
      "  dt_classifier.fit(X_train, y_train)\n"
     ]
    },
    {
     "name": "stdout",
     "output_type": "stream",
     "text": [
      "Max Depth-None, Samples Split-3, Samples Leaf-1: 0.8167701863354038\n"
     ]
    },
    {
     "name": "stderr",
     "output_type": "stream",
     "text": [
      "/tmp/ipykernel_535/610545005.py:11: DataConversionWarning: A column-vector y was passed when a 1d array was expected. Please change the shape of y to (n_samples,), for example using ravel().\n",
      "  dt_classifier.fit(X_train, y_train)\n"
     ]
    },
    {
     "name": "stdout",
     "output_type": "stream",
     "text": [
      "Max Depth-None, Samples Split-3, Samples Leaf-2: 0.8198757763975155\n"
     ]
    },
    {
     "name": "stderr",
     "output_type": "stream",
     "text": [
      "/tmp/ipykernel_535/610545005.py:11: DataConversionWarning: A column-vector y was passed when a 1d array was expected. Please change the shape of y to (n_samples,), for example using ravel().\n",
      "  dt_classifier.fit(X_train, y_train)\n"
     ]
    },
    {
     "name": "stdout",
     "output_type": "stream",
     "text": [
      "Max Depth-None, Samples Split-3, Samples Leaf-3: 0.8136645962732919\n"
     ]
    },
    {
     "name": "stderr",
     "output_type": "stream",
     "text": [
      "/tmp/ipykernel_535/610545005.py:11: DataConversionWarning: A column-vector y was passed when a 1d array was expected. Please change the shape of y to (n_samples,), for example using ravel().\n",
      "  dt_classifier.fit(X_train, y_train)\n"
     ]
    },
    {
     "name": "stdout",
     "output_type": "stream",
     "text": [
      "Max Depth-None, Samples Split-3, Samples Leaf-4: 0.8074534161490683\n"
     ]
    },
    {
     "name": "stderr",
     "output_type": "stream",
     "text": [
      "/tmp/ipykernel_535/610545005.py:11: DataConversionWarning: A column-vector y was passed when a 1d array was expected. Please change the shape of y to (n_samples,), for example using ravel().\n",
      "  dt_classifier.fit(X_train, y_train)\n"
     ]
    },
    {
     "name": "stdout",
     "output_type": "stream",
     "text": [
      "Max Depth-None, Samples Split-3, Samples Leaf-5: 0.8105590062111802\n"
     ]
    },
    {
     "name": "stderr",
     "output_type": "stream",
     "text": [
      "/tmp/ipykernel_535/610545005.py:11: DataConversionWarning: A column-vector y was passed when a 1d array was expected. Please change the shape of y to (n_samples,), for example using ravel().\n",
      "  dt_classifier.fit(X_train, y_train)\n"
     ]
    },
    {
     "name": "stdout",
     "output_type": "stream",
     "text": [
      "Max Depth-None, Samples Split-4, Samples Leaf-1: 0.8260869565217391\n"
     ]
    },
    {
     "name": "stderr",
     "output_type": "stream",
     "text": [
      "/tmp/ipykernel_535/610545005.py:11: DataConversionWarning: A column-vector y was passed when a 1d array was expected. Please change the shape of y to (n_samples,), for example using ravel().\n",
      "  dt_classifier.fit(X_train, y_train)\n"
     ]
    },
    {
     "name": "stdout",
     "output_type": "stream",
     "text": [
      "Max Depth-None, Samples Split-4, Samples Leaf-2: 0.8136645962732919\n"
     ]
    },
    {
     "name": "stderr",
     "output_type": "stream",
     "text": [
      "/tmp/ipykernel_535/610545005.py:11: DataConversionWarning: A column-vector y was passed when a 1d array was expected. Please change the shape of y to (n_samples,), for example using ravel().\n",
      "  dt_classifier.fit(X_train, y_train)\n"
     ]
    },
    {
     "name": "stdout",
     "output_type": "stream",
     "text": [
      "Max Depth-None, Samples Split-4, Samples Leaf-3: 0.8260869565217391\n"
     ]
    },
    {
     "name": "stderr",
     "output_type": "stream",
     "text": [
      "/tmp/ipykernel_535/610545005.py:11: DataConversionWarning: A column-vector y was passed when a 1d array was expected. Please change the shape of y to (n_samples,), for example using ravel().\n",
      "  dt_classifier.fit(X_train, y_train)\n"
     ]
    },
    {
     "name": "stdout",
     "output_type": "stream",
     "text": [
      "Max Depth-None, Samples Split-4, Samples Leaf-4: 0.8229813664596274\n"
     ]
    },
    {
     "name": "stderr",
     "output_type": "stream",
     "text": [
      "/tmp/ipykernel_535/610545005.py:11: DataConversionWarning: A column-vector y was passed when a 1d array was expected. Please change the shape of y to (n_samples,), for example using ravel().\n",
      "  dt_classifier.fit(X_train, y_train)\n"
     ]
    },
    {
     "name": "stdout",
     "output_type": "stream",
     "text": [
      "Max Depth-None, Samples Split-4, Samples Leaf-5: 0.8043478260869565\n"
     ]
    },
    {
     "name": "stderr",
     "output_type": "stream",
     "text": [
      "/tmp/ipykernel_535/610545005.py:11: DataConversionWarning: A column-vector y was passed when a 1d array was expected. Please change the shape of y to (n_samples,), for example using ravel().\n",
      "  dt_classifier.fit(X_train, y_train)\n"
     ]
    },
    {
     "name": "stdout",
     "output_type": "stream",
     "text": [
      "Max Depth-None, Samples Split-5, Samples Leaf-1: 0.8074534161490683\n"
     ]
    },
    {
     "name": "stderr",
     "output_type": "stream",
     "text": [
      "/tmp/ipykernel_535/610545005.py:11: DataConversionWarning: A column-vector y was passed when a 1d array was expected. Please change the shape of y to (n_samples,), for example using ravel().\n",
      "  dt_classifier.fit(X_train, y_train)\n"
     ]
    },
    {
     "name": "stdout",
     "output_type": "stream",
     "text": [
      "Max Depth-None, Samples Split-5, Samples Leaf-2: 0.8229813664596274\n"
     ]
    },
    {
     "name": "stderr",
     "output_type": "stream",
     "text": [
      "/tmp/ipykernel_535/610545005.py:11: DataConversionWarning: A column-vector y was passed when a 1d array was expected. Please change the shape of y to (n_samples,), for example using ravel().\n",
      "  dt_classifier.fit(X_train, y_train)\n"
     ]
    },
    {
     "name": "stdout",
     "output_type": "stream",
     "text": [
      "Max Depth-None, Samples Split-5, Samples Leaf-3: 0.8198757763975155\n"
     ]
    },
    {
     "name": "stderr",
     "output_type": "stream",
     "text": [
      "/tmp/ipykernel_535/610545005.py:11: DataConversionWarning: A column-vector y was passed when a 1d array was expected. Please change the shape of y to (n_samples,), for example using ravel().\n",
      "  dt_classifier.fit(X_train, y_train)\n"
     ]
    },
    {
     "name": "stdout",
     "output_type": "stream",
     "text": [
      "Max Depth-None, Samples Split-5, Samples Leaf-4: 0.8136645962732919\n"
     ]
    },
    {
     "name": "stderr",
     "output_type": "stream",
     "text": [
      "/tmp/ipykernel_535/610545005.py:11: DataConversionWarning: A column-vector y was passed when a 1d array was expected. Please change the shape of y to (n_samples,), for example using ravel().\n",
      "  dt_classifier.fit(X_train, y_train)\n"
     ]
    },
    {
     "name": "stdout",
     "output_type": "stream",
     "text": [
      "Max Depth-None, Samples Split-5, Samples Leaf-5: 0.8043478260869565\n"
     ]
    },
    {
     "name": "stderr",
     "output_type": "stream",
     "text": [
      "/tmp/ipykernel_535/610545005.py:11: DataConversionWarning: A column-vector y was passed when a 1d array was expected. Please change the shape of y to (n_samples,), for example using ravel().\n",
      "  dt_classifier.fit(X_train, y_train)\n"
     ]
    },
    {
     "name": "stdout",
     "output_type": "stream",
     "text": [
      "Max Depth-None, Samples Split-6, Samples Leaf-1: 0.8291925465838509\n"
     ]
    },
    {
     "name": "stderr",
     "output_type": "stream",
     "text": [
      "/tmp/ipykernel_535/610545005.py:11: DataConversionWarning: A column-vector y was passed when a 1d array was expected. Please change the shape of y to (n_samples,), for example using ravel().\n",
      "  dt_classifier.fit(X_train, y_train)\n"
     ]
    },
    {
     "name": "stdout",
     "output_type": "stream",
     "text": [
      "Max Depth-None, Samples Split-6, Samples Leaf-2: 0.8136645962732919\n"
     ]
    },
    {
     "name": "stderr",
     "output_type": "stream",
     "text": [
      "/tmp/ipykernel_535/610545005.py:11: DataConversionWarning: A column-vector y was passed when a 1d array was expected. Please change the shape of y to (n_samples,), for example using ravel().\n",
      "  dt_classifier.fit(X_train, y_train)\n"
     ]
    },
    {
     "name": "stdout",
     "output_type": "stream",
     "text": [
      "Max Depth-None, Samples Split-6, Samples Leaf-3: 0.7981366459627329\n"
     ]
    },
    {
     "name": "stderr",
     "output_type": "stream",
     "text": [
      "/tmp/ipykernel_535/610545005.py:11: DataConversionWarning: A column-vector y was passed when a 1d array was expected. Please change the shape of y to (n_samples,), for example using ravel().\n",
      "  dt_classifier.fit(X_train, y_train)\n"
     ]
    },
    {
     "name": "stdout",
     "output_type": "stream",
     "text": [
      "Max Depth-None, Samples Split-6, Samples Leaf-4: 0.8167701863354038\n"
     ]
    },
    {
     "name": "stderr",
     "output_type": "stream",
     "text": [
      "/tmp/ipykernel_535/610545005.py:11: DataConversionWarning: A column-vector y was passed when a 1d array was expected. Please change the shape of y to (n_samples,), for example using ravel().\n",
      "  dt_classifier.fit(X_train, y_train)\n"
     ]
    },
    {
     "name": "stdout",
     "output_type": "stream",
     "text": [
      "Max Depth-None, Samples Split-6, Samples Leaf-5: 0.8105590062111802\n"
     ]
    },
    {
     "name": "stderr",
     "output_type": "stream",
     "text": [
      "/tmp/ipykernel_535/610545005.py:11: DataConversionWarning: A column-vector y was passed when a 1d array was expected. Please change the shape of y to (n_samples,), for example using ravel().\n",
      "  dt_classifier.fit(X_train, y_train)\n"
     ]
    },
    {
     "name": "stdout",
     "output_type": "stream",
     "text": [
      "Max Depth-1, Samples Split-2, Samples Leaf-1: 0.7546583850931677\n"
     ]
    },
    {
     "name": "stderr",
     "output_type": "stream",
     "text": [
      "/tmp/ipykernel_535/610545005.py:11: DataConversionWarning: A column-vector y was passed when a 1d array was expected. Please change the shape of y to (n_samples,), for example using ravel().\n",
      "  dt_classifier.fit(X_train, y_train)\n"
     ]
    },
    {
     "name": "stdout",
     "output_type": "stream",
     "text": [
      "Max Depth-1, Samples Split-2, Samples Leaf-2: 0.7670807453416149\n"
     ]
    },
    {
     "name": "stderr",
     "output_type": "stream",
     "text": [
      "/tmp/ipykernel_535/610545005.py:11: DataConversionWarning: A column-vector y was passed when a 1d array was expected. Please change the shape of y to (n_samples,), for example using ravel().\n",
      "  dt_classifier.fit(X_train, y_train)\n"
     ]
    },
    {
     "name": "stdout",
     "output_type": "stream",
     "text": [
      "Max Depth-1, Samples Split-2, Samples Leaf-3: 0.7639751552795031\n"
     ]
    },
    {
     "name": "stderr",
     "output_type": "stream",
     "text": [
      "/tmp/ipykernel_535/610545005.py:11: DataConversionWarning: A column-vector y was passed when a 1d array was expected. Please change the shape of y to (n_samples,), for example using ravel().\n",
      "  dt_classifier.fit(X_train, y_train)\n"
     ]
    },
    {
     "name": "stdout",
     "output_type": "stream",
     "text": [
      "Max Depth-1, Samples Split-2, Samples Leaf-4: 0.7670807453416149\n"
     ]
    },
    {
     "name": "stderr",
     "output_type": "stream",
     "text": [
      "/tmp/ipykernel_535/610545005.py:11: DataConversionWarning: A column-vector y was passed when a 1d array was expected. Please change the shape of y to (n_samples,), for example using ravel().\n",
      "  dt_classifier.fit(X_train, y_train)\n"
     ]
    },
    {
     "name": "stdout",
     "output_type": "stream",
     "text": [
      "Max Depth-1, Samples Split-2, Samples Leaf-5: 0.7546583850931677\n"
     ]
    },
    {
     "name": "stderr",
     "output_type": "stream",
     "text": [
      "/tmp/ipykernel_535/610545005.py:11: DataConversionWarning: A column-vector y was passed when a 1d array was expected. Please change the shape of y to (n_samples,), for example using ravel().\n",
      "  dt_classifier.fit(X_train, y_train)\n"
     ]
    },
    {
     "name": "stdout",
     "output_type": "stream",
     "text": [
      "Max Depth-1, Samples Split-3, Samples Leaf-1: 0.7670807453416149\n"
     ]
    },
    {
     "name": "stderr",
     "output_type": "stream",
     "text": [
      "/tmp/ipykernel_535/610545005.py:11: DataConversionWarning: A column-vector y was passed when a 1d array was expected. Please change the shape of y to (n_samples,), for example using ravel().\n",
      "  dt_classifier.fit(X_train, y_train)\n"
     ]
    },
    {
     "name": "stdout",
     "output_type": "stream",
     "text": [
      "Max Depth-1, Samples Split-3, Samples Leaf-2: 0.7453416149068323\n"
     ]
    },
    {
     "name": "stderr",
     "output_type": "stream",
     "text": [
      "/tmp/ipykernel_535/610545005.py:11: DataConversionWarning: A column-vector y was passed when a 1d array was expected. Please change the shape of y to (n_samples,), for example using ravel().\n",
      "  dt_classifier.fit(X_train, y_train)\n"
     ]
    },
    {
     "name": "stdout",
     "output_type": "stream",
     "text": [
      "Max Depth-1, Samples Split-3, Samples Leaf-3: 0.7670807453416149\n"
     ]
    },
    {
     "name": "stderr",
     "output_type": "stream",
     "text": [
      "/tmp/ipykernel_535/610545005.py:11: DataConversionWarning: A column-vector y was passed when a 1d array was expected. Please change the shape of y to (n_samples,), for example using ravel().\n",
      "  dt_classifier.fit(X_train, y_train)\n"
     ]
    },
    {
     "name": "stdout",
     "output_type": "stream",
     "text": [
      "Max Depth-1, Samples Split-3, Samples Leaf-4: 0.7142857142857143\n"
     ]
    },
    {
     "name": "stderr",
     "output_type": "stream",
     "text": [
      "/tmp/ipykernel_535/610545005.py:11: DataConversionWarning: A column-vector y was passed when a 1d array was expected. Please change the shape of y to (n_samples,), for example using ravel().\n",
      "  dt_classifier.fit(X_train, y_train)\n"
     ]
    },
    {
     "name": "stdout",
     "output_type": "stream",
     "text": [
      "Max Depth-1, Samples Split-3, Samples Leaf-5: 0.7577639751552795\n"
     ]
    },
    {
     "name": "stderr",
     "output_type": "stream",
     "text": [
      "/tmp/ipykernel_535/610545005.py:11: DataConversionWarning: A column-vector y was passed when a 1d array was expected. Please change the shape of y to (n_samples,), for example using ravel().\n",
      "  dt_classifier.fit(X_train, y_train)\n"
     ]
    },
    {
     "name": "stdout",
     "output_type": "stream",
     "text": [
      "Max Depth-1, Samples Split-4, Samples Leaf-1: 0.7484472049689441\n"
     ]
    },
    {
     "name": "stderr",
     "output_type": "stream",
     "text": [
      "/tmp/ipykernel_535/610545005.py:11: DataConversionWarning: A column-vector y was passed when a 1d array was expected. Please change the shape of y to (n_samples,), for example using ravel().\n",
      "  dt_classifier.fit(X_train, y_train)\n"
     ]
    },
    {
     "name": "stdout",
     "output_type": "stream",
     "text": [
      "Max Depth-1, Samples Split-4, Samples Leaf-2: 0.7422360248447205\n"
     ]
    },
    {
     "name": "stderr",
     "output_type": "stream",
     "text": [
      "/tmp/ipykernel_535/610545005.py:11: DataConversionWarning: A column-vector y was passed when a 1d array was expected. Please change the shape of y to (n_samples,), for example using ravel().\n",
      "  dt_classifier.fit(X_train, y_train)\n"
     ]
    },
    {
     "name": "stdout",
     "output_type": "stream",
     "text": [
      "Max Depth-1, Samples Split-4, Samples Leaf-3: 0.7670807453416149\n"
     ]
    },
    {
     "name": "stderr",
     "output_type": "stream",
     "text": [
      "/tmp/ipykernel_535/610545005.py:11: DataConversionWarning: A column-vector y was passed when a 1d array was expected. Please change the shape of y to (n_samples,), for example using ravel().\n",
      "  dt_classifier.fit(X_train, y_train)\n"
     ]
    },
    {
     "name": "stdout",
     "output_type": "stream",
     "text": [
      "Max Depth-1, Samples Split-4, Samples Leaf-4: 0.7670807453416149\n"
     ]
    },
    {
     "name": "stderr",
     "output_type": "stream",
     "text": [
      "/tmp/ipykernel_535/610545005.py:11: DataConversionWarning: A column-vector y was passed when a 1d array was expected. Please change the shape of y to (n_samples,), for example using ravel().\n",
      "  dt_classifier.fit(X_train, y_train)\n"
     ]
    },
    {
     "name": "stdout",
     "output_type": "stream",
     "text": [
      "Max Depth-1, Samples Split-4, Samples Leaf-5: 0.7639751552795031\n"
     ]
    },
    {
     "name": "stderr",
     "output_type": "stream",
     "text": [
      "/tmp/ipykernel_535/610545005.py:11: DataConversionWarning: A column-vector y was passed when a 1d array was expected. Please change the shape of y to (n_samples,), for example using ravel().\n",
      "  dt_classifier.fit(X_train, y_train)\n"
     ]
    },
    {
     "name": "stdout",
     "output_type": "stream",
     "text": [
      "Max Depth-1, Samples Split-5, Samples Leaf-1: 0.7670807453416149\n"
     ]
    },
    {
     "name": "stderr",
     "output_type": "stream",
     "text": [
      "/tmp/ipykernel_535/610545005.py:11: DataConversionWarning: A column-vector y was passed when a 1d array was expected. Please change the shape of y to (n_samples,), for example using ravel().\n",
      "  dt_classifier.fit(X_train, y_train)\n"
     ]
    },
    {
     "name": "stdout",
     "output_type": "stream",
     "text": [
      "Max Depth-1, Samples Split-5, Samples Leaf-2: 0.7422360248447205\n"
     ]
    },
    {
     "name": "stderr",
     "output_type": "stream",
     "text": [
      "/tmp/ipykernel_535/610545005.py:11: DataConversionWarning: A column-vector y was passed when a 1d array was expected. Please change the shape of y to (n_samples,), for example using ravel().\n",
      "  dt_classifier.fit(X_train, y_train)\n"
     ]
    },
    {
     "name": "stdout",
     "output_type": "stream",
     "text": [
      "Max Depth-1, Samples Split-5, Samples Leaf-3: 0.7546583850931677\n"
     ]
    },
    {
     "name": "stderr",
     "output_type": "stream",
     "text": [
      "/tmp/ipykernel_535/610545005.py:11: DataConversionWarning: A column-vector y was passed when a 1d array was expected. Please change the shape of y to (n_samples,), for example using ravel().\n",
      "  dt_classifier.fit(X_train, y_train)\n"
     ]
    },
    {
     "name": "stdout",
     "output_type": "stream",
     "text": [
      "Max Depth-1, Samples Split-5, Samples Leaf-4: 0.7577639751552795\n"
     ]
    },
    {
     "name": "stderr",
     "output_type": "stream",
     "text": [
      "/tmp/ipykernel_535/610545005.py:11: DataConversionWarning: A column-vector y was passed when a 1d array was expected. Please change the shape of y to (n_samples,), for example using ravel().\n",
      "  dt_classifier.fit(X_train, y_train)\n"
     ]
    },
    {
     "name": "stdout",
     "output_type": "stream",
     "text": [
      "Max Depth-1, Samples Split-5, Samples Leaf-5: 0.7422360248447205\n"
     ]
    },
    {
     "name": "stderr",
     "output_type": "stream",
     "text": [
      "/tmp/ipykernel_535/610545005.py:11: DataConversionWarning: A column-vector y was passed when a 1d array was expected. Please change the shape of y to (n_samples,), for example using ravel().\n",
      "  dt_classifier.fit(X_train, y_train)\n"
     ]
    },
    {
     "name": "stdout",
     "output_type": "stream",
     "text": [
      "Max Depth-1, Samples Split-6, Samples Leaf-1: 0.7670807453416149\n"
     ]
    },
    {
     "name": "stderr",
     "output_type": "stream",
     "text": [
      "/tmp/ipykernel_535/610545005.py:11: DataConversionWarning: A column-vector y was passed when a 1d array was expected. Please change the shape of y to (n_samples,), for example using ravel().\n",
      "  dt_classifier.fit(X_train, y_train)\n"
     ]
    },
    {
     "name": "stdout",
     "output_type": "stream",
     "text": [
      "Max Depth-1, Samples Split-6, Samples Leaf-2: 0.7546583850931677\n"
     ]
    },
    {
     "name": "stderr",
     "output_type": "stream",
     "text": [
      "/tmp/ipykernel_535/610545005.py:11: DataConversionWarning: A column-vector y was passed when a 1d array was expected. Please change the shape of y to (n_samples,), for example using ravel().\n",
      "  dt_classifier.fit(X_train, y_train)\n"
     ]
    },
    {
     "name": "stdout",
     "output_type": "stream",
     "text": [
      "Max Depth-1, Samples Split-6, Samples Leaf-3: 0.7422360248447205\n"
     ]
    },
    {
     "name": "stderr",
     "output_type": "stream",
     "text": [
      "/tmp/ipykernel_535/610545005.py:11: DataConversionWarning: A column-vector y was passed when a 1d array was expected. Please change the shape of y to (n_samples,), for example using ravel().\n",
      "  dt_classifier.fit(X_train, y_train)\n"
     ]
    },
    {
     "name": "stdout",
     "output_type": "stream",
     "text": [
      "Max Depth-1, Samples Split-6, Samples Leaf-4: 0.7546583850931677\n"
     ]
    },
    {
     "name": "stderr",
     "output_type": "stream",
     "text": [
      "/tmp/ipykernel_535/610545005.py:11: DataConversionWarning: A column-vector y was passed when a 1d array was expected. Please change the shape of y to (n_samples,), for example using ravel().\n",
      "  dt_classifier.fit(X_train, y_train)\n"
     ]
    },
    {
     "name": "stdout",
     "output_type": "stream",
     "text": [
      "Max Depth-1, Samples Split-6, Samples Leaf-5: 0.7453416149068323\n"
     ]
    },
    {
     "name": "stderr",
     "output_type": "stream",
     "text": [
      "/tmp/ipykernel_535/610545005.py:11: DataConversionWarning: A column-vector y was passed when a 1d array was expected. Please change the shape of y to (n_samples,), for example using ravel().\n",
      "  dt_classifier.fit(X_train, y_train)\n"
     ]
    },
    {
     "name": "stdout",
     "output_type": "stream",
     "text": [
      "Max Depth-2, Samples Split-2, Samples Leaf-1: 0.7670807453416149\n"
     ]
    },
    {
     "name": "stderr",
     "output_type": "stream",
     "text": [
      "/tmp/ipykernel_535/610545005.py:11: DataConversionWarning: A column-vector y was passed when a 1d array was expected. Please change the shape of y to (n_samples,), for example using ravel().\n",
      "  dt_classifier.fit(X_train, y_train)\n"
     ]
    },
    {
     "name": "stdout",
     "output_type": "stream",
     "text": [
      "Max Depth-2, Samples Split-2, Samples Leaf-2: 0.7670807453416149\n"
     ]
    },
    {
     "name": "stderr",
     "output_type": "stream",
     "text": [
      "/tmp/ipykernel_535/610545005.py:11: DataConversionWarning: A column-vector y was passed when a 1d array was expected. Please change the shape of y to (n_samples,), for example using ravel().\n",
      "  dt_classifier.fit(X_train, y_train)\n"
     ]
    },
    {
     "name": "stdout",
     "output_type": "stream",
     "text": [
      "Max Depth-2, Samples Split-2, Samples Leaf-3: 0.7701863354037267\n"
     ]
    },
    {
     "name": "stderr",
     "output_type": "stream",
     "text": [
      "/tmp/ipykernel_535/610545005.py:11: DataConversionWarning: A column-vector y was passed when a 1d array was expected. Please change the shape of y to (n_samples,), for example using ravel().\n",
      "  dt_classifier.fit(X_train, y_train)\n"
     ]
    },
    {
     "name": "stdout",
     "output_type": "stream",
     "text": [
      "Max Depth-2, Samples Split-2, Samples Leaf-4: 0.7701863354037267\n"
     ]
    },
    {
     "name": "stderr",
     "output_type": "stream",
     "text": [
      "/tmp/ipykernel_535/610545005.py:11: DataConversionWarning: A column-vector y was passed when a 1d array was expected. Please change the shape of y to (n_samples,), for example using ravel().\n",
      "  dt_classifier.fit(X_train, y_train)\n"
     ]
    },
    {
     "name": "stdout",
     "output_type": "stream",
     "text": [
      "Max Depth-2, Samples Split-2, Samples Leaf-5: 0.7670807453416149\n"
     ]
    },
    {
     "name": "stderr",
     "output_type": "stream",
     "text": [
      "/tmp/ipykernel_535/610545005.py:11: DataConversionWarning: A column-vector y was passed when a 1d array was expected. Please change the shape of y to (n_samples,), for example using ravel().\n",
      "  dt_classifier.fit(X_train, y_train)\n"
     ]
    },
    {
     "name": "stdout",
     "output_type": "stream",
     "text": [
      "Max Depth-2, Samples Split-3, Samples Leaf-1: 0.7670807453416149\n"
     ]
    },
    {
     "name": "stderr",
     "output_type": "stream",
     "text": [
      "/tmp/ipykernel_535/610545005.py:11: DataConversionWarning: A column-vector y was passed when a 1d array was expected. Please change the shape of y to (n_samples,), for example using ravel().\n",
      "  dt_classifier.fit(X_train, y_train)\n"
     ]
    },
    {
     "name": "stdout",
     "output_type": "stream",
     "text": [
      "Max Depth-2, Samples Split-3, Samples Leaf-2: 0.7701863354037267\n"
     ]
    },
    {
     "name": "stderr",
     "output_type": "stream",
     "text": [
      "/tmp/ipykernel_535/610545005.py:11: DataConversionWarning: A column-vector y was passed when a 1d array was expected. Please change the shape of y to (n_samples,), for example using ravel().\n",
      "  dt_classifier.fit(X_train, y_train)\n"
     ]
    },
    {
     "name": "stdout",
     "output_type": "stream",
     "text": [
      "Max Depth-2, Samples Split-3, Samples Leaf-3: 0.7701863354037267\n"
     ]
    },
    {
     "name": "stderr",
     "output_type": "stream",
     "text": [
      "/tmp/ipykernel_535/610545005.py:11: DataConversionWarning: A column-vector y was passed when a 1d array was expected. Please change the shape of y to (n_samples,), for example using ravel().\n",
      "  dt_classifier.fit(X_train, y_train)\n"
     ]
    },
    {
     "name": "stdout",
     "output_type": "stream",
     "text": [
      "Max Depth-2, Samples Split-3, Samples Leaf-4: 0.7670807453416149\n"
     ]
    },
    {
     "name": "stderr",
     "output_type": "stream",
     "text": [
      "/tmp/ipykernel_535/610545005.py:11: DataConversionWarning: A column-vector y was passed when a 1d array was expected. Please change the shape of y to (n_samples,), for example using ravel().\n",
      "  dt_classifier.fit(X_train, y_train)\n"
     ]
    },
    {
     "name": "stdout",
     "output_type": "stream",
     "text": [
      "Max Depth-2, Samples Split-3, Samples Leaf-5: 0.7701863354037267\n"
     ]
    },
    {
     "name": "stderr",
     "output_type": "stream",
     "text": [
      "/tmp/ipykernel_535/610545005.py:11: DataConversionWarning: A column-vector y was passed when a 1d array was expected. Please change the shape of y to (n_samples,), for example using ravel().\n",
      "  dt_classifier.fit(X_train, y_train)\n"
     ]
    },
    {
     "name": "stdout",
     "output_type": "stream",
     "text": [
      "Max Depth-2, Samples Split-4, Samples Leaf-1: 0.7670807453416149\n"
     ]
    },
    {
     "name": "stderr",
     "output_type": "stream",
     "text": [
      "/tmp/ipykernel_535/610545005.py:11: DataConversionWarning: A column-vector y was passed when a 1d array was expected. Please change the shape of y to (n_samples,), for example using ravel().\n",
      "  dt_classifier.fit(X_train, y_train)\n"
     ]
    },
    {
     "name": "stdout",
     "output_type": "stream",
     "text": [
      "Max Depth-2, Samples Split-4, Samples Leaf-2: 0.7670807453416149\n"
     ]
    },
    {
     "name": "stderr",
     "output_type": "stream",
     "text": [
      "/tmp/ipykernel_535/610545005.py:11: DataConversionWarning: A column-vector y was passed when a 1d array was expected. Please change the shape of y to (n_samples,), for example using ravel().\n",
      "  dt_classifier.fit(X_train, y_train)\n"
     ]
    },
    {
     "name": "stdout",
     "output_type": "stream",
     "text": [
      "Max Depth-2, Samples Split-4, Samples Leaf-3: 0.7701863354037267\n"
     ]
    },
    {
     "name": "stderr",
     "output_type": "stream",
     "text": [
      "/tmp/ipykernel_535/610545005.py:11: DataConversionWarning: A column-vector y was passed when a 1d array was expected. Please change the shape of y to (n_samples,), for example using ravel().\n",
      "  dt_classifier.fit(X_train, y_train)\n"
     ]
    },
    {
     "name": "stdout",
     "output_type": "stream",
     "text": [
      "Max Depth-2, Samples Split-4, Samples Leaf-4: 0.7732919254658385\n"
     ]
    },
    {
     "name": "stderr",
     "output_type": "stream",
     "text": [
      "/tmp/ipykernel_535/610545005.py:11: DataConversionWarning: A column-vector y was passed when a 1d array was expected. Please change the shape of y to (n_samples,), for example using ravel().\n",
      "  dt_classifier.fit(X_train, y_train)\n"
     ]
    },
    {
     "name": "stdout",
     "output_type": "stream",
     "text": [
      "Max Depth-2, Samples Split-4, Samples Leaf-5: 0.7701863354037267\n"
     ]
    },
    {
     "name": "stderr",
     "output_type": "stream",
     "text": [
      "/tmp/ipykernel_535/610545005.py:11: DataConversionWarning: A column-vector y was passed when a 1d array was expected. Please change the shape of y to (n_samples,), for example using ravel().\n",
      "  dt_classifier.fit(X_train, y_train)\n"
     ]
    },
    {
     "name": "stdout",
     "output_type": "stream",
     "text": [
      "Max Depth-2, Samples Split-5, Samples Leaf-1: 0.7701863354037267\n"
     ]
    },
    {
     "name": "stderr",
     "output_type": "stream",
     "text": [
      "/tmp/ipykernel_535/610545005.py:11: DataConversionWarning: A column-vector y was passed when a 1d array was expected. Please change the shape of y to (n_samples,), for example using ravel().\n",
      "  dt_classifier.fit(X_train, y_train)\n"
     ]
    },
    {
     "name": "stdout",
     "output_type": "stream",
     "text": [
      "Max Depth-2, Samples Split-5, Samples Leaf-2: 0.7701863354037267\n"
     ]
    },
    {
     "name": "stderr",
     "output_type": "stream",
     "text": [
      "/tmp/ipykernel_535/610545005.py:11: DataConversionWarning: A column-vector y was passed when a 1d array was expected. Please change the shape of y to (n_samples,), for example using ravel().\n",
      "  dt_classifier.fit(X_train, y_train)\n"
     ]
    },
    {
     "name": "stdout",
     "output_type": "stream",
     "text": [
      "Max Depth-2, Samples Split-5, Samples Leaf-3: 0.7639751552795031\n"
     ]
    },
    {
     "name": "stderr",
     "output_type": "stream",
     "text": [
      "/tmp/ipykernel_535/610545005.py:11: DataConversionWarning: A column-vector y was passed when a 1d array was expected. Please change the shape of y to (n_samples,), for example using ravel().\n",
      "  dt_classifier.fit(X_train, y_train)\n"
     ]
    },
    {
     "name": "stdout",
     "output_type": "stream",
     "text": [
      "Max Depth-2, Samples Split-5, Samples Leaf-4: 0.7701863354037267\n"
     ]
    },
    {
     "name": "stderr",
     "output_type": "stream",
     "text": [
      "/tmp/ipykernel_535/610545005.py:11: DataConversionWarning: A column-vector y was passed when a 1d array was expected. Please change the shape of y to (n_samples,), for example using ravel().\n",
      "  dt_classifier.fit(X_train, y_train)\n"
     ]
    },
    {
     "name": "stdout",
     "output_type": "stream",
     "text": [
      "Max Depth-2, Samples Split-5, Samples Leaf-5: 0.7670807453416149\n"
     ]
    },
    {
     "name": "stderr",
     "output_type": "stream",
     "text": [
      "/tmp/ipykernel_535/610545005.py:11: DataConversionWarning: A column-vector y was passed when a 1d array was expected. Please change the shape of y to (n_samples,), for example using ravel().\n",
      "  dt_classifier.fit(X_train, y_train)\n"
     ]
    },
    {
     "name": "stdout",
     "output_type": "stream",
     "text": [
      "Max Depth-2, Samples Split-6, Samples Leaf-1: 0.7701863354037267\n"
     ]
    },
    {
     "name": "stderr",
     "output_type": "stream",
     "text": [
      "/tmp/ipykernel_535/610545005.py:11: DataConversionWarning: A column-vector y was passed when a 1d array was expected. Please change the shape of y to (n_samples,), for example using ravel().\n",
      "  dt_classifier.fit(X_train, y_train)\n"
     ]
    },
    {
     "name": "stdout",
     "output_type": "stream",
     "text": [
      "Max Depth-2, Samples Split-6, Samples Leaf-2: 0.7670807453416149\n"
     ]
    },
    {
     "name": "stderr",
     "output_type": "stream",
     "text": [
      "/tmp/ipykernel_535/610545005.py:11: DataConversionWarning: A column-vector y was passed when a 1d array was expected. Please change the shape of y to (n_samples,), for example using ravel().\n",
      "  dt_classifier.fit(X_train, y_train)\n"
     ]
    },
    {
     "name": "stdout",
     "output_type": "stream",
     "text": [
      "Max Depth-2, Samples Split-6, Samples Leaf-3: 0.7670807453416149\n"
     ]
    },
    {
     "name": "stderr",
     "output_type": "stream",
     "text": [
      "/tmp/ipykernel_535/610545005.py:11: DataConversionWarning: A column-vector y was passed when a 1d array was expected. Please change the shape of y to (n_samples,), for example using ravel().\n",
      "  dt_classifier.fit(X_train, y_train)\n"
     ]
    },
    {
     "name": "stdout",
     "output_type": "stream",
     "text": [
      "Max Depth-2, Samples Split-6, Samples Leaf-4: 0.7670807453416149\n"
     ]
    },
    {
     "name": "stderr",
     "output_type": "stream",
     "text": [
      "/tmp/ipykernel_535/610545005.py:11: DataConversionWarning: A column-vector y was passed when a 1d array was expected. Please change the shape of y to (n_samples,), for example using ravel().\n",
      "  dt_classifier.fit(X_train, y_train)\n"
     ]
    },
    {
     "name": "stdout",
     "output_type": "stream",
     "text": [
      "Max Depth-2, Samples Split-6, Samples Leaf-5: 0.7701863354037267\n"
     ]
    },
    {
     "name": "stderr",
     "output_type": "stream",
     "text": [
      "/tmp/ipykernel_535/610545005.py:11: DataConversionWarning: A column-vector y was passed when a 1d array was expected. Please change the shape of y to (n_samples,), for example using ravel().\n",
      "  dt_classifier.fit(X_train, y_train)\n"
     ]
    },
    {
     "name": "stdout",
     "output_type": "stream",
     "text": [
      "Max Depth-3, Samples Split-2, Samples Leaf-1: 0.7763975155279503\n"
     ]
    },
    {
     "name": "stderr",
     "output_type": "stream",
     "text": [
      "/tmp/ipykernel_535/610545005.py:11: DataConversionWarning: A column-vector y was passed when a 1d array was expected. Please change the shape of y to (n_samples,), for example using ravel().\n",
      "  dt_classifier.fit(X_train, y_train)\n"
     ]
    },
    {
     "name": "stdout",
     "output_type": "stream",
     "text": [
      "Max Depth-3, Samples Split-2, Samples Leaf-2: 0.7763975155279503\n"
     ]
    },
    {
     "name": "stderr",
     "output_type": "stream",
     "text": [
      "/tmp/ipykernel_535/610545005.py:11: DataConversionWarning: A column-vector y was passed when a 1d array was expected. Please change the shape of y to (n_samples,), for example using ravel().\n",
      "  dt_classifier.fit(X_train, y_train)\n"
     ]
    },
    {
     "name": "stdout",
     "output_type": "stream",
     "text": [
      "Max Depth-3, Samples Split-2, Samples Leaf-3: 0.7763975155279503\n"
     ]
    },
    {
     "name": "stderr",
     "output_type": "stream",
     "text": [
      "/tmp/ipykernel_535/610545005.py:11: DataConversionWarning: A column-vector y was passed when a 1d array was expected. Please change the shape of y to (n_samples,), for example using ravel().\n",
      "  dt_classifier.fit(X_train, y_train)\n"
     ]
    },
    {
     "name": "stdout",
     "output_type": "stream",
     "text": [
      "Max Depth-3, Samples Split-2, Samples Leaf-4: 0.7701863354037267\n"
     ]
    },
    {
     "name": "stderr",
     "output_type": "stream",
     "text": [
      "/tmp/ipykernel_535/610545005.py:11: DataConversionWarning: A column-vector y was passed when a 1d array was expected. Please change the shape of y to (n_samples,), for example using ravel().\n",
      "  dt_classifier.fit(X_train, y_train)\n"
     ]
    },
    {
     "name": "stdout",
     "output_type": "stream",
     "text": [
      "Max Depth-3, Samples Split-2, Samples Leaf-5: 0.7701863354037267\n"
     ]
    },
    {
     "name": "stderr",
     "output_type": "stream",
     "text": [
      "/tmp/ipykernel_535/610545005.py:11: DataConversionWarning: A column-vector y was passed when a 1d array was expected. Please change the shape of y to (n_samples,), for example using ravel().\n",
      "  dt_classifier.fit(X_train, y_train)\n"
     ]
    },
    {
     "name": "stdout",
     "output_type": "stream",
     "text": [
      "Max Depth-3, Samples Split-3, Samples Leaf-1: 0.7701863354037267\n"
     ]
    },
    {
     "name": "stderr",
     "output_type": "stream",
     "text": [
      "/tmp/ipykernel_535/610545005.py:11: DataConversionWarning: A column-vector y was passed when a 1d array was expected. Please change the shape of y to (n_samples,), for example using ravel().\n",
      "  dt_classifier.fit(X_train, y_train)\n"
     ]
    },
    {
     "name": "stdout",
     "output_type": "stream",
     "text": [
      "Max Depth-3, Samples Split-3, Samples Leaf-2: 0.7701863354037267\n"
     ]
    },
    {
     "name": "stderr",
     "output_type": "stream",
     "text": [
      "/tmp/ipykernel_535/610545005.py:11: DataConversionWarning: A column-vector y was passed when a 1d array was expected. Please change the shape of y to (n_samples,), for example using ravel().\n",
      "  dt_classifier.fit(X_train, y_train)\n"
     ]
    },
    {
     "name": "stdout",
     "output_type": "stream",
     "text": [
      "Max Depth-3, Samples Split-3, Samples Leaf-3: 0.7732919254658385\n"
     ]
    },
    {
     "name": "stderr",
     "output_type": "stream",
     "text": [
      "/tmp/ipykernel_535/610545005.py:11: DataConversionWarning: A column-vector y was passed when a 1d array was expected. Please change the shape of y to (n_samples,), for example using ravel().\n",
      "  dt_classifier.fit(X_train, y_train)\n"
     ]
    },
    {
     "name": "stdout",
     "output_type": "stream",
     "text": [
      "Max Depth-3, Samples Split-3, Samples Leaf-4: 0.7763975155279503\n"
     ]
    },
    {
     "name": "stderr",
     "output_type": "stream",
     "text": [
      "/tmp/ipykernel_535/610545005.py:11: DataConversionWarning: A column-vector y was passed when a 1d array was expected. Please change the shape of y to (n_samples,), for example using ravel().\n",
      "  dt_classifier.fit(X_train, y_train)\n"
     ]
    },
    {
     "name": "stdout",
     "output_type": "stream",
     "text": [
      "Max Depth-3, Samples Split-3, Samples Leaf-5: 0.7701863354037267\n"
     ]
    },
    {
     "name": "stderr",
     "output_type": "stream",
     "text": [
      "/tmp/ipykernel_535/610545005.py:11: DataConversionWarning: A column-vector y was passed when a 1d array was expected. Please change the shape of y to (n_samples,), for example using ravel().\n",
      "  dt_classifier.fit(X_train, y_train)\n"
     ]
    },
    {
     "name": "stdout",
     "output_type": "stream",
     "text": [
      "Max Depth-3, Samples Split-4, Samples Leaf-1: 0.7763975155279503\n"
     ]
    },
    {
     "name": "stderr",
     "output_type": "stream",
     "text": [
      "/tmp/ipykernel_535/610545005.py:11: DataConversionWarning: A column-vector y was passed when a 1d array was expected. Please change the shape of y to (n_samples,), for example using ravel().\n",
      "  dt_classifier.fit(X_train, y_train)\n"
     ]
    },
    {
     "name": "stdout",
     "output_type": "stream",
     "text": [
      "Max Depth-3, Samples Split-4, Samples Leaf-2: 0.7732919254658385\n"
     ]
    },
    {
     "name": "stderr",
     "output_type": "stream",
     "text": [
      "/tmp/ipykernel_535/610545005.py:11: DataConversionWarning: A column-vector y was passed when a 1d array was expected. Please change the shape of y to (n_samples,), for example using ravel().\n",
      "  dt_classifier.fit(X_train, y_train)\n"
     ]
    },
    {
     "name": "stdout",
     "output_type": "stream",
     "text": [
      "Max Depth-3, Samples Split-4, Samples Leaf-3: 0.7763975155279503\n"
     ]
    },
    {
     "name": "stderr",
     "output_type": "stream",
     "text": [
      "/tmp/ipykernel_535/610545005.py:11: DataConversionWarning: A column-vector y was passed when a 1d array was expected. Please change the shape of y to (n_samples,), for example using ravel().\n",
      "  dt_classifier.fit(X_train, y_train)\n"
     ]
    },
    {
     "name": "stdout",
     "output_type": "stream",
     "text": [
      "Max Depth-3, Samples Split-4, Samples Leaf-4: 0.7795031055900621\n"
     ]
    },
    {
     "name": "stderr",
     "output_type": "stream",
     "text": [
      "/tmp/ipykernel_535/610545005.py:11: DataConversionWarning: A column-vector y was passed when a 1d array was expected. Please change the shape of y to (n_samples,), for example using ravel().\n",
      "  dt_classifier.fit(X_train, y_train)\n"
     ]
    },
    {
     "name": "stdout",
     "output_type": "stream",
     "text": [
      "Max Depth-3, Samples Split-4, Samples Leaf-5: 0.7701863354037267\n"
     ]
    },
    {
     "name": "stderr",
     "output_type": "stream",
     "text": [
      "/tmp/ipykernel_535/610545005.py:11: DataConversionWarning: A column-vector y was passed when a 1d array was expected. Please change the shape of y to (n_samples,), for example using ravel().\n",
      "  dt_classifier.fit(X_train, y_train)\n"
     ]
    },
    {
     "name": "stdout",
     "output_type": "stream",
     "text": [
      "Max Depth-3, Samples Split-5, Samples Leaf-1: 0.7732919254658385\n"
     ]
    },
    {
     "name": "stderr",
     "output_type": "stream",
     "text": [
      "/tmp/ipykernel_535/610545005.py:11: DataConversionWarning: A column-vector y was passed when a 1d array was expected. Please change the shape of y to (n_samples,), for example using ravel().\n",
      "  dt_classifier.fit(X_train, y_train)\n"
     ]
    },
    {
     "name": "stdout",
     "output_type": "stream",
     "text": [
      "Max Depth-3, Samples Split-5, Samples Leaf-2: 0.7763975155279503\n"
     ]
    },
    {
     "name": "stderr",
     "output_type": "stream",
     "text": [
      "/tmp/ipykernel_535/610545005.py:11: DataConversionWarning: A column-vector y was passed when a 1d array was expected. Please change the shape of y to (n_samples,), for example using ravel().\n",
      "  dt_classifier.fit(X_train, y_train)\n"
     ]
    },
    {
     "name": "stdout",
     "output_type": "stream",
     "text": [
      "Max Depth-3, Samples Split-5, Samples Leaf-3: 0.7701863354037267\n"
     ]
    },
    {
     "name": "stderr",
     "output_type": "stream",
     "text": [
      "/tmp/ipykernel_535/610545005.py:11: DataConversionWarning: A column-vector y was passed when a 1d array was expected. Please change the shape of y to (n_samples,), for example using ravel().\n",
      "  dt_classifier.fit(X_train, y_train)\n"
     ]
    },
    {
     "name": "stdout",
     "output_type": "stream",
     "text": [
      "Max Depth-3, Samples Split-5, Samples Leaf-4: 0.7763975155279503\n"
     ]
    },
    {
     "name": "stderr",
     "output_type": "stream",
     "text": [
      "/tmp/ipykernel_535/610545005.py:11: DataConversionWarning: A column-vector y was passed when a 1d array was expected. Please change the shape of y to (n_samples,), for example using ravel().\n",
      "  dt_classifier.fit(X_train, y_train)\n"
     ]
    },
    {
     "name": "stdout",
     "output_type": "stream",
     "text": [
      "Max Depth-3, Samples Split-5, Samples Leaf-5: 0.7763975155279503\n"
     ]
    },
    {
     "name": "stderr",
     "output_type": "stream",
     "text": [
      "/tmp/ipykernel_535/610545005.py:11: DataConversionWarning: A column-vector y was passed when a 1d array was expected. Please change the shape of y to (n_samples,), for example using ravel().\n",
      "  dt_classifier.fit(X_train, y_train)\n"
     ]
    },
    {
     "name": "stdout",
     "output_type": "stream",
     "text": [
      "Max Depth-3, Samples Split-6, Samples Leaf-1: 0.7763975155279503\n"
     ]
    },
    {
     "name": "stderr",
     "output_type": "stream",
     "text": [
      "/tmp/ipykernel_535/610545005.py:11: DataConversionWarning: A column-vector y was passed when a 1d array was expected. Please change the shape of y to (n_samples,), for example using ravel().\n",
      "  dt_classifier.fit(X_train, y_train)\n"
     ]
    },
    {
     "name": "stdout",
     "output_type": "stream",
     "text": [
      "Max Depth-3, Samples Split-6, Samples Leaf-2: 0.7763975155279503\n"
     ]
    },
    {
     "name": "stderr",
     "output_type": "stream",
     "text": [
      "/tmp/ipykernel_535/610545005.py:11: DataConversionWarning: A column-vector y was passed when a 1d array was expected. Please change the shape of y to (n_samples,), for example using ravel().\n",
      "  dt_classifier.fit(X_train, y_train)\n"
     ]
    },
    {
     "name": "stdout",
     "output_type": "stream",
     "text": [
      "Max Depth-3, Samples Split-6, Samples Leaf-3: 0.7795031055900621\n"
     ]
    },
    {
     "name": "stderr",
     "output_type": "stream",
     "text": [
      "/tmp/ipykernel_535/610545005.py:11: DataConversionWarning: A column-vector y was passed when a 1d array was expected. Please change the shape of y to (n_samples,), for example using ravel().\n",
      "  dt_classifier.fit(X_train, y_train)\n"
     ]
    },
    {
     "name": "stdout",
     "output_type": "stream",
     "text": [
      "Max Depth-3, Samples Split-6, Samples Leaf-4: 0.7701863354037267\n"
     ]
    },
    {
     "name": "stderr",
     "output_type": "stream",
     "text": [
      "/tmp/ipykernel_535/610545005.py:11: DataConversionWarning: A column-vector y was passed when a 1d array was expected. Please change the shape of y to (n_samples,), for example using ravel().\n",
      "  dt_classifier.fit(X_train, y_train)\n"
     ]
    },
    {
     "name": "stdout",
     "output_type": "stream",
     "text": [
      "Max Depth-3, Samples Split-6, Samples Leaf-5: 0.7701863354037267\n"
     ]
    },
    {
     "name": "stderr",
     "output_type": "stream",
     "text": [
      "/tmp/ipykernel_535/610545005.py:11: DataConversionWarning: A column-vector y was passed when a 1d array was expected. Please change the shape of y to (n_samples,), for example using ravel().\n",
      "  dt_classifier.fit(X_train, y_train)\n"
     ]
    },
    {
     "name": "stdout",
     "output_type": "stream",
     "text": [
      "Max Depth-4, Samples Split-2, Samples Leaf-1: 0.7763975155279503\n"
     ]
    },
    {
     "name": "stderr",
     "output_type": "stream",
     "text": [
      "/tmp/ipykernel_535/610545005.py:11: DataConversionWarning: A column-vector y was passed when a 1d array was expected. Please change the shape of y to (n_samples,), for example using ravel().\n",
      "  dt_classifier.fit(X_train, y_train)\n"
     ]
    },
    {
     "name": "stdout",
     "output_type": "stream",
     "text": [
      "Max Depth-4, Samples Split-2, Samples Leaf-2: 0.7795031055900621\n"
     ]
    },
    {
     "name": "stderr",
     "output_type": "stream",
     "text": [
      "/tmp/ipykernel_535/610545005.py:11: DataConversionWarning: A column-vector y was passed when a 1d array was expected. Please change the shape of y to (n_samples,), for example using ravel().\n",
      "  dt_classifier.fit(X_train, y_train)\n"
     ]
    },
    {
     "name": "stdout",
     "output_type": "stream",
     "text": [
      "Max Depth-4, Samples Split-2, Samples Leaf-3: 0.782608695652174\n"
     ]
    },
    {
     "name": "stderr",
     "output_type": "stream",
     "text": [
      "/tmp/ipykernel_535/610545005.py:11: DataConversionWarning: A column-vector y was passed when a 1d array was expected. Please change the shape of y to (n_samples,), for example using ravel().\n",
      "  dt_classifier.fit(X_train, y_train)\n"
     ]
    },
    {
     "name": "stdout",
     "output_type": "stream",
     "text": [
      "Max Depth-4, Samples Split-2, Samples Leaf-4: 0.7795031055900621\n"
     ]
    },
    {
     "name": "stderr",
     "output_type": "stream",
     "text": [
      "/tmp/ipykernel_535/610545005.py:11: DataConversionWarning: A column-vector y was passed when a 1d array was expected. Please change the shape of y to (n_samples,), for example using ravel().\n",
      "  dt_classifier.fit(X_train, y_train)\n"
     ]
    },
    {
     "name": "stdout",
     "output_type": "stream",
     "text": [
      "Max Depth-4, Samples Split-2, Samples Leaf-5: 0.782608695652174\n"
     ]
    },
    {
     "name": "stderr",
     "output_type": "stream",
     "text": [
      "/tmp/ipykernel_535/610545005.py:11: DataConversionWarning: A column-vector y was passed when a 1d array was expected. Please change the shape of y to (n_samples,), for example using ravel().\n",
      "  dt_classifier.fit(X_train, y_train)\n"
     ]
    },
    {
     "name": "stdout",
     "output_type": "stream",
     "text": [
      "Max Depth-4, Samples Split-3, Samples Leaf-1: 0.782608695652174\n"
     ]
    },
    {
     "name": "stderr",
     "output_type": "stream",
     "text": [
      "/tmp/ipykernel_535/610545005.py:11: DataConversionWarning: A column-vector y was passed when a 1d array was expected. Please change the shape of y to (n_samples,), for example using ravel().\n",
      "  dt_classifier.fit(X_train, y_train)\n"
     ]
    },
    {
     "name": "stdout",
     "output_type": "stream",
     "text": [
      "Max Depth-4, Samples Split-3, Samples Leaf-2: 0.782608695652174\n"
     ]
    },
    {
     "name": "stderr",
     "output_type": "stream",
     "text": [
      "/tmp/ipykernel_535/610545005.py:11: DataConversionWarning: A column-vector y was passed when a 1d array was expected. Please change the shape of y to (n_samples,), for example using ravel().\n",
      "  dt_classifier.fit(X_train, y_train)\n"
     ]
    },
    {
     "name": "stdout",
     "output_type": "stream",
     "text": [
      "Max Depth-4, Samples Split-3, Samples Leaf-3: 0.782608695652174\n"
     ]
    },
    {
     "name": "stderr",
     "output_type": "stream",
     "text": [
      "/tmp/ipykernel_535/610545005.py:11: DataConversionWarning: A column-vector y was passed when a 1d array was expected. Please change the shape of y to (n_samples,), for example using ravel().\n",
      "  dt_classifier.fit(X_train, y_train)\n"
     ]
    },
    {
     "name": "stdout",
     "output_type": "stream",
     "text": [
      "Max Depth-4, Samples Split-3, Samples Leaf-4: 0.782608695652174\n"
     ]
    },
    {
     "name": "stderr",
     "output_type": "stream",
     "text": [
      "/tmp/ipykernel_535/610545005.py:11: DataConversionWarning: A column-vector y was passed when a 1d array was expected. Please change the shape of y to (n_samples,), for example using ravel().\n",
      "  dt_classifier.fit(X_train, y_train)\n"
     ]
    },
    {
     "name": "stdout",
     "output_type": "stream",
     "text": [
      "Max Depth-4, Samples Split-3, Samples Leaf-5: 0.7795031055900621\n"
     ]
    },
    {
     "name": "stderr",
     "output_type": "stream",
     "text": [
      "/tmp/ipykernel_535/610545005.py:11: DataConversionWarning: A column-vector y was passed when a 1d array was expected. Please change the shape of y to (n_samples,), for example using ravel().\n",
      "  dt_classifier.fit(X_train, y_train)\n"
     ]
    },
    {
     "name": "stdout",
     "output_type": "stream",
     "text": [
      "Max Depth-4, Samples Split-4, Samples Leaf-1: 0.7795031055900621\n"
     ]
    },
    {
     "name": "stderr",
     "output_type": "stream",
     "text": [
      "/tmp/ipykernel_535/610545005.py:11: DataConversionWarning: A column-vector y was passed when a 1d array was expected. Please change the shape of y to (n_samples,), for example using ravel().\n",
      "  dt_classifier.fit(X_train, y_train)\n"
     ]
    },
    {
     "name": "stdout",
     "output_type": "stream",
     "text": [
      "Max Depth-4, Samples Split-4, Samples Leaf-2: 0.7857142857142857\n"
     ]
    },
    {
     "name": "stderr",
     "output_type": "stream",
     "text": [
      "/tmp/ipykernel_535/610545005.py:11: DataConversionWarning: A column-vector y was passed when a 1d array was expected. Please change the shape of y to (n_samples,), for example using ravel().\n",
      "  dt_classifier.fit(X_train, y_train)\n"
     ]
    },
    {
     "name": "stdout",
     "output_type": "stream",
     "text": [
      "Max Depth-4, Samples Split-4, Samples Leaf-3: 0.782608695652174\n"
     ]
    },
    {
     "name": "stderr",
     "output_type": "stream",
     "text": [
      "/tmp/ipykernel_535/610545005.py:11: DataConversionWarning: A column-vector y was passed when a 1d array was expected. Please change the shape of y to (n_samples,), for example using ravel().\n",
      "  dt_classifier.fit(X_train, y_train)\n"
     ]
    },
    {
     "name": "stdout",
     "output_type": "stream",
     "text": [
      "Max Depth-4, Samples Split-4, Samples Leaf-4: 0.7795031055900621\n"
     ]
    },
    {
     "name": "stderr",
     "output_type": "stream",
     "text": [
      "/tmp/ipykernel_535/610545005.py:11: DataConversionWarning: A column-vector y was passed when a 1d array was expected. Please change the shape of y to (n_samples,), for example using ravel().\n",
      "  dt_classifier.fit(X_train, y_train)\n"
     ]
    },
    {
     "name": "stdout",
     "output_type": "stream",
     "text": [
      "Max Depth-4, Samples Split-4, Samples Leaf-5: 0.7795031055900621\n"
     ]
    },
    {
     "name": "stderr",
     "output_type": "stream",
     "text": [
      "/tmp/ipykernel_535/610545005.py:11: DataConversionWarning: A column-vector y was passed when a 1d array was expected. Please change the shape of y to (n_samples,), for example using ravel().\n",
      "  dt_classifier.fit(X_train, y_train)\n"
     ]
    },
    {
     "name": "stdout",
     "output_type": "stream",
     "text": [
      "Max Depth-4, Samples Split-5, Samples Leaf-1: 0.7795031055900621\n"
     ]
    },
    {
     "name": "stderr",
     "output_type": "stream",
     "text": [
      "/tmp/ipykernel_535/610545005.py:11: DataConversionWarning: A column-vector y was passed when a 1d array was expected. Please change the shape of y to (n_samples,), for example using ravel().\n",
      "  dt_classifier.fit(X_train, y_train)\n"
     ]
    },
    {
     "name": "stdout",
     "output_type": "stream",
     "text": [
      "Max Depth-4, Samples Split-5, Samples Leaf-2: 0.782608695652174\n"
     ]
    },
    {
     "name": "stderr",
     "output_type": "stream",
     "text": [
      "/tmp/ipykernel_535/610545005.py:11: DataConversionWarning: A column-vector y was passed when a 1d array was expected. Please change the shape of y to (n_samples,), for example using ravel().\n",
      "  dt_classifier.fit(X_train, y_train)\n"
     ]
    },
    {
     "name": "stdout",
     "output_type": "stream",
     "text": [
      "Max Depth-4, Samples Split-5, Samples Leaf-3: 0.7763975155279503\n"
     ]
    },
    {
     "name": "stderr",
     "output_type": "stream",
     "text": [
      "/tmp/ipykernel_535/610545005.py:11: DataConversionWarning: A column-vector y was passed when a 1d array was expected. Please change the shape of y to (n_samples,), for example using ravel().\n",
      "  dt_classifier.fit(X_train, y_train)\n"
     ]
    },
    {
     "name": "stdout",
     "output_type": "stream",
     "text": [
      "Max Depth-4, Samples Split-5, Samples Leaf-4: 0.7795031055900621\n"
     ]
    },
    {
     "name": "stderr",
     "output_type": "stream",
     "text": [
      "/tmp/ipykernel_535/610545005.py:11: DataConversionWarning: A column-vector y was passed when a 1d array was expected. Please change the shape of y to (n_samples,), for example using ravel().\n",
      "  dt_classifier.fit(X_train, y_train)\n"
     ]
    },
    {
     "name": "stdout",
     "output_type": "stream",
     "text": [
      "Max Depth-4, Samples Split-5, Samples Leaf-5: 0.7795031055900621\n"
     ]
    },
    {
     "name": "stderr",
     "output_type": "stream",
     "text": [
      "/tmp/ipykernel_535/610545005.py:11: DataConversionWarning: A column-vector y was passed when a 1d array was expected. Please change the shape of y to (n_samples,), for example using ravel().\n",
      "  dt_classifier.fit(X_train, y_train)\n"
     ]
    },
    {
     "name": "stdout",
     "output_type": "stream",
     "text": [
      "Max Depth-4, Samples Split-6, Samples Leaf-1: 0.7795031055900621\n"
     ]
    },
    {
     "name": "stderr",
     "output_type": "stream",
     "text": [
      "/tmp/ipykernel_535/610545005.py:11: DataConversionWarning: A column-vector y was passed when a 1d array was expected. Please change the shape of y to (n_samples,), for example using ravel().\n",
      "  dt_classifier.fit(X_train, y_train)\n"
     ]
    },
    {
     "name": "stdout",
     "output_type": "stream",
     "text": [
      "Max Depth-4, Samples Split-6, Samples Leaf-2: 0.7795031055900621\n"
     ]
    },
    {
     "name": "stderr",
     "output_type": "stream",
     "text": [
      "/tmp/ipykernel_535/610545005.py:11: DataConversionWarning: A column-vector y was passed when a 1d array was expected. Please change the shape of y to (n_samples,), for example using ravel().\n",
      "  dt_classifier.fit(X_train, y_train)\n"
     ]
    },
    {
     "name": "stdout",
     "output_type": "stream",
     "text": [
      "Max Depth-4, Samples Split-6, Samples Leaf-3: 0.7795031055900621\n"
     ]
    },
    {
     "name": "stderr",
     "output_type": "stream",
     "text": [
      "/tmp/ipykernel_535/610545005.py:11: DataConversionWarning: A column-vector y was passed when a 1d array was expected. Please change the shape of y to (n_samples,), for example using ravel().\n",
      "  dt_classifier.fit(X_train, y_train)\n"
     ]
    },
    {
     "name": "stdout",
     "output_type": "stream",
     "text": [
      "Max Depth-4, Samples Split-6, Samples Leaf-4: 0.7795031055900621\n"
     ]
    },
    {
     "name": "stderr",
     "output_type": "stream",
     "text": [
      "/tmp/ipykernel_535/610545005.py:11: DataConversionWarning: A column-vector y was passed when a 1d array was expected. Please change the shape of y to (n_samples,), for example using ravel().\n",
      "  dt_classifier.fit(X_train, y_train)\n"
     ]
    },
    {
     "name": "stdout",
     "output_type": "stream",
     "text": [
      "Max Depth-4, Samples Split-6, Samples Leaf-5: 0.7795031055900621\n"
     ]
    },
    {
     "name": "stderr",
     "output_type": "stream",
     "text": [
      "/tmp/ipykernel_535/610545005.py:11: DataConversionWarning: A column-vector y was passed when a 1d array was expected. Please change the shape of y to (n_samples,), for example using ravel().\n",
      "  dt_classifier.fit(X_train, y_train)\n"
     ]
    },
    {
     "name": "stdout",
     "output_type": "stream",
     "text": [
      "Max Depth-5, Samples Split-2, Samples Leaf-1: 0.7857142857142857\n"
     ]
    },
    {
     "name": "stderr",
     "output_type": "stream",
     "text": [
      "/tmp/ipykernel_535/610545005.py:11: DataConversionWarning: A column-vector y was passed when a 1d array was expected. Please change the shape of y to (n_samples,), for example using ravel().\n",
      "  dt_classifier.fit(X_train, y_train)\n"
     ]
    },
    {
     "name": "stdout",
     "output_type": "stream",
     "text": [
      "Max Depth-5, Samples Split-2, Samples Leaf-2: 0.7919254658385093\n"
     ]
    },
    {
     "name": "stderr",
     "output_type": "stream",
     "text": [
      "/tmp/ipykernel_535/610545005.py:11: DataConversionWarning: A column-vector y was passed when a 1d array was expected. Please change the shape of y to (n_samples,), for example using ravel().\n",
      "  dt_classifier.fit(X_train, y_train)\n"
     ]
    },
    {
     "name": "stdout",
     "output_type": "stream",
     "text": [
      "Max Depth-5, Samples Split-2, Samples Leaf-3: 0.7857142857142857\n"
     ]
    },
    {
     "name": "stderr",
     "output_type": "stream",
     "text": [
      "/tmp/ipykernel_535/610545005.py:11: DataConversionWarning: A column-vector y was passed when a 1d array was expected. Please change the shape of y to (n_samples,), for example using ravel().\n",
      "  dt_classifier.fit(X_train, y_train)\n"
     ]
    },
    {
     "name": "stdout",
     "output_type": "stream",
     "text": [
      "Max Depth-5, Samples Split-2, Samples Leaf-4: 0.782608695652174\n"
     ]
    },
    {
     "name": "stderr",
     "output_type": "stream",
     "text": [
      "/tmp/ipykernel_535/610545005.py:11: DataConversionWarning: A column-vector y was passed when a 1d array was expected. Please change the shape of y to (n_samples,), for example using ravel().\n",
      "  dt_classifier.fit(X_train, y_train)\n"
     ]
    },
    {
     "name": "stdout",
     "output_type": "stream",
     "text": [
      "Max Depth-5, Samples Split-2, Samples Leaf-5: 0.7919254658385093\n"
     ]
    },
    {
     "name": "stderr",
     "output_type": "stream",
     "text": [
      "/tmp/ipykernel_535/610545005.py:11: DataConversionWarning: A column-vector y was passed when a 1d array was expected. Please change the shape of y to (n_samples,), for example using ravel().\n",
      "  dt_classifier.fit(X_train, y_train)\n"
     ]
    },
    {
     "name": "stdout",
     "output_type": "stream",
     "text": [
      "Max Depth-5, Samples Split-3, Samples Leaf-1: 0.7919254658385093\n"
     ]
    },
    {
     "name": "stderr",
     "output_type": "stream",
     "text": [
      "/tmp/ipykernel_535/610545005.py:11: DataConversionWarning: A column-vector y was passed when a 1d array was expected. Please change the shape of y to (n_samples,), for example using ravel().\n",
      "  dt_classifier.fit(X_train, y_train)\n"
     ]
    },
    {
     "name": "stdout",
     "output_type": "stream",
     "text": [
      "Max Depth-5, Samples Split-3, Samples Leaf-2: 0.7857142857142857\n"
     ]
    },
    {
     "name": "stderr",
     "output_type": "stream",
     "text": [
      "/tmp/ipykernel_535/610545005.py:11: DataConversionWarning: A column-vector y was passed when a 1d array was expected. Please change the shape of y to (n_samples,), for example using ravel().\n",
      "  dt_classifier.fit(X_train, y_train)\n"
     ]
    },
    {
     "name": "stdout",
     "output_type": "stream",
     "text": [
      "Max Depth-5, Samples Split-3, Samples Leaf-3: 0.7888198757763976\n"
     ]
    },
    {
     "name": "stderr",
     "output_type": "stream",
     "text": [
      "/tmp/ipykernel_535/610545005.py:11: DataConversionWarning: A column-vector y was passed when a 1d array was expected. Please change the shape of y to (n_samples,), for example using ravel().\n",
      "  dt_classifier.fit(X_train, y_train)\n"
     ]
    },
    {
     "name": "stdout",
     "output_type": "stream",
     "text": [
      "Max Depth-5, Samples Split-3, Samples Leaf-4: 0.782608695652174\n"
     ]
    },
    {
     "name": "stderr",
     "output_type": "stream",
     "text": [
      "/tmp/ipykernel_535/610545005.py:11: DataConversionWarning: A column-vector y was passed when a 1d array was expected. Please change the shape of y to (n_samples,), for example using ravel().\n",
      "  dt_classifier.fit(X_train, y_train)\n"
     ]
    },
    {
     "name": "stdout",
     "output_type": "stream",
     "text": [
      "Max Depth-5, Samples Split-3, Samples Leaf-5: 0.7919254658385093\n"
     ]
    },
    {
     "name": "stderr",
     "output_type": "stream",
     "text": [
      "/tmp/ipykernel_535/610545005.py:11: DataConversionWarning: A column-vector y was passed when a 1d array was expected. Please change the shape of y to (n_samples,), for example using ravel().\n",
      "  dt_classifier.fit(X_train, y_train)\n"
     ]
    },
    {
     "name": "stdout",
     "output_type": "stream",
     "text": [
      "Max Depth-5, Samples Split-4, Samples Leaf-1: 0.782608695652174\n"
     ]
    },
    {
     "name": "stderr",
     "output_type": "stream",
     "text": [
      "/tmp/ipykernel_535/610545005.py:11: DataConversionWarning: A column-vector y was passed when a 1d array was expected. Please change the shape of y to (n_samples,), for example using ravel().\n",
      "  dt_classifier.fit(X_train, y_train)\n"
     ]
    },
    {
     "name": "stdout",
     "output_type": "stream",
     "text": [
      "Max Depth-5, Samples Split-4, Samples Leaf-2: 0.7919254658385093\n"
     ]
    },
    {
     "name": "stderr",
     "output_type": "stream",
     "text": [
      "/tmp/ipykernel_535/610545005.py:11: DataConversionWarning: A column-vector y was passed when a 1d array was expected. Please change the shape of y to (n_samples,), for example using ravel().\n",
      "  dt_classifier.fit(X_train, y_train)\n"
     ]
    },
    {
     "name": "stdout",
     "output_type": "stream",
     "text": [
      "Max Depth-5, Samples Split-4, Samples Leaf-3: 0.7888198757763976\n"
     ]
    },
    {
     "name": "stderr",
     "output_type": "stream",
     "text": [
      "/tmp/ipykernel_535/610545005.py:11: DataConversionWarning: A column-vector y was passed when a 1d array was expected. Please change the shape of y to (n_samples,), for example using ravel().\n",
      "  dt_classifier.fit(X_train, y_train)\n"
     ]
    },
    {
     "name": "stdout",
     "output_type": "stream",
     "text": [
      "Max Depth-5, Samples Split-4, Samples Leaf-4: 0.7888198757763976\n"
     ]
    },
    {
     "name": "stderr",
     "output_type": "stream",
     "text": [
      "/tmp/ipykernel_535/610545005.py:11: DataConversionWarning: A column-vector y was passed when a 1d array was expected. Please change the shape of y to (n_samples,), for example using ravel().\n",
      "  dt_classifier.fit(X_train, y_train)\n"
     ]
    },
    {
     "name": "stdout",
     "output_type": "stream",
     "text": [
      "Max Depth-5, Samples Split-4, Samples Leaf-5: 0.7888198757763976\n"
     ]
    },
    {
     "name": "stderr",
     "output_type": "stream",
     "text": [
      "/tmp/ipykernel_535/610545005.py:11: DataConversionWarning: A column-vector y was passed when a 1d array was expected. Please change the shape of y to (n_samples,), for example using ravel().\n",
      "  dt_classifier.fit(X_train, y_train)\n"
     ]
    },
    {
     "name": "stdout",
     "output_type": "stream",
     "text": [
      "Max Depth-5, Samples Split-5, Samples Leaf-1: 0.7857142857142857\n"
     ]
    },
    {
     "name": "stderr",
     "output_type": "stream",
     "text": [
      "/tmp/ipykernel_535/610545005.py:11: DataConversionWarning: A column-vector y was passed when a 1d array was expected. Please change the shape of y to (n_samples,), for example using ravel().\n",
      "  dt_classifier.fit(X_train, y_train)\n"
     ]
    },
    {
     "name": "stdout",
     "output_type": "stream",
     "text": [
      "Max Depth-5, Samples Split-5, Samples Leaf-2: 0.7795031055900621\n"
     ]
    },
    {
     "name": "stderr",
     "output_type": "stream",
     "text": [
      "/tmp/ipykernel_535/610545005.py:11: DataConversionWarning: A column-vector y was passed when a 1d array was expected. Please change the shape of y to (n_samples,), for example using ravel().\n",
      "  dt_classifier.fit(X_train, y_train)\n"
     ]
    },
    {
     "name": "stdout",
     "output_type": "stream",
     "text": [
      "Max Depth-5, Samples Split-5, Samples Leaf-3: 0.7857142857142857\n"
     ]
    },
    {
     "name": "stderr",
     "output_type": "stream",
     "text": [
      "/tmp/ipykernel_535/610545005.py:11: DataConversionWarning: A column-vector y was passed when a 1d array was expected. Please change the shape of y to (n_samples,), for example using ravel().\n",
      "  dt_classifier.fit(X_train, y_train)\n"
     ]
    },
    {
     "name": "stdout",
     "output_type": "stream",
     "text": [
      "Max Depth-5, Samples Split-5, Samples Leaf-4: 0.7888198757763976\n"
     ]
    },
    {
     "name": "stderr",
     "output_type": "stream",
     "text": [
      "/tmp/ipykernel_535/610545005.py:11: DataConversionWarning: A column-vector y was passed when a 1d array was expected. Please change the shape of y to (n_samples,), for example using ravel().\n",
      "  dt_classifier.fit(X_train, y_train)\n"
     ]
    },
    {
     "name": "stdout",
     "output_type": "stream",
     "text": [
      "Max Depth-5, Samples Split-5, Samples Leaf-5: 0.7857142857142857\n"
     ]
    },
    {
     "name": "stderr",
     "output_type": "stream",
     "text": [
      "/tmp/ipykernel_535/610545005.py:11: DataConversionWarning: A column-vector y was passed when a 1d array was expected. Please change the shape of y to (n_samples,), for example using ravel().\n",
      "  dt_classifier.fit(X_train, y_train)\n"
     ]
    },
    {
     "name": "stdout",
     "output_type": "stream",
     "text": [
      "Max Depth-5, Samples Split-6, Samples Leaf-1: 0.7919254658385093\n"
     ]
    },
    {
     "name": "stderr",
     "output_type": "stream",
     "text": [
      "/tmp/ipykernel_535/610545005.py:11: DataConversionWarning: A column-vector y was passed when a 1d array was expected. Please change the shape of y to (n_samples,), for example using ravel().\n",
      "  dt_classifier.fit(X_train, y_train)\n"
     ]
    },
    {
     "name": "stdout",
     "output_type": "stream",
     "text": [
      "Max Depth-5, Samples Split-6, Samples Leaf-2: 0.7888198757763976\n"
     ]
    },
    {
     "name": "stderr",
     "output_type": "stream",
     "text": [
      "/tmp/ipykernel_535/610545005.py:11: DataConversionWarning: A column-vector y was passed when a 1d array was expected. Please change the shape of y to (n_samples,), for example using ravel().\n",
      "  dt_classifier.fit(X_train, y_train)\n"
     ]
    },
    {
     "name": "stdout",
     "output_type": "stream",
     "text": [
      "Max Depth-5, Samples Split-6, Samples Leaf-3: 0.782608695652174\n"
     ]
    },
    {
     "name": "stderr",
     "output_type": "stream",
     "text": [
      "/tmp/ipykernel_535/610545005.py:11: DataConversionWarning: A column-vector y was passed when a 1d array was expected. Please change the shape of y to (n_samples,), for example using ravel().\n",
      "  dt_classifier.fit(X_train, y_train)\n"
     ]
    },
    {
     "name": "stdout",
     "output_type": "stream",
     "text": [
      "Max Depth-5, Samples Split-6, Samples Leaf-4: 0.7857142857142857\n"
     ]
    },
    {
     "name": "stderr",
     "output_type": "stream",
     "text": [
      "/tmp/ipykernel_535/610545005.py:11: DataConversionWarning: A column-vector y was passed when a 1d array was expected. Please change the shape of y to (n_samples,), for example using ravel().\n",
      "  dt_classifier.fit(X_train, y_train)\n"
     ]
    },
    {
     "name": "stdout",
     "output_type": "stream",
     "text": [
      "Max Depth-5, Samples Split-6, Samples Leaf-5: 0.782608695652174\n"
     ]
    }
   ],
   "source": [
    "depths = [None, 1, 2, 3, 4, 5]\n",
    "samples_split = [2,3,4,5,6]\n",
    "samples_leaf = [1,2,3,4,5]\n",
    "\n",
    "best_accuracy = {\"depth\":0, \"split\":0, \"leaf\":0, \"accuracy\":0}\n",
    "for i in depths:\n",
    "    for j in samples_split:\n",
    "        for k in samples_leaf:\n",
    "            # create a regressor object \n",
    "            dt_classifier = RandomForestClassifier(max_depth=i, min_samples_split=j, min_samples_leaf=k)\n",
    "            dt_classifier.fit(X_train, y_train)\n",
    "            print(f\"Max Depth-{i}, Samples Split-{j}, Samples Leaf-{k}:\" ,dt_classifier.score(X_test, y_test))\n",
    "            \n",
    "            if best_accuracy['accuracy'] < dt_classifier.score(X_test, y_test):\n",
    "                best_accuracy['depth'] = i\n",
    "                best_accuracy['split'] = j\n",
    "                best_accuracy['leaf'] = k\n",
    "                best_accuracy['accuracy'] = dt_classifier.score(X_test, y_test)"
   ]
  },
  {
   "cell_type": "code",
   "execution_count": 14,
   "metadata": {},
   "outputs": [
    {
     "data": {
      "text/plain": [
       "{'depth': None, 'split': 6, 'leaf': 1, 'accuracy': 0.8291925465838509}"
      ]
     },
     "execution_count": 14,
     "metadata": {},
     "output_type": "execute_result"
    }
   ],
   "source": [
    "best_accuracy"
   ]
  },
  {
   "cell_type": "code",
   "execution_count": 15,
   "metadata": {},
   "outputs": [
    {
     "name": "stderr",
     "output_type": "stream",
     "text": [
      "/tmp/ipykernel_535/1310656180.py:4: DataConversionWarning: A column-vector y was passed when a 1d array was expected. Please change the shape of y to (n_samples,), for example using ravel().\n",
      "  dt_classifier.fit(X_train, y_train)\n"
     ]
    },
    {
     "name": "stdout",
     "output_type": "stream",
     "text": [
      "Max Depth-None, Samples Slit-3, Samples Leaf-2: 0.7979274611398963\n"
     ]
    }
   ],
   "source": [
    "# Use the Validation set to evaluate the accuracy\n",
    "\n",
    "dt_classifier = RandomForestClassifier(max_depth=None, min_samples_split=3, min_samples_leaf=2)\n",
    "dt_classifier.fit(X_train, y_train)\n",
    "print(f\"Max Depth-{None}, Samples Slit-{3}, Samples Leaf-{2}:\" ,dt_classifier.score(X_val, y_val))"
   ]
  },
  {
   "cell_type": "markdown",
   "metadata": {},
   "source": [
    "**Findings**\n",
    "\n",
    "The Random Tree Classifier has a `Max Depth-None`, `Samples Slit-3`, `Samples Leaf-2`. The accuracy of this model, as measured by the R² score, is approximately 0.8. This accuracy is within the threshold of 0.75."
   ]
  },
  {
   "cell_type": "markdown",
   "metadata": {},
   "source": [
    "# Conclusion<a id='end'></a>\n",
    "\n",
    "The Random Tree Classifier has the highest accuracy of 0.8 compared to Decision Tree Classifier. The best parameters for Random Tree Classifier is `Max Depth-None`, `Samples Slit-3`, `Samples Leaf-2`."
   ]
  }
 ],
 "metadata": {
  "ExecuteTimeLog": [
   {
    "duration": 1246,
    "start_time": "2024-05-18T04:05:26.014Z"
   },
   {
    "duration": 21,
    "start_time": "2024-05-18T04:05:27.264Z"
   },
   {
    "duration": 41,
    "start_time": "2024-05-18T04:05:27.288Z"
   },
   {
    "duration": 6,
    "start_time": "2024-05-18T04:05:27.334Z"
   },
   {
    "duration": 11,
    "start_time": "2024-05-18T04:05:27.344Z"
   },
   {
    "duration": 6,
    "start_time": "2024-05-18T04:05:27.358Z"
   },
   {
    "duration": 4,
    "start_time": "2024-05-18T04:05:27.368Z"
   },
   {
    "duration": 75,
    "start_time": "2024-05-18T04:05:27.377Z"
   },
   {
    "duration": 21,
    "start_time": "2024-05-18T04:05:27.457Z"
   },
   {
    "duration": 50,
    "start_time": "2024-05-18T04:05:27.484Z"
   },
   {
    "duration": 17,
    "start_time": "2024-05-18T04:05:27.537Z"
   },
   {
    "duration": 24,
    "start_time": "2024-05-18T04:05:27.558Z"
   },
   {
    "duration": 2483,
    "start_time": "2024-05-18T04:05:27.585Z"
   },
   {
    "duration": 7,
    "start_time": "2024-05-18T04:05:30.071Z"
   },
   {
    "duration": 45,
    "start_time": "2024-05-18T04:05:30.082Z"
   },
   {
    "duration": 16,
    "start_time": "2024-05-18T04:05:30.131Z"
   },
   {
    "duration": 65465,
    "start_time": "2024-05-18T04:05:30.151Z"
   },
   {
    "duration": 10,
    "start_time": "2024-05-18T04:06:35.619Z"
   },
   {
    "duration": 858,
    "start_time": "2024-05-18T04:06:35.633Z"
   },
   {
    "duration": 1138,
    "start_time": "2024-05-18T08:34:57.886Z"
   },
   {
    "duration": 30,
    "start_time": "2024-05-18T08:34:59.028Z"
   },
   {
    "duration": 21,
    "start_time": "2024-05-18T08:34:59.062Z"
   },
   {
    "duration": 7,
    "start_time": "2024-05-18T08:34:59.086Z"
   },
   {
    "duration": 39,
    "start_time": "2024-05-18T08:34:59.099Z"
   },
   {
    "duration": 6,
    "start_time": "2024-05-18T08:34:59.141Z"
   },
   {
    "duration": 5,
    "start_time": "2024-05-18T08:34:59.150Z"
   },
   {
    "duration": 27,
    "start_time": "2024-05-18T08:34:59.160Z"
   },
   {
    "duration": 51,
    "start_time": "2024-05-18T08:34:59.190Z"
   },
   {
    "duration": 15,
    "start_time": "2024-05-18T08:34:59.243Z"
   },
   {
    "duration": 12,
    "start_time": "2024-05-18T08:34:59.262Z"
   },
   {
    "duration": 69,
    "start_time": "2024-05-18T08:34:59.277Z"
   },
   {
    "duration": 538,
    "start_time": "2024-05-18T08:34:59.348Z"
   },
   {
    "duration": 0,
    "start_time": "2024-05-18T08:34:59.889Z"
   },
   {
    "duration": 0,
    "start_time": "2024-05-18T08:34:59.892Z"
   },
   {
    "duration": 0,
    "start_time": "2024-05-18T08:34:59.894Z"
   },
   {
    "duration": 0,
    "start_time": "2024-05-18T08:34:59.896Z"
   },
   {
    "duration": 0,
    "start_time": "2024-05-18T08:34:59.898Z"
   },
   {
    "duration": 0,
    "start_time": "2024-05-18T08:34:59.902Z"
   },
   {
    "duration": 1171,
    "start_time": "2024-05-18T14:14:06.675Z"
   },
   {
    "duration": 28,
    "start_time": "2024-05-18T14:14:07.849Z"
   },
   {
    "duration": 30,
    "start_time": "2024-05-18T14:14:07.880Z"
   },
   {
    "duration": 6,
    "start_time": "2024-05-18T14:14:07.913Z"
   },
   {
    "duration": 9,
    "start_time": "2024-05-18T14:14:07.927Z"
   },
   {
    "duration": 9,
    "start_time": "2024-05-18T14:14:07.939Z"
   },
   {
    "duration": 4,
    "start_time": "2024-05-18T14:14:07.951Z"
   },
   {
    "duration": 67,
    "start_time": "2024-05-18T14:14:07.958Z"
   },
   {
    "duration": 15,
    "start_time": "2024-05-18T14:14:08.027Z"
   },
   {
    "duration": 14,
    "start_time": "2024-05-18T14:14:08.045Z"
   },
   {
    "duration": 9,
    "start_time": "2024-05-18T14:14:08.062Z"
   },
   {
    "duration": 24,
    "start_time": "2024-05-18T14:14:08.109Z"
   },
   {
    "duration": 553,
    "start_time": "2024-05-18T14:14:08.136Z"
   },
   {
    "duration": 0,
    "start_time": "2024-05-18T14:14:08.693Z"
   },
   {
    "duration": 0,
    "start_time": "2024-05-18T14:14:08.695Z"
   },
   {
    "duration": 0,
    "start_time": "2024-05-18T14:14:08.710Z"
   },
   {
    "duration": 0,
    "start_time": "2024-05-18T14:14:08.712Z"
   },
   {
    "duration": 0,
    "start_time": "2024-05-18T14:14:08.714Z"
   },
   {
    "duration": 0,
    "start_time": "2024-05-18T14:14:08.716Z"
   },
   {
    "duration": 86,
    "start_time": "2024-05-18T14:17:06.988Z"
   },
   {
    "duration": 1781,
    "start_time": "2024-05-18T14:18:00.819Z"
   },
   {
    "duration": 5,
    "start_time": "2024-05-18T14:18:24.956Z"
   },
   {
    "duration": 6,
    "start_time": "2024-05-18T14:21:43.396Z"
   },
   {
    "duration": 14,
    "start_time": "2024-05-18T14:22:38.054Z"
   },
   {
    "duration": 35,
    "start_time": "2024-05-18T14:23:31.270Z"
   },
   {
    "duration": 32,
    "start_time": "2024-05-18T14:23:39.857Z"
   },
   {
    "duration": 36,
    "start_time": "2024-05-18T14:23:56.881Z"
   },
   {
    "duration": 12,
    "start_time": "2024-05-18T14:24:03.866Z"
   },
   {
    "duration": 52654,
    "start_time": "2024-05-18T14:24:18.926Z"
   },
   {
    "duration": 5,
    "start_time": "2024-05-18T14:25:23.087Z"
   },
   {
    "duration": 616,
    "start_time": "2024-05-18T14:25:58.373Z"
   },
   {
    "duration": 309,
    "start_time": "2024-05-20T11:18:44.846Z"
   },
   {
    "duration": 1129,
    "start_time": "2024-05-20T11:18:54.682Z"
   },
   {
    "duration": 30,
    "start_time": "2024-05-20T11:18:55.814Z"
   },
   {
    "duration": 12,
    "start_time": "2024-05-20T11:18:55.847Z"
   },
   {
    "duration": 15,
    "start_time": "2024-05-20T11:18:55.863Z"
   },
   {
    "duration": 8,
    "start_time": "2024-05-20T11:18:55.881Z"
   },
   {
    "duration": 44,
    "start_time": "2024-05-20T11:18:55.892Z"
   },
   {
    "duration": 6,
    "start_time": "2024-05-20T11:18:55.939Z"
   },
   {
    "duration": 50,
    "start_time": "2024-05-20T11:18:55.948Z"
   },
   {
    "duration": 1867,
    "start_time": "2024-05-20T11:18:56.000Z"
   },
   {
    "duration": 5,
    "start_time": "2024-05-20T11:18:57.872Z"
   },
   {
    "duration": 16,
    "start_time": "2024-05-20T11:18:57.880Z"
   },
   {
    "duration": 40,
    "start_time": "2024-05-20T11:18:57.899Z"
   },
   {
    "duration": 51640,
    "start_time": "2024-05-20T11:18:57.942Z"
   },
   {
    "duration": 8,
    "start_time": "2024-05-20T11:19:49.585Z"
   },
   {
    "duration": 624,
    "start_time": "2024-05-20T11:19:49.597Z"
   },
   {
    "duration": 16,
    "start_time": "2024-05-20T11:29:58.559Z"
   },
   {
    "duration": 409,
    "start_time": "2024-05-20T11:30:39.427Z"
   },
   {
    "duration": 5096,
    "start_time": "2024-05-20T11:31:17.847Z"
   }
  ],
  "kernelspec": {
   "display_name": "Python 3 (ipykernel)",
   "language": "python",
   "name": "python3"
  },
  "language_info": {
   "codemirror_mode": {
    "name": "ipython",
    "version": 3
   },
   "file_extension": ".py",
   "mimetype": "text/x-python",
   "name": "python",
   "nbconvert_exporter": "python",
   "pygments_lexer": "ipython3",
   "version": "3.9.19"
  },
  "toc": {
   "base_numbering": 1,
   "nav_menu": {},
   "number_sections": true,
   "sideBar": true,
   "skip_h1_title": true,
   "title_cell": "Table of Contents",
   "title_sidebar": "Contents",
   "toc_cell": false,
   "toc_position": {
    "height": "calc(100% - 180px)",
    "left": "10px",
    "top": "150px",
    "width": "291.2px"
   },
   "toc_section_display": true,
   "toc_window_display": true
  }
 },
 "nbformat": 4,
 "nbformat_minor": 2
}
