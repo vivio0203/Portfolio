{
 "cells": [
  {
   "cell_type": "markdown",
   "metadata": {},
   "source": [
    "# Contents<a id='back'></a>\n",
    "\n",
    "* [Introduction](#intro)\n",
    "* [Stage 1. Data initialization](#initialization)\n",
    "* [Stage 2. Data overview & preprocessing](#overview)\n",
    "    * [2.1 Contract](#contract)\n",
    "    * [2.2 Internet](#internet)\n",
    "    * [2.3 Personal](#personal)\n",
    "    * [2.4 Phone](#phone)\n",
    "    * [2.5 Merge Datasets](#merge)\n",
    "    * [2.6 Treat Missing Values](#missing)\n",
    "* [Stage 3. EDA](#eda)\n",
    "    * [3.1 Compare: Monthly Charges](#monthly_charge)\n",
    "    * [3.2 Telephone users](#tel_users)\n",
    "    * [3.3 Internet users](#int_users)\n",
    "    * [3.4 Convert to dummies](#dummies)\n",
    "    * [3.5 Scaling due to the imbalance data](#scaling)\n",
    "* [Stage 4. Modeling](#model)\n",
    "     * [4.1 Logistic Regression](#lr)\n",
    "     * [4.2 DecisionTree Classifier](#dtc)\n",
    "     * [4.3 RandomForest Classifier](#rfc)\n",
    "     * [4.4 RandomForest Classifier with Hyperparameter](#rfc_hyper)\n",
    "* [Stage 5. Model Evaluation](#evaluate)\n",
    "* [Conclusion](#end)"
   ]
  },
  {
   "cell_type": "markdown",
   "metadata": {},
   "source": [
    "# Introduction<a id='intro'></a>\n",
    "\n",
    "The telecom operator Interconnect would like to be able to forecast their churn of clients. If it's discovered that a user is planning to leave, they will be offered promotional codes and special plan options. Interconnect's marketing team has collected some of their clientele's personal data, including information about their plans and contracts.\n",
    "\n",
    "While a model for predicting the churn of clientele is in the process of being created, Interconnect's marketing department has started figuring out different ways of retaining clients. You'll need to collect the necessary information to assist them.\n",
    "Compare the monthly payment distribution (MonthlyCharges) of all active clients with the clients who have left. Calculate the following statistics for each group: the average, minimum and maximum values, the median, and the values of the 25% and 75% percentiles. Build distribution histograms based on your findings.\n",
    "\n",
    "Compare the behavior of the clients from the two groups below. For each group, build any two graphs which display:\n",
    " * The share of telephone users\n",
    " * The share of Internet users\n",
    "\n",
    "\n",
    "Clarification: Summary\n",
    "* Target feature: the 'EndDate' column equals 'No'. \n",
    "* Primary metric: AUC-ROC.\n",
    "* Additional metric: Accuracy. \n",
    "\n",
    "In each file, the column customerID contains a unique code assigned to each client. The contract information is valid as of `February 1, 2020`."
   ]
  },
  {
   "cell_type": "markdown",
   "metadata": {},
   "source": [
    "## Stage 1. Data initialization<a id='initialization'></a>"
   ]
  },
  {
   "cell_type": "code",
   "execution_count": 1,
   "metadata": {},
   "outputs": [],
   "source": [
    "import pandas as pd\n",
    "import numpy as np\n",
    "import seaborn as sns\n",
    "import matplotlib.pyplot as plt\n",
    "from sklearn.model_selection import train_test_split"
   ]
  },
  {
   "cell_type": "code",
   "execution_count": 2,
   "metadata": {},
   "outputs": [],
   "source": [
    "df_contract = pd.read_csv(\"contract.csv\")\n",
    "df_internet = pd.read_csv(\"internet_1.csv\")\n",
    "df_personal = pd.read_csv(\"personal.csv\")\n",
    "df_phone = pd.read_csv(\"phone.csv\")"
   ]
  },
  {
   "cell_type": "markdown",
   "metadata": {},
   "source": [
    "## Stage 2. Data overview & preprocessing<a id='overview'></a>"
   ]
  },
  {
   "cell_type": "markdown",
   "metadata": {},
   "source": [
    "### Contract<a id='contract'></a>"
   ]
  },
  {
   "cell_type": "code",
   "execution_count": 3,
   "metadata": {
    "scrolled": true
   },
   "outputs": [
    {
     "name": "stdout",
     "output_type": "stream",
     "text": [
      "<class 'pandas.core.frame.DataFrame'>\n",
      "RangeIndex: 7043 entries, 0 to 7042\n",
      "Data columns (total 8 columns):\n",
      " #   Column            Non-Null Count  Dtype  \n",
      "---  ------            --------------  -----  \n",
      " 0   customerID        7043 non-null   object \n",
      " 1   BeginDate         7043 non-null   object \n",
      " 2   EndDate           7043 non-null   object \n",
      " 3   Type              7043 non-null   object \n",
      " 4   PaperlessBilling  7043 non-null   object \n",
      " 5   PaymentMethod     7043 non-null   object \n",
      " 6   MonthlyCharges    7043 non-null   float64\n",
      " 7   TotalCharges      7043 non-null   object \n",
      "dtypes: float64(1), object(7)\n",
      "memory usage: 440.3+ KB\n"
     ]
    }
   ],
   "source": [
    "df_contract.info()"
   ]
  },
  {
   "cell_type": "code",
   "execution_count": 4,
   "metadata": {
    "scrolled": true
   },
   "outputs": [
    {
     "data": {
      "text/html": [
       "<div>\n",
       "<style scoped>\n",
       "    .dataframe tbody tr th:only-of-type {\n",
       "        vertical-align: middle;\n",
       "    }\n",
       "\n",
       "    .dataframe tbody tr th {\n",
       "        vertical-align: top;\n",
       "    }\n",
       "\n",
       "    .dataframe thead th {\n",
       "        text-align: right;\n",
       "    }\n",
       "</style>\n",
       "<table border=\"1\" class=\"dataframe\">\n",
       "  <thead>\n",
       "    <tr style=\"text-align: right;\">\n",
       "      <th></th>\n",
       "      <th>customerID</th>\n",
       "      <th>BeginDate</th>\n",
       "      <th>EndDate</th>\n",
       "      <th>Type</th>\n",
       "      <th>PaperlessBilling</th>\n",
       "      <th>PaymentMethod</th>\n",
       "      <th>MonthlyCharges</th>\n",
       "      <th>TotalCharges</th>\n",
       "    </tr>\n",
       "  </thead>\n",
       "  <tbody>\n",
       "    <tr>\n",
       "      <th>0</th>\n",
       "      <td>7590-VHVEG</td>\n",
       "      <td>2020-01-01</td>\n",
       "      <td>No</td>\n",
       "      <td>Month-to-month</td>\n",
       "      <td>Yes</td>\n",
       "      <td>Electronic check</td>\n",
       "      <td>29.85</td>\n",
       "      <td>29.85</td>\n",
       "    </tr>\n",
       "    <tr>\n",
       "      <th>1</th>\n",
       "      <td>5575-GNVDE</td>\n",
       "      <td>2017-04-01</td>\n",
       "      <td>No</td>\n",
       "      <td>One year</td>\n",
       "      <td>No</td>\n",
       "      <td>Mailed check</td>\n",
       "      <td>56.95</td>\n",
       "      <td>1889.5</td>\n",
       "    </tr>\n",
       "    <tr>\n",
       "      <th>2</th>\n",
       "      <td>3668-QPYBK</td>\n",
       "      <td>2019-10-01</td>\n",
       "      <td>2019-12-01 00:00:00</td>\n",
       "      <td>Month-to-month</td>\n",
       "      <td>Yes</td>\n",
       "      <td>Mailed check</td>\n",
       "      <td>53.85</td>\n",
       "      <td>108.15</td>\n",
       "    </tr>\n",
       "    <tr>\n",
       "      <th>3</th>\n",
       "      <td>7795-CFOCW</td>\n",
       "      <td>2016-05-01</td>\n",
       "      <td>No</td>\n",
       "      <td>One year</td>\n",
       "      <td>No</td>\n",
       "      <td>Bank transfer (automatic)</td>\n",
       "      <td>42.30</td>\n",
       "      <td>1840.75</td>\n",
       "    </tr>\n",
       "    <tr>\n",
       "      <th>4</th>\n",
       "      <td>9237-HQITU</td>\n",
       "      <td>2019-09-01</td>\n",
       "      <td>2019-11-01 00:00:00</td>\n",
       "      <td>Month-to-month</td>\n",
       "      <td>Yes</td>\n",
       "      <td>Electronic check</td>\n",
       "      <td>70.70</td>\n",
       "      <td>151.65</td>\n",
       "    </tr>\n",
       "  </tbody>\n",
       "</table>\n",
       "</div>"
      ],
      "text/plain": [
       "   customerID   BeginDate              EndDate            Type  \\\n",
       "0  7590-VHVEG  2020-01-01                   No  Month-to-month   \n",
       "1  5575-GNVDE  2017-04-01                   No        One year   \n",
       "2  3668-QPYBK  2019-10-01  2019-12-01 00:00:00  Month-to-month   \n",
       "3  7795-CFOCW  2016-05-01                   No        One year   \n",
       "4  9237-HQITU  2019-09-01  2019-11-01 00:00:00  Month-to-month   \n",
       "\n",
       "  PaperlessBilling              PaymentMethod  MonthlyCharges TotalCharges  \n",
       "0              Yes           Electronic check           29.85        29.85  \n",
       "1               No               Mailed check           56.95       1889.5  \n",
       "2              Yes               Mailed check           53.85       108.15  \n",
       "3               No  Bank transfer (automatic)           42.30      1840.75  \n",
       "4              Yes           Electronic check           70.70       151.65  "
      ]
     },
     "execution_count": 4,
     "metadata": {},
     "output_type": "execute_result"
    }
   ],
   "source": [
    "df_contract.head()"
   ]
  },
  {
   "cell_type": "markdown",
   "metadata": {},
   "source": [
    "There's no missing values in the data.\n",
    "\n",
    "**To improve:**\n",
    "1. Change `TotalCharges` type to float.\n",
    "2. Change `BeginDate` & `EndDate` dtype to datetime.\n",
    "2. Create an 'exited' colum."
   ]
  },
  {
   "cell_type": "code",
   "execution_count": 5,
   "metadata": {
    "scrolled": true
   },
   "outputs": [
    {
     "data": {
      "text/plain": [
       "array(['29.85', '1889.5', '108.15', ..., '346.45', '306.6', '6844.5'],\n",
       "      dtype=object)"
      ]
     },
     "execution_count": 5,
     "metadata": {},
     "output_type": "execute_result"
    }
   ],
   "source": [
    "df_contract['TotalCharges'].unique()"
   ]
  },
  {
   "cell_type": "code",
   "execution_count": 6,
   "metadata": {
    "scrolled": true
   },
   "outputs": [],
   "source": [
    "# Convert TotalCharges to float\n",
    "# There seems to be string '' in the dataset, replace as nan values\n",
    "\n",
    "df_contract['TotalCharges'].replace(' ', np.nan, inplace=True)\n",
    "df_contract['TotalCharges'] = df_contract['TotalCharges'].astype('float')"
   ]
  },
  {
   "cell_type": "code",
   "execution_count": 7,
   "metadata": {
    "scrolled": true
   },
   "outputs": [
    {
     "data": {
      "text/html": [
       "<div>\n",
       "<style scoped>\n",
       "    .dataframe tbody tr th:only-of-type {\n",
       "        vertical-align: middle;\n",
       "    }\n",
       "\n",
       "    .dataframe tbody tr th {\n",
       "        vertical-align: top;\n",
       "    }\n",
       "\n",
       "    .dataframe thead th {\n",
       "        text-align: right;\n",
       "    }\n",
       "</style>\n",
       "<table border=\"1\" class=\"dataframe\">\n",
       "  <thead>\n",
       "    <tr style=\"text-align: right;\">\n",
       "      <th></th>\n",
       "      <th>customerID</th>\n",
       "      <th>BeginDate</th>\n",
       "      <th>EndDate</th>\n",
       "      <th>Type</th>\n",
       "      <th>PaperlessBilling</th>\n",
       "      <th>PaymentMethod</th>\n",
       "      <th>MonthlyCharges</th>\n",
       "      <th>TotalCharges</th>\n",
       "    </tr>\n",
       "  </thead>\n",
       "  <tbody>\n",
       "    <tr>\n",
       "      <th>488</th>\n",
       "      <td>4472-LVYGI</td>\n",
       "      <td>2020-02-01</td>\n",
       "      <td>No</td>\n",
       "      <td>Two year</td>\n",
       "      <td>Yes</td>\n",
       "      <td>Bank transfer (automatic)</td>\n",
       "      <td>52.55</td>\n",
       "      <td>NaN</td>\n",
       "    </tr>\n",
       "    <tr>\n",
       "      <th>753</th>\n",
       "      <td>3115-CZMZD</td>\n",
       "      <td>2020-02-01</td>\n",
       "      <td>No</td>\n",
       "      <td>Two year</td>\n",
       "      <td>No</td>\n",
       "      <td>Mailed check</td>\n",
       "      <td>20.25</td>\n",
       "      <td>NaN</td>\n",
       "    </tr>\n",
       "    <tr>\n",
       "      <th>936</th>\n",
       "      <td>5709-LVOEQ</td>\n",
       "      <td>2020-02-01</td>\n",
       "      <td>No</td>\n",
       "      <td>Two year</td>\n",
       "      <td>No</td>\n",
       "      <td>Mailed check</td>\n",
       "      <td>80.85</td>\n",
       "      <td>NaN</td>\n",
       "    </tr>\n",
       "    <tr>\n",
       "      <th>1082</th>\n",
       "      <td>4367-NUYAO</td>\n",
       "      <td>2020-02-01</td>\n",
       "      <td>No</td>\n",
       "      <td>Two year</td>\n",
       "      <td>No</td>\n",
       "      <td>Mailed check</td>\n",
       "      <td>25.75</td>\n",
       "      <td>NaN</td>\n",
       "    </tr>\n",
       "    <tr>\n",
       "      <th>1340</th>\n",
       "      <td>1371-DWPAZ</td>\n",
       "      <td>2020-02-01</td>\n",
       "      <td>No</td>\n",
       "      <td>Two year</td>\n",
       "      <td>No</td>\n",
       "      <td>Credit card (automatic)</td>\n",
       "      <td>56.05</td>\n",
       "      <td>NaN</td>\n",
       "    </tr>\n",
       "    <tr>\n",
       "      <th>3331</th>\n",
       "      <td>7644-OMVMY</td>\n",
       "      <td>2020-02-01</td>\n",
       "      <td>No</td>\n",
       "      <td>Two year</td>\n",
       "      <td>No</td>\n",
       "      <td>Mailed check</td>\n",
       "      <td>19.85</td>\n",
       "      <td>NaN</td>\n",
       "    </tr>\n",
       "    <tr>\n",
       "      <th>3826</th>\n",
       "      <td>3213-VVOLG</td>\n",
       "      <td>2020-02-01</td>\n",
       "      <td>No</td>\n",
       "      <td>Two year</td>\n",
       "      <td>No</td>\n",
       "      <td>Mailed check</td>\n",
       "      <td>25.35</td>\n",
       "      <td>NaN</td>\n",
       "    </tr>\n",
       "    <tr>\n",
       "      <th>4380</th>\n",
       "      <td>2520-SGTTA</td>\n",
       "      <td>2020-02-01</td>\n",
       "      <td>No</td>\n",
       "      <td>Two year</td>\n",
       "      <td>No</td>\n",
       "      <td>Mailed check</td>\n",
       "      <td>20.00</td>\n",
       "      <td>NaN</td>\n",
       "    </tr>\n",
       "    <tr>\n",
       "      <th>5218</th>\n",
       "      <td>2923-ARZLG</td>\n",
       "      <td>2020-02-01</td>\n",
       "      <td>No</td>\n",
       "      <td>One year</td>\n",
       "      <td>Yes</td>\n",
       "      <td>Mailed check</td>\n",
       "      <td>19.70</td>\n",
       "      <td>NaN</td>\n",
       "    </tr>\n",
       "    <tr>\n",
       "      <th>6670</th>\n",
       "      <td>4075-WKNIU</td>\n",
       "      <td>2020-02-01</td>\n",
       "      <td>No</td>\n",
       "      <td>Two year</td>\n",
       "      <td>No</td>\n",
       "      <td>Mailed check</td>\n",
       "      <td>73.35</td>\n",
       "      <td>NaN</td>\n",
       "    </tr>\n",
       "    <tr>\n",
       "      <th>6754</th>\n",
       "      <td>2775-SEFEE</td>\n",
       "      <td>2020-02-01</td>\n",
       "      <td>No</td>\n",
       "      <td>Two year</td>\n",
       "      <td>Yes</td>\n",
       "      <td>Bank transfer (automatic)</td>\n",
       "      <td>61.90</td>\n",
       "      <td>NaN</td>\n",
       "    </tr>\n",
       "  </tbody>\n",
       "</table>\n",
       "</div>"
      ],
      "text/plain": [
       "      customerID   BeginDate EndDate      Type PaperlessBilling  \\\n",
       "488   4472-LVYGI  2020-02-01      No  Two year              Yes   \n",
       "753   3115-CZMZD  2020-02-01      No  Two year               No   \n",
       "936   5709-LVOEQ  2020-02-01      No  Two year               No   \n",
       "1082  4367-NUYAO  2020-02-01      No  Two year               No   \n",
       "1340  1371-DWPAZ  2020-02-01      No  Two year               No   \n",
       "3331  7644-OMVMY  2020-02-01      No  Two year               No   \n",
       "3826  3213-VVOLG  2020-02-01      No  Two year               No   \n",
       "4380  2520-SGTTA  2020-02-01      No  Two year               No   \n",
       "5218  2923-ARZLG  2020-02-01      No  One year              Yes   \n",
       "6670  4075-WKNIU  2020-02-01      No  Two year               No   \n",
       "6754  2775-SEFEE  2020-02-01      No  Two year              Yes   \n",
       "\n",
       "                  PaymentMethod  MonthlyCharges  TotalCharges  \n",
       "488   Bank transfer (automatic)           52.55           NaN  \n",
       "753                Mailed check           20.25           NaN  \n",
       "936                Mailed check           80.85           NaN  \n",
       "1082               Mailed check           25.75           NaN  \n",
       "1340    Credit card (automatic)           56.05           NaN  \n",
       "3331               Mailed check           19.85           NaN  \n",
       "3826               Mailed check           25.35           NaN  \n",
       "4380               Mailed check           20.00           NaN  \n",
       "5218               Mailed check           19.70           NaN  \n",
       "6670               Mailed check           73.35           NaN  \n",
       "6754  Bank transfer (automatic)           61.90           NaN  "
      ]
     },
     "execution_count": 7,
     "metadata": {},
     "output_type": "execute_result"
    }
   ],
   "source": [
    "# Detect missing values in TotalCharges\n",
    "\n",
    "df_contract[df_contract['TotalCharges'].isna()]"
   ]
  },
  {
   "cell_type": "code",
   "execution_count": 8,
   "metadata": {},
   "outputs": [],
   "source": [
    "# Replace missing values with 0 since the customer only register recently\n",
    "\n",
    "df_contract['TotalCharges'].fillna(0, inplace=True)"
   ]
  },
  {
   "cell_type": "code",
   "execution_count": 9,
   "metadata": {},
   "outputs": [
    {
     "data": {
      "text/plain": [
       "0"
      ]
     },
     "execution_count": 9,
     "metadata": {},
     "output_type": "execute_result"
    }
   ],
   "source": [
    "# Check\n",
    "\n",
    "df_contract['TotalCharges'].isna().sum()"
   ]
  },
  {
   "cell_type": "code",
   "execution_count": 10,
   "metadata": {},
   "outputs": [],
   "source": [
    "# Create exited column\n",
    "\n",
    "df_contract['exited'] = df_contract['EndDate'].apply(lambda x: 0 if x == 'No' else 1)"
   ]
  },
  {
   "cell_type": "code",
   "execution_count": 11,
   "metadata": {},
   "outputs": [],
   "source": [
    "# Change 'No' to date & split the time value from the date\n",
    "\n",
    "def process_end_date(end_date):\n",
    "    if end_date == 'No':\n",
    "        return '2020-02-01'\n",
    "    elif ' 00:00:00' in end_date:\n",
    "        return end_date.split(' ')[0]\n",
    "    return end_date"
   ]
  },
  {
   "cell_type": "code",
   "execution_count": 12,
   "metadata": {},
   "outputs": [],
   "source": [
    "# Apply function\n",
    "\n",
    "df_contract['EndDate'] = df_contract['EndDate'].apply(process_end_date)"
   ]
  },
  {
   "cell_type": "code",
   "execution_count": 13,
   "metadata": {},
   "outputs": [],
   "source": [
    "# Convert date column to datetime format\n",
    "\n",
    "df_contract['BeginDate'] = pd.to_datetime(df_contract['BeginDate'])\n",
    "df_contract['EndDate'] = pd.to_datetime(df_contract['EndDate'])"
   ]
  },
  {
   "cell_type": "code",
   "execution_count": 14,
   "metadata": {
    "scrolled": true
   },
   "outputs": [
    {
     "name": "stdout",
     "output_type": "stream",
     "text": [
      "<class 'pandas.core.frame.DataFrame'>\n",
      "RangeIndex: 7043 entries, 0 to 7042\n",
      "Data columns (total 9 columns):\n",
      " #   Column            Non-Null Count  Dtype         \n",
      "---  ------            --------------  -----         \n",
      " 0   customerID        7043 non-null   object        \n",
      " 1   BeginDate         7043 non-null   datetime64[ns]\n",
      " 2   EndDate           7043 non-null   datetime64[ns]\n",
      " 3   Type              7043 non-null   object        \n",
      " 4   PaperlessBilling  7043 non-null   object        \n",
      " 5   PaymentMethod     7043 non-null   object        \n",
      " 6   MonthlyCharges    7043 non-null   float64       \n",
      " 7   TotalCharges      7043 non-null   float64       \n",
      " 8   exited            7043 non-null   int64         \n",
      "dtypes: datetime64[ns](2), float64(2), int64(1), object(4)\n",
      "memory usage: 495.3+ KB\n"
     ]
    }
   ],
   "source": [
    "df_contract.info()"
   ]
  },
  {
   "cell_type": "code",
   "execution_count": 15,
   "metadata": {},
   "outputs": [
    {
     "data": {
      "text/html": [
       "<div>\n",
       "<style scoped>\n",
       "    .dataframe tbody tr th:only-of-type {\n",
       "        vertical-align: middle;\n",
       "    }\n",
       "\n",
       "    .dataframe tbody tr th {\n",
       "        vertical-align: top;\n",
       "    }\n",
       "\n",
       "    .dataframe thead th {\n",
       "        text-align: right;\n",
       "    }\n",
       "</style>\n",
       "<table border=\"1\" class=\"dataframe\">\n",
       "  <thead>\n",
       "    <tr style=\"text-align: right;\">\n",
       "      <th></th>\n",
       "      <th>customerID</th>\n",
       "      <th>BeginDate</th>\n",
       "      <th>EndDate</th>\n",
       "      <th>Type</th>\n",
       "      <th>PaperlessBilling</th>\n",
       "      <th>PaymentMethod</th>\n",
       "      <th>MonthlyCharges</th>\n",
       "      <th>TotalCharges</th>\n",
       "      <th>exited</th>\n",
       "    </tr>\n",
       "  </thead>\n",
       "  <tbody>\n",
       "    <tr>\n",
       "      <th>0</th>\n",
       "      <td>7590-VHVEG</td>\n",
       "      <td>2020-01-01</td>\n",
       "      <td>2020-02-01</td>\n",
       "      <td>Month-to-month</td>\n",
       "      <td>Yes</td>\n",
       "      <td>Electronic check</td>\n",
       "      <td>29.85</td>\n",
       "      <td>29.85</td>\n",
       "      <td>0</td>\n",
       "    </tr>\n",
       "    <tr>\n",
       "      <th>1</th>\n",
       "      <td>5575-GNVDE</td>\n",
       "      <td>2017-04-01</td>\n",
       "      <td>2020-02-01</td>\n",
       "      <td>One year</td>\n",
       "      <td>No</td>\n",
       "      <td>Mailed check</td>\n",
       "      <td>56.95</td>\n",
       "      <td>1889.50</td>\n",
       "      <td>0</td>\n",
       "    </tr>\n",
       "    <tr>\n",
       "      <th>2</th>\n",
       "      <td>3668-QPYBK</td>\n",
       "      <td>2019-10-01</td>\n",
       "      <td>2019-12-01</td>\n",
       "      <td>Month-to-month</td>\n",
       "      <td>Yes</td>\n",
       "      <td>Mailed check</td>\n",
       "      <td>53.85</td>\n",
       "      <td>108.15</td>\n",
       "      <td>1</td>\n",
       "    </tr>\n",
       "    <tr>\n",
       "      <th>3</th>\n",
       "      <td>7795-CFOCW</td>\n",
       "      <td>2016-05-01</td>\n",
       "      <td>2020-02-01</td>\n",
       "      <td>One year</td>\n",
       "      <td>No</td>\n",
       "      <td>Bank transfer (automatic)</td>\n",
       "      <td>42.30</td>\n",
       "      <td>1840.75</td>\n",
       "      <td>0</td>\n",
       "    </tr>\n",
       "    <tr>\n",
       "      <th>4</th>\n",
       "      <td>9237-HQITU</td>\n",
       "      <td>2019-09-01</td>\n",
       "      <td>2019-11-01</td>\n",
       "      <td>Month-to-month</td>\n",
       "      <td>Yes</td>\n",
       "      <td>Electronic check</td>\n",
       "      <td>70.70</td>\n",
       "      <td>151.65</td>\n",
       "      <td>1</td>\n",
       "    </tr>\n",
       "  </tbody>\n",
       "</table>\n",
       "</div>"
      ],
      "text/plain": [
       "   customerID  BeginDate    EndDate            Type PaperlessBilling  \\\n",
       "0  7590-VHVEG 2020-01-01 2020-02-01  Month-to-month              Yes   \n",
       "1  5575-GNVDE 2017-04-01 2020-02-01        One year               No   \n",
       "2  3668-QPYBK 2019-10-01 2019-12-01  Month-to-month              Yes   \n",
       "3  7795-CFOCW 2016-05-01 2020-02-01        One year               No   \n",
       "4  9237-HQITU 2019-09-01 2019-11-01  Month-to-month              Yes   \n",
       "\n",
       "               PaymentMethod  MonthlyCharges  TotalCharges  exited  \n",
       "0           Electronic check           29.85         29.85       0  \n",
       "1               Mailed check           56.95       1889.50       0  \n",
       "2               Mailed check           53.85        108.15       1  \n",
       "3  Bank transfer (automatic)           42.30       1840.75       0  \n",
       "4           Electronic check           70.70        151.65       1  "
      ]
     },
     "execution_count": 15,
     "metadata": {},
     "output_type": "execute_result"
    }
   ],
   "source": [
    "df_contract.head()"
   ]
  },
  {
   "cell_type": "code",
   "execution_count": 16,
   "metadata": {},
   "outputs": [],
   "source": [
    "# Add 'duration' column\n",
    "\n",
    "df_contract['duration'] = (df_contract['EndDate']- df_contract['BeginDate']).dt.days"
   ]
  },
  {
   "cell_type": "code",
   "execution_count": 17,
   "metadata": {
    "scrolled": false
   },
   "outputs": [
    {
     "name": "stdout",
     "output_type": "stream",
     "text": [
      "<class 'pandas.core.frame.DataFrame'>\n",
      "RangeIndex: 7043 entries, 0 to 7042\n",
      "Data columns (total 10 columns):\n",
      " #   Column            Non-Null Count  Dtype         \n",
      "---  ------            --------------  -----         \n",
      " 0   customerID        7043 non-null   object        \n",
      " 1   BeginDate         7043 non-null   datetime64[ns]\n",
      " 2   EndDate           7043 non-null   datetime64[ns]\n",
      " 3   Type              7043 non-null   object        \n",
      " 4   PaperlessBilling  7043 non-null   object        \n",
      " 5   PaymentMethod     7043 non-null   object        \n",
      " 6   MonthlyCharges    7043 non-null   float64       \n",
      " 7   TotalCharges      7043 non-null   float64       \n",
      " 8   exited            7043 non-null   int64         \n",
      " 9   duration          7043 non-null   int64         \n",
      "dtypes: datetime64[ns](2), float64(2), int64(2), object(4)\n",
      "memory usage: 550.4+ KB\n"
     ]
    }
   ],
   "source": [
    "df_contract.info()"
   ]
  },
  {
   "cell_type": "code",
   "execution_count": 18,
   "metadata": {
    "scrolled": false
   },
   "outputs": [
    {
     "name": "stdout",
     "output_type": "stream",
     "text": [
      "<class 'pandas.core.frame.DataFrame'>\n",
      "RangeIndex: 7043 entries, 0 to 7042\n",
      "Data columns (total 8 columns):\n",
      " #   Column            Non-Null Count  Dtype  \n",
      "---  ------            --------------  -----  \n",
      " 0   customerID        7043 non-null   object \n",
      " 1   Type              7043 non-null   object \n",
      " 2   PaperlessBilling  7043 non-null   object \n",
      " 3   PaymentMethod     7043 non-null   object \n",
      " 4   MonthlyCharges    7043 non-null   float64\n",
      " 5   TotalCharges      7043 non-null   float64\n",
      " 6   exited            7043 non-null   int64  \n",
      " 7   duration          7043 non-null   int64  \n",
      "dtypes: float64(2), int64(2), object(4)\n",
      "memory usage: 440.3+ KB\n"
     ]
    }
   ],
   "source": [
    "# Drop unnecessary columns\n",
    "\n",
    "df_contract1 = df_contract.drop(['BeginDate','EndDate'], axis =1)\n",
    "df_contract1.info()"
   ]
  },
  {
   "cell_type": "markdown",
   "metadata": {},
   "source": [
    "### Internet<a id='internet'></a>"
   ]
  },
  {
   "cell_type": "code",
   "execution_count": 19,
   "metadata": {},
   "outputs": [
    {
     "name": "stdout",
     "output_type": "stream",
     "text": [
      "<class 'pandas.core.frame.DataFrame'>\n",
      "RangeIndex: 5517 entries, 0 to 5516\n",
      "Data columns (total 8 columns):\n",
      " #   Column            Non-Null Count  Dtype \n",
      "---  ------            --------------  ----- \n",
      " 0   customerID        5517 non-null   object\n",
      " 1   InternetService   5517 non-null   object\n",
      " 2   OnlineSecurity    5517 non-null   object\n",
      " 3   OnlineBackup      5517 non-null   object\n",
      " 4   DeviceProtection  5517 non-null   object\n",
      " 5   TechSupport       5517 non-null   object\n",
      " 6   StreamingTV       5517 non-null   object\n",
      " 7   StreamingMovies   5517 non-null   object\n",
      "dtypes: object(8)\n",
      "memory usage: 344.9+ KB\n"
     ]
    }
   ],
   "source": [
    "df_internet.info()"
   ]
  },
  {
   "cell_type": "code",
   "execution_count": 20,
   "metadata": {
    "scrolled": false
   },
   "outputs": [
    {
     "data": {
      "text/html": [
       "<div>\n",
       "<style scoped>\n",
       "    .dataframe tbody tr th:only-of-type {\n",
       "        vertical-align: middle;\n",
       "    }\n",
       "\n",
       "    .dataframe tbody tr th {\n",
       "        vertical-align: top;\n",
       "    }\n",
       "\n",
       "    .dataframe thead th {\n",
       "        text-align: right;\n",
       "    }\n",
       "</style>\n",
       "<table border=\"1\" class=\"dataframe\">\n",
       "  <thead>\n",
       "    <tr style=\"text-align: right;\">\n",
       "      <th></th>\n",
       "      <th>customerID</th>\n",
       "      <th>InternetService</th>\n",
       "      <th>OnlineSecurity</th>\n",
       "      <th>OnlineBackup</th>\n",
       "      <th>DeviceProtection</th>\n",
       "      <th>TechSupport</th>\n",
       "      <th>StreamingTV</th>\n",
       "      <th>StreamingMovies</th>\n",
       "    </tr>\n",
       "  </thead>\n",
       "  <tbody>\n",
       "    <tr>\n",
       "      <th>0</th>\n",
       "      <td>7590-VHVEG</td>\n",
       "      <td>DSL</td>\n",
       "      <td>No</td>\n",
       "      <td>Yes</td>\n",
       "      <td>No</td>\n",
       "      <td>No</td>\n",
       "      <td>No</td>\n",
       "      <td>No</td>\n",
       "    </tr>\n",
       "    <tr>\n",
       "      <th>1</th>\n",
       "      <td>5575-GNVDE</td>\n",
       "      <td>DSL</td>\n",
       "      <td>Yes</td>\n",
       "      <td>No</td>\n",
       "      <td>Yes</td>\n",
       "      <td>No</td>\n",
       "      <td>No</td>\n",
       "      <td>No</td>\n",
       "    </tr>\n",
       "    <tr>\n",
       "      <th>2</th>\n",
       "      <td>3668-QPYBK</td>\n",
       "      <td>DSL</td>\n",
       "      <td>Yes</td>\n",
       "      <td>Yes</td>\n",
       "      <td>No</td>\n",
       "      <td>No</td>\n",
       "      <td>No</td>\n",
       "      <td>No</td>\n",
       "    </tr>\n",
       "    <tr>\n",
       "      <th>3</th>\n",
       "      <td>7795-CFOCW</td>\n",
       "      <td>DSL</td>\n",
       "      <td>Yes</td>\n",
       "      <td>No</td>\n",
       "      <td>Yes</td>\n",
       "      <td>Yes</td>\n",
       "      <td>No</td>\n",
       "      <td>No</td>\n",
       "    </tr>\n",
       "    <tr>\n",
       "      <th>4</th>\n",
       "      <td>9237-HQITU</td>\n",
       "      <td>Fiber optic</td>\n",
       "      <td>No</td>\n",
       "      <td>No</td>\n",
       "      <td>No</td>\n",
       "      <td>No</td>\n",
       "      <td>No</td>\n",
       "      <td>No</td>\n",
       "    </tr>\n",
       "  </tbody>\n",
       "</table>\n",
       "</div>"
      ],
      "text/plain": [
       "   customerID InternetService OnlineSecurity OnlineBackup DeviceProtection  \\\n",
       "0  7590-VHVEG             DSL             No          Yes               No   \n",
       "1  5575-GNVDE             DSL            Yes           No              Yes   \n",
       "2  3668-QPYBK             DSL            Yes          Yes               No   \n",
       "3  7795-CFOCW             DSL            Yes           No              Yes   \n",
       "4  9237-HQITU     Fiber optic             No           No               No   \n",
       "\n",
       "  TechSupport StreamingTV StreamingMovies  \n",
       "0          No          No              No  \n",
       "1          No          No              No  \n",
       "2          No          No              No  \n",
       "3         Yes          No              No  \n",
       "4          No          No              No  "
      ]
     },
     "execution_count": 20,
     "metadata": {},
     "output_type": "execute_result"
    }
   ],
   "source": [
    "df_internet.head()"
   ]
  },
  {
   "cell_type": "markdown",
   "metadata": {},
   "source": [
    "> There's no missing values in the data. This dataset consist mostly of binary data.\n"
   ]
  },
  {
   "cell_type": "markdown",
   "metadata": {},
   "source": [
    "### Personal<a id='personal'></a>"
   ]
  },
  {
   "cell_type": "code",
   "execution_count": 21,
   "metadata": {
    "scrolled": true
   },
   "outputs": [
    {
     "name": "stdout",
     "output_type": "stream",
     "text": [
      "<class 'pandas.core.frame.DataFrame'>\n",
      "RangeIndex: 7043 entries, 0 to 7042\n",
      "Data columns (total 5 columns):\n",
      " #   Column         Non-Null Count  Dtype \n",
      "---  ------         --------------  ----- \n",
      " 0   customerID     7043 non-null   object\n",
      " 1   gender         7043 non-null   object\n",
      " 2   SeniorCitizen  7043 non-null   int64 \n",
      " 3   Partner        7043 non-null   object\n",
      " 4   Dependents     7043 non-null   object\n",
      "dtypes: int64(1), object(4)\n",
      "memory usage: 275.2+ KB\n"
     ]
    }
   ],
   "source": [
    "df_personal.info()"
   ]
  },
  {
   "cell_type": "code",
   "execution_count": 22,
   "metadata": {
    "scrolled": false
   },
   "outputs": [
    {
     "data": {
      "text/html": [
       "<div>\n",
       "<style scoped>\n",
       "    .dataframe tbody tr th:only-of-type {\n",
       "        vertical-align: middle;\n",
       "    }\n",
       "\n",
       "    .dataframe tbody tr th {\n",
       "        vertical-align: top;\n",
       "    }\n",
       "\n",
       "    .dataframe thead th {\n",
       "        text-align: right;\n",
       "    }\n",
       "</style>\n",
       "<table border=\"1\" class=\"dataframe\">\n",
       "  <thead>\n",
       "    <tr style=\"text-align: right;\">\n",
       "      <th></th>\n",
       "      <th>customerID</th>\n",
       "      <th>gender</th>\n",
       "      <th>SeniorCitizen</th>\n",
       "      <th>Partner</th>\n",
       "      <th>Dependents</th>\n",
       "    </tr>\n",
       "  </thead>\n",
       "  <tbody>\n",
       "    <tr>\n",
       "      <th>0</th>\n",
       "      <td>7590-VHVEG</td>\n",
       "      <td>Female</td>\n",
       "      <td>0</td>\n",
       "      <td>Yes</td>\n",
       "      <td>No</td>\n",
       "    </tr>\n",
       "    <tr>\n",
       "      <th>1</th>\n",
       "      <td>5575-GNVDE</td>\n",
       "      <td>Male</td>\n",
       "      <td>0</td>\n",
       "      <td>No</td>\n",
       "      <td>No</td>\n",
       "    </tr>\n",
       "    <tr>\n",
       "      <th>2</th>\n",
       "      <td>3668-QPYBK</td>\n",
       "      <td>Male</td>\n",
       "      <td>0</td>\n",
       "      <td>No</td>\n",
       "      <td>No</td>\n",
       "    </tr>\n",
       "    <tr>\n",
       "      <th>3</th>\n",
       "      <td>7795-CFOCW</td>\n",
       "      <td>Male</td>\n",
       "      <td>0</td>\n",
       "      <td>No</td>\n",
       "      <td>No</td>\n",
       "    </tr>\n",
       "    <tr>\n",
       "      <th>4</th>\n",
       "      <td>9237-HQITU</td>\n",
       "      <td>Female</td>\n",
       "      <td>0</td>\n",
       "      <td>No</td>\n",
       "      <td>No</td>\n",
       "    </tr>\n",
       "  </tbody>\n",
       "</table>\n",
       "</div>"
      ],
      "text/plain": [
       "   customerID  gender  SeniorCitizen Partner Dependents\n",
       "0  7590-VHVEG  Female              0     Yes         No\n",
       "1  5575-GNVDE    Male              0      No         No\n",
       "2  3668-QPYBK    Male              0      No         No\n",
       "3  7795-CFOCW    Male              0      No         No\n",
       "4  9237-HQITU  Female              0      No         No"
      ]
     },
     "execution_count": 22,
     "metadata": {},
     "output_type": "execute_result"
    }
   ],
   "source": [
    "df_personal.head()"
   ]
  },
  {
   "cell_type": "markdown",
   "metadata": {},
   "source": [
    "> There's no missing values in the data. This dataset consist mostly of binary data."
   ]
  },
  {
   "cell_type": "markdown",
   "metadata": {},
   "source": [
    "### Phone<a id='phone'></a>"
   ]
  },
  {
   "cell_type": "code",
   "execution_count": 23,
   "metadata": {},
   "outputs": [
    {
     "name": "stdout",
     "output_type": "stream",
     "text": [
      "<class 'pandas.core.frame.DataFrame'>\n",
      "RangeIndex: 6361 entries, 0 to 6360\n",
      "Data columns (total 2 columns):\n",
      " #   Column         Non-Null Count  Dtype \n",
      "---  ------         --------------  ----- \n",
      " 0   customerID     6361 non-null   object\n",
      " 1   MultipleLines  6361 non-null   object\n",
      "dtypes: object(2)\n",
      "memory usage: 99.5+ KB\n"
     ]
    }
   ],
   "source": [
    "df_phone.info()"
   ]
  },
  {
   "cell_type": "code",
   "execution_count": 24,
   "metadata": {},
   "outputs": [
    {
     "data": {
      "text/html": [
       "<div>\n",
       "<style scoped>\n",
       "    .dataframe tbody tr th:only-of-type {\n",
       "        vertical-align: middle;\n",
       "    }\n",
       "\n",
       "    .dataframe tbody tr th {\n",
       "        vertical-align: top;\n",
       "    }\n",
       "\n",
       "    .dataframe thead th {\n",
       "        text-align: right;\n",
       "    }\n",
       "</style>\n",
       "<table border=\"1\" class=\"dataframe\">\n",
       "  <thead>\n",
       "    <tr style=\"text-align: right;\">\n",
       "      <th></th>\n",
       "      <th>customerID</th>\n",
       "      <th>MultipleLines</th>\n",
       "    </tr>\n",
       "  </thead>\n",
       "  <tbody>\n",
       "    <tr>\n",
       "      <th>0</th>\n",
       "      <td>5575-GNVDE</td>\n",
       "      <td>No</td>\n",
       "    </tr>\n",
       "    <tr>\n",
       "      <th>1</th>\n",
       "      <td>3668-QPYBK</td>\n",
       "      <td>No</td>\n",
       "    </tr>\n",
       "    <tr>\n",
       "      <th>2</th>\n",
       "      <td>9237-HQITU</td>\n",
       "      <td>No</td>\n",
       "    </tr>\n",
       "    <tr>\n",
       "      <th>3</th>\n",
       "      <td>9305-CDSKC</td>\n",
       "      <td>Yes</td>\n",
       "    </tr>\n",
       "    <tr>\n",
       "      <th>4</th>\n",
       "      <td>1452-KIOVK</td>\n",
       "      <td>Yes</td>\n",
       "    </tr>\n",
       "  </tbody>\n",
       "</table>\n",
       "</div>"
      ],
      "text/plain": [
       "   customerID MultipleLines\n",
       "0  5575-GNVDE            No\n",
       "1  3668-QPYBK            No\n",
       "2  9237-HQITU            No\n",
       "3  9305-CDSKC           Yes\n",
       "4  1452-KIOVK           Yes"
      ]
     },
     "execution_count": 24,
     "metadata": {},
     "output_type": "execute_result"
    }
   ],
   "source": [
    "df_phone.head()"
   ]
  },
  {
   "cell_type": "markdown",
   "metadata": {},
   "source": [
    "> There's no missing values in the data. This dataset consist of binary data as well."
   ]
  },
  {
   "cell_type": "markdown",
   "metadata": {},
   "source": [
    "### Merge Datasets<a id='merge'></a>"
   ]
  },
  {
   "cell_type": "code",
   "execution_count": 25,
   "metadata": {
    "scrolled": true
   },
   "outputs": [
    {
     "data": {
      "text/html": [
       "<div>\n",
       "<style scoped>\n",
       "    .dataframe tbody tr th:only-of-type {\n",
       "        vertical-align: middle;\n",
       "    }\n",
       "\n",
       "    .dataframe tbody tr th {\n",
       "        vertical-align: top;\n",
       "    }\n",
       "\n",
       "    .dataframe thead th {\n",
       "        text-align: right;\n",
       "    }\n",
       "</style>\n",
       "<table border=\"1\" class=\"dataframe\">\n",
       "  <thead>\n",
       "    <tr style=\"text-align: right;\">\n",
       "      <th></th>\n",
       "      <th>customerID</th>\n",
       "      <th>gender</th>\n",
       "      <th>SeniorCitizen</th>\n",
       "      <th>Partner</th>\n",
       "      <th>Dependents</th>\n",
       "      <th>Type</th>\n",
       "      <th>PaperlessBilling</th>\n",
       "      <th>PaymentMethod</th>\n",
       "      <th>MonthlyCharges</th>\n",
       "      <th>TotalCharges</th>\n",
       "      <th>exited</th>\n",
       "      <th>duration</th>\n",
       "      <th>InternetService</th>\n",
       "      <th>OnlineSecurity</th>\n",
       "      <th>OnlineBackup</th>\n",
       "      <th>DeviceProtection</th>\n",
       "      <th>TechSupport</th>\n",
       "      <th>StreamingTV</th>\n",
       "      <th>StreamingMovies</th>\n",
       "      <th>MultipleLines</th>\n",
       "    </tr>\n",
       "  </thead>\n",
       "  <tbody>\n",
       "    <tr>\n",
       "      <th>0</th>\n",
       "      <td>7590-VHVEG</td>\n",
       "      <td>Female</td>\n",
       "      <td>0</td>\n",
       "      <td>Yes</td>\n",
       "      <td>No</td>\n",
       "      <td>Month-to-month</td>\n",
       "      <td>Yes</td>\n",
       "      <td>Electronic check</td>\n",
       "      <td>29.85</td>\n",
       "      <td>29.85</td>\n",
       "      <td>0</td>\n",
       "      <td>31</td>\n",
       "      <td>DSL</td>\n",
       "      <td>No</td>\n",
       "      <td>Yes</td>\n",
       "      <td>No</td>\n",
       "      <td>No</td>\n",
       "      <td>No</td>\n",
       "      <td>No</td>\n",
       "      <td>NaN</td>\n",
       "    </tr>\n",
       "    <tr>\n",
       "      <th>1</th>\n",
       "      <td>5575-GNVDE</td>\n",
       "      <td>Male</td>\n",
       "      <td>0</td>\n",
       "      <td>No</td>\n",
       "      <td>No</td>\n",
       "      <td>One year</td>\n",
       "      <td>No</td>\n",
       "      <td>Mailed check</td>\n",
       "      <td>56.95</td>\n",
       "      <td>1889.50</td>\n",
       "      <td>0</td>\n",
       "      <td>1036</td>\n",
       "      <td>DSL</td>\n",
       "      <td>Yes</td>\n",
       "      <td>No</td>\n",
       "      <td>Yes</td>\n",
       "      <td>No</td>\n",
       "      <td>No</td>\n",
       "      <td>No</td>\n",
       "      <td>No</td>\n",
       "    </tr>\n",
       "    <tr>\n",
       "      <th>2</th>\n",
       "      <td>3668-QPYBK</td>\n",
       "      <td>Male</td>\n",
       "      <td>0</td>\n",
       "      <td>No</td>\n",
       "      <td>No</td>\n",
       "      <td>Month-to-month</td>\n",
       "      <td>Yes</td>\n",
       "      <td>Mailed check</td>\n",
       "      <td>53.85</td>\n",
       "      <td>108.15</td>\n",
       "      <td>1</td>\n",
       "      <td>61</td>\n",
       "      <td>DSL</td>\n",
       "      <td>Yes</td>\n",
       "      <td>Yes</td>\n",
       "      <td>No</td>\n",
       "      <td>No</td>\n",
       "      <td>No</td>\n",
       "      <td>No</td>\n",
       "      <td>No</td>\n",
       "    </tr>\n",
       "    <tr>\n",
       "      <th>3</th>\n",
       "      <td>7795-CFOCW</td>\n",
       "      <td>Male</td>\n",
       "      <td>0</td>\n",
       "      <td>No</td>\n",
       "      <td>No</td>\n",
       "      <td>One year</td>\n",
       "      <td>No</td>\n",
       "      <td>Bank transfer (automatic)</td>\n",
       "      <td>42.30</td>\n",
       "      <td>1840.75</td>\n",
       "      <td>0</td>\n",
       "      <td>1371</td>\n",
       "      <td>DSL</td>\n",
       "      <td>Yes</td>\n",
       "      <td>No</td>\n",
       "      <td>Yes</td>\n",
       "      <td>Yes</td>\n",
       "      <td>No</td>\n",
       "      <td>No</td>\n",
       "      <td>NaN</td>\n",
       "    </tr>\n",
       "    <tr>\n",
       "      <th>4</th>\n",
       "      <td>9237-HQITU</td>\n",
       "      <td>Female</td>\n",
       "      <td>0</td>\n",
       "      <td>No</td>\n",
       "      <td>No</td>\n",
       "      <td>Month-to-month</td>\n",
       "      <td>Yes</td>\n",
       "      <td>Electronic check</td>\n",
       "      <td>70.70</td>\n",
       "      <td>151.65</td>\n",
       "      <td>1</td>\n",
       "      <td>61</td>\n",
       "      <td>Fiber optic</td>\n",
       "      <td>No</td>\n",
       "      <td>No</td>\n",
       "      <td>No</td>\n",
       "      <td>No</td>\n",
       "      <td>No</td>\n",
       "      <td>No</td>\n",
       "      <td>No</td>\n",
       "    </tr>\n",
       "    <tr>\n",
       "      <th>...</th>\n",
       "      <td>...</td>\n",
       "      <td>...</td>\n",
       "      <td>...</td>\n",
       "      <td>...</td>\n",
       "      <td>...</td>\n",
       "      <td>...</td>\n",
       "      <td>...</td>\n",
       "      <td>...</td>\n",
       "      <td>...</td>\n",
       "      <td>...</td>\n",
       "      <td>...</td>\n",
       "      <td>...</td>\n",
       "      <td>...</td>\n",
       "      <td>...</td>\n",
       "      <td>...</td>\n",
       "      <td>...</td>\n",
       "      <td>...</td>\n",
       "      <td>...</td>\n",
       "      <td>...</td>\n",
       "      <td>...</td>\n",
       "    </tr>\n",
       "    <tr>\n",
       "      <th>7038</th>\n",
       "      <td>6840-RESVB</td>\n",
       "      <td>Male</td>\n",
       "      <td>0</td>\n",
       "      <td>Yes</td>\n",
       "      <td>Yes</td>\n",
       "      <td>One year</td>\n",
       "      <td>Yes</td>\n",
       "      <td>Mailed check</td>\n",
       "      <td>84.80</td>\n",
       "      <td>1990.50</td>\n",
       "      <td>0</td>\n",
       "      <td>730</td>\n",
       "      <td>DSL</td>\n",
       "      <td>Yes</td>\n",
       "      <td>No</td>\n",
       "      <td>Yes</td>\n",
       "      <td>Yes</td>\n",
       "      <td>Yes</td>\n",
       "      <td>Yes</td>\n",
       "      <td>Yes</td>\n",
       "    </tr>\n",
       "    <tr>\n",
       "      <th>7039</th>\n",
       "      <td>2234-XADUH</td>\n",
       "      <td>Female</td>\n",
       "      <td>0</td>\n",
       "      <td>Yes</td>\n",
       "      <td>Yes</td>\n",
       "      <td>One year</td>\n",
       "      <td>Yes</td>\n",
       "      <td>Credit card (automatic)</td>\n",
       "      <td>103.20</td>\n",
       "      <td>7362.90</td>\n",
       "      <td>0</td>\n",
       "      <td>2191</td>\n",
       "      <td>Fiber optic</td>\n",
       "      <td>No</td>\n",
       "      <td>Yes</td>\n",
       "      <td>Yes</td>\n",
       "      <td>No</td>\n",
       "      <td>Yes</td>\n",
       "      <td>Yes</td>\n",
       "      <td>Yes</td>\n",
       "    </tr>\n",
       "    <tr>\n",
       "      <th>7040</th>\n",
       "      <td>4801-JZAZL</td>\n",
       "      <td>Female</td>\n",
       "      <td>0</td>\n",
       "      <td>Yes</td>\n",
       "      <td>Yes</td>\n",
       "      <td>Month-to-month</td>\n",
       "      <td>Yes</td>\n",
       "      <td>Electronic check</td>\n",
       "      <td>29.60</td>\n",
       "      <td>346.45</td>\n",
       "      <td>0</td>\n",
       "      <td>337</td>\n",
       "      <td>DSL</td>\n",
       "      <td>Yes</td>\n",
       "      <td>No</td>\n",
       "      <td>No</td>\n",
       "      <td>No</td>\n",
       "      <td>No</td>\n",
       "      <td>No</td>\n",
       "      <td>NaN</td>\n",
       "    </tr>\n",
       "    <tr>\n",
       "      <th>7041</th>\n",
       "      <td>8361-LTMKD</td>\n",
       "      <td>Male</td>\n",
       "      <td>1</td>\n",
       "      <td>Yes</td>\n",
       "      <td>No</td>\n",
       "      <td>Month-to-month</td>\n",
       "      <td>Yes</td>\n",
       "      <td>Mailed check</td>\n",
       "      <td>74.40</td>\n",
       "      <td>306.60</td>\n",
       "      <td>1</td>\n",
       "      <td>123</td>\n",
       "      <td>Fiber optic</td>\n",
       "      <td>No</td>\n",
       "      <td>No</td>\n",
       "      <td>No</td>\n",
       "      <td>No</td>\n",
       "      <td>No</td>\n",
       "      <td>No</td>\n",
       "      <td>Yes</td>\n",
       "    </tr>\n",
       "    <tr>\n",
       "      <th>7042</th>\n",
       "      <td>3186-AJIEK</td>\n",
       "      <td>Male</td>\n",
       "      <td>0</td>\n",
       "      <td>No</td>\n",
       "      <td>No</td>\n",
       "      <td>Two year</td>\n",
       "      <td>Yes</td>\n",
       "      <td>Bank transfer (automatic)</td>\n",
       "      <td>105.65</td>\n",
       "      <td>6844.50</td>\n",
       "      <td>0</td>\n",
       "      <td>2010</td>\n",
       "      <td>Fiber optic</td>\n",
       "      <td>Yes</td>\n",
       "      <td>No</td>\n",
       "      <td>Yes</td>\n",
       "      <td>Yes</td>\n",
       "      <td>Yes</td>\n",
       "      <td>Yes</td>\n",
       "      <td>No</td>\n",
       "    </tr>\n",
       "  </tbody>\n",
       "</table>\n",
       "<p>7043 rows × 20 columns</p>\n",
       "</div>"
      ],
      "text/plain": [
       "      customerID  gender  SeniorCitizen Partner Dependents            Type  \\\n",
       "0     7590-VHVEG  Female              0     Yes         No  Month-to-month   \n",
       "1     5575-GNVDE    Male              0      No         No        One year   \n",
       "2     3668-QPYBK    Male              0      No         No  Month-to-month   \n",
       "3     7795-CFOCW    Male              0      No         No        One year   \n",
       "4     9237-HQITU  Female              0      No         No  Month-to-month   \n",
       "...          ...     ...            ...     ...        ...             ...   \n",
       "7038  6840-RESVB    Male              0     Yes        Yes        One year   \n",
       "7039  2234-XADUH  Female              0     Yes        Yes        One year   \n",
       "7040  4801-JZAZL  Female              0     Yes        Yes  Month-to-month   \n",
       "7041  8361-LTMKD    Male              1     Yes         No  Month-to-month   \n",
       "7042  3186-AJIEK    Male              0      No         No        Two year   \n",
       "\n",
       "     PaperlessBilling              PaymentMethod  MonthlyCharges  \\\n",
       "0                 Yes           Electronic check           29.85   \n",
       "1                  No               Mailed check           56.95   \n",
       "2                 Yes               Mailed check           53.85   \n",
       "3                  No  Bank transfer (automatic)           42.30   \n",
       "4                 Yes           Electronic check           70.70   \n",
       "...               ...                        ...             ...   \n",
       "7038              Yes               Mailed check           84.80   \n",
       "7039              Yes    Credit card (automatic)          103.20   \n",
       "7040              Yes           Electronic check           29.60   \n",
       "7041              Yes               Mailed check           74.40   \n",
       "7042              Yes  Bank transfer (automatic)          105.65   \n",
       "\n",
       "      TotalCharges  exited  duration InternetService OnlineSecurity  \\\n",
       "0            29.85       0        31             DSL             No   \n",
       "1          1889.50       0      1036             DSL            Yes   \n",
       "2           108.15       1        61             DSL            Yes   \n",
       "3          1840.75       0      1371             DSL            Yes   \n",
       "4           151.65       1        61     Fiber optic             No   \n",
       "...            ...     ...       ...             ...            ...   \n",
       "7038       1990.50       0       730             DSL            Yes   \n",
       "7039       7362.90       0      2191     Fiber optic             No   \n",
       "7040        346.45       0       337             DSL            Yes   \n",
       "7041        306.60       1       123     Fiber optic             No   \n",
       "7042       6844.50       0      2010     Fiber optic            Yes   \n",
       "\n",
       "     OnlineBackup DeviceProtection TechSupport StreamingTV StreamingMovies  \\\n",
       "0             Yes               No          No          No              No   \n",
       "1              No              Yes          No          No              No   \n",
       "2             Yes               No          No          No              No   \n",
       "3              No              Yes         Yes          No              No   \n",
       "4              No               No          No          No              No   \n",
       "...           ...              ...         ...         ...             ...   \n",
       "7038           No              Yes         Yes         Yes             Yes   \n",
       "7039          Yes              Yes          No         Yes             Yes   \n",
       "7040           No               No          No          No              No   \n",
       "7041           No               No          No          No              No   \n",
       "7042           No              Yes         Yes         Yes             Yes   \n",
       "\n",
       "     MultipleLines  \n",
       "0              NaN  \n",
       "1               No  \n",
       "2               No  \n",
       "3              NaN  \n",
       "4               No  \n",
       "...            ...  \n",
       "7038           Yes  \n",
       "7039           Yes  \n",
       "7040           NaN  \n",
       "7041           Yes  \n",
       "7042            No  \n",
       "\n",
       "[7043 rows x 20 columns]"
      ]
     },
     "execution_count": 25,
     "metadata": {},
     "output_type": "execute_result"
    }
   ],
   "source": [
    "df_1 = pd.merge(df_personal, df_contract1, on = 'customerID', how ='outer')\n",
    "df_2 = pd.merge(df_internet, df_phone, on = 'customerID', how = 'outer')\n",
    "df_final = pd.merge(df_1, df_2, on= 'customerID', how= 'outer')\n",
    "df_final"
   ]
  },
  {
   "cell_type": "code",
   "execution_count": 26,
   "metadata": {
    "scrolled": true
   },
   "outputs": [
    {
     "name": "stdout",
     "output_type": "stream",
     "text": [
      "<class 'pandas.core.frame.DataFrame'>\n",
      "Int64Index: 7043 entries, 0 to 7042\n",
      "Data columns (total 20 columns):\n",
      " #   Column            Non-Null Count  Dtype  \n",
      "---  ------            --------------  -----  \n",
      " 0   customerID        7043 non-null   object \n",
      " 1   gender            7043 non-null   object \n",
      " 2   SeniorCitizen     7043 non-null   int64  \n",
      " 3   Partner           7043 non-null   object \n",
      " 4   Dependents        7043 non-null   object \n",
      " 5   Type              7043 non-null   object \n",
      " 6   PaperlessBilling  7043 non-null   object \n",
      " 7   PaymentMethod     7043 non-null   object \n",
      " 8   MonthlyCharges    7043 non-null   float64\n",
      " 9   TotalCharges      7043 non-null   float64\n",
      " 10  exited            7043 non-null   int64  \n",
      " 11  duration          7043 non-null   int64  \n",
      " 12  InternetService   5517 non-null   object \n",
      " 13  OnlineSecurity    5517 non-null   object \n",
      " 14  OnlineBackup      5517 non-null   object \n",
      " 15  DeviceProtection  5517 non-null   object \n",
      " 16  TechSupport       5517 non-null   object \n",
      " 17  StreamingTV       5517 non-null   object \n",
      " 18  StreamingMovies   5517 non-null   object \n",
      " 19  MultipleLines     6361 non-null   object \n",
      "dtypes: float64(2), int64(3), object(15)\n",
      "memory usage: 1.1+ MB\n"
     ]
    }
   ],
   "source": [
    "df_final.info()"
   ]
  },
  {
   "cell_type": "markdown",
   "metadata": {},
   "source": [
    "### Treat Missing Values<a id='missing'></a>"
   ]
  },
  {
   "cell_type": "code",
   "execution_count": 27,
   "metadata": {},
   "outputs": [
    {
     "data": {
      "text/plain": [
       "Fiber optic    3096\n",
       "DSL            2421\n",
       "NaN            1526\n",
       "Name: InternetService, dtype: int64"
      ]
     },
     "execution_count": 27,
     "metadata": {},
     "output_type": "execute_result"
    }
   ],
   "source": [
    "df_final['InternetService'].value_counts(dropna = False)"
   ]
  },
  {
   "cell_type": "code",
   "execution_count": 28,
   "metadata": {
    "scrolled": true
   },
   "outputs": [
    {
     "data": {
      "text/html": [
       "<div>\n",
       "<style scoped>\n",
       "    .dataframe tbody tr th:only-of-type {\n",
       "        vertical-align: middle;\n",
       "    }\n",
       "\n",
       "    .dataframe tbody tr th {\n",
       "        vertical-align: top;\n",
       "    }\n",
       "\n",
       "    .dataframe thead th {\n",
       "        text-align: right;\n",
       "    }\n",
       "</style>\n",
       "<table border=\"1\" class=\"dataframe\">\n",
       "  <thead>\n",
       "    <tr style=\"text-align: right;\">\n",
       "      <th></th>\n",
       "      <th>OnlineSecurity</th>\n",
       "      <th>OnlineBackup</th>\n",
       "      <th>DeviceProtection</th>\n",
       "      <th>TechSupport</th>\n",
       "      <th>StreamingTV</th>\n",
       "      <th>StreamingMovies</th>\n",
       "      <th>MultipleLines</th>\n",
       "    </tr>\n",
       "  </thead>\n",
       "  <tbody>\n",
       "    <tr>\n",
       "      <th>No</th>\n",
       "      <td>3498</td>\n",
       "      <td>3088</td>\n",
       "      <td>3095</td>\n",
       "      <td>3473</td>\n",
       "      <td>2810</td>\n",
       "      <td>2785</td>\n",
       "      <td>3390</td>\n",
       "    </tr>\n",
       "    <tr>\n",
       "      <th>Yes</th>\n",
       "      <td>2019</td>\n",
       "      <td>2429</td>\n",
       "      <td>2422</td>\n",
       "      <td>2044</td>\n",
       "      <td>2707</td>\n",
       "      <td>2732</td>\n",
       "      <td>2971</td>\n",
       "    </tr>\n",
       "    <tr>\n",
       "      <th>NaN</th>\n",
       "      <td>1526</td>\n",
       "      <td>1526</td>\n",
       "      <td>1526</td>\n",
       "      <td>1526</td>\n",
       "      <td>1526</td>\n",
       "      <td>1526</td>\n",
       "      <td>682</td>\n",
       "    </tr>\n",
       "  </tbody>\n",
       "</table>\n",
       "</div>"
      ],
      "text/plain": [
       "     OnlineSecurity  OnlineBackup  DeviceProtection  TechSupport  StreamingTV  \\\n",
       "No             3498          3088              3095         3473         2810   \n",
       "Yes            2019          2429              2422         2044         2707   \n",
       "NaN            1526          1526              1526         1526         1526   \n",
       "\n",
       "     StreamingMovies  MultipleLines  \n",
       "No              2785           3390  \n",
       "Yes             2732           2971  \n",
       "NaN             1526            682  "
      ]
     },
     "execution_count": 28,
     "metadata": {},
     "output_type": "execute_result"
    }
   ],
   "source": [
    "columns = ['OnlineSecurity','OnlineBackup','DeviceProtection','TechSupport','StreamingTV','StreamingMovies','MultipleLines']\n",
    "df_final[columns].apply(lambda col: col.value_counts(dropna=False))"
   ]
  },
  {
   "cell_type": "code",
   "execution_count": 29,
   "metadata": {
    "scrolled": true
   },
   "outputs": [],
   "source": [
    "col = ['InternetService','OnlineSecurity','OnlineBackup','DeviceProtection','TechSupport','StreamingTV','StreamingMovies','MultipleLines']\n",
    "df_final[col] = df_final[col].fillna('No')"
   ]
  },
  {
   "cell_type": "code",
   "execution_count": 30,
   "metadata": {
    "scrolled": true
   },
   "outputs": [
    {
     "data": {
      "text/plain": [
       "Fiber optic    3096\n",
       "DSL            2421\n",
       "No             1526\n",
       "Name: InternetService, dtype: int64"
      ]
     },
     "execution_count": 30,
     "metadata": {},
     "output_type": "execute_result"
    }
   ],
   "source": [
    "# Check\n",
    "\n",
    "df_final['InternetService'].value_counts(dropna = False)"
   ]
  },
  {
   "cell_type": "code",
   "execution_count": 31,
   "metadata": {
    "scrolled": true
   },
   "outputs": [
    {
     "data": {
      "text/html": [
       "<div>\n",
       "<style scoped>\n",
       "    .dataframe tbody tr th:only-of-type {\n",
       "        vertical-align: middle;\n",
       "    }\n",
       "\n",
       "    .dataframe tbody tr th {\n",
       "        vertical-align: top;\n",
       "    }\n",
       "\n",
       "    .dataframe thead th {\n",
       "        text-align: right;\n",
       "    }\n",
       "</style>\n",
       "<table border=\"1\" class=\"dataframe\">\n",
       "  <thead>\n",
       "    <tr style=\"text-align: right;\">\n",
       "      <th></th>\n",
       "      <th>OnlineSecurity</th>\n",
       "      <th>OnlineBackup</th>\n",
       "      <th>DeviceProtection</th>\n",
       "      <th>TechSupport</th>\n",
       "      <th>StreamingTV</th>\n",
       "      <th>StreamingMovies</th>\n",
       "      <th>MultipleLines</th>\n",
       "    </tr>\n",
       "  </thead>\n",
       "  <tbody>\n",
       "    <tr>\n",
       "      <th>No</th>\n",
       "      <td>5024</td>\n",
       "      <td>4614</td>\n",
       "      <td>4621</td>\n",
       "      <td>4999</td>\n",
       "      <td>4336</td>\n",
       "      <td>4311</td>\n",
       "      <td>4072</td>\n",
       "    </tr>\n",
       "    <tr>\n",
       "      <th>Yes</th>\n",
       "      <td>2019</td>\n",
       "      <td>2429</td>\n",
       "      <td>2422</td>\n",
       "      <td>2044</td>\n",
       "      <td>2707</td>\n",
       "      <td>2732</td>\n",
       "      <td>2971</td>\n",
       "    </tr>\n",
       "  </tbody>\n",
       "</table>\n",
       "</div>"
      ],
      "text/plain": [
       "     OnlineSecurity  OnlineBackup  DeviceProtection  TechSupport  StreamingTV  \\\n",
       "No             5024          4614              4621         4999         4336   \n",
       "Yes            2019          2429              2422         2044         2707   \n",
       "\n",
       "     StreamingMovies  MultipleLines  \n",
       "No              4311           4072  \n",
       "Yes             2732           2971  "
      ]
     },
     "execution_count": 31,
     "metadata": {},
     "output_type": "execute_result"
    }
   ],
   "source": [
    "# Check\n",
    "\n",
    "df_final[columns].apply(lambda col: col.value_counts(dropna=False))"
   ]
  },
  {
   "cell_type": "code",
   "execution_count": 32,
   "metadata": {
    "scrolled": true
   },
   "outputs": [
    {
     "name": "stdout",
     "output_type": "stream",
     "text": [
      "<class 'pandas.core.frame.DataFrame'>\n",
      "Int64Index: 7043 entries, 0 to 7042\n",
      "Data columns (total 20 columns):\n",
      " #   Column            Non-Null Count  Dtype  \n",
      "---  ------            --------------  -----  \n",
      " 0   customerID        7043 non-null   object \n",
      " 1   gender            7043 non-null   object \n",
      " 2   SeniorCitizen     7043 non-null   int64  \n",
      " 3   Partner           7043 non-null   object \n",
      " 4   Dependents        7043 non-null   object \n",
      " 5   Type              7043 non-null   object \n",
      " 6   PaperlessBilling  7043 non-null   object \n",
      " 7   PaymentMethod     7043 non-null   object \n",
      " 8   MonthlyCharges    7043 non-null   float64\n",
      " 9   TotalCharges      7043 non-null   float64\n",
      " 10  exited            7043 non-null   int64  \n",
      " 11  duration          7043 non-null   int64  \n",
      " 12  InternetService   7043 non-null   object \n",
      " 13  OnlineSecurity    7043 non-null   object \n",
      " 14  OnlineBackup      7043 non-null   object \n",
      " 15  DeviceProtection  7043 non-null   object \n",
      " 16  TechSupport       7043 non-null   object \n",
      " 17  StreamingTV       7043 non-null   object \n",
      " 18  StreamingMovies   7043 non-null   object \n",
      " 19  MultipleLines     7043 non-null   object \n",
      "dtypes: float64(2), int64(3), object(15)\n",
      "memory usage: 1.1+ MB\n"
     ]
    }
   ],
   "source": [
    "df_final.info()"
   ]
  },
  {
   "cell_type": "markdown",
   "metadata": {},
   "source": [
    "## Stage 3. EDA<a id='eda'></a>"
   ]
  },
  {
   "cell_type": "code",
   "execution_count": 33,
   "metadata": {},
   "outputs": [
    {
     "data": {
      "text/html": [
       "<div>\n",
       "<style scoped>\n",
       "    .dataframe tbody tr th:only-of-type {\n",
       "        vertical-align: middle;\n",
       "    }\n",
       "\n",
       "    .dataframe tbody tr th {\n",
       "        vertical-align: top;\n",
       "    }\n",
       "\n",
       "    .dataframe thead th {\n",
       "        text-align: right;\n",
       "    }\n",
       "</style>\n",
       "<table border=\"1\" class=\"dataframe\">\n",
       "  <thead>\n",
       "    <tr style=\"text-align: right;\">\n",
       "      <th></th>\n",
       "      <th>SeniorCitizen</th>\n",
       "      <th>MonthlyCharges</th>\n",
       "      <th>TotalCharges</th>\n",
       "      <th>exited</th>\n",
       "      <th>duration</th>\n",
       "    </tr>\n",
       "  </thead>\n",
       "  <tbody>\n",
       "    <tr>\n",
       "      <th>SeniorCitizen</th>\n",
       "      <td>1.000000</td>\n",
       "      <td>0.220173</td>\n",
       "      <td>0.103006</td>\n",
       "      <td>0.150889</td>\n",
       "      <td>0.016514</td>\n",
       "    </tr>\n",
       "    <tr>\n",
       "      <th>MonthlyCharges</th>\n",
       "      <td>0.220173</td>\n",
       "      <td>1.000000</td>\n",
       "      <td>0.651174</td>\n",
       "      <td>0.193356</td>\n",
       "      <td>0.247754</td>\n",
       "    </tr>\n",
       "    <tr>\n",
       "      <th>TotalCharges</th>\n",
       "      <td>0.103006</td>\n",
       "      <td>0.651174</td>\n",
       "      <td>1.000000</td>\n",
       "      <td>-0.198324</td>\n",
       "      <td>0.826109</td>\n",
       "    </tr>\n",
       "    <tr>\n",
       "      <th>exited</th>\n",
       "      <td>0.150889</td>\n",
       "      <td>0.193356</td>\n",
       "      <td>-0.198324</td>\n",
       "      <td>1.000000</td>\n",
       "      <td>-0.352673</td>\n",
       "    </tr>\n",
       "    <tr>\n",
       "      <th>duration</th>\n",
       "      <td>0.016514</td>\n",
       "      <td>0.247754</td>\n",
       "      <td>0.826109</td>\n",
       "      <td>-0.352673</td>\n",
       "      <td>1.000000</td>\n",
       "    </tr>\n",
       "  </tbody>\n",
       "</table>\n",
       "</div>"
      ],
      "text/plain": [
       "                SeniorCitizen  MonthlyCharges  TotalCharges    exited  \\\n",
       "SeniorCitizen        1.000000        0.220173      0.103006  0.150889   \n",
       "MonthlyCharges       0.220173        1.000000      0.651174  0.193356   \n",
       "TotalCharges         0.103006        0.651174      1.000000 -0.198324   \n",
       "exited               0.150889        0.193356     -0.198324  1.000000   \n",
       "duration             0.016514        0.247754      0.826109 -0.352673   \n",
       "\n",
       "                duration  \n",
       "SeniorCitizen   0.016514  \n",
       "MonthlyCharges  0.247754  \n",
       "TotalCharges    0.826109  \n",
       "exited         -0.352673  \n",
       "duration        1.000000  "
      ]
     },
     "execution_count": 33,
     "metadata": {},
     "output_type": "execute_result"
    }
   ],
   "source": [
    "df_final.corr()"
   ]
  },
  {
   "cell_type": "code",
   "execution_count": 34,
   "metadata": {
    "scrolled": true
   },
   "outputs": [
    {
     "data": {
      "image/png": "[encoded data removed]",
      "text/plain": [
       "<Figure size 1000x1200 with 30 Axes>"
      ]
     },
     "metadata": {},
     "output_type": "display_data"
    }
   ],
   "source": [
    "a = sns.pairplot(df_final, kind='hist')\n",
    "a.fig.set_size_inches(10, 12)"
   ]
  },
  {
   "cell_type": "markdown",
   "metadata": {},
   "source": [
    "### Compare: Monthly Chargers<a id='monthly_charge'></a>"
   ]
  },
  {
   "cell_type": "code",
   "execution_count": 35,
   "metadata": {
    "scrolled": true
   },
   "outputs": [
    {
     "data": {
      "text/plain": [
       "array([<AxesSubplot:title={'center':'MonthlyCharges'}>], dtype=object)"
      ]
     },
     "execution_count": 35,
     "metadata": {},
     "output_type": "execute_result"
    },
    {
     "data": {
      "image/png": "[encoded data removed]",
      "text/plain": [
       "<Figure size 400x400 with 1 Axes>"
      ]
     },
     "metadata": {},
     "output_type": "display_data"
    }
   ],
   "source": [
    "# Compare the monthly payment distribution (MonthlyCharges) of all active clients with the churn clients\n",
    "\n",
    "remain = df_final[df_final.exited == 0]\n",
    "exited = df_final[df_final.exited == 1]\n",
    "monthly_charges = ['MonthlyCharges']\n",
    "\n",
    "fig, ax = plt.subplots(1,1, figsize =(4,4))\n",
    "remain[monthly_charges].hist(bins = 30, color='blue', alpha=0.5, ax=ax)\n",
    "exited[monthly_charges].hist(bins = 30, color='red', alpha=0.5, ax=ax)"
   ]
  },
  {
   "cell_type": "code",
   "execution_count": 36,
   "metadata": {
    "scrolled": true
   },
   "outputs": [
    {
     "data": {
      "text/html": [
       "<div>\n",
       "<style scoped>\n",
       "    .dataframe tbody tr th:only-of-type {\n",
       "        vertical-align: middle;\n",
       "    }\n",
       "\n",
       "    .dataframe tbody tr th {\n",
       "        vertical-align: top;\n",
       "    }\n",
       "\n",
       "    .dataframe thead th {\n",
       "        text-align: right;\n",
       "    }\n",
       "</style>\n",
       "<table border=\"1\" class=\"dataframe\">\n",
       "  <thead>\n",
       "    <tr style=\"text-align: right;\">\n",
       "      <th></th>\n",
       "      <th>count</th>\n",
       "      <th>mean</th>\n",
       "      <th>std</th>\n",
       "      <th>min</th>\n",
       "      <th>25%</th>\n",
       "      <th>50%</th>\n",
       "      <th>75%</th>\n",
       "      <th>max</th>\n",
       "    </tr>\n",
       "    <tr>\n",
       "      <th>exited</th>\n",
       "      <th></th>\n",
       "      <th></th>\n",
       "      <th></th>\n",
       "      <th></th>\n",
       "      <th></th>\n",
       "      <th></th>\n",
       "      <th></th>\n",
       "      <th></th>\n",
       "    </tr>\n",
       "  </thead>\n",
       "  <tbody>\n",
       "    <tr>\n",
       "      <th>0</th>\n",
       "      <td>5174.0</td>\n",
       "      <td>61.265124</td>\n",
       "      <td>31.092648</td>\n",
       "      <td>18.25</td>\n",
       "      <td>25.10</td>\n",
       "      <td>64.425</td>\n",
       "      <td>88.4</td>\n",
       "      <td>118.75</td>\n",
       "    </tr>\n",
       "    <tr>\n",
       "      <th>1</th>\n",
       "      <td>1869.0</td>\n",
       "      <td>74.441332</td>\n",
       "      <td>24.666053</td>\n",
       "      <td>18.85</td>\n",
       "      <td>56.15</td>\n",
       "      <td>79.650</td>\n",
       "      <td>94.2</td>\n",
       "      <td>118.35</td>\n",
       "    </tr>\n",
       "  </tbody>\n",
       "</table>\n",
       "</div>"
      ],
      "text/plain": [
       "         count       mean        std    min    25%     50%   75%     max\n",
       "exited                                                                  \n",
       "0       5174.0  61.265124  31.092648  18.25  25.10  64.425  88.4  118.75\n",
       "1       1869.0  74.441332  24.666053  18.85  56.15  79.650  94.2  118.35"
      ]
     },
     "execution_count": 36,
     "metadata": {},
     "output_type": "execute_result"
    }
   ],
   "source": [
    "# Calculate the average, minimum and maximum values, the median, and the values of the 25% and 75% percentiles\n",
    "\n",
    "exited_data = df_final.groupby('exited')['MonthlyCharges']\n",
    "exited_data.describe()"
   ]
  },
  {
   "cell_type": "markdown",
   "metadata": {},
   "source": [
    "> The graph compares between the active clients with the churn clients in terms of Monthly Charges. It shows that there are more clients who have churn have a higher monthly charges."
   ]
  },
  {
   "cell_type": "markdown",
   "metadata": {},
   "source": [
    "### Telephone users<a id='tel_users'></a>"
   ]
  },
  {
   "cell_type": "code",
   "execution_count": 37,
   "metadata": {
    "scrolled": true
   },
   "outputs": [
    {
     "data": {
      "text/plain": [
       "(0.0, 3200.0)"
      ]
     },
     "execution_count": 37,
     "metadata": {},
     "output_type": "execute_result"
    },
    {
     "data": {
      "image/png": "[encoded data removed]",
      "text/plain": [
       "<Figure size 1000x400 with 2 Axes>"
      ]
     },
     "metadata": {},
     "output_type": "display_data"
    }
   ],
   "source": [
    "# Build graph to display the share of telephone users\n",
    "\n",
    "multiple_lines = 'MultipleLines'\n",
    "\n",
    "fig, ax = plt.subplots(1,2, figsize =(10,4))\n",
    "remain[multiple_lines].value_counts().sort_values(ascending=True).plot(kind = 'bar', ax= ax[0]).set_title('Telephone Users (Not Churn)')\n",
    "exited[multiple_lines].value_counts().sort_values(ascending=True).plot(kind = 'bar', ax= ax[1], color= 'red').set_title('Telephone Users (Churn)')\n",
    "\n",
    "ax[0].set_xticklabels(ax[0].get_xticklabels(), rotation=360)\n",
    "ax[1].set_xticklabels(ax[1].get_xticklabels(), rotation=360)\n",
    "\n",
    "ax[0].set_ylim(0, 3200)\n",
    "ax[1].set_ylim(0, 3200)"
   ]
  },
  {
   "cell_type": "markdown",
   "metadata": {},
   "source": [
    "> The telephone users who have churn is lesser compare to the clients who are still active."
   ]
  },
  {
   "cell_type": "markdown",
   "metadata": {},
   "source": [
    "### Internet users<a id='int_users'></a>"
   ]
  },
  {
   "cell_type": "code",
   "execution_count": 38,
   "metadata": {},
   "outputs": [
    {
     "data": {
      "text/plain": [
       "(0.0, 2000.0)"
      ]
     },
     "execution_count": 38,
     "metadata": {},
     "output_type": "execute_result"
    },
    {
     "data": {
      "image/png": "[encoded data removed]",
      "text/plain": [
       "<Figure size 1000x400 with 2 Axes>"
      ]
     },
     "metadata": {},
     "output_type": "display_data"
    }
   ],
   "source": [
    "# Build graph to display the share of Internet users\n",
    "\n",
    "internet_user = 'InternetService'\n",
    "\n",
    "fig, ax = plt.subplots(1,2, figsize =(10,4))\n",
    "remain[internet_user].value_counts().sort_values(ascending=True).plot(kind = 'bar', ax= ax[0]).set_title('Internet Users (Not Churn)')\n",
    "exited[internet_user].value_counts().sort_values(ascending=True).plot(kind = 'bar', ax= ax[1], color= 'red').set_title('Internet Users (Churn)')\n",
    "\n",
    "ax[0].set_xticklabels(ax[0].get_xticklabels(), rotation=360)\n",
    "ax[1].set_xticklabels(ax[1].get_xticklabels(), rotation=360)\n",
    "\n",
    "ax[0].set_ylim(0, 2000)\n",
    "ax[1].set_ylim(0, 2000)"
   ]
  },
  {
   "cell_type": "markdown",
   "metadata": {},
   "source": [
    "> It seems that the Internet Users, particularly those using `Fiber optic` have the most clients churn.\n",
    "\n",
    "> There might be a correlation to the reason that clients choose to churn."
   ]
  },
  {
   "cell_type": "code",
   "execution_count": 39,
   "metadata": {
    "scrolled": false
   },
   "outputs": [
    {
     "name": "stdout",
     "output_type": "stream",
     "text": [
      "Percentage of Client that have left: 26.54%\n",
      "Percentage of Client that remain: 73.46%\n"
     ]
    }
   ],
   "source": [
    "# Check the balance of users who left and who remains\n",
    "\n",
    "print(f\"Percentage of Client that have left: {(len(df_final[df_final['exited'] == 1])/len(df_final)*100):.2f}%\")\n",
    "print(f\"Percentage of Client that remain: {(len(df_final[df_final['exited'] == 0])/len(df_final)*100):.2f}%\")"
   ]
  },
  {
   "cell_type": "markdown",
   "metadata": {},
   "source": [
    "> Only 26.54% of the users have exited Interconnect. The data is imbalance."
   ]
  },
  {
   "cell_type": "markdown",
   "metadata": {},
   "source": [
    "### Convert to dummies<a id='dummies'></a>"
   ]
  },
  {
   "cell_type": "code",
   "execution_count": 40,
   "metadata": {
    "scrolled": false
   },
   "outputs": [
    {
     "name": "stdout",
     "output_type": "stream",
     "text": [
      "<class 'pandas.core.frame.DataFrame'>\n",
      "Int64Index: 7043 entries, 0 to 7042\n",
      "Data columns (total 19 columns):\n",
      " #   Column            Non-Null Count  Dtype  \n",
      "---  ------            --------------  -----  \n",
      " 0   gender            7043 non-null   object \n",
      " 1   SeniorCitizen     7043 non-null   int64  \n",
      " 2   Partner           7043 non-null   object \n",
      " 3   Dependents        7043 non-null   object \n",
      " 4   Type              7043 non-null   object \n",
      " 5   PaperlessBilling  7043 non-null   object \n",
      " 6   PaymentMethod     7043 non-null   object \n",
      " 7   MonthlyCharges    7043 non-null   float64\n",
      " 8   TotalCharges      7043 non-null   float64\n",
      " 9   exited            7043 non-null   int64  \n",
      " 10  duration          7043 non-null   int64  \n",
      " 11  InternetService   7043 non-null   object \n",
      " 12  OnlineSecurity    7043 non-null   object \n",
      " 13  OnlineBackup      7043 non-null   object \n",
      " 14  DeviceProtection  7043 non-null   object \n",
      " 15  TechSupport       7043 non-null   object \n",
      " 16  StreamingTV       7043 non-null   object \n",
      " 17  StreamingMovies   7043 non-null   object \n",
      " 18  MultipleLines     7043 non-null   object \n",
      "dtypes: float64(2), int64(3), object(14)\n",
      "memory usage: 1.1+ MB\n"
     ]
    }
   ],
   "source": [
    "# Drop unecessary columns & \n",
    "\n",
    "df_final = df_final.drop(columns=['customerID'])\n",
    "df_final.info()"
   ]
  },
  {
   "cell_type": "code",
   "execution_count": 41,
   "metadata": {
    "scrolled": true
   },
   "outputs": [
    {
     "data": {
      "text/html": [
       "<div>\n",
       "<style scoped>\n",
       "    .dataframe tbody tr th:only-of-type {\n",
       "        vertical-align: middle;\n",
       "    }\n",
       "\n",
       "    .dataframe tbody tr th {\n",
       "        vertical-align: top;\n",
       "    }\n",
       "\n",
       "    .dataframe thead th {\n",
       "        text-align: right;\n",
       "    }\n",
       "</style>\n",
       "<table border=\"1\" class=\"dataframe\">\n",
       "  <thead>\n",
       "    <tr style=\"text-align: right;\">\n",
       "      <th></th>\n",
       "      <th>SeniorCitizen</th>\n",
       "      <th>MonthlyCharges</th>\n",
       "      <th>TotalCharges</th>\n",
       "      <th>exited</th>\n",
       "      <th>duration</th>\n",
       "      <th>gender_Male</th>\n",
       "      <th>Partner_Yes</th>\n",
       "      <th>Dependents_Yes</th>\n",
       "      <th>Type_One year</th>\n",
       "      <th>Type_Two year</th>\n",
       "      <th>...</th>\n",
       "      <th>PaymentMethod_Mailed check</th>\n",
       "      <th>InternetService_Fiber optic</th>\n",
       "      <th>InternetService_No</th>\n",
       "      <th>OnlineSecurity_Yes</th>\n",
       "      <th>OnlineBackup_Yes</th>\n",
       "      <th>DeviceProtection_Yes</th>\n",
       "      <th>TechSupport_Yes</th>\n",
       "      <th>StreamingTV_Yes</th>\n",
       "      <th>StreamingMovies_Yes</th>\n",
       "      <th>MultipleLines_Yes</th>\n",
       "    </tr>\n",
       "  </thead>\n",
       "  <tbody>\n",
       "    <tr>\n",
       "      <th>0</th>\n",
       "      <td>0</td>\n",
       "      <td>29.85</td>\n",
       "      <td>29.85</td>\n",
       "      <td>0</td>\n",
       "      <td>31</td>\n",
       "      <td>0</td>\n",
       "      <td>1</td>\n",
       "      <td>0</td>\n",
       "      <td>0</td>\n",
       "      <td>0</td>\n",
       "      <td>...</td>\n",
       "      <td>0</td>\n",
       "      <td>0</td>\n",
       "      <td>0</td>\n",
       "      <td>0</td>\n",
       "      <td>1</td>\n",
       "      <td>0</td>\n",
       "      <td>0</td>\n",
       "      <td>0</td>\n",
       "      <td>0</td>\n",
       "      <td>0</td>\n",
       "    </tr>\n",
       "    <tr>\n",
       "      <th>1</th>\n",
       "      <td>0</td>\n",
       "      <td>56.95</td>\n",
       "      <td>1889.50</td>\n",
       "      <td>0</td>\n",
       "      <td>1036</td>\n",
       "      <td>1</td>\n",
       "      <td>0</td>\n",
       "      <td>0</td>\n",
       "      <td>1</td>\n",
       "      <td>0</td>\n",
       "      <td>...</td>\n",
       "      <td>1</td>\n",
       "      <td>0</td>\n",
       "      <td>0</td>\n",
       "      <td>1</td>\n",
       "      <td>0</td>\n",
       "      <td>1</td>\n",
       "      <td>0</td>\n",
       "      <td>0</td>\n",
       "      <td>0</td>\n",
       "      <td>0</td>\n",
       "    </tr>\n",
       "    <tr>\n",
       "      <th>2</th>\n",
       "      <td>0</td>\n",
       "      <td>53.85</td>\n",
       "      <td>108.15</td>\n",
       "      <td>1</td>\n",
       "      <td>61</td>\n",
       "      <td>1</td>\n",
       "      <td>0</td>\n",
       "      <td>0</td>\n",
       "      <td>0</td>\n",
       "      <td>0</td>\n",
       "      <td>...</td>\n",
       "      <td>1</td>\n",
       "      <td>0</td>\n",
       "      <td>0</td>\n",
       "      <td>1</td>\n",
       "      <td>1</td>\n",
       "      <td>0</td>\n",
       "      <td>0</td>\n",
       "      <td>0</td>\n",
       "      <td>0</td>\n",
       "      <td>0</td>\n",
       "    </tr>\n",
       "    <tr>\n",
       "      <th>3</th>\n",
       "      <td>0</td>\n",
       "      <td>42.30</td>\n",
       "      <td>1840.75</td>\n",
       "      <td>0</td>\n",
       "      <td>1371</td>\n",
       "      <td>1</td>\n",
       "      <td>0</td>\n",
       "      <td>0</td>\n",
       "      <td>1</td>\n",
       "      <td>0</td>\n",
       "      <td>...</td>\n",
       "      <td>0</td>\n",
       "      <td>0</td>\n",
       "      <td>0</td>\n",
       "      <td>1</td>\n",
       "      <td>0</td>\n",
       "      <td>1</td>\n",
       "      <td>1</td>\n",
       "      <td>0</td>\n",
       "      <td>0</td>\n",
       "      <td>0</td>\n",
       "    </tr>\n",
       "    <tr>\n",
       "      <th>4</th>\n",
       "      <td>0</td>\n",
       "      <td>70.70</td>\n",
       "      <td>151.65</td>\n",
       "      <td>1</td>\n",
       "      <td>61</td>\n",
       "      <td>0</td>\n",
       "      <td>0</td>\n",
       "      <td>0</td>\n",
       "      <td>0</td>\n",
       "      <td>0</td>\n",
       "      <td>...</td>\n",
       "      <td>0</td>\n",
       "      <td>1</td>\n",
       "      <td>0</td>\n",
       "      <td>0</td>\n",
       "      <td>0</td>\n",
       "      <td>0</td>\n",
       "      <td>0</td>\n",
       "      <td>0</td>\n",
       "      <td>0</td>\n",
       "      <td>0</td>\n",
       "    </tr>\n",
       "  </tbody>\n",
       "</table>\n",
       "<p>5 rows × 23 columns</p>\n",
       "</div>"
      ],
      "text/plain": [
       "   SeniorCitizen  MonthlyCharges  TotalCharges  exited  duration  gender_Male  \\\n",
       "0              0           29.85         29.85       0        31            0   \n",
       "1              0           56.95       1889.50       0      1036            1   \n",
       "2              0           53.85        108.15       1        61            1   \n",
       "3              0           42.30       1840.75       0      1371            1   \n",
       "4              0           70.70        151.65       1        61            0   \n",
       "\n",
       "   Partner_Yes  Dependents_Yes  Type_One year  Type_Two year  ...  \\\n",
       "0            1               0              0              0  ...   \n",
       "1            0               0              1              0  ...   \n",
       "2            0               0              0              0  ...   \n",
       "3            0               0              1              0  ...   \n",
       "4            0               0              0              0  ...   \n",
       "\n",
       "   PaymentMethod_Mailed check  InternetService_Fiber optic  \\\n",
       "0                           0                            0   \n",
       "1                           1                            0   \n",
       "2                           1                            0   \n",
       "3                           0                            0   \n",
       "4                           0                            1   \n",
       "\n",
       "   InternetService_No  OnlineSecurity_Yes  OnlineBackup_Yes  \\\n",
       "0                   0                   0                 1   \n",
       "1                   0                   1                 0   \n",
       "2                   0                   1                 1   \n",
       "3                   0                   1                 0   \n",
       "4                   0                   0                 0   \n",
       "\n",
       "   DeviceProtection_Yes  TechSupport_Yes  StreamingTV_Yes  \\\n",
       "0                     0                0                0   \n",
       "1                     1                0                0   \n",
       "2                     0                0                0   \n",
       "3                     1                1                0   \n",
       "4                     0                0                0   \n",
       "\n",
       "   StreamingMovies_Yes  MultipleLines_Yes  \n",
       "0                    0                  0  \n",
       "1                    0                  0  \n",
       "2                    0                  0  \n",
       "3                    0                  0  \n",
       "4                    0                  0  \n",
       "\n",
       "[5 rows x 23 columns]"
      ]
     },
     "execution_count": 41,
     "metadata": {},
     "output_type": "execute_result"
    }
   ],
   "source": [
    "# Convert dataset into dummies\n",
    "\n",
    "df_final = pd.get_dummies(df_final, drop_first=True)\n",
    "df_final.head()"
   ]
  },
  {
   "cell_type": "markdown",
   "metadata": {},
   "source": [
    "### Scaling due to the imbalance data<a id='scaling'></a>"
   ]
  },
  {
   "cell_type": "code",
   "execution_count": 42,
   "metadata": {},
   "outputs": [],
   "source": [
    "from sklearn.preprocessing import StandardScaler"
   ]
  },
  {
   "cell_type": "code",
   "execution_count": 43,
   "metadata": {},
   "outputs": [],
   "source": [
    "scaler = StandardScaler()\n",
    "\n",
    "scaler.fit(df_final.drop(['exited'], axis = 1))\n",
    "scaled_features = scaler.transform(df_final.drop(['exited'], axis = 1))"
   ]
  },
  {
   "cell_type": "code",
   "execution_count": 44,
   "metadata": {},
   "outputs": [],
   "source": [
    "# Train test split\n",
    "\n",
    "X = scaled_features\n",
    "y = df_final[['exited']]\n",
    "\n",
    "\n",
    "X_train, X_test, y_train, y_test = train_test_split(X, y, test_size=0.2, random_state=54321)"
   ]
  },
  {
   "cell_type": "markdown",
   "metadata": {},
   "source": [
    "## Stage 4. Modeling<a id='model'></a>"
   ]
  },
  {
   "cell_type": "markdown",
   "metadata": {},
   "source": [
    "### Logistic Regression<a id='lr'></a>"
   ]
  },
  {
   "cell_type": "code",
   "execution_count": 45,
   "metadata": {},
   "outputs": [],
   "source": [
    "from sklearn.linear_model import LogisticRegression\n",
    "from sklearn.metrics import accuracy_score, f1_score, roc_auc_score, make_scorer"
   ]
  },
  {
   "cell_type": "code",
   "execution_count": 46,
   "metadata": {},
   "outputs": [
    {
     "name": "stderr",
     "output_type": "stream",
     "text": [
      "/opt/conda/envs/python3/lib/python3.9/site-packages/sklearn/utils/validation.py:63: DataConversionWarning: A column-vector y was passed when a 1d array was expected. Please change the shape of y to (n_samples, ), for example using ravel().\n",
      "  return f(*args, **kwargs)\n"
     ]
    }
   ],
   "source": [
    "lg_model = LogisticRegression(random_state=54321, solver=\"liblinear\")\n",
    "\n",
    "lg_model.fit(X_train, y_train)\n",
    "\n",
    "# Predictions\n",
    "y_train_pred = lg_model.predict(X_train)\n",
    "y_test_pred = lg_model.predict(X_test)\n",
    "y_train_prob = lg_model.predict_proba(X_train)[:, 1]\n",
    "y_test_prob = lg_model.predict_proba(X_test)[:, 1]\n",
    "\n",
    "# Calculate metrics\n",
    "lg_roc_auc_train = roc_auc_score(y_train, y_train_prob)\n",
    "lg_roc_auc_test = roc_auc_score(y_test, y_test_prob)\n",
    "lg_accuracy_train = accuracy_score(y_train, y_train_pred)\n",
    "lg_accuracy_test = accuracy_score(y_test, y_test_pred)\n",
    "lg_f1_train = f1_score(y_train, y_train_pred)\n",
    "lg_f1_test = f1_score(y_test, y_test_pred)"
   ]
  },
  {
   "cell_type": "code",
   "execution_count": 47,
   "metadata": {
    "scrolled": true
   },
   "outputs": [
    {
     "name": "stdout",
     "output_type": "stream",
     "text": [
      "Logistic Regression Training Metrics:\n",
      "AUC-ROC:  0.8471\n",
      "Accuracy: 0.8053\n",
      "F1 Score: 0.5945\n",
      "\n",
      "Logistic Regression Validation Metrics:\n",
      "AUC-ROC:  0.8542\n",
      "Accuracy: 0.8133\n",
      "F1 Score: 0.6237\n"
     ]
    }
   ],
   "source": [
    "print(\"Logistic Regression Training Metrics:\")\n",
    "print(f\"AUC-ROC:  {lg_roc_auc_train:.4f}\")\n",
    "print(f\"Accuracy: {lg_accuracy_train:.4f}\")\n",
    "print(f\"F1 Score: {lg_f1_train:.4f}\")\n",
    "print()\n",
    "print(\"Logistic Regression Validation Metrics:\")\n",
    "print(f\"AUC-ROC:  {lg_roc_auc_test:.4f}\")\n",
    "print(f\"Accuracy: {lg_accuracy_test:.4f}\")\n",
    "print(f\"F1 Score: {lg_f1_test:.4f}\")"
   ]
  },
  {
   "cell_type": "markdown",
   "metadata": {},
   "source": [
    "### DecisionTree Classifier<a id='dtc'></a>"
   ]
  },
  {
   "cell_type": "code",
   "execution_count": 48,
   "metadata": {},
   "outputs": [],
   "source": [
    "from sklearn.tree import DecisionTreeClassifier "
   ]
  },
  {
   "cell_type": "code",
   "execution_count": 49,
   "metadata": {
    "scrolled": true
   },
   "outputs": [
    {
     "name": "stdout",
     "output_type": "stream",
     "text": [
      "Max Depth-None, Samples Split-2, Samples Leaf-1: Accuracy=0.7757, F1 Score=0.5875, AUC-ROC=0.7147\n",
      "Max Depth-None, Samples Split-2, Samples Leaf-2: Accuracy=0.7821, F1 Score=0.5754, AUC-ROC=0.7365\n",
      "Max Depth-None, Samples Split-2, Samples Leaf-3: Accuracy=0.7686, F1 Score=0.5583, AUC-ROC=0.7382\n",
      "Max Depth-None, Samples Split-2, Samples Leaf-4: Accuracy=0.7729, F1 Score=0.5543, AUC-ROC=0.7584\n",
      "Max Depth-None, Samples Split-2, Samples Leaf-5: Accuracy=0.7786, F1 Score=0.5818, AUC-ROC=0.7764\n",
      "Max Depth-None, Samples Split-3, Samples Leaf-1: Accuracy=0.7793, F1 Score=0.5903, AUC-ROC=0.7314\n",
      "Max Depth-None, Samples Split-3, Samples Leaf-2: Accuracy=0.7750, F1 Score=0.5591, AUC-ROC=0.7345\n",
      "Max Depth-None, Samples Split-3, Samples Leaf-3: Accuracy=0.7665, F1 Score=0.5596, AUC-ROC=0.7376\n",
      "Max Depth-None, Samples Split-3, Samples Leaf-4: Accuracy=0.7736, F1 Score=0.5624, AUC-ROC=0.7570\n",
      "Max Depth-None, Samples Split-3, Samples Leaf-5: Accuracy=0.7800, F1 Score=0.5788, AUC-ROC=0.7731\n",
      "Max Depth-None, Samples Split-4, Samples Leaf-1: Accuracy=0.7771, F1 Score=0.5791, AUC-ROC=0.7226\n",
      "Max Depth-None, Samples Split-4, Samples Leaf-2: Accuracy=0.7793, F1 Score=0.5675, AUC-ROC=0.7383\n",
      "Max Depth-None, Samples Split-4, Samples Leaf-3: Accuracy=0.7708, F1 Score=0.5617, AUC-ROC=0.7415\n",
      "Max Depth-None, Samples Split-4, Samples Leaf-4: Accuracy=0.7715, F1 Score=0.5528, AUC-ROC=0.7538\n",
      "Max Depth-None, Samples Split-4, Samples Leaf-5: Accuracy=0.7750, F1 Score=0.5640, AUC-ROC=0.7748\n",
      "Max Depth-None, Samples Split-5, Samples Leaf-1: Accuracy=0.7750, F1 Score=0.5734, AUC-ROC=0.7269\n",
      "Max Depth-None, Samples Split-5, Samples Leaf-2: Accuracy=0.7700, F1 Score=0.5549, AUC-ROC=0.7291\n",
      "Max Depth-None, Samples Split-5, Samples Leaf-3: Accuracy=0.7665, F1 Score=0.5596, AUC-ROC=0.7329\n",
      "Max Depth-None, Samples Split-5, Samples Leaf-4: Accuracy=0.7672, F1 Score=0.5495, AUC-ROC=0.7504\n",
      "Max Depth-None, Samples Split-5, Samples Leaf-5: Accuracy=0.7750, F1 Score=0.5687, AUC-ROC=0.7716\n",
      "Max Depth-None, Samples Split-6, Samples Leaf-1: Accuracy=0.7821, F1 Score=0.5934, AUC-ROC=0.7479\n",
      "Max Depth-None, Samples Split-6, Samples Leaf-2: Accuracy=0.7771, F1 Score=0.5602, AUC-ROC=0.7423\n",
      "Max Depth-None, Samples Split-6, Samples Leaf-3: Accuracy=0.7693, F1 Score=0.5614, AUC-ROC=0.7358\n",
      "Max Depth-None, Samples Split-6, Samples Leaf-4: Accuracy=0.7800, F1 Score=0.5682, AUC-ROC=0.7514\n",
      "Max Depth-None, Samples Split-6, Samples Leaf-5: Accuracy=0.7786, F1 Score=0.5738, AUC-ROC=0.7748\n",
      "Max Depth-1, Samples Split-2, Samples Leaf-1: Accuracy=0.7488, F1 Score=0.5028, AUC-ROC=0.6595\n",
      "Max Depth-1, Samples Split-2, Samples Leaf-2: Accuracy=0.7488, F1 Score=0.5028, AUC-ROC=0.6595\n",
      "Max Depth-1, Samples Split-2, Samples Leaf-3: Accuracy=0.7488, F1 Score=0.5028, AUC-ROC=0.6595\n",
      "Max Depth-1, Samples Split-2, Samples Leaf-4: Accuracy=0.7488, F1 Score=0.5028, AUC-ROC=0.6595\n",
      "Max Depth-1, Samples Split-2, Samples Leaf-5: Accuracy=0.7488, F1 Score=0.5028, AUC-ROC=0.6595\n",
      "Max Depth-1, Samples Split-3, Samples Leaf-1: Accuracy=0.7488, F1 Score=0.5028, AUC-ROC=0.6595\n",
      "Max Depth-1, Samples Split-3, Samples Leaf-2: Accuracy=0.7488, F1 Score=0.5028, AUC-ROC=0.6595\n",
      "Max Depth-1, Samples Split-3, Samples Leaf-3: Accuracy=0.7488, F1 Score=0.5028, AUC-ROC=0.6595\n",
      "Max Depth-1, Samples Split-3, Samples Leaf-4: Accuracy=0.7488, F1 Score=0.5028, AUC-ROC=0.6595\n",
      "Max Depth-1, Samples Split-3, Samples Leaf-5: Accuracy=0.7488, F1 Score=0.5028, AUC-ROC=0.6595\n",
      "Max Depth-1, Samples Split-4, Samples Leaf-1: Accuracy=0.7488, F1 Score=0.5028, AUC-ROC=0.6595\n",
      "Max Depth-1, Samples Split-4, Samples Leaf-2: Accuracy=0.7488, F1 Score=0.5028, AUC-ROC=0.6595\n",
      "Max Depth-1, Samples Split-4, Samples Leaf-3: Accuracy=0.7488, F1 Score=0.5028, AUC-ROC=0.6595\n",
      "Max Depth-1, Samples Split-4, Samples Leaf-4: Accuracy=0.7488, F1 Score=0.5028, AUC-ROC=0.6595\n",
      "Max Depth-1, Samples Split-4, Samples Leaf-5: Accuracy=0.7488, F1 Score=0.5028, AUC-ROC=0.6595\n",
      "Max Depth-1, Samples Split-5, Samples Leaf-1: Accuracy=0.7488, F1 Score=0.5028, AUC-ROC=0.6595\n",
      "Max Depth-1, Samples Split-5, Samples Leaf-2: Accuracy=0.7488, F1 Score=0.5028, AUC-ROC=0.6595\n",
      "Max Depth-1, Samples Split-5, Samples Leaf-3: Accuracy=0.7488, F1 Score=0.5028, AUC-ROC=0.6595\n",
      "Max Depth-1, Samples Split-5, Samples Leaf-4: Accuracy=0.7488, F1 Score=0.5028, AUC-ROC=0.6595\n",
      "Max Depth-1, Samples Split-5, Samples Leaf-5: Accuracy=0.7488, F1 Score=0.5028, AUC-ROC=0.6595\n",
      "Max Depth-1, Samples Split-6, Samples Leaf-1: Accuracy=0.7488, F1 Score=0.5028, AUC-ROC=0.6595\n",
      "Max Depth-1, Samples Split-6, Samples Leaf-2: Accuracy=0.7488, F1 Score=0.5028, AUC-ROC=0.6595\n",
      "Max Depth-1, Samples Split-6, Samples Leaf-3: Accuracy=0.7488, F1 Score=0.5028, AUC-ROC=0.6595\n",
      "Max Depth-1, Samples Split-6, Samples Leaf-4: Accuracy=0.7488, F1 Score=0.5028, AUC-ROC=0.6595\n",
      "Max Depth-1, Samples Split-6, Samples Leaf-5: Accuracy=0.7488, F1 Score=0.5028, AUC-ROC=0.6595\n",
      "Max Depth-2, Samples Split-2, Samples Leaf-1: Accuracy=0.7764, F1 Score=0.3954, AUC-ROC=0.7673\n",
      "Max Depth-2, Samples Split-2, Samples Leaf-2: Accuracy=0.7764, F1 Score=0.3954, AUC-ROC=0.7673\n",
      "Max Depth-2, Samples Split-2, Samples Leaf-3: Accuracy=0.7764, F1 Score=0.3954, AUC-ROC=0.7673\n",
      "Max Depth-2, Samples Split-2, Samples Leaf-4: Accuracy=0.7764, F1 Score=0.3954, AUC-ROC=0.7673\n",
      "Max Depth-2, Samples Split-2, Samples Leaf-5: Accuracy=0.7764, F1 Score=0.3954, AUC-ROC=0.7673\n",
      "Max Depth-2, Samples Split-3, Samples Leaf-1: Accuracy=0.7764, F1 Score=0.3954, AUC-ROC=0.7673\n",
      "Max Depth-2, Samples Split-3, Samples Leaf-2: Accuracy=0.7764, F1 Score=0.3954, AUC-ROC=0.7673\n",
      "Max Depth-2, Samples Split-3, Samples Leaf-3: Accuracy=0.7764, F1 Score=0.3954, AUC-ROC=0.7673\n",
      "Max Depth-2, Samples Split-3, Samples Leaf-4: Accuracy=0.7764, F1 Score=0.3954, AUC-ROC=0.7673\n",
      "Max Depth-2, Samples Split-3, Samples Leaf-5: Accuracy=0.7764, F1 Score=0.3954, AUC-ROC=0.7673\n",
      "Max Depth-2, Samples Split-4, Samples Leaf-1: Accuracy=0.7764, F1 Score=0.3954, AUC-ROC=0.7673\n",
      "Max Depth-2, Samples Split-4, Samples Leaf-2: Accuracy=0.7764, F1 Score=0.3954, AUC-ROC=0.7673\n",
      "Max Depth-2, Samples Split-4, Samples Leaf-3: Accuracy=0.7764, F1 Score=0.3954, AUC-ROC=0.7673\n",
      "Max Depth-2, Samples Split-4, Samples Leaf-4: Accuracy=0.7764, F1 Score=0.3954, AUC-ROC=0.7673\n",
      "Max Depth-2, Samples Split-4, Samples Leaf-5: Accuracy=0.7764, F1 Score=0.3954, AUC-ROC=0.7673\n",
      "Max Depth-2, Samples Split-5, Samples Leaf-1: Accuracy=0.7764, F1 Score=0.3954, AUC-ROC=0.7673\n",
      "Max Depth-2, Samples Split-5, Samples Leaf-2: Accuracy=0.7764, F1 Score=0.3954, AUC-ROC=0.7673\n",
      "Max Depth-2, Samples Split-5, Samples Leaf-3: Accuracy=0.7764, F1 Score=0.3954, AUC-ROC=0.7673\n",
      "Max Depth-2, Samples Split-5, Samples Leaf-4: Accuracy=0.7764, F1 Score=0.3954, AUC-ROC=0.7673\n",
      "Max Depth-2, Samples Split-5, Samples Leaf-5: Accuracy=0.7764, F1 Score=0.3954, AUC-ROC=0.7673\n",
      "Max Depth-2, Samples Split-6, Samples Leaf-1: Accuracy=0.7764, F1 Score=0.3954, AUC-ROC=0.7673\n",
      "Max Depth-2, Samples Split-6, Samples Leaf-2: Accuracy=0.7764, F1 Score=0.3954, AUC-ROC=0.7673\n",
      "Max Depth-2, Samples Split-6, Samples Leaf-3: Accuracy=0.7764, F1 Score=0.3954, AUC-ROC=0.7673\n",
      "Max Depth-2, Samples Split-6, Samples Leaf-4: Accuracy=0.7764, F1 Score=0.3954, AUC-ROC=0.7673\n",
      "Max Depth-2, Samples Split-6, Samples Leaf-5: Accuracy=0.7764, F1 Score=0.3954, AUC-ROC=0.7673\n",
      "Max Depth-3, Samples Split-2, Samples Leaf-1: Accuracy=0.7913, F1 Score=0.4576, AUC-ROC=0.8213\n",
      "Max Depth-3, Samples Split-2, Samples Leaf-2: Accuracy=0.7913, F1 Score=0.4576, AUC-ROC=0.8213\n",
      "Max Depth-3, Samples Split-2, Samples Leaf-3: Accuracy=0.7913, F1 Score=0.4576, AUC-ROC=0.8213\n",
      "Max Depth-3, Samples Split-2, Samples Leaf-4: Accuracy=0.7913, F1 Score=0.4576, AUC-ROC=0.8213\n",
      "Max Depth-3, Samples Split-2, Samples Leaf-5: Accuracy=0.7913, F1 Score=0.4576, AUC-ROC=0.8213\n",
      "Max Depth-3, Samples Split-3, Samples Leaf-1: Accuracy=0.7913, F1 Score=0.4576, AUC-ROC=0.8213\n",
      "Max Depth-3, Samples Split-3, Samples Leaf-2: Accuracy=0.7913, F1 Score=0.4576, AUC-ROC=0.8213\n",
      "Max Depth-3, Samples Split-3, Samples Leaf-3: Accuracy=0.7913, F1 Score=0.4576, AUC-ROC=0.8213\n",
      "Max Depth-3, Samples Split-3, Samples Leaf-4: Accuracy=0.7913, F1 Score=0.4576, AUC-ROC=0.8213\n",
      "Max Depth-3, Samples Split-3, Samples Leaf-5: Accuracy=0.7913, F1 Score=0.4576, AUC-ROC=0.8213\n",
      "Max Depth-3, Samples Split-4, Samples Leaf-1: Accuracy=0.7913, F1 Score=0.4576, AUC-ROC=0.8213\n",
      "Max Depth-3, Samples Split-4, Samples Leaf-2: Accuracy=0.7913, F1 Score=0.4576, AUC-ROC=0.8213\n",
      "Max Depth-3, Samples Split-4, Samples Leaf-3: Accuracy=0.7913, F1 Score=0.4576, AUC-ROC=0.8213\n",
      "Max Depth-3, Samples Split-4, Samples Leaf-4: Accuracy=0.7913, F1 Score=0.4576, AUC-ROC=0.8213\n",
      "Max Depth-3, Samples Split-4, Samples Leaf-5: Accuracy=0.7913, F1 Score=0.4576, AUC-ROC=0.8213\n",
      "Max Depth-3, Samples Split-5, Samples Leaf-1: Accuracy=0.7913, F1 Score=0.4576, AUC-ROC=0.8213\n",
      "Max Depth-3, Samples Split-5, Samples Leaf-2: Accuracy=0.7913, F1 Score=0.4576, AUC-ROC=0.8213\n",
      "Max Depth-3, Samples Split-5, Samples Leaf-3: Accuracy=0.7913, F1 Score=0.4576, AUC-ROC=0.8213\n",
      "Max Depth-3, Samples Split-5, Samples Leaf-4: Accuracy=0.7913, F1 Score=0.4576, AUC-ROC=0.8213\n",
      "Max Depth-3, Samples Split-5, Samples Leaf-5: Accuracy=0.7913, F1 Score=0.4576, AUC-ROC=0.8213\n",
      "Max Depth-3, Samples Split-6, Samples Leaf-1: Accuracy=0.7913, F1 Score=0.4576, AUC-ROC=0.8213\n"
     ]
    },
    {
     "name": "stdout",
     "output_type": "stream",
     "text": [
      "Max Depth-3, Samples Split-6, Samples Leaf-2: Accuracy=0.7913, F1 Score=0.4576, AUC-ROC=0.8213\n",
      "Max Depth-3, Samples Split-6, Samples Leaf-3: Accuracy=0.7913, F1 Score=0.4576, AUC-ROC=0.8213\n",
      "Max Depth-3, Samples Split-6, Samples Leaf-4: Accuracy=0.7913, F1 Score=0.4576, AUC-ROC=0.8213\n",
      "Max Depth-3, Samples Split-6, Samples Leaf-5: Accuracy=0.7913, F1 Score=0.4576, AUC-ROC=0.8213\n",
      "Max Depth-4, Samples Split-2, Samples Leaf-1: Accuracy=0.7999, F1 Score=0.5791, AUC-ROC=0.8469\n",
      "Max Depth-4, Samples Split-2, Samples Leaf-2: Accuracy=0.7999, F1 Score=0.5791, AUC-ROC=0.8469\n",
      "Max Depth-4, Samples Split-2, Samples Leaf-3: Accuracy=0.7999, F1 Score=0.5791, AUC-ROC=0.8469\n",
      "Max Depth-4, Samples Split-2, Samples Leaf-4: Accuracy=0.7999, F1 Score=0.5791, AUC-ROC=0.8469\n",
      "Max Depth-4, Samples Split-2, Samples Leaf-5: Accuracy=0.7999, F1 Score=0.5791, AUC-ROC=0.8471\n",
      "Max Depth-4, Samples Split-3, Samples Leaf-1: Accuracy=0.7999, F1 Score=0.5791, AUC-ROC=0.8469\n",
      "Max Depth-4, Samples Split-3, Samples Leaf-2: Accuracy=0.7999, F1 Score=0.5791, AUC-ROC=0.8469\n",
      "Max Depth-4, Samples Split-3, Samples Leaf-3: Accuracy=0.7999, F1 Score=0.5791, AUC-ROC=0.8469\n",
      "Max Depth-4, Samples Split-3, Samples Leaf-4: Accuracy=0.7999, F1 Score=0.5791, AUC-ROC=0.8469\n",
      "Max Depth-4, Samples Split-3, Samples Leaf-5: Accuracy=0.7999, F1 Score=0.5791, AUC-ROC=0.8471\n",
      "Max Depth-4, Samples Split-4, Samples Leaf-1: Accuracy=0.7999, F1 Score=0.5791, AUC-ROC=0.8469\n",
      "Max Depth-4, Samples Split-4, Samples Leaf-2: Accuracy=0.7999, F1 Score=0.5791, AUC-ROC=0.8469\n",
      "Max Depth-4, Samples Split-4, Samples Leaf-3: Accuracy=0.7999, F1 Score=0.5791, AUC-ROC=0.8469\n",
      "Max Depth-4, Samples Split-4, Samples Leaf-4: Accuracy=0.7999, F1 Score=0.5791, AUC-ROC=0.8469\n",
      "Max Depth-4, Samples Split-4, Samples Leaf-5: Accuracy=0.7999, F1 Score=0.5791, AUC-ROC=0.8471\n",
      "Max Depth-4, Samples Split-5, Samples Leaf-1: Accuracy=0.7999, F1 Score=0.5791, AUC-ROC=0.8469\n",
      "Max Depth-4, Samples Split-5, Samples Leaf-2: Accuracy=0.7999, F1 Score=0.5791, AUC-ROC=0.8469\n",
      "Max Depth-4, Samples Split-5, Samples Leaf-3: Accuracy=0.7999, F1 Score=0.5791, AUC-ROC=0.8469\n",
      "Max Depth-4, Samples Split-5, Samples Leaf-4: Accuracy=0.7999, F1 Score=0.5791, AUC-ROC=0.8469\n",
      "Max Depth-4, Samples Split-5, Samples Leaf-5: Accuracy=0.7999, F1 Score=0.5791, AUC-ROC=0.8471\n",
      "Max Depth-4, Samples Split-6, Samples Leaf-1: Accuracy=0.7999, F1 Score=0.5791, AUC-ROC=0.8469\n",
      "Max Depth-4, Samples Split-6, Samples Leaf-2: Accuracy=0.7999, F1 Score=0.5791, AUC-ROC=0.8469\n",
      "Max Depth-4, Samples Split-6, Samples Leaf-3: Accuracy=0.7999, F1 Score=0.5791, AUC-ROC=0.8469\n",
      "Max Depth-4, Samples Split-6, Samples Leaf-4: Accuracy=0.7999, F1 Score=0.5791, AUC-ROC=0.8469\n",
      "Max Depth-4, Samples Split-6, Samples Leaf-5: Accuracy=0.7999, F1 Score=0.5791, AUC-ROC=0.8471\n",
      "Max Depth-5, Samples Split-2, Samples Leaf-1: Accuracy=0.8013, F1 Score=0.5639, AUC-ROC=0.8520\n",
      "Max Depth-5, Samples Split-2, Samples Leaf-2: Accuracy=0.8013, F1 Score=0.5639, AUC-ROC=0.8514\n",
      "Max Depth-5, Samples Split-2, Samples Leaf-3: Accuracy=0.8013, F1 Score=0.5639, AUC-ROC=0.8517\n",
      "Max Depth-5, Samples Split-2, Samples Leaf-4: Accuracy=0.8013, F1 Score=0.5639, AUC-ROC=0.8517\n",
      "Max Depth-5, Samples Split-2, Samples Leaf-5: Accuracy=0.8013, F1 Score=0.5639, AUC-ROC=0.8517\n",
      "Max Depth-5, Samples Split-3, Samples Leaf-1: Accuracy=0.8013, F1 Score=0.5639, AUC-ROC=0.8520\n",
      "Max Depth-5, Samples Split-3, Samples Leaf-2: Accuracy=0.8013, F1 Score=0.5639, AUC-ROC=0.8514\n",
      "Max Depth-5, Samples Split-3, Samples Leaf-3: Accuracy=0.8013, F1 Score=0.5639, AUC-ROC=0.8517\n",
      "Max Depth-5, Samples Split-3, Samples Leaf-4: Accuracy=0.8013, F1 Score=0.5639, AUC-ROC=0.8517\n",
      "Max Depth-5, Samples Split-3, Samples Leaf-5: Accuracy=0.8013, F1 Score=0.5639, AUC-ROC=0.8517\n",
      "Max Depth-5, Samples Split-4, Samples Leaf-1: Accuracy=0.8013, F1 Score=0.5639, AUC-ROC=0.8520\n",
      "Max Depth-5, Samples Split-4, Samples Leaf-2: Accuracy=0.8013, F1 Score=0.5639, AUC-ROC=0.8514\n",
      "Max Depth-5, Samples Split-4, Samples Leaf-3: Accuracy=0.8013, F1 Score=0.5639, AUC-ROC=0.8517\n",
      "Max Depth-5, Samples Split-4, Samples Leaf-4: Accuracy=0.8013, F1 Score=0.5639, AUC-ROC=0.8517\n",
      "Max Depth-5, Samples Split-4, Samples Leaf-5: Accuracy=0.8013, F1 Score=0.5639, AUC-ROC=0.8517\n",
      "Max Depth-5, Samples Split-5, Samples Leaf-1: Accuracy=0.8013, F1 Score=0.5639, AUC-ROC=0.8517\n",
      "Max Depth-5, Samples Split-5, Samples Leaf-2: Accuracy=0.8013, F1 Score=0.5639, AUC-ROC=0.8517\n",
      "Max Depth-5, Samples Split-5, Samples Leaf-3: Accuracy=0.8013, F1 Score=0.5639, AUC-ROC=0.8517\n",
      "Max Depth-5, Samples Split-5, Samples Leaf-4: Accuracy=0.8013, F1 Score=0.5639, AUC-ROC=0.8517\n",
      "Max Depth-5, Samples Split-5, Samples Leaf-5: Accuracy=0.8013, F1 Score=0.5639, AUC-ROC=0.8517\n",
      "Max Depth-5, Samples Split-6, Samples Leaf-1: Accuracy=0.8013, F1 Score=0.5639, AUC-ROC=0.8517\n",
      "Max Depth-5, Samples Split-6, Samples Leaf-2: Accuracy=0.8013, F1 Score=0.5639, AUC-ROC=0.8517\n",
      "Max Depth-5, Samples Split-6, Samples Leaf-3: Accuracy=0.8013, F1 Score=0.5639, AUC-ROC=0.8517\n",
      "Max Depth-5, Samples Split-6, Samples Leaf-4: Accuracy=0.8013, F1 Score=0.5639, AUC-ROC=0.8517\n",
      "Max Depth-5, Samples Split-6, Samples Leaf-5: Accuracy=0.8013, F1 Score=0.5639, AUC-ROC=0.8517\n"
     ]
    }
   ],
   "source": [
    "depths = [None, 1, 2, 3, 4, 5]\n",
    "samples_split = [2, 3, 4, 5, 6]\n",
    "samples_leaf = [1, 2, 3, 4, 5]\n",
    "\n",
    "# Dictionary to store the best metrics and corresponding hyperparameters\n",
    "best_metrics = {\n",
    "    \"depth\": 0, \"split\": 0, \"leaf\": 0,\n",
    "    \"accuracy\": 0, \"f1_score\": 0, \"auc_roc\": 0\n",
    "}\n",
    "\n",
    "# Grid search\n",
    "for i in depths:\n",
    "    for j in samples_split:\n",
    "        for k in samples_leaf:\n",
    "            # Create a classifier object\n",
    "            dt_classifier = DecisionTreeClassifier(max_depth=i, min_samples_split=j, min_samples_leaf=k)\n",
    "            dt_classifier.fit(X_train, y_train)\n",
    "            \n",
    "            # Predictions and predicted probabilities\n",
    "            y_test_pred = dt_classifier.predict(X_test)\n",
    "            y_test_prob = dt_classifier.predict_proba(X_test)[:, 1]\n",
    "            \n",
    "            # Calculate metrics\n",
    "            accuracy_test = accuracy_score(y_test, y_test_pred)\n",
    "            f1_test = f1_score(y_test, y_test_pred)\n",
    "            auc_roc_test = roc_auc_score(y_test, y_test_prob)\n",
    "            \n",
    "            # Print metrics\n",
    "            print(f\"Max Depth-{i}, Samples Split-{j}, Samples Leaf-{k}: Accuracy={accuracy_test:.4f}, F1 Score={f1_test:.4f}, AUC-ROC={auc_roc_test:.4f}\")\n",
    "            \n",
    "            # Update best metrics if current metrics are better\n",
    "            if accuracy_test > best_metrics['accuracy']:\n",
    "                best_metrics.update({\n",
    "                    \"depth\": i, \"split\": j, \"leaf\": k,\n",
    "                    \"accuracy\": accuracy_test, \"f1_score\": f1_test, \"auc_roc\": auc_roc_test\n",
    "                })"
   ]
  },
  {
   "cell_type": "code",
   "execution_count": 50,
   "metadata": {},
   "outputs": [
    {
     "name": "stdout",
     "output_type": "stream",
     "text": [
      "Best Hyperparameters and Metrics:\n",
      "Max Depth: 5, Samples Split: 2, Samples Leaf: 1\n",
      "\n",
      "DecisionTree Accuracy:\n",
      "AUC-ROC: 0.8520\n",
      "Accuracy: 0.8013\n",
      "F1 Score: 0.5639\n"
     ]
    }
   ],
   "source": [
    "# Print the best hyperparameters and metrics\n",
    "\n",
    "print(\"Best Hyperparameters and Metrics:\")\n",
    "print(f\"Max Depth: {best_metrics['depth']}, Samples Split: {best_metrics['split']}, Samples Leaf: {best_metrics['leaf']}\")\n",
    "print()\n",
    "print('DecisionTree Accuracy:')\n",
    "print(f\"AUC-ROC: {best_metrics['auc_roc']:.4f}\")\n",
    "print(f\"Accuracy: {best_metrics['accuracy']:.4f}\")\n",
    "print(f\"F1 Score: {best_metrics['f1_score']:.4f}\")\n"
   ]
  },
  {
   "cell_type": "markdown",
   "metadata": {},
   "source": [
    "### RandomForest Classifier<a id='rfc'></a>"
   ]
  },
  {
   "cell_type": "code",
   "execution_count": 51,
   "metadata": {},
   "outputs": [],
   "source": [
    "from sklearn.ensemble import RandomForestClassifier\n",
    "from sklearn.model_selection import GridSearchCV"
   ]
  },
  {
   "cell_type": "code",
   "execution_count": 52,
   "metadata": {},
   "outputs": [
    {
     "name": "stderr",
     "output_type": "stream",
     "text": [
      "/tmp/ipykernel_176/1290535634.py:17: DataConversionWarning: A column-vector y was passed when a 1d array was expected. Please change the shape of y to (n_samples,), for example using ravel().\n",
      "  rf_classifier.fit(X_train, y_train)\n"
     ]
    },
    {
     "name": "stdout",
     "output_type": "stream",
     "text": [
      "Max Depth-None, Samples Split-2, Samples Leaf-1: RF Accuracy=0.8070, RF F1 Score=0.5904, RF AUC-ROC=0.8489\n"
     ]
    },
    {
     "name": "stderr",
     "output_type": "stream",
     "text": [
      "/tmp/ipykernel_176/1290535634.py:17: DataConversionWarning: A column-vector y was passed when a 1d array was expected. Please change the shape of y to (n_samples,), for example using ravel().\n",
      "  rf_classifier.fit(X_train, y_train)\n"
     ]
    },
    {
     "name": "stdout",
     "output_type": "stream",
     "text": [
      "Max Depth-None, Samples Split-2, Samples Leaf-2: RF Accuracy=0.8204, RF F1 Score=0.6172, RF AUC-ROC=0.8568\n"
     ]
    },
    {
     "name": "stderr",
     "output_type": "stream",
     "text": [
      "/tmp/ipykernel_176/1290535634.py:17: DataConversionWarning: A column-vector y was passed when a 1d array was expected. Please change the shape of y to (n_samples,), for example using ravel().\n",
      "  rf_classifier.fit(X_train, y_train)\n"
     ]
    },
    {
     "name": "stdout",
     "output_type": "stream",
     "text": [
      "Max Depth-None, Samples Split-2, Samples Leaf-3: RF Accuracy=0.8197, RF F1 Score=0.6140, RF AUC-ROC=0.8588\n"
     ]
    },
    {
     "name": "stderr",
     "output_type": "stream",
     "text": [
      "/tmp/ipykernel_176/1290535634.py:17: DataConversionWarning: A column-vector y was passed when a 1d array was expected. Please change the shape of y to (n_samples,), for example using ravel().\n",
      "  rf_classifier.fit(X_train, y_train)\n"
     ]
    },
    {
     "name": "stdout",
     "output_type": "stream",
     "text": [
      "Max Depth-None, Samples Split-2, Samples Leaf-4: RF Accuracy=0.8190, RF F1 Score=0.6119, RF AUC-ROC=0.8590\n"
     ]
    },
    {
     "name": "stderr",
     "output_type": "stream",
     "text": [
      "/tmp/ipykernel_176/1290535634.py:17: DataConversionWarning: A column-vector y was passed when a 1d array was expected. Please change the shape of y to (n_samples,), for example using ravel().\n",
      "  rf_classifier.fit(X_train, y_train)\n"
     ]
    },
    {
     "name": "stdout",
     "output_type": "stream",
     "text": [
      "Max Depth-None, Samples Split-2, Samples Leaf-5: RF Accuracy=0.8190, RF F1 Score=0.6142, RF AUC-ROC=0.8617\n"
     ]
    },
    {
     "name": "stderr",
     "output_type": "stream",
     "text": [
      "/tmp/ipykernel_176/1290535634.py:17: DataConversionWarning: A column-vector y was passed when a 1d array was expected. Please change the shape of y to (n_samples,), for example using ravel().\n",
      "  rf_classifier.fit(X_train, y_train)\n"
     ]
    },
    {
     "name": "stdout",
     "output_type": "stream",
     "text": [
      "Max Depth-None, Samples Split-3, Samples Leaf-1: RF Accuracy=0.8133, RF F1 Score=0.6009, RF AUC-ROC=0.8493\n"
     ]
    },
    {
     "name": "stderr",
     "output_type": "stream",
     "text": [
      "/tmp/ipykernel_176/1290535634.py:17: DataConversionWarning: A column-vector y was passed when a 1d array was expected. Please change the shape of y to (n_samples,), for example using ravel().\n",
      "  rf_classifier.fit(X_train, y_train)\n"
     ]
    },
    {
     "name": "stdout",
     "output_type": "stream",
     "text": [
      "Max Depth-None, Samples Split-3, Samples Leaf-2: RF Accuracy=0.8204, RF F1 Score=0.6172, RF AUC-ROC=0.8568\n"
     ]
    },
    {
     "name": "stderr",
     "output_type": "stream",
     "text": [
      "/tmp/ipykernel_176/1290535634.py:17: DataConversionWarning: A column-vector y was passed when a 1d array was expected. Please change the shape of y to (n_samples,), for example using ravel().\n",
      "  rf_classifier.fit(X_train, y_train)\n"
     ]
    },
    {
     "name": "stdout",
     "output_type": "stream",
     "text": [
      "Max Depth-None, Samples Split-3, Samples Leaf-3: RF Accuracy=0.8197, RF F1 Score=0.6140, RF AUC-ROC=0.8588\n"
     ]
    },
    {
     "name": "stderr",
     "output_type": "stream",
     "text": [
      "/tmp/ipykernel_176/1290535634.py:17: DataConversionWarning: A column-vector y was passed when a 1d array was expected. Please change the shape of y to (n_samples,), for example using ravel().\n",
      "  rf_classifier.fit(X_train, y_train)\n"
     ]
    },
    {
     "name": "stdout",
     "output_type": "stream",
     "text": [
      "Max Depth-None, Samples Split-3, Samples Leaf-4: RF Accuracy=0.8190, RF F1 Score=0.6119, RF AUC-ROC=0.8590\n"
     ]
    },
    {
     "name": "stderr",
     "output_type": "stream",
     "text": [
      "/tmp/ipykernel_176/1290535634.py:17: DataConversionWarning: A column-vector y was passed when a 1d array was expected. Please change the shape of y to (n_samples,), for example using ravel().\n",
      "  rf_classifier.fit(X_train, y_train)\n"
     ]
    },
    {
     "name": "stdout",
     "output_type": "stream",
     "text": [
      "Max Depth-None, Samples Split-3, Samples Leaf-5: RF Accuracy=0.8190, RF F1 Score=0.6142, RF AUC-ROC=0.8617\n"
     ]
    },
    {
     "name": "stderr",
     "output_type": "stream",
     "text": [
      "/tmp/ipykernel_176/1290535634.py:17: DataConversionWarning: A column-vector y was passed when a 1d array was expected. Please change the shape of y to (n_samples,), for example using ravel().\n",
      "  rf_classifier.fit(X_train, y_train)\n"
     ]
    },
    {
     "name": "stdout",
     "output_type": "stream",
     "text": [
      "Max Depth-None, Samples Split-4, Samples Leaf-1: RF Accuracy=0.8126, RF F1 Score=0.6036, RF AUC-ROC=0.8544\n"
     ]
    },
    {
     "name": "stderr",
     "output_type": "stream",
     "text": [
      "/tmp/ipykernel_176/1290535634.py:17: DataConversionWarning: A column-vector y was passed when a 1d array was expected. Please change the shape of y to (n_samples,), for example using ravel().\n",
      "  rf_classifier.fit(X_train, y_train)\n"
     ]
    },
    {
     "name": "stdout",
     "output_type": "stream",
     "text": [
      "Max Depth-None, Samples Split-4, Samples Leaf-2: RF Accuracy=0.8204, RF F1 Score=0.6172, RF AUC-ROC=0.8568\n"
     ]
    },
    {
     "name": "stderr",
     "output_type": "stream",
     "text": [
      "/tmp/ipykernel_176/1290535634.py:17: DataConversionWarning: A column-vector y was passed when a 1d array was expected. Please change the shape of y to (n_samples,), for example using ravel().\n",
      "  rf_classifier.fit(X_train, y_train)\n"
     ]
    },
    {
     "name": "stdout",
     "output_type": "stream",
     "text": [
      "Max Depth-None, Samples Split-4, Samples Leaf-3: RF Accuracy=0.8197, RF F1 Score=0.6140, RF AUC-ROC=0.8588\n"
     ]
    },
    {
     "name": "stderr",
     "output_type": "stream",
     "text": [
      "/tmp/ipykernel_176/1290535634.py:17: DataConversionWarning: A column-vector y was passed when a 1d array was expected. Please change the shape of y to (n_samples,), for example using ravel().\n",
      "  rf_classifier.fit(X_train, y_train)\n"
     ]
    },
    {
     "name": "stdout",
     "output_type": "stream",
     "text": [
      "Max Depth-None, Samples Split-4, Samples Leaf-4: RF Accuracy=0.8190, RF F1 Score=0.6119, RF AUC-ROC=0.8590\n"
     ]
    },
    {
     "name": "stderr",
     "output_type": "stream",
     "text": [
      "/tmp/ipykernel_176/1290535634.py:17: DataConversionWarning: A column-vector y was passed when a 1d array was expected. Please change the shape of y to (n_samples,), for example using ravel().\n",
      "  rf_classifier.fit(X_train, y_train)\n"
     ]
    },
    {
     "name": "stdout",
     "output_type": "stream",
     "text": [
      "Max Depth-None, Samples Split-4, Samples Leaf-5: RF Accuracy=0.8190, RF F1 Score=0.6142, RF AUC-ROC=0.8617\n"
     ]
    },
    {
     "name": "stderr",
     "output_type": "stream",
     "text": [
      "/tmp/ipykernel_176/1290535634.py:17: DataConversionWarning: A column-vector y was passed when a 1d array was expected. Please change the shape of y to (n_samples,), for example using ravel().\n",
      "  rf_classifier.fit(X_train, y_train)\n"
     ]
    },
    {
     "name": "stdout",
     "output_type": "stream",
     "text": [
      "Max Depth-None, Samples Split-5, Samples Leaf-1: RF Accuracy=0.8133, RF F1 Score=0.6069, RF AUC-ROC=0.8529\n"
     ]
    },
    {
     "name": "stderr",
     "output_type": "stream",
     "text": [
      "/tmp/ipykernel_176/1290535634.py:17: DataConversionWarning: A column-vector y was passed when a 1d array was expected. Please change the shape of y to (n_samples,), for example using ravel().\n",
      "  rf_classifier.fit(X_train, y_train)\n"
     ]
    },
    {
     "name": "stdout",
     "output_type": "stream",
     "text": [
      "Max Depth-None, Samples Split-5, Samples Leaf-2: RF Accuracy=0.8219, RF F1 Score=0.6203, RF AUC-ROC=0.8564\n"
     ]
    },
    {
     "name": "stderr",
     "output_type": "stream",
     "text": [
      "/tmp/ipykernel_176/1290535634.py:17: DataConversionWarning: A column-vector y was passed when a 1d array was expected. Please change the shape of y to (n_samples,), for example using ravel().\n",
      "  rf_classifier.fit(X_train, y_train)\n"
     ]
    },
    {
     "name": "stdout",
     "output_type": "stream",
     "text": [
      "Max Depth-None, Samples Split-5, Samples Leaf-3: RF Accuracy=0.8197, RF F1 Score=0.6140, RF AUC-ROC=0.8588\n"
     ]
    },
    {
     "name": "stderr",
     "output_type": "stream",
     "text": [
      "/tmp/ipykernel_176/1290535634.py:17: DataConversionWarning: A column-vector y was passed when a 1d array was expected. Please change the shape of y to (n_samples,), for example using ravel().\n",
      "  rf_classifier.fit(X_train, y_train)\n"
     ]
    },
    {
     "name": "stdout",
     "output_type": "stream",
     "text": [
      "Max Depth-None, Samples Split-5, Samples Leaf-4: RF Accuracy=0.8190, RF F1 Score=0.6119, RF AUC-ROC=0.8590\n"
     ]
    },
    {
     "name": "stderr",
     "output_type": "stream",
     "text": [
      "/tmp/ipykernel_176/1290535634.py:17: DataConversionWarning: A column-vector y was passed when a 1d array was expected. Please change the shape of y to (n_samples,), for example using ravel().\n",
      "  rf_classifier.fit(X_train, y_train)\n"
     ]
    },
    {
     "name": "stdout",
     "output_type": "stream",
     "text": [
      "Max Depth-None, Samples Split-5, Samples Leaf-5: RF Accuracy=0.8190, RF F1 Score=0.6142, RF AUC-ROC=0.8617\n"
     ]
    },
    {
     "name": "stderr",
     "output_type": "stream",
     "text": [
      "/tmp/ipykernel_176/1290535634.py:17: DataConversionWarning: A column-vector y was passed when a 1d array was expected. Please change the shape of y to (n_samples,), for example using ravel().\n",
      "  rf_classifier.fit(X_train, y_train)\n"
     ]
    },
    {
     "name": "stdout",
     "output_type": "stream",
     "text": [
      "Max Depth-None, Samples Split-6, Samples Leaf-1: RF Accuracy=0.8176, RF F1 Score=0.6112, RF AUC-ROC=0.8566\n"
     ]
    },
    {
     "name": "stderr",
     "output_type": "stream",
     "text": [
      "/tmp/ipykernel_176/1290535634.py:17: DataConversionWarning: A column-vector y was passed when a 1d array was expected. Please change the shape of y to (n_samples,), for example using ravel().\n",
      "  rf_classifier.fit(X_train, y_train)\n"
     ]
    },
    {
     "name": "stdout",
     "output_type": "stream",
     "text": [
      "Max Depth-None, Samples Split-6, Samples Leaf-2: RF Accuracy=0.8211, RF F1 Score=0.6123, RF AUC-ROC=0.8559\n"
     ]
    },
    {
     "name": "stderr",
     "output_type": "stream",
     "text": [
      "/tmp/ipykernel_176/1290535634.py:17: DataConversionWarning: A column-vector y was passed when a 1d array was expected. Please change the shape of y to (n_samples,), for example using ravel().\n",
      "  rf_classifier.fit(X_train, y_train)\n"
     ]
    },
    {
     "name": "stdout",
     "output_type": "stream",
     "text": [
      "Max Depth-None, Samples Split-6, Samples Leaf-3: RF Accuracy=0.8197, RF F1 Score=0.6140, RF AUC-ROC=0.8588\n"
     ]
    },
    {
     "name": "stderr",
     "output_type": "stream",
     "text": [
      "/tmp/ipykernel_176/1290535634.py:17: DataConversionWarning: A column-vector y was passed when a 1d array was expected. Please change the shape of y to (n_samples,), for example using ravel().\n",
      "  rf_classifier.fit(X_train, y_train)\n"
     ]
    },
    {
     "name": "stdout",
     "output_type": "stream",
     "text": [
      "Max Depth-None, Samples Split-6, Samples Leaf-4: RF Accuracy=0.8190, RF F1 Score=0.6119, RF AUC-ROC=0.8590\n"
     ]
    },
    {
     "name": "stderr",
     "output_type": "stream",
     "text": [
      "/tmp/ipykernel_176/1290535634.py:17: DataConversionWarning: A column-vector y was passed when a 1d array was expected. Please change the shape of y to (n_samples,), for example using ravel().\n",
      "  rf_classifier.fit(X_train, y_train)\n"
     ]
    },
    {
     "name": "stdout",
     "output_type": "stream",
     "text": [
      "Max Depth-None, Samples Split-6, Samples Leaf-5: RF Accuracy=0.8190, RF F1 Score=0.6142, RF AUC-ROC=0.8617\n"
     ]
    },
    {
     "name": "stderr",
     "output_type": "stream",
     "text": [
      "/tmp/ipykernel_176/1290535634.py:17: DataConversionWarning: A column-vector y was passed when a 1d array was expected. Please change the shape of y to (n_samples,), for example using ravel().\n",
      "  rf_classifier.fit(X_train, y_train)\n"
     ]
    },
    {
     "name": "stdout",
     "output_type": "stream",
     "text": [
      "Max Depth-1, Samples Split-2, Samples Leaf-1: RF Accuracy=0.7239, RF F1 Score=0.0000, RF AUC-ROC=0.8380\n"
     ]
    },
    {
     "name": "stderr",
     "output_type": "stream",
     "text": [
      "/tmp/ipykernel_176/1290535634.py:17: DataConversionWarning: A column-vector y was passed when a 1d array was expected. Please change the shape of y to (n_samples,), for example using ravel().\n",
      "  rf_classifier.fit(X_train, y_train)\n"
     ]
    },
    {
     "name": "stdout",
     "output_type": "stream",
     "text": [
      "Max Depth-1, Samples Split-2, Samples Leaf-2: RF Accuracy=0.7239, RF F1 Score=0.0000, RF AUC-ROC=0.8380\n"
     ]
    },
    {
     "name": "stderr",
     "output_type": "stream",
     "text": [
      "/tmp/ipykernel_176/1290535634.py:17: DataConversionWarning: A column-vector y was passed when a 1d array was expected. Please change the shape of y to (n_samples,), for example using ravel().\n",
      "  rf_classifier.fit(X_train, y_train)\n"
     ]
    },
    {
     "name": "stdout",
     "output_type": "stream",
     "text": [
      "Max Depth-1, Samples Split-2, Samples Leaf-3: RF Accuracy=0.7239, RF F1 Score=0.0000, RF AUC-ROC=0.8380\n"
     ]
    },
    {
     "name": "stderr",
     "output_type": "stream",
     "text": [
      "/tmp/ipykernel_176/1290535634.py:17: DataConversionWarning: A column-vector y was passed when a 1d array was expected. Please change the shape of y to (n_samples,), for example using ravel().\n",
      "  rf_classifier.fit(X_train, y_train)\n"
     ]
    },
    {
     "name": "stdout",
     "output_type": "stream",
     "text": [
      "Max Depth-1, Samples Split-2, Samples Leaf-4: RF Accuracy=0.7239, RF F1 Score=0.0000, RF AUC-ROC=0.8380\n"
     ]
    },
    {
     "name": "stderr",
     "output_type": "stream",
     "text": [
      "/tmp/ipykernel_176/1290535634.py:17: DataConversionWarning: A column-vector y was passed when a 1d array was expected. Please change the shape of y to (n_samples,), for example using ravel().\n",
      "  rf_classifier.fit(X_train, y_train)\n"
     ]
    },
    {
     "name": "stdout",
     "output_type": "stream",
     "text": [
      "Max Depth-1, Samples Split-2, Samples Leaf-5: RF Accuracy=0.7239, RF F1 Score=0.0000, RF AUC-ROC=0.8380\n"
     ]
    },
    {
     "name": "stderr",
     "output_type": "stream",
     "text": [
      "/tmp/ipykernel_176/1290535634.py:17: DataConversionWarning: A column-vector y was passed when a 1d array was expected. Please change the shape of y to (n_samples,), for example using ravel().\n",
      "  rf_classifier.fit(X_train, y_train)\n"
     ]
    },
    {
     "name": "stdout",
     "output_type": "stream",
     "text": [
      "Max Depth-1, Samples Split-3, Samples Leaf-1: RF Accuracy=0.7239, RF F1 Score=0.0000, RF AUC-ROC=0.8380\n"
     ]
    },
    {
     "name": "stderr",
     "output_type": "stream",
     "text": [
      "/tmp/ipykernel_176/1290535634.py:17: DataConversionWarning: A column-vector y was passed when a 1d array was expected. Please change the shape of y to (n_samples,), for example using ravel().\n",
      "  rf_classifier.fit(X_train, y_train)\n"
     ]
    },
    {
     "name": "stdout",
     "output_type": "stream",
     "text": [
      "Max Depth-1, Samples Split-3, Samples Leaf-2: RF Accuracy=0.7239, RF F1 Score=0.0000, RF AUC-ROC=0.8380\n"
     ]
    },
    {
     "name": "stderr",
     "output_type": "stream",
     "text": [
      "/tmp/ipykernel_176/1290535634.py:17: DataConversionWarning: A column-vector y was passed when a 1d array was expected. Please change the shape of y to (n_samples,), for example using ravel().\n",
      "  rf_classifier.fit(X_train, y_train)\n"
     ]
    },
    {
     "name": "stdout",
     "output_type": "stream",
     "text": [
      "Max Depth-1, Samples Split-3, Samples Leaf-3: RF Accuracy=0.7239, RF F1 Score=0.0000, RF AUC-ROC=0.8380\n"
     ]
    },
    {
     "name": "stderr",
     "output_type": "stream",
     "text": [
      "/tmp/ipykernel_176/1290535634.py:17: DataConversionWarning: A column-vector y was passed when a 1d array was expected. Please change the shape of y to (n_samples,), for example using ravel().\n",
      "  rf_classifier.fit(X_train, y_train)\n"
     ]
    },
    {
     "name": "stdout",
     "output_type": "stream",
     "text": [
      "Max Depth-1, Samples Split-3, Samples Leaf-4: RF Accuracy=0.7239, RF F1 Score=0.0000, RF AUC-ROC=0.8380\n"
     ]
    },
    {
     "name": "stderr",
     "output_type": "stream",
     "text": [
      "/tmp/ipykernel_176/1290535634.py:17: DataConversionWarning: A column-vector y was passed when a 1d array was expected. Please change the shape of y to (n_samples,), for example using ravel().\n",
      "  rf_classifier.fit(X_train, y_train)\n"
     ]
    },
    {
     "name": "stdout",
     "output_type": "stream",
     "text": [
      "Max Depth-1, Samples Split-3, Samples Leaf-5: RF Accuracy=0.7239, RF F1 Score=0.0000, RF AUC-ROC=0.8380\n"
     ]
    },
    {
     "name": "stderr",
     "output_type": "stream",
     "text": [
      "/tmp/ipykernel_176/1290535634.py:17: DataConversionWarning: A column-vector y was passed when a 1d array was expected. Please change the shape of y to (n_samples,), for example using ravel().\n",
      "  rf_classifier.fit(X_train, y_train)\n"
     ]
    },
    {
     "name": "stdout",
     "output_type": "stream",
     "text": [
      "Max Depth-1, Samples Split-4, Samples Leaf-1: RF Accuracy=0.7239, RF F1 Score=0.0000, RF AUC-ROC=0.8380\n"
     ]
    },
    {
     "name": "stderr",
     "output_type": "stream",
     "text": [
      "/tmp/ipykernel_176/1290535634.py:17: DataConversionWarning: A column-vector y was passed when a 1d array was expected. Please change the shape of y to (n_samples,), for example using ravel().\n",
      "  rf_classifier.fit(X_train, y_train)\n"
     ]
    },
    {
     "name": "stdout",
     "output_type": "stream",
     "text": [
      "Max Depth-1, Samples Split-4, Samples Leaf-2: RF Accuracy=0.7239, RF F1 Score=0.0000, RF AUC-ROC=0.8380\n"
     ]
    },
    {
     "name": "stderr",
     "output_type": "stream",
     "text": [
      "/tmp/ipykernel_176/1290535634.py:17: DataConversionWarning: A column-vector y was passed when a 1d array was expected. Please change the shape of y to (n_samples,), for example using ravel().\n",
      "  rf_classifier.fit(X_train, y_train)\n"
     ]
    },
    {
     "name": "stdout",
     "output_type": "stream",
     "text": [
      "Max Depth-1, Samples Split-4, Samples Leaf-3: RF Accuracy=0.7239, RF F1 Score=0.0000, RF AUC-ROC=0.8380\n"
     ]
    },
    {
     "name": "stderr",
     "output_type": "stream",
     "text": [
      "/tmp/ipykernel_176/1290535634.py:17: DataConversionWarning: A column-vector y was passed when a 1d array was expected. Please change the shape of y to (n_samples,), for example using ravel().\n",
      "  rf_classifier.fit(X_train, y_train)\n"
     ]
    },
    {
     "name": "stdout",
     "output_type": "stream",
     "text": [
      "Max Depth-1, Samples Split-4, Samples Leaf-4: RF Accuracy=0.7239, RF F1 Score=0.0000, RF AUC-ROC=0.8380\n"
     ]
    },
    {
     "name": "stderr",
     "output_type": "stream",
     "text": [
      "/tmp/ipykernel_176/1290535634.py:17: DataConversionWarning: A column-vector y was passed when a 1d array was expected. Please change the shape of y to (n_samples,), for example using ravel().\n",
      "  rf_classifier.fit(X_train, y_train)\n"
     ]
    },
    {
     "name": "stdout",
     "output_type": "stream",
     "text": [
      "Max Depth-1, Samples Split-4, Samples Leaf-5: RF Accuracy=0.7239, RF F1 Score=0.0000, RF AUC-ROC=0.8380\n"
     ]
    },
    {
     "name": "stderr",
     "output_type": "stream",
     "text": [
      "/tmp/ipykernel_176/1290535634.py:17: DataConversionWarning: A column-vector y was passed when a 1d array was expected. Please change the shape of y to (n_samples,), for example using ravel().\n",
      "  rf_classifier.fit(X_train, y_train)\n"
     ]
    },
    {
     "name": "stdout",
     "output_type": "stream",
     "text": [
      "Max Depth-1, Samples Split-5, Samples Leaf-1: RF Accuracy=0.7239, RF F1 Score=0.0000, RF AUC-ROC=0.8380\n"
     ]
    },
    {
     "name": "stderr",
     "output_type": "stream",
     "text": [
      "/tmp/ipykernel_176/1290535634.py:17: DataConversionWarning: A column-vector y was passed when a 1d array was expected. Please change the shape of y to (n_samples,), for example using ravel().\n",
      "  rf_classifier.fit(X_train, y_train)\n"
     ]
    },
    {
     "name": "stdout",
     "output_type": "stream",
     "text": [
      "Max Depth-1, Samples Split-5, Samples Leaf-2: RF Accuracy=0.7239, RF F1 Score=0.0000, RF AUC-ROC=0.8380\n"
     ]
    },
    {
     "name": "stderr",
     "output_type": "stream",
     "text": [
      "/tmp/ipykernel_176/1290535634.py:17: DataConversionWarning: A column-vector y was passed when a 1d array was expected. Please change the shape of y to (n_samples,), for example using ravel().\n",
      "  rf_classifier.fit(X_train, y_train)\n"
     ]
    },
    {
     "name": "stdout",
     "output_type": "stream",
     "text": [
      "Max Depth-1, Samples Split-5, Samples Leaf-3: RF Accuracy=0.7239, RF F1 Score=0.0000, RF AUC-ROC=0.8380\n"
     ]
    },
    {
     "name": "stderr",
     "output_type": "stream",
     "text": [
      "/tmp/ipykernel_176/1290535634.py:17: DataConversionWarning: A column-vector y was passed when a 1d array was expected. Please change the shape of y to (n_samples,), for example using ravel().\n",
      "  rf_classifier.fit(X_train, y_train)\n"
     ]
    },
    {
     "name": "stdout",
     "output_type": "stream",
     "text": [
      "Max Depth-1, Samples Split-5, Samples Leaf-4: RF Accuracy=0.7239, RF F1 Score=0.0000, RF AUC-ROC=0.8380\n"
     ]
    },
    {
     "name": "stderr",
     "output_type": "stream",
     "text": [
      "/tmp/ipykernel_176/1290535634.py:17: DataConversionWarning: A column-vector y was passed when a 1d array was expected. Please change the shape of y to (n_samples,), for example using ravel().\n",
      "  rf_classifier.fit(X_train, y_train)\n"
     ]
    },
    {
     "name": "stdout",
     "output_type": "stream",
     "text": [
      "Max Depth-1, Samples Split-5, Samples Leaf-5: RF Accuracy=0.7239, RF F1 Score=0.0000, RF AUC-ROC=0.8380\n"
     ]
    },
    {
     "name": "stderr",
     "output_type": "stream",
     "text": [
      "/tmp/ipykernel_176/1290535634.py:17: DataConversionWarning: A column-vector y was passed when a 1d array was expected. Please change the shape of y to (n_samples,), for example using ravel().\n",
      "  rf_classifier.fit(X_train, y_train)\n"
     ]
    },
    {
     "name": "stdout",
     "output_type": "stream",
     "text": [
      "Max Depth-1, Samples Split-6, Samples Leaf-1: RF Accuracy=0.7239, RF F1 Score=0.0000, RF AUC-ROC=0.8380\n"
     ]
    },
    {
     "name": "stderr",
     "output_type": "stream",
     "text": [
      "/tmp/ipykernel_176/1290535634.py:17: DataConversionWarning: A column-vector y was passed when a 1d array was expected. Please change the shape of y to (n_samples,), for example using ravel().\n",
      "  rf_classifier.fit(X_train, y_train)\n"
     ]
    },
    {
     "name": "stdout",
     "output_type": "stream",
     "text": [
      "Max Depth-1, Samples Split-6, Samples Leaf-2: RF Accuracy=0.7239, RF F1 Score=0.0000, RF AUC-ROC=0.8380\n"
     ]
    },
    {
     "name": "stderr",
     "output_type": "stream",
     "text": [
      "/tmp/ipykernel_176/1290535634.py:17: DataConversionWarning: A column-vector y was passed when a 1d array was expected. Please change the shape of y to (n_samples,), for example using ravel().\n",
      "  rf_classifier.fit(X_train, y_train)\n"
     ]
    },
    {
     "name": "stdout",
     "output_type": "stream",
     "text": [
      "Max Depth-1, Samples Split-6, Samples Leaf-3: RF Accuracy=0.7239, RF F1 Score=0.0000, RF AUC-ROC=0.8380\n"
     ]
    },
    {
     "name": "stderr",
     "output_type": "stream",
     "text": [
      "/tmp/ipykernel_176/1290535634.py:17: DataConversionWarning: A column-vector y was passed when a 1d array was expected. Please change the shape of y to (n_samples,), for example using ravel().\n",
      "  rf_classifier.fit(X_train, y_train)\n"
     ]
    },
    {
     "name": "stdout",
     "output_type": "stream",
     "text": [
      "Max Depth-1, Samples Split-6, Samples Leaf-4: RF Accuracy=0.7239, RF F1 Score=0.0000, RF AUC-ROC=0.8380\n"
     ]
    },
    {
     "name": "stderr",
     "output_type": "stream",
     "text": [
      "/tmp/ipykernel_176/1290535634.py:17: DataConversionWarning: A column-vector y was passed when a 1d array was expected. Please change the shape of y to (n_samples,), for example using ravel().\n",
      "  rf_classifier.fit(X_train, y_train)\n"
     ]
    },
    {
     "name": "stdout",
     "output_type": "stream",
     "text": [
      "Max Depth-1, Samples Split-6, Samples Leaf-5: RF Accuracy=0.7239, RF F1 Score=0.0000, RF AUC-ROC=0.8380\n"
     ]
    },
    {
     "name": "stderr",
     "output_type": "stream",
     "text": [
      "/tmp/ipykernel_176/1290535634.py:17: DataConversionWarning: A column-vector y was passed when a 1d array was expected. Please change the shape of y to (n_samples,), for example using ravel().\n",
      "  rf_classifier.fit(X_train, y_train)\n"
     ]
    },
    {
     "name": "stdout",
     "output_type": "stream",
     "text": [
      "Max Depth-2, Samples Split-2, Samples Leaf-1: RF Accuracy=0.7473, RF F1 Score=0.1759, RF AUC-ROC=0.8474\n"
     ]
    },
    {
     "name": "stderr",
     "output_type": "stream",
     "text": [
      "/tmp/ipykernel_176/1290535634.py:17: DataConversionWarning: A column-vector y was passed when a 1d array was expected. Please change the shape of y to (n_samples,), for example using ravel().\n",
      "  rf_classifier.fit(X_train, y_train)\n"
     ]
    },
    {
     "name": "stdout",
     "output_type": "stream",
     "text": [
      "Max Depth-2, Samples Split-2, Samples Leaf-2: RF Accuracy=0.7473, RF F1 Score=0.1759, RF AUC-ROC=0.8474\n"
     ]
    },
    {
     "name": "stderr",
     "output_type": "stream",
     "text": [
      "/tmp/ipykernel_176/1290535634.py:17: DataConversionWarning: A column-vector y was passed when a 1d array was expected. Please change the shape of y to (n_samples,), for example using ravel().\n",
      "  rf_classifier.fit(X_train, y_train)\n"
     ]
    },
    {
     "name": "stdout",
     "output_type": "stream",
     "text": [
      "Max Depth-2, Samples Split-2, Samples Leaf-3: RF Accuracy=0.7473, RF F1 Score=0.1759, RF AUC-ROC=0.8474\n"
     ]
    },
    {
     "name": "stderr",
     "output_type": "stream",
     "text": [
      "/tmp/ipykernel_176/1290535634.py:17: DataConversionWarning: A column-vector y was passed when a 1d array was expected. Please change the shape of y to (n_samples,), for example using ravel().\n",
      "  rf_classifier.fit(X_train, y_train)\n"
     ]
    },
    {
     "name": "stdout",
     "output_type": "stream",
     "text": [
      "Max Depth-2, Samples Split-2, Samples Leaf-4: RF Accuracy=0.7473, RF F1 Score=0.1759, RF AUC-ROC=0.8474\n"
     ]
    },
    {
     "name": "stderr",
     "output_type": "stream",
     "text": [
      "/tmp/ipykernel_176/1290535634.py:17: DataConversionWarning: A column-vector y was passed when a 1d array was expected. Please change the shape of y to (n_samples,), for example using ravel().\n",
      "  rf_classifier.fit(X_train, y_train)\n"
     ]
    },
    {
     "name": "stdout",
     "output_type": "stream",
     "text": [
      "Max Depth-2, Samples Split-2, Samples Leaf-5: RF Accuracy=0.7473, RF F1 Score=0.1759, RF AUC-ROC=0.8474\n"
     ]
    },
    {
     "name": "stderr",
     "output_type": "stream",
     "text": [
      "/tmp/ipykernel_176/1290535634.py:17: DataConversionWarning: A column-vector y was passed when a 1d array was expected. Please change the shape of y to (n_samples,), for example using ravel().\n",
      "  rf_classifier.fit(X_train, y_train)\n"
     ]
    },
    {
     "name": "stdout",
     "output_type": "stream",
     "text": [
      "Max Depth-2, Samples Split-3, Samples Leaf-1: RF Accuracy=0.7473, RF F1 Score=0.1759, RF AUC-ROC=0.8474\n"
     ]
    },
    {
     "name": "stderr",
     "output_type": "stream",
     "text": [
      "/tmp/ipykernel_176/1290535634.py:17: DataConversionWarning: A column-vector y was passed when a 1d array was expected. Please change the shape of y to (n_samples,), for example using ravel().\n",
      "  rf_classifier.fit(X_train, y_train)\n"
     ]
    },
    {
     "name": "stdout",
     "output_type": "stream",
     "text": [
      "Max Depth-2, Samples Split-3, Samples Leaf-2: RF Accuracy=0.7473, RF F1 Score=0.1759, RF AUC-ROC=0.8474\n"
     ]
    },
    {
     "name": "stderr",
     "output_type": "stream",
     "text": [
      "/tmp/ipykernel_176/1290535634.py:17: DataConversionWarning: A column-vector y was passed when a 1d array was expected. Please change the shape of y to (n_samples,), for example using ravel().\n",
      "  rf_classifier.fit(X_train, y_train)\n"
     ]
    },
    {
     "name": "stdout",
     "output_type": "stream",
     "text": [
      "Max Depth-2, Samples Split-3, Samples Leaf-3: RF Accuracy=0.7473, RF F1 Score=0.1759, RF AUC-ROC=0.8474\n"
     ]
    },
    {
     "name": "stderr",
     "output_type": "stream",
     "text": [
      "/tmp/ipykernel_176/1290535634.py:17: DataConversionWarning: A column-vector y was passed when a 1d array was expected. Please change the shape of y to (n_samples,), for example using ravel().\n",
      "  rf_classifier.fit(X_train, y_train)\n"
     ]
    },
    {
     "name": "stdout",
     "output_type": "stream",
     "text": [
      "Max Depth-2, Samples Split-3, Samples Leaf-4: RF Accuracy=0.7473, RF F1 Score=0.1759, RF AUC-ROC=0.8474\n"
     ]
    },
    {
     "name": "stderr",
     "output_type": "stream",
     "text": [
      "/tmp/ipykernel_176/1290535634.py:17: DataConversionWarning: A column-vector y was passed when a 1d array was expected. Please change the shape of y to (n_samples,), for example using ravel().\n",
      "  rf_classifier.fit(X_train, y_train)\n"
     ]
    },
    {
     "name": "stdout",
     "output_type": "stream",
     "text": [
      "Max Depth-2, Samples Split-3, Samples Leaf-5: RF Accuracy=0.7473, RF F1 Score=0.1759, RF AUC-ROC=0.8474\n"
     ]
    },
    {
     "name": "stderr",
     "output_type": "stream",
     "text": [
      "/tmp/ipykernel_176/1290535634.py:17: DataConversionWarning: A column-vector y was passed when a 1d array was expected. Please change the shape of y to (n_samples,), for example using ravel().\n",
      "  rf_classifier.fit(X_train, y_train)\n"
     ]
    },
    {
     "name": "stdout",
     "output_type": "stream",
     "text": [
      "Max Depth-2, Samples Split-4, Samples Leaf-1: RF Accuracy=0.7473, RF F1 Score=0.1759, RF AUC-ROC=0.8474\n"
     ]
    },
    {
     "name": "stderr",
     "output_type": "stream",
     "text": [
      "/tmp/ipykernel_176/1290535634.py:17: DataConversionWarning: A column-vector y was passed when a 1d array was expected. Please change the shape of y to (n_samples,), for example using ravel().\n",
      "  rf_classifier.fit(X_train, y_train)\n"
     ]
    },
    {
     "name": "stdout",
     "output_type": "stream",
     "text": [
      "Max Depth-2, Samples Split-4, Samples Leaf-2: RF Accuracy=0.7473, RF F1 Score=0.1759, RF AUC-ROC=0.8474\n"
     ]
    },
    {
     "name": "stderr",
     "output_type": "stream",
     "text": [
      "/tmp/ipykernel_176/1290535634.py:17: DataConversionWarning: A column-vector y was passed when a 1d array was expected. Please change the shape of y to (n_samples,), for example using ravel().\n",
      "  rf_classifier.fit(X_train, y_train)\n"
     ]
    },
    {
     "name": "stdout",
     "output_type": "stream",
     "text": [
      "Max Depth-2, Samples Split-4, Samples Leaf-3: RF Accuracy=0.7473, RF F1 Score=0.1759, RF AUC-ROC=0.8474\n"
     ]
    },
    {
     "name": "stderr",
     "output_type": "stream",
     "text": [
      "/tmp/ipykernel_176/1290535634.py:17: DataConversionWarning: A column-vector y was passed when a 1d array was expected. Please change the shape of y to (n_samples,), for example using ravel().\n",
      "  rf_classifier.fit(X_train, y_train)\n"
     ]
    },
    {
     "name": "stdout",
     "output_type": "stream",
     "text": [
      "Max Depth-2, Samples Split-4, Samples Leaf-4: RF Accuracy=0.7473, RF F1 Score=0.1759, RF AUC-ROC=0.8474\n"
     ]
    },
    {
     "name": "stderr",
     "output_type": "stream",
     "text": [
      "/tmp/ipykernel_176/1290535634.py:17: DataConversionWarning: A column-vector y was passed when a 1d array was expected. Please change the shape of y to (n_samples,), for example using ravel().\n",
      "  rf_classifier.fit(X_train, y_train)\n"
     ]
    },
    {
     "name": "stdout",
     "output_type": "stream",
     "text": [
      "Max Depth-2, Samples Split-4, Samples Leaf-5: RF Accuracy=0.7473, RF F1 Score=0.1759, RF AUC-ROC=0.8474\n"
     ]
    },
    {
     "name": "stderr",
     "output_type": "stream",
     "text": [
      "/tmp/ipykernel_176/1290535634.py:17: DataConversionWarning: A column-vector y was passed when a 1d array was expected. Please change the shape of y to (n_samples,), for example using ravel().\n",
      "  rf_classifier.fit(X_train, y_train)\n"
     ]
    },
    {
     "name": "stdout",
     "output_type": "stream",
     "text": [
      "Max Depth-2, Samples Split-5, Samples Leaf-1: RF Accuracy=0.7473, RF F1 Score=0.1759, RF AUC-ROC=0.8474\n"
     ]
    },
    {
     "name": "stderr",
     "output_type": "stream",
     "text": [
      "/tmp/ipykernel_176/1290535634.py:17: DataConversionWarning: A column-vector y was passed when a 1d array was expected. Please change the shape of y to (n_samples,), for example using ravel().\n",
      "  rf_classifier.fit(X_train, y_train)\n"
     ]
    },
    {
     "name": "stdout",
     "output_type": "stream",
     "text": [
      "Max Depth-2, Samples Split-5, Samples Leaf-2: RF Accuracy=0.7473, RF F1 Score=0.1759, RF AUC-ROC=0.8474\n"
     ]
    },
    {
     "name": "stderr",
     "output_type": "stream",
     "text": [
      "/tmp/ipykernel_176/1290535634.py:17: DataConversionWarning: A column-vector y was passed when a 1d array was expected. Please change the shape of y to (n_samples,), for example using ravel().\n",
      "  rf_classifier.fit(X_train, y_train)\n"
     ]
    },
    {
     "name": "stdout",
     "output_type": "stream",
     "text": [
      "Max Depth-2, Samples Split-5, Samples Leaf-3: RF Accuracy=0.7473, RF F1 Score=0.1759, RF AUC-ROC=0.8474\n"
     ]
    },
    {
     "name": "stderr",
     "output_type": "stream",
     "text": [
      "/tmp/ipykernel_176/1290535634.py:17: DataConversionWarning: A column-vector y was passed when a 1d array was expected. Please change the shape of y to (n_samples,), for example using ravel().\n",
      "  rf_classifier.fit(X_train, y_train)\n"
     ]
    },
    {
     "name": "stdout",
     "output_type": "stream",
     "text": [
      "Max Depth-2, Samples Split-5, Samples Leaf-4: RF Accuracy=0.7473, RF F1 Score=0.1759, RF AUC-ROC=0.8474\n"
     ]
    },
    {
     "name": "stderr",
     "output_type": "stream",
     "text": [
      "/tmp/ipykernel_176/1290535634.py:17: DataConversionWarning: A column-vector y was passed when a 1d array was expected. Please change the shape of y to (n_samples,), for example using ravel().\n",
      "  rf_classifier.fit(X_train, y_train)\n"
     ]
    },
    {
     "name": "stdout",
     "output_type": "stream",
     "text": [
      "Max Depth-2, Samples Split-5, Samples Leaf-5: RF Accuracy=0.7473, RF F1 Score=0.1759, RF AUC-ROC=0.8474\n"
     ]
    },
    {
     "name": "stderr",
     "output_type": "stream",
     "text": [
      "/tmp/ipykernel_176/1290535634.py:17: DataConversionWarning: A column-vector y was passed when a 1d array was expected. Please change the shape of y to (n_samples,), for example using ravel().\n",
      "  rf_classifier.fit(X_train, y_train)\n"
     ]
    },
    {
     "name": "stdout",
     "output_type": "stream",
     "text": [
      "Max Depth-2, Samples Split-6, Samples Leaf-1: RF Accuracy=0.7473, RF F1 Score=0.1759, RF AUC-ROC=0.8474\n"
     ]
    },
    {
     "name": "stderr",
     "output_type": "stream",
     "text": [
      "/tmp/ipykernel_176/1290535634.py:17: DataConversionWarning: A column-vector y was passed when a 1d array was expected. Please change the shape of y to (n_samples,), for example using ravel().\n",
      "  rf_classifier.fit(X_train, y_train)\n"
     ]
    },
    {
     "name": "stdout",
     "output_type": "stream",
     "text": [
      "Max Depth-2, Samples Split-6, Samples Leaf-2: RF Accuracy=0.7473, RF F1 Score=0.1759, RF AUC-ROC=0.8474\n"
     ]
    },
    {
     "name": "stderr",
     "output_type": "stream",
     "text": [
      "/tmp/ipykernel_176/1290535634.py:17: DataConversionWarning: A column-vector y was passed when a 1d array was expected. Please change the shape of y to (n_samples,), for example using ravel().\n",
      "  rf_classifier.fit(X_train, y_train)\n"
     ]
    },
    {
     "name": "stdout",
     "output_type": "stream",
     "text": [
      "Max Depth-2, Samples Split-6, Samples Leaf-3: RF Accuracy=0.7473, RF F1 Score=0.1759, RF AUC-ROC=0.8474\n"
     ]
    },
    {
     "name": "stderr",
     "output_type": "stream",
     "text": [
      "/tmp/ipykernel_176/1290535634.py:17: DataConversionWarning: A column-vector y was passed when a 1d array was expected. Please change the shape of y to (n_samples,), for example using ravel().\n",
      "  rf_classifier.fit(X_train, y_train)\n"
     ]
    },
    {
     "name": "stdout",
     "output_type": "stream",
     "text": [
      "Max Depth-2, Samples Split-6, Samples Leaf-4: RF Accuracy=0.7473, RF F1 Score=0.1759, RF AUC-ROC=0.8474\n"
     ]
    },
    {
     "name": "stderr",
     "output_type": "stream",
     "text": [
      "/tmp/ipykernel_176/1290535634.py:17: DataConversionWarning: A column-vector y was passed when a 1d array was expected. Please change the shape of y to (n_samples,), for example using ravel().\n",
      "  rf_classifier.fit(X_train, y_train)\n"
     ]
    },
    {
     "name": "stdout",
     "output_type": "stream",
     "text": [
      "Max Depth-2, Samples Split-6, Samples Leaf-5: RF Accuracy=0.7473, RF F1 Score=0.1759, RF AUC-ROC=0.8474\n"
     ]
    },
    {
     "name": "stderr",
     "output_type": "stream",
     "text": [
      "/tmp/ipykernel_176/1290535634.py:17: DataConversionWarning: A column-vector y was passed when a 1d array was expected. Please change the shape of y to (n_samples,), for example using ravel().\n",
      "  rf_classifier.fit(X_train, y_train)\n"
     ]
    },
    {
     "name": "stdout",
     "output_type": "stream",
     "text": [
      "Max Depth-3, Samples Split-2, Samples Leaf-1: RF Accuracy=0.7757, RF F1 Score=0.3828, RF AUC-ROC=0.8526\n"
     ]
    },
    {
     "name": "stderr",
     "output_type": "stream",
     "text": [
      "/tmp/ipykernel_176/1290535634.py:17: DataConversionWarning: A column-vector y was passed when a 1d array was expected. Please change the shape of y to (n_samples,), for example using ravel().\n",
      "  rf_classifier.fit(X_train, y_train)\n"
     ]
    },
    {
     "name": "stdout",
     "output_type": "stream",
     "text": [
      "Max Depth-3, Samples Split-2, Samples Leaf-2: RF Accuracy=0.7757, RF F1 Score=0.3828, RF AUC-ROC=0.8526\n"
     ]
    },
    {
     "name": "stderr",
     "output_type": "stream",
     "text": [
      "/tmp/ipykernel_176/1290535634.py:17: DataConversionWarning: A column-vector y was passed when a 1d array was expected. Please change the shape of y to (n_samples,), for example using ravel().\n",
      "  rf_classifier.fit(X_train, y_train)\n"
     ]
    },
    {
     "name": "stdout",
     "output_type": "stream",
     "text": [
      "Max Depth-3, Samples Split-2, Samples Leaf-3: RF Accuracy=0.7757, RF F1 Score=0.3828, RF AUC-ROC=0.8526\n"
     ]
    },
    {
     "name": "stderr",
     "output_type": "stream",
     "text": [
      "/tmp/ipykernel_176/1290535634.py:17: DataConversionWarning: A column-vector y was passed when a 1d array was expected. Please change the shape of y to (n_samples,), for example using ravel().\n",
      "  rf_classifier.fit(X_train, y_train)\n"
     ]
    },
    {
     "name": "stdout",
     "output_type": "stream",
     "text": [
      "Max Depth-3, Samples Split-2, Samples Leaf-4: RF Accuracy=0.7757, RF F1 Score=0.3828, RF AUC-ROC=0.8526\n"
     ]
    },
    {
     "name": "stderr",
     "output_type": "stream",
     "text": [
      "/tmp/ipykernel_176/1290535634.py:17: DataConversionWarning: A column-vector y was passed when a 1d array was expected. Please change the shape of y to (n_samples,), for example using ravel().\n",
      "  rf_classifier.fit(X_train, y_train)\n"
     ]
    },
    {
     "name": "stdout",
     "output_type": "stream",
     "text": [
      "Max Depth-3, Samples Split-2, Samples Leaf-5: RF Accuracy=0.7757, RF F1 Score=0.3828, RF AUC-ROC=0.8525\n"
     ]
    },
    {
     "name": "stderr",
     "output_type": "stream",
     "text": [
      "/tmp/ipykernel_176/1290535634.py:17: DataConversionWarning: A column-vector y was passed when a 1d array was expected. Please change the shape of y to (n_samples,), for example using ravel().\n",
      "  rf_classifier.fit(X_train, y_train)\n"
     ]
    },
    {
     "name": "stdout",
     "output_type": "stream",
     "text": [
      "Max Depth-3, Samples Split-3, Samples Leaf-1: RF Accuracy=0.7757, RF F1 Score=0.3828, RF AUC-ROC=0.8526\n"
     ]
    },
    {
     "name": "stderr",
     "output_type": "stream",
     "text": [
      "/tmp/ipykernel_176/1290535634.py:17: DataConversionWarning: A column-vector y was passed when a 1d array was expected. Please change the shape of y to (n_samples,), for example using ravel().\n",
      "  rf_classifier.fit(X_train, y_train)\n"
     ]
    },
    {
     "name": "stdout",
     "output_type": "stream",
     "text": [
      "Max Depth-3, Samples Split-3, Samples Leaf-2: RF Accuracy=0.7757, RF F1 Score=0.3828, RF AUC-ROC=0.8526\n"
     ]
    },
    {
     "name": "stderr",
     "output_type": "stream",
     "text": [
      "/tmp/ipykernel_176/1290535634.py:17: DataConversionWarning: A column-vector y was passed when a 1d array was expected. Please change the shape of y to (n_samples,), for example using ravel().\n",
      "  rf_classifier.fit(X_train, y_train)\n"
     ]
    },
    {
     "name": "stdout",
     "output_type": "stream",
     "text": [
      "Max Depth-3, Samples Split-3, Samples Leaf-3: RF Accuracy=0.7757, RF F1 Score=0.3828, RF AUC-ROC=0.8526\n"
     ]
    },
    {
     "name": "stderr",
     "output_type": "stream",
     "text": [
      "/tmp/ipykernel_176/1290535634.py:17: DataConversionWarning: A column-vector y was passed when a 1d array was expected. Please change the shape of y to (n_samples,), for example using ravel().\n",
      "  rf_classifier.fit(X_train, y_train)\n"
     ]
    },
    {
     "name": "stdout",
     "output_type": "stream",
     "text": [
      "Max Depth-3, Samples Split-3, Samples Leaf-4: RF Accuracy=0.7757, RF F1 Score=0.3828, RF AUC-ROC=0.8526\n"
     ]
    },
    {
     "name": "stderr",
     "output_type": "stream",
     "text": [
      "/tmp/ipykernel_176/1290535634.py:17: DataConversionWarning: A column-vector y was passed when a 1d array was expected. Please change the shape of y to (n_samples,), for example using ravel().\n",
      "  rf_classifier.fit(X_train, y_train)\n"
     ]
    },
    {
     "name": "stdout",
     "output_type": "stream",
     "text": [
      "Max Depth-3, Samples Split-3, Samples Leaf-5: RF Accuracy=0.7757, RF F1 Score=0.3828, RF AUC-ROC=0.8525\n"
     ]
    },
    {
     "name": "stderr",
     "output_type": "stream",
     "text": [
      "/tmp/ipykernel_176/1290535634.py:17: DataConversionWarning: A column-vector y was passed when a 1d array was expected. Please change the shape of y to (n_samples,), for example using ravel().\n",
      "  rf_classifier.fit(X_train, y_train)\n"
     ]
    },
    {
     "name": "stdout",
     "output_type": "stream",
     "text": [
      "Max Depth-3, Samples Split-4, Samples Leaf-1: RF Accuracy=0.7757, RF F1 Score=0.3828, RF AUC-ROC=0.8526\n"
     ]
    },
    {
     "name": "stderr",
     "output_type": "stream",
     "text": [
      "/tmp/ipykernel_176/1290535634.py:17: DataConversionWarning: A column-vector y was passed when a 1d array was expected. Please change the shape of y to (n_samples,), for example using ravel().\n",
      "  rf_classifier.fit(X_train, y_train)\n"
     ]
    },
    {
     "name": "stdout",
     "output_type": "stream",
     "text": [
      "Max Depth-3, Samples Split-4, Samples Leaf-2: RF Accuracy=0.7757, RF F1 Score=0.3828, RF AUC-ROC=0.8526\n"
     ]
    },
    {
     "name": "stderr",
     "output_type": "stream",
     "text": [
      "/tmp/ipykernel_176/1290535634.py:17: DataConversionWarning: A column-vector y was passed when a 1d array was expected. Please change the shape of y to (n_samples,), for example using ravel().\n",
      "  rf_classifier.fit(X_train, y_train)\n"
     ]
    },
    {
     "name": "stdout",
     "output_type": "stream",
     "text": [
      "Max Depth-3, Samples Split-4, Samples Leaf-3: RF Accuracy=0.7757, RF F1 Score=0.3828, RF AUC-ROC=0.8526\n"
     ]
    },
    {
     "name": "stderr",
     "output_type": "stream",
     "text": [
      "/tmp/ipykernel_176/1290535634.py:17: DataConversionWarning: A column-vector y was passed when a 1d array was expected. Please change the shape of y to (n_samples,), for example using ravel().\n",
      "  rf_classifier.fit(X_train, y_train)\n"
     ]
    },
    {
     "name": "stdout",
     "output_type": "stream",
     "text": [
      "Max Depth-3, Samples Split-4, Samples Leaf-4: RF Accuracy=0.7757, RF F1 Score=0.3828, RF AUC-ROC=0.8526\n"
     ]
    },
    {
     "name": "stderr",
     "output_type": "stream",
     "text": [
      "/tmp/ipykernel_176/1290535634.py:17: DataConversionWarning: A column-vector y was passed when a 1d array was expected. Please change the shape of y to (n_samples,), for example using ravel().\n",
      "  rf_classifier.fit(X_train, y_train)\n"
     ]
    },
    {
     "name": "stdout",
     "output_type": "stream",
     "text": [
      "Max Depth-3, Samples Split-4, Samples Leaf-5: RF Accuracy=0.7757, RF F1 Score=0.3828, RF AUC-ROC=0.8525\n"
     ]
    },
    {
     "name": "stderr",
     "output_type": "stream",
     "text": [
      "/tmp/ipykernel_176/1290535634.py:17: DataConversionWarning: A column-vector y was passed when a 1d array was expected. Please change the shape of y to (n_samples,), for example using ravel().\n",
      "  rf_classifier.fit(X_train, y_train)\n"
     ]
    },
    {
     "name": "stdout",
     "output_type": "stream",
     "text": [
      "Max Depth-3, Samples Split-5, Samples Leaf-1: RF Accuracy=0.7757, RF F1 Score=0.3828, RF AUC-ROC=0.8526\n"
     ]
    },
    {
     "name": "stderr",
     "output_type": "stream",
     "text": [
      "/tmp/ipykernel_176/1290535634.py:17: DataConversionWarning: A column-vector y was passed when a 1d array was expected. Please change the shape of y to (n_samples,), for example using ravel().\n",
      "  rf_classifier.fit(X_train, y_train)\n"
     ]
    },
    {
     "name": "stdout",
     "output_type": "stream",
     "text": [
      "Max Depth-3, Samples Split-5, Samples Leaf-2: RF Accuracy=0.7757, RF F1 Score=0.3828, RF AUC-ROC=0.8526\n"
     ]
    },
    {
     "name": "stderr",
     "output_type": "stream",
     "text": [
      "/tmp/ipykernel_176/1290535634.py:17: DataConversionWarning: A column-vector y was passed when a 1d array was expected. Please change the shape of y to (n_samples,), for example using ravel().\n",
      "  rf_classifier.fit(X_train, y_train)\n"
     ]
    },
    {
     "name": "stdout",
     "output_type": "stream",
     "text": [
      "Max Depth-3, Samples Split-5, Samples Leaf-3: RF Accuracy=0.7757, RF F1 Score=0.3828, RF AUC-ROC=0.8526\n"
     ]
    },
    {
     "name": "stderr",
     "output_type": "stream",
     "text": [
      "/tmp/ipykernel_176/1290535634.py:17: DataConversionWarning: A column-vector y was passed when a 1d array was expected. Please change the shape of y to (n_samples,), for example using ravel().\n",
      "  rf_classifier.fit(X_train, y_train)\n"
     ]
    },
    {
     "name": "stdout",
     "output_type": "stream",
     "text": [
      "Max Depth-3, Samples Split-5, Samples Leaf-4: RF Accuracy=0.7757, RF F1 Score=0.3828, RF AUC-ROC=0.8526\n"
     ]
    },
    {
     "name": "stderr",
     "output_type": "stream",
     "text": [
      "/tmp/ipykernel_176/1290535634.py:17: DataConversionWarning: A column-vector y was passed when a 1d array was expected. Please change the shape of y to (n_samples,), for example using ravel().\n",
      "  rf_classifier.fit(X_train, y_train)\n"
     ]
    },
    {
     "name": "stdout",
     "output_type": "stream",
     "text": [
      "Max Depth-3, Samples Split-5, Samples Leaf-5: RF Accuracy=0.7757, RF F1 Score=0.3828, RF AUC-ROC=0.8525\n"
     ]
    },
    {
     "name": "stderr",
     "output_type": "stream",
     "text": [
      "/tmp/ipykernel_176/1290535634.py:17: DataConversionWarning: A column-vector y was passed when a 1d array was expected. Please change the shape of y to (n_samples,), for example using ravel().\n",
      "  rf_classifier.fit(X_train, y_train)\n"
     ]
    },
    {
     "name": "stdout",
     "output_type": "stream",
     "text": [
      "Max Depth-3, Samples Split-6, Samples Leaf-1: RF Accuracy=0.7757, RF F1 Score=0.3828, RF AUC-ROC=0.8526\n"
     ]
    },
    {
     "name": "stderr",
     "output_type": "stream",
     "text": [
      "/tmp/ipykernel_176/1290535634.py:17: DataConversionWarning: A column-vector y was passed when a 1d array was expected. Please change the shape of y to (n_samples,), for example using ravel().\n",
      "  rf_classifier.fit(X_train, y_train)\n"
     ]
    },
    {
     "name": "stdout",
     "output_type": "stream",
     "text": [
      "Max Depth-3, Samples Split-6, Samples Leaf-2: RF Accuracy=0.7757, RF F1 Score=0.3828, RF AUC-ROC=0.8526\n"
     ]
    },
    {
     "name": "stderr",
     "output_type": "stream",
     "text": [
      "/tmp/ipykernel_176/1290535634.py:17: DataConversionWarning: A column-vector y was passed when a 1d array was expected. Please change the shape of y to (n_samples,), for example using ravel().\n",
      "  rf_classifier.fit(X_train, y_train)\n"
     ]
    },
    {
     "name": "stdout",
     "output_type": "stream",
     "text": [
      "Max Depth-3, Samples Split-6, Samples Leaf-3: RF Accuracy=0.7757, RF F1 Score=0.3828, RF AUC-ROC=0.8526\n"
     ]
    },
    {
     "name": "stderr",
     "output_type": "stream",
     "text": [
      "/tmp/ipykernel_176/1290535634.py:17: DataConversionWarning: A column-vector y was passed when a 1d array was expected. Please change the shape of y to (n_samples,), for example using ravel().\n",
      "  rf_classifier.fit(X_train, y_train)\n"
     ]
    },
    {
     "name": "stdout",
     "output_type": "stream",
     "text": [
      "Max Depth-3, Samples Split-6, Samples Leaf-4: RF Accuracy=0.7757, RF F1 Score=0.3828, RF AUC-ROC=0.8526\n"
     ]
    },
    {
     "name": "stderr",
     "output_type": "stream",
     "text": [
      "/tmp/ipykernel_176/1290535634.py:17: DataConversionWarning: A column-vector y was passed when a 1d array was expected. Please change the shape of y to (n_samples,), for example using ravel().\n",
      "  rf_classifier.fit(X_train, y_train)\n"
     ]
    },
    {
     "name": "stdout",
     "output_type": "stream",
     "text": [
      "Max Depth-3, Samples Split-6, Samples Leaf-5: RF Accuracy=0.7757, RF F1 Score=0.3828, RF AUC-ROC=0.8525\n"
     ]
    },
    {
     "name": "stderr",
     "output_type": "stream",
     "text": [
      "/tmp/ipykernel_176/1290535634.py:17: DataConversionWarning: A column-vector y was passed when a 1d array was expected. Please change the shape of y to (n_samples,), for example using ravel().\n",
      "  rf_classifier.fit(X_train, y_train)\n"
     ]
    },
    {
     "name": "stdout",
     "output_type": "stream",
     "text": [
      "Max Depth-4, Samples Split-2, Samples Leaf-1: RF Accuracy=0.7921, RF F1 Score=0.4740, RF AUC-ROC=0.8560\n"
     ]
    },
    {
     "name": "stderr",
     "output_type": "stream",
     "text": [
      "/tmp/ipykernel_176/1290535634.py:17: DataConversionWarning: A column-vector y was passed when a 1d array was expected. Please change the shape of y to (n_samples,), for example using ravel().\n",
      "  rf_classifier.fit(X_train, y_train)\n"
     ]
    },
    {
     "name": "stdout",
     "output_type": "stream",
     "text": [
      "Max Depth-4, Samples Split-2, Samples Leaf-2: RF Accuracy=0.7921, RF F1 Score=0.4740, RF AUC-ROC=0.8559\n"
     ]
    },
    {
     "name": "stderr",
     "output_type": "stream",
     "text": [
      "/tmp/ipykernel_176/1290535634.py:17: DataConversionWarning: A column-vector y was passed when a 1d array was expected. Please change the shape of y to (n_samples,), for example using ravel().\n",
      "  rf_classifier.fit(X_train, y_train)\n"
     ]
    },
    {
     "name": "stdout",
     "output_type": "stream",
     "text": [
      "Max Depth-4, Samples Split-2, Samples Leaf-3: RF Accuracy=0.7935, RF F1 Score=0.4757, RF AUC-ROC=0.8558\n"
     ]
    },
    {
     "name": "stderr",
     "output_type": "stream",
     "text": [
      "/tmp/ipykernel_176/1290535634.py:17: DataConversionWarning: A column-vector y was passed when a 1d array was expected. Please change the shape of y to (n_samples,), for example using ravel().\n",
      "  rf_classifier.fit(X_train, y_train)\n"
     ]
    },
    {
     "name": "stdout",
     "output_type": "stream",
     "text": [
      "Max Depth-4, Samples Split-2, Samples Leaf-4: RF Accuracy=0.7921, RF F1 Score=0.4702, RF AUC-ROC=0.8559\n"
     ]
    },
    {
     "name": "stderr",
     "output_type": "stream",
     "text": [
      "/tmp/ipykernel_176/1290535634.py:17: DataConversionWarning: A column-vector y was passed when a 1d array was expected. Please change the shape of y to (n_samples,), for example using ravel().\n",
      "  rf_classifier.fit(X_train, y_train)\n"
     ]
    },
    {
     "name": "stdout",
     "output_type": "stream",
     "text": [
      "Max Depth-4, Samples Split-2, Samples Leaf-5: RF Accuracy=0.7921, RF F1 Score=0.4702, RF AUC-ROC=0.8559\n"
     ]
    },
    {
     "name": "stderr",
     "output_type": "stream",
     "text": [
      "/tmp/ipykernel_176/1290535634.py:17: DataConversionWarning: A column-vector y was passed when a 1d array was expected. Please change the shape of y to (n_samples,), for example using ravel().\n",
      "  rf_classifier.fit(X_train, y_train)\n"
     ]
    },
    {
     "name": "stdout",
     "output_type": "stream",
     "text": [
      "Max Depth-4, Samples Split-3, Samples Leaf-1: RF Accuracy=0.7921, RF F1 Score=0.4740, RF AUC-ROC=0.8560\n"
     ]
    },
    {
     "name": "stderr",
     "output_type": "stream",
     "text": [
      "/tmp/ipykernel_176/1290535634.py:17: DataConversionWarning: A column-vector y was passed when a 1d array was expected. Please change the shape of y to (n_samples,), for example using ravel().\n",
      "  rf_classifier.fit(X_train, y_train)\n"
     ]
    },
    {
     "name": "stdout",
     "output_type": "stream",
     "text": [
      "Max Depth-4, Samples Split-3, Samples Leaf-2: RF Accuracy=0.7921, RF F1 Score=0.4740, RF AUC-ROC=0.8559\n"
     ]
    },
    {
     "name": "stderr",
     "output_type": "stream",
     "text": [
      "/tmp/ipykernel_176/1290535634.py:17: DataConversionWarning: A column-vector y was passed when a 1d array was expected. Please change the shape of y to (n_samples,), for example using ravel().\n",
      "  rf_classifier.fit(X_train, y_train)\n"
     ]
    },
    {
     "name": "stdout",
     "output_type": "stream",
     "text": [
      "Max Depth-4, Samples Split-3, Samples Leaf-3: RF Accuracy=0.7935, RF F1 Score=0.4757, RF AUC-ROC=0.8558\n"
     ]
    },
    {
     "name": "stderr",
     "output_type": "stream",
     "text": [
      "/tmp/ipykernel_176/1290535634.py:17: DataConversionWarning: A column-vector y was passed when a 1d array was expected. Please change the shape of y to (n_samples,), for example using ravel().\n",
      "  rf_classifier.fit(X_train, y_train)\n"
     ]
    },
    {
     "name": "stdout",
     "output_type": "stream",
     "text": [
      "Max Depth-4, Samples Split-3, Samples Leaf-4: RF Accuracy=0.7921, RF F1 Score=0.4702, RF AUC-ROC=0.8559\n"
     ]
    },
    {
     "name": "stderr",
     "output_type": "stream",
     "text": [
      "/tmp/ipykernel_176/1290535634.py:17: DataConversionWarning: A column-vector y was passed when a 1d array was expected. Please change the shape of y to (n_samples,), for example using ravel().\n",
      "  rf_classifier.fit(X_train, y_train)\n"
     ]
    },
    {
     "name": "stdout",
     "output_type": "stream",
     "text": [
      "Max Depth-4, Samples Split-3, Samples Leaf-5: RF Accuracy=0.7921, RF F1 Score=0.4702, RF AUC-ROC=0.8559\n"
     ]
    },
    {
     "name": "stderr",
     "output_type": "stream",
     "text": [
      "/tmp/ipykernel_176/1290535634.py:17: DataConversionWarning: A column-vector y was passed when a 1d array was expected. Please change the shape of y to (n_samples,), for example using ravel().\n",
      "  rf_classifier.fit(X_train, y_train)\n"
     ]
    },
    {
     "name": "stdout",
     "output_type": "stream",
     "text": [
      "Max Depth-4, Samples Split-4, Samples Leaf-1: RF Accuracy=0.7921, RF F1 Score=0.4740, RF AUC-ROC=0.8560\n"
     ]
    },
    {
     "name": "stderr",
     "output_type": "stream",
     "text": [
      "/tmp/ipykernel_176/1290535634.py:17: DataConversionWarning: A column-vector y was passed when a 1d array was expected. Please change the shape of y to (n_samples,), for example using ravel().\n",
      "  rf_classifier.fit(X_train, y_train)\n"
     ]
    },
    {
     "name": "stdout",
     "output_type": "stream",
     "text": [
      "Max Depth-4, Samples Split-4, Samples Leaf-2: RF Accuracy=0.7921, RF F1 Score=0.4740, RF AUC-ROC=0.8559\n"
     ]
    },
    {
     "name": "stderr",
     "output_type": "stream",
     "text": [
      "/tmp/ipykernel_176/1290535634.py:17: DataConversionWarning: A column-vector y was passed when a 1d array was expected. Please change the shape of y to (n_samples,), for example using ravel().\n",
      "  rf_classifier.fit(X_train, y_train)\n"
     ]
    },
    {
     "name": "stdout",
     "output_type": "stream",
     "text": [
      "Max Depth-4, Samples Split-4, Samples Leaf-3: RF Accuracy=0.7935, RF F1 Score=0.4757, RF AUC-ROC=0.8558\n"
     ]
    },
    {
     "name": "stderr",
     "output_type": "stream",
     "text": [
      "/tmp/ipykernel_176/1290535634.py:17: DataConversionWarning: A column-vector y was passed when a 1d array was expected. Please change the shape of y to (n_samples,), for example using ravel().\n",
      "  rf_classifier.fit(X_train, y_train)\n"
     ]
    },
    {
     "name": "stdout",
     "output_type": "stream",
     "text": [
      "Max Depth-4, Samples Split-4, Samples Leaf-4: RF Accuracy=0.7921, RF F1 Score=0.4702, RF AUC-ROC=0.8559\n"
     ]
    },
    {
     "name": "stderr",
     "output_type": "stream",
     "text": [
      "/tmp/ipykernel_176/1290535634.py:17: DataConversionWarning: A column-vector y was passed when a 1d array was expected. Please change the shape of y to (n_samples,), for example using ravel().\n",
      "  rf_classifier.fit(X_train, y_train)\n"
     ]
    },
    {
     "name": "stdout",
     "output_type": "stream",
     "text": [
      "Max Depth-4, Samples Split-4, Samples Leaf-5: RF Accuracy=0.7921, RF F1 Score=0.4702, RF AUC-ROC=0.8559\n"
     ]
    },
    {
     "name": "stderr",
     "output_type": "stream",
     "text": [
      "/tmp/ipykernel_176/1290535634.py:17: DataConversionWarning: A column-vector y was passed when a 1d array was expected. Please change the shape of y to (n_samples,), for example using ravel().\n",
      "  rf_classifier.fit(X_train, y_train)\n"
     ]
    },
    {
     "name": "stdout",
     "output_type": "stream",
     "text": [
      "Max Depth-4, Samples Split-5, Samples Leaf-1: RF Accuracy=0.7935, RF F1 Score=0.4757, RF AUC-ROC=0.8560\n"
     ]
    },
    {
     "name": "stderr",
     "output_type": "stream",
     "text": [
      "/tmp/ipykernel_176/1290535634.py:17: DataConversionWarning: A column-vector y was passed when a 1d array was expected. Please change the shape of y to (n_samples,), for example using ravel().\n",
      "  rf_classifier.fit(X_train, y_train)\n"
     ]
    },
    {
     "name": "stdout",
     "output_type": "stream",
     "text": [
      "Max Depth-4, Samples Split-5, Samples Leaf-2: RF Accuracy=0.7935, RF F1 Score=0.4757, RF AUC-ROC=0.8559\n"
     ]
    },
    {
     "name": "stderr",
     "output_type": "stream",
     "text": [
      "/tmp/ipykernel_176/1290535634.py:17: DataConversionWarning: A column-vector y was passed when a 1d array was expected. Please change the shape of y to (n_samples,), for example using ravel().\n",
      "  rf_classifier.fit(X_train, y_train)\n"
     ]
    },
    {
     "name": "stdout",
     "output_type": "stream",
     "text": [
      "Max Depth-4, Samples Split-5, Samples Leaf-3: RF Accuracy=0.7935, RF F1 Score=0.4757, RF AUC-ROC=0.8558\n"
     ]
    },
    {
     "name": "stderr",
     "output_type": "stream",
     "text": [
      "/tmp/ipykernel_176/1290535634.py:17: DataConversionWarning: A column-vector y was passed when a 1d array was expected. Please change the shape of y to (n_samples,), for example using ravel().\n",
      "  rf_classifier.fit(X_train, y_train)\n"
     ]
    },
    {
     "name": "stdout",
     "output_type": "stream",
     "text": [
      "Max Depth-4, Samples Split-5, Samples Leaf-4: RF Accuracy=0.7921, RF F1 Score=0.4702, RF AUC-ROC=0.8559\n"
     ]
    },
    {
     "name": "stderr",
     "output_type": "stream",
     "text": [
      "/tmp/ipykernel_176/1290535634.py:17: DataConversionWarning: A column-vector y was passed when a 1d array was expected. Please change the shape of y to (n_samples,), for example using ravel().\n",
      "  rf_classifier.fit(X_train, y_train)\n"
     ]
    },
    {
     "name": "stdout",
     "output_type": "stream",
     "text": [
      "Max Depth-4, Samples Split-5, Samples Leaf-5: RF Accuracy=0.7921, RF F1 Score=0.4702, RF AUC-ROC=0.8559\n"
     ]
    },
    {
     "name": "stderr",
     "output_type": "stream",
     "text": [
      "/tmp/ipykernel_176/1290535634.py:17: DataConversionWarning: A column-vector y was passed when a 1d array was expected. Please change the shape of y to (n_samples,), for example using ravel().\n",
      "  rf_classifier.fit(X_train, y_train)\n"
     ]
    },
    {
     "name": "stdout",
     "output_type": "stream",
     "text": [
      "Max Depth-4, Samples Split-6, Samples Leaf-1: RF Accuracy=0.7935, RF F1 Score=0.4757, RF AUC-ROC=0.8560\n"
     ]
    },
    {
     "name": "stderr",
     "output_type": "stream",
     "text": [
      "/tmp/ipykernel_176/1290535634.py:17: DataConversionWarning: A column-vector y was passed when a 1d array was expected. Please change the shape of y to (n_samples,), for example using ravel().\n",
      "  rf_classifier.fit(X_train, y_train)\n"
     ]
    },
    {
     "name": "stdout",
     "output_type": "stream",
     "text": [
      "Max Depth-4, Samples Split-6, Samples Leaf-2: RF Accuracy=0.7935, RF F1 Score=0.4757, RF AUC-ROC=0.8559\n"
     ]
    },
    {
     "name": "stderr",
     "output_type": "stream",
     "text": [
      "/tmp/ipykernel_176/1290535634.py:17: DataConversionWarning: A column-vector y was passed when a 1d array was expected. Please change the shape of y to (n_samples,), for example using ravel().\n",
      "  rf_classifier.fit(X_train, y_train)\n"
     ]
    },
    {
     "name": "stdout",
     "output_type": "stream",
     "text": [
      "Max Depth-4, Samples Split-6, Samples Leaf-3: RF Accuracy=0.7935, RF F1 Score=0.4757, RF AUC-ROC=0.8558\n"
     ]
    },
    {
     "name": "stderr",
     "output_type": "stream",
     "text": [
      "/tmp/ipykernel_176/1290535634.py:17: DataConversionWarning: A column-vector y was passed when a 1d array was expected. Please change the shape of y to (n_samples,), for example using ravel().\n",
      "  rf_classifier.fit(X_train, y_train)\n"
     ]
    },
    {
     "name": "stdout",
     "output_type": "stream",
     "text": [
      "Max Depth-4, Samples Split-6, Samples Leaf-4: RF Accuracy=0.7921, RF F1 Score=0.4702, RF AUC-ROC=0.8559\n"
     ]
    },
    {
     "name": "stderr",
     "output_type": "stream",
     "text": [
      "/tmp/ipykernel_176/1290535634.py:17: DataConversionWarning: A column-vector y was passed when a 1d array was expected. Please change the shape of y to (n_samples,), for example using ravel().\n",
      "  rf_classifier.fit(X_train, y_train)\n"
     ]
    },
    {
     "name": "stdout",
     "output_type": "stream",
     "text": [
      "Max Depth-4, Samples Split-6, Samples Leaf-5: RF Accuracy=0.7921, RF F1 Score=0.4702, RF AUC-ROC=0.8559\n"
     ]
    },
    {
     "name": "stderr",
     "output_type": "stream",
     "text": [
      "/tmp/ipykernel_176/1290535634.py:17: DataConversionWarning: A column-vector y was passed when a 1d array was expected. Please change the shape of y to (n_samples,), for example using ravel().\n",
      "  rf_classifier.fit(X_train, y_train)\n"
     ]
    },
    {
     "name": "stdout",
     "output_type": "stream",
     "text": [
      "Max Depth-5, Samples Split-2, Samples Leaf-1: RF Accuracy=0.8020, RF F1 Score=0.5358, RF AUC-ROC=0.8598\n"
     ]
    },
    {
     "name": "stderr",
     "output_type": "stream",
     "text": [
      "/tmp/ipykernel_176/1290535634.py:17: DataConversionWarning: A column-vector y was passed when a 1d array was expected. Please change the shape of y to (n_samples,), for example using ravel().\n",
      "  rf_classifier.fit(X_train, y_train)\n"
     ]
    },
    {
     "name": "stdout",
     "output_type": "stream",
     "text": [
      "Max Depth-5, Samples Split-2, Samples Leaf-2: RF Accuracy=0.7999, RF F1 Score=0.5331, RF AUC-ROC=0.8597\n"
     ]
    },
    {
     "name": "stderr",
     "output_type": "stream",
     "text": [
      "/tmp/ipykernel_176/1290535634.py:17: DataConversionWarning: A column-vector y was passed when a 1d array was expected. Please change the shape of y to (n_samples,), for example using ravel().\n",
      "  rf_classifier.fit(X_train, y_train)\n"
     ]
    },
    {
     "name": "stdout",
     "output_type": "stream",
     "text": [
      "Max Depth-5, Samples Split-2, Samples Leaf-3: RF Accuracy=0.8006, RF F1 Score=0.5340, RF AUC-ROC=0.8596\n"
     ]
    },
    {
     "name": "stderr",
     "output_type": "stream",
     "text": [
      "/tmp/ipykernel_176/1290535634.py:17: DataConversionWarning: A column-vector y was passed when a 1d array was expected. Please change the shape of y to (n_samples,), for example using ravel().\n",
      "  rf_classifier.fit(X_train, y_train)\n"
     ]
    },
    {
     "name": "stdout",
     "output_type": "stream",
     "text": [
      "Max Depth-5, Samples Split-2, Samples Leaf-4: RF Accuracy=0.8013, RF F1 Score=0.5364, RF AUC-ROC=0.8593\n"
     ]
    },
    {
     "name": "stderr",
     "output_type": "stream",
     "text": [
      "/tmp/ipykernel_176/1290535634.py:17: DataConversionWarning: A column-vector y was passed when a 1d array was expected. Please change the shape of y to (n_samples,), for example using ravel().\n",
      "  rf_classifier.fit(X_train, y_train)\n"
     ]
    },
    {
     "name": "stdout",
     "output_type": "stream",
     "text": [
      "Max Depth-5, Samples Split-2, Samples Leaf-5: RF Accuracy=0.8006, RF F1 Score=0.5309, RF AUC-ROC=0.8588\n"
     ]
    },
    {
     "name": "stderr",
     "output_type": "stream",
     "text": [
      "/tmp/ipykernel_176/1290535634.py:17: DataConversionWarning: A column-vector y was passed when a 1d array was expected. Please change the shape of y to (n_samples,), for example using ravel().\n",
      "  rf_classifier.fit(X_train, y_train)\n"
     ]
    },
    {
     "name": "stdout",
     "output_type": "stream",
     "text": [
      "Max Depth-5, Samples Split-3, Samples Leaf-1: RF Accuracy=0.8020, RF F1 Score=0.5358, RF AUC-ROC=0.8598\n"
     ]
    },
    {
     "name": "stderr",
     "output_type": "stream",
     "text": [
      "/tmp/ipykernel_176/1290535634.py:17: DataConversionWarning: A column-vector y was passed when a 1d array was expected. Please change the shape of y to (n_samples,), for example using ravel().\n",
      "  rf_classifier.fit(X_train, y_train)\n"
     ]
    },
    {
     "name": "stdout",
     "output_type": "stream",
     "text": [
      "Max Depth-5, Samples Split-3, Samples Leaf-2: RF Accuracy=0.7999, RF F1 Score=0.5331, RF AUC-ROC=0.8597\n"
     ]
    },
    {
     "name": "stderr",
     "output_type": "stream",
     "text": [
      "/tmp/ipykernel_176/1290535634.py:17: DataConversionWarning: A column-vector y was passed when a 1d array was expected. Please change the shape of y to (n_samples,), for example using ravel().\n",
      "  rf_classifier.fit(X_train, y_train)\n"
     ]
    },
    {
     "name": "stdout",
     "output_type": "stream",
     "text": [
      "Max Depth-5, Samples Split-3, Samples Leaf-3: RF Accuracy=0.8006, RF F1 Score=0.5340, RF AUC-ROC=0.8596\n"
     ]
    },
    {
     "name": "stderr",
     "output_type": "stream",
     "text": [
      "/tmp/ipykernel_176/1290535634.py:17: DataConversionWarning: A column-vector y was passed when a 1d array was expected. Please change the shape of y to (n_samples,), for example using ravel().\n",
      "  rf_classifier.fit(X_train, y_train)\n"
     ]
    },
    {
     "name": "stdout",
     "output_type": "stream",
     "text": [
      "Max Depth-5, Samples Split-3, Samples Leaf-4: RF Accuracy=0.8013, RF F1 Score=0.5364, RF AUC-ROC=0.8593\n"
     ]
    },
    {
     "name": "stderr",
     "output_type": "stream",
     "text": [
      "/tmp/ipykernel_176/1290535634.py:17: DataConversionWarning: A column-vector y was passed when a 1d array was expected. Please change the shape of y to (n_samples,), for example using ravel().\n",
      "  rf_classifier.fit(X_train, y_train)\n"
     ]
    },
    {
     "name": "stdout",
     "output_type": "stream",
     "text": [
      "Max Depth-5, Samples Split-3, Samples Leaf-5: RF Accuracy=0.8006, RF F1 Score=0.5309, RF AUC-ROC=0.8588\n"
     ]
    },
    {
     "name": "stderr",
     "output_type": "stream",
     "text": [
      "/tmp/ipykernel_176/1290535634.py:17: DataConversionWarning: A column-vector y was passed when a 1d array was expected. Please change the shape of y to (n_samples,), for example using ravel().\n",
      "  rf_classifier.fit(X_train, y_train)\n"
     ]
    },
    {
     "name": "stdout",
     "output_type": "stream",
     "text": [
      "Max Depth-5, Samples Split-4, Samples Leaf-1: RF Accuracy=0.8006, RF F1 Score=0.5340, RF AUC-ROC=0.8598\n"
     ]
    },
    {
     "name": "stderr",
     "output_type": "stream",
     "text": [
      "/tmp/ipykernel_176/1290535634.py:17: DataConversionWarning: A column-vector y was passed when a 1d array was expected. Please change the shape of y to (n_samples,), for example using ravel().\n",
      "  rf_classifier.fit(X_train, y_train)\n"
     ]
    },
    {
     "name": "stdout",
     "output_type": "stream",
     "text": [
      "Max Depth-5, Samples Split-4, Samples Leaf-2: RF Accuracy=0.7999, RF F1 Score=0.5331, RF AUC-ROC=0.8597\n"
     ]
    },
    {
     "name": "stderr",
     "output_type": "stream",
     "text": [
      "/tmp/ipykernel_176/1290535634.py:17: DataConversionWarning: A column-vector y was passed when a 1d array was expected. Please change the shape of y to (n_samples,), for example using ravel().\n",
      "  rf_classifier.fit(X_train, y_train)\n"
     ]
    },
    {
     "name": "stdout",
     "output_type": "stream",
     "text": [
      "Max Depth-5, Samples Split-4, Samples Leaf-3: RF Accuracy=0.8006, RF F1 Score=0.5340, RF AUC-ROC=0.8596\n"
     ]
    },
    {
     "name": "stderr",
     "output_type": "stream",
     "text": [
      "/tmp/ipykernel_176/1290535634.py:17: DataConversionWarning: A column-vector y was passed when a 1d array was expected. Please change the shape of y to (n_samples,), for example using ravel().\n",
      "  rf_classifier.fit(X_train, y_train)\n"
     ]
    },
    {
     "name": "stdout",
     "output_type": "stream",
     "text": [
      "Max Depth-5, Samples Split-4, Samples Leaf-4: RF Accuracy=0.8013, RF F1 Score=0.5364, RF AUC-ROC=0.8593\n"
     ]
    },
    {
     "name": "stderr",
     "output_type": "stream",
     "text": [
      "/tmp/ipykernel_176/1290535634.py:17: DataConversionWarning: A column-vector y was passed when a 1d array was expected. Please change the shape of y to (n_samples,), for example using ravel().\n",
      "  rf_classifier.fit(X_train, y_train)\n"
     ]
    },
    {
     "name": "stdout",
     "output_type": "stream",
     "text": [
      "Max Depth-5, Samples Split-4, Samples Leaf-5: RF Accuracy=0.8006, RF F1 Score=0.5309, RF AUC-ROC=0.8588\n"
     ]
    },
    {
     "name": "stderr",
     "output_type": "stream",
     "text": [
      "/tmp/ipykernel_176/1290535634.py:17: DataConversionWarning: A column-vector y was passed when a 1d array was expected. Please change the shape of y to (n_samples,), for example using ravel().\n",
      "  rf_classifier.fit(X_train, y_train)\n"
     ]
    },
    {
     "name": "stdout",
     "output_type": "stream",
     "text": [
      "Max Depth-5, Samples Split-5, Samples Leaf-1: RF Accuracy=0.8020, RF F1 Score=0.5358, RF AUC-ROC=0.8596\n"
     ]
    },
    {
     "name": "stderr",
     "output_type": "stream",
     "text": [
      "/tmp/ipykernel_176/1290535634.py:17: DataConversionWarning: A column-vector y was passed when a 1d array was expected. Please change the shape of y to (n_samples,), for example using ravel().\n",
      "  rf_classifier.fit(X_train, y_train)\n"
     ]
    },
    {
     "name": "stdout",
     "output_type": "stream",
     "text": [
      "Max Depth-5, Samples Split-5, Samples Leaf-2: RF Accuracy=0.7999, RF F1 Score=0.5331, RF AUC-ROC=0.8596\n"
     ]
    },
    {
     "name": "stderr",
     "output_type": "stream",
     "text": [
      "/tmp/ipykernel_176/1290535634.py:17: DataConversionWarning: A column-vector y was passed when a 1d array was expected. Please change the shape of y to (n_samples,), for example using ravel().\n",
      "  rf_classifier.fit(X_train, y_train)\n"
     ]
    },
    {
     "name": "stdout",
     "output_type": "stream",
     "text": [
      "Max Depth-5, Samples Split-5, Samples Leaf-3: RF Accuracy=0.8006, RF F1 Score=0.5340, RF AUC-ROC=0.8596\n"
     ]
    },
    {
     "name": "stderr",
     "output_type": "stream",
     "text": [
      "/tmp/ipykernel_176/1290535634.py:17: DataConversionWarning: A column-vector y was passed when a 1d array was expected. Please change the shape of y to (n_samples,), for example using ravel().\n",
      "  rf_classifier.fit(X_train, y_train)\n"
     ]
    },
    {
     "name": "stdout",
     "output_type": "stream",
     "text": [
      "Max Depth-5, Samples Split-5, Samples Leaf-4: RF Accuracy=0.8013, RF F1 Score=0.5364, RF AUC-ROC=0.8593\n"
     ]
    },
    {
     "name": "stderr",
     "output_type": "stream",
     "text": [
      "/tmp/ipykernel_176/1290535634.py:17: DataConversionWarning: A column-vector y was passed when a 1d array was expected. Please change the shape of y to (n_samples,), for example using ravel().\n",
      "  rf_classifier.fit(X_train, y_train)\n"
     ]
    },
    {
     "name": "stdout",
     "output_type": "stream",
     "text": [
      "Max Depth-5, Samples Split-5, Samples Leaf-5: RF Accuracy=0.8006, RF F1 Score=0.5309, RF AUC-ROC=0.8588\n"
     ]
    },
    {
     "name": "stderr",
     "output_type": "stream",
     "text": [
      "/tmp/ipykernel_176/1290535634.py:17: DataConversionWarning: A column-vector y was passed when a 1d array was expected. Please change the shape of y to (n_samples,), for example using ravel().\n",
      "  rf_classifier.fit(X_train, y_train)\n"
     ]
    },
    {
     "name": "stdout",
     "output_type": "stream",
     "text": [
      "Max Depth-5, Samples Split-6, Samples Leaf-1: RF Accuracy=0.8020, RF F1 Score=0.5358, RF AUC-ROC=0.8596\n"
     ]
    },
    {
     "name": "stderr",
     "output_type": "stream",
     "text": [
      "/tmp/ipykernel_176/1290535634.py:17: DataConversionWarning: A column-vector y was passed when a 1d array was expected. Please change the shape of y to (n_samples,), for example using ravel().\n",
      "  rf_classifier.fit(X_train, y_train)\n"
     ]
    },
    {
     "name": "stdout",
     "output_type": "stream",
     "text": [
      "Max Depth-5, Samples Split-6, Samples Leaf-2: RF Accuracy=0.8013, RF F1 Score=0.5364, RF AUC-ROC=0.8596\n"
     ]
    },
    {
     "name": "stderr",
     "output_type": "stream",
     "text": [
      "/tmp/ipykernel_176/1290535634.py:17: DataConversionWarning: A column-vector y was passed when a 1d array was expected. Please change the shape of y to (n_samples,), for example using ravel().\n",
      "  rf_classifier.fit(X_train, y_train)\n"
     ]
    },
    {
     "name": "stdout",
     "output_type": "stream",
     "text": [
      "Max Depth-5, Samples Split-6, Samples Leaf-3: RF Accuracy=0.8006, RF F1 Score=0.5340, RF AUC-ROC=0.8596\n"
     ]
    },
    {
     "name": "stderr",
     "output_type": "stream",
     "text": [
      "/tmp/ipykernel_176/1290535634.py:17: DataConversionWarning: A column-vector y was passed when a 1d array was expected. Please change the shape of y to (n_samples,), for example using ravel().\n",
      "  rf_classifier.fit(X_train, y_train)\n"
     ]
    },
    {
     "name": "stdout",
     "output_type": "stream",
     "text": [
      "Max Depth-5, Samples Split-6, Samples Leaf-4: RF Accuracy=0.8013, RF F1 Score=0.5364, RF AUC-ROC=0.8593\n"
     ]
    },
    {
     "name": "stderr",
     "output_type": "stream",
     "text": [
      "/tmp/ipykernel_176/1290535634.py:17: DataConversionWarning: A column-vector y was passed when a 1d array was expected. Please change the shape of y to (n_samples,), for example using ravel().\n",
      "  rf_classifier.fit(X_train, y_train)\n"
     ]
    },
    {
     "name": "stdout",
     "output_type": "stream",
     "text": [
      "Max Depth-5, Samples Split-6, Samples Leaf-5: RF Accuracy=0.8006, RF F1 Score=0.5309, RF AUC-ROC=0.8588\n"
     ]
    }
   ],
   "source": [
    "depths = [None, 1, 2, 3, 4, 5]\n",
    "samples_split = [2, 3, 4, 5, 6]\n",
    "samples_leaf = [1, 2, 3, 4, 5]\n",
    "\n",
    "# Dictionary to store the best metrics and corresponding hyperparameters\n",
    "best_rf_metrics = {\n",
    "    \"depth\": 0, \"split\": 0, \"leaf\": 0,\n",
    "    \"rf_accuracy\": 0, \"rf_f1_score\": 0, \"rf_auc_roc\": 0\n",
    "}\n",
    "\n",
    "# Grid search\n",
    "for i in depths:\n",
    "    for j in samples_split:\n",
    "        for k in samples_leaf:\n",
    "            # Create a classifier object\n",
    "            rf_classifier = RandomForestClassifier(max_depth=i, min_samples_split=j, min_samples_leaf=k, random_state=54321)\n",
    "            rf_classifier.fit(X_train, y_train)\n",
    "            \n",
    "            # Predictions and predicted probabilities\n",
    "            y_test_pred = rf_classifier.predict(X_test)\n",
    "            y_test_prob = rf_classifier.predict_proba(X_test)[:, 1]\n",
    "            \n",
    "            # Calculate metrics\n",
    "            rf_accuracy_test = accuracy_score(y_test, y_test_pred)\n",
    "            rf_f1_test = f1_score(y_test, y_test_pred)\n",
    "            rf_auc_roc_test = roc_auc_score(y_test, y_test_prob)\n",
    "            \n",
    "            # Print metrics\n",
    "            print(f\"Max Depth-{i}, Samples Split-{j}, Samples Leaf-{k}: RF Accuracy={rf_accuracy_test:.4f}, RF F1 Score={rf_f1_test:.4f}, RF AUC-ROC={rf_auc_roc_test:.4f}\")\n",
    "            \n",
    "            # Update best metrics if current metrics are better\n",
    "            if rf_accuracy_test > best_rf_metrics['rf_accuracy']:\n",
    "                best_rf_metrics.update({\n",
    "                    \"depth\": i, \"split\": j, \"leaf\": k,\n",
    "                    \"rf_accuracy\": rf_accuracy_test, \"rf_f1_score\": rf_f1_test, \"rf_auc_roc\": rf_auc_roc_test\n",
    "                })"
   ]
  },
  {
   "cell_type": "code",
   "execution_count": 53,
   "metadata": {
    "scrolled": false
   },
   "outputs": [
    {
     "name": "stdout",
     "output_type": "stream",
     "text": [
      "Best RandomForest Hyperparameters and Metrics:\n",
      "Max Depth: None, Samples Split: 5, Samples Leaf: 2\n",
      "\n",
      "RandomForest Accuracy:\n",
      "AUC-ROC:  0.8564\n",
      "Accuracy: 0.8219\n",
      "F1 Score: 0.6203\n"
     ]
    }
   ],
   "source": [
    "# Print the best hyperparameters and metrics\n",
    "\n",
    "print(\"Best RandomForest Hyperparameters and Metrics:\")\n",
    "print(f\"Max Depth: {best_rf_metrics['depth']}, Samples Split: {best_rf_metrics['split']}, Samples Leaf: {best_rf_metrics['leaf']}\")\n",
    "print()\n",
    "print('RandomForest Accuracy:')\n",
    "print(f\"AUC-ROC:  {best_rf_metrics['rf_auc_roc']:.4f}\")\n",
    "print(f\"Accuracy: {best_rf_metrics['rf_accuracy']:.4f}\")\n",
    "print(f\"F1 Score: {best_rf_metrics['rf_f1_score']:.4f}\")"
   ]
  },
  {
   "cell_type": "markdown",
   "metadata": {},
   "source": [
    "### RandomForest Classifier with Hyperparameter Tuning<a id='rfc_hyper'></a>"
   ]
  },
  {
   "cell_type": "code",
   "execution_count": 54,
   "metadata": {},
   "outputs": [
    {
     "name": "stdout",
     "output_type": "stream",
     "text": [
      "Fitting 5 folds for each of 108 candidates, totalling 540 fits\n"
     ]
    },
    {
     "name": "stderr",
     "output_type": "stream",
     "text": [
      "/opt/conda/envs/python3/lib/python3.9/site-packages/sklearn/model_selection/_validation.py:593: DataConversionWarning: A column-vector y was passed when a 1d array was expected. Please change the shape of y to (n_samples,), for example using ravel().\n",
      "  estimator.fit(X_train, y_train, **fit_params)\n",
      "/opt/conda/envs/python3/lib/python3.9/site-packages/sklearn/model_selection/_validation.py:593: DataConversionWarning: A column-vector y was passed when a 1d array was expected. Please change the shape of y to (n_samples,), for example using ravel().\n",
      "  estimator.fit(X_train, y_train, **fit_params)\n",
      "/opt/conda/envs/python3/lib/python3.9/site-packages/sklearn/model_selection/_validation.py:593: DataConversionWarning: A column-vector y was passed when a 1d array was expected. Please change the shape of y to (n_samples,), for example using ravel().\n",
      "  estimator.fit(X_train, y_train, **fit_params)\n",
      "/opt/conda/envs/python3/lib/python3.9/site-packages/sklearn/model_selection/_validation.py:593: DataConversionWarning: A column-vector y was passed when a 1d array was expected. Please change the shape of y to (n_samples,), for example using ravel().\n",
      "  estimator.fit(X_train, y_train, **fit_params)\n",
      "/opt/conda/envs/python3/lib/python3.9/site-packages/sklearn/model_selection/_validation.py:593: DataConversionWarning: A column-vector y was passed when a 1d array was expected. Please change the shape of y to (n_samples,), for example using ravel().\n",
      "  estimator.fit(X_train, y_train, **fit_params)\n",
      "/opt/conda/envs/python3/lib/python3.9/site-packages/sklearn/model_selection/_validation.py:593: DataConversionWarning: A column-vector y was passed when a 1d array was expected. Please change the shape of y to (n_samples,), for example using ravel().\n",
      "  estimator.fit(X_train, y_train, **fit_params)\n",
      "/opt/conda/envs/python3/lib/python3.9/site-packages/sklearn/model_selection/_validation.py:593: DataConversionWarning: A column-vector y was passed when a 1d array was expected. Please change the shape of y to (n_samples,), for example using ravel().\n",
      "  estimator.fit(X_train, y_train, **fit_params)\n",
      "/opt/conda/envs/python3/lib/python3.9/site-packages/sklearn/model_selection/_validation.py:593: DataConversionWarning: A column-vector y was passed when a 1d array was expected. Please change the shape of y to (n_samples,), for example using ravel().\n",
      "  estimator.fit(X_train, y_train, **fit_params)\n",
      "/opt/conda/envs/python3/lib/python3.9/site-packages/sklearn/model_selection/_validation.py:593: DataConversionWarning: A column-vector y was passed when a 1d array was expected. Please change the shape of y to (n_samples,), for example using ravel().\n",
      "  estimator.fit(X_train, y_train, **fit_params)\n",
      "/opt/conda/envs/python3/lib/python3.9/site-packages/sklearn/model_selection/_validation.py:593: DataConversionWarning: A column-vector y was passed when a 1d array was expected. Please change the shape of y to (n_samples,), for example using ravel().\n",
      "  estimator.fit(X_train, y_train, **fit_params)\n",
      "/opt/conda/envs/python3/lib/python3.9/site-packages/sklearn/model_selection/_validation.py:593: DataConversionWarning: A column-vector y was passed when a 1d array was expected. Please change the shape of y to (n_samples,), for example using ravel().\n",
      "  estimator.fit(X_train, y_train, **fit_params)\n",
      "/opt/conda/envs/python3/lib/python3.9/site-packages/sklearn/model_selection/_validation.py:593: DataConversionWarning: A column-vector y was passed when a 1d array was expected. Please change the shape of y to (n_samples,), for example using ravel().\n",
      "  estimator.fit(X_train, y_train, **fit_params)\n",
      "/opt/conda/envs/python3/lib/python3.9/site-packages/sklearn/model_selection/_validation.py:593: DataConversionWarning: A column-vector y was passed when a 1d array was expected. Please change the shape of y to (n_samples,), for example using ravel().\n",
      "  estimator.fit(X_train, y_train, **fit_params)\n",
      "/opt/conda/envs/python3/lib/python3.9/site-packages/sklearn/model_selection/_validation.py:593: DataConversionWarning: A column-vector y was passed when a 1d array was expected. Please change the shape of y to (n_samples,), for example using ravel().\n",
      "  estimator.fit(X_train, y_train, **fit_params)\n",
      "/opt/conda/envs/python3/lib/python3.9/site-packages/sklearn/model_selection/_validation.py:593: DataConversionWarning: A column-vector y was passed when a 1d array was expected. Please change the shape of y to (n_samples,), for example using ravel().\n",
      "  estimator.fit(X_train, y_train, **fit_params)\n",
      "/opt/conda/envs/python3/lib/python3.9/site-packages/sklearn/model_selection/_validation.py:593: DataConversionWarning: A column-vector y was passed when a 1d array was expected. Please change the shape of y to (n_samples,), for example using ravel().\n",
      "  estimator.fit(X_train, y_train, **fit_params)\n",
      "/opt/conda/envs/python3/lib/python3.9/site-packages/sklearn/model_selection/_validation.py:593: DataConversionWarning: A column-vector y was passed when a 1d array was expected. Please change the shape of y to (n_samples,), for example using ravel().\n",
      "  estimator.fit(X_train, y_train, **fit_params)\n",
      "/opt/conda/envs/python3/lib/python3.9/site-packages/sklearn/model_selection/_validation.py:593: DataConversionWarning: A column-vector y was passed when a 1d array was expected. Please change the shape of y to (n_samples,), for example using ravel().\n",
      "  estimator.fit(X_train, y_train, **fit_params)\n",
      "/opt/conda/envs/python3/lib/python3.9/site-packages/sklearn/model_selection/_validation.py:593: DataConversionWarning: A column-vector y was passed when a 1d array was expected. Please change the shape of y to (n_samples,), for example using ravel().\n",
      "  estimator.fit(X_train, y_train, **fit_params)\n",
      "/opt/conda/envs/python3/lib/python3.9/site-packages/sklearn/model_selection/_validation.py:593: DataConversionWarning: A column-vector y was passed when a 1d array was expected. Please change the shape of y to (n_samples,), for example using ravel().\n",
      "  estimator.fit(X_train, y_train, **fit_params)\n",
      "/opt/conda/envs/python3/lib/python3.9/site-packages/sklearn/model_selection/_validation.py:593: DataConversionWarning: A column-vector y was passed when a 1d array was expected. Please change the shape of y to (n_samples,), for example using ravel().\n",
      "  estimator.fit(X_train, y_train, **fit_params)\n",
      "/opt/conda/envs/python3/lib/python3.9/site-packages/sklearn/model_selection/_validation.py:593: DataConversionWarning: A column-vector y was passed when a 1d array was expected. Please change the shape of y to (n_samples,), for example using ravel().\n",
      "  estimator.fit(X_train, y_train, **fit_params)\n",
      "/opt/conda/envs/python3/lib/python3.9/site-packages/sklearn/model_selection/_validation.py:593: DataConversionWarning: A column-vector y was passed when a 1d array was expected. Please change the shape of y to (n_samples,), for example using ravel().\n",
      "  estimator.fit(X_train, y_train, **fit_params)\n",
      "/opt/conda/envs/python3/lib/python3.9/site-packages/sklearn/model_selection/_validation.py:593: DataConversionWarning: A column-vector y was passed when a 1d array was expected. Please change the shape of y to (n_samples,), for example using ravel().\n",
      "  estimator.fit(X_train, y_train, **fit_params)\n",
      "/opt/conda/envs/python3/lib/python3.9/site-packages/sklearn/model_selection/_validation.py:593: DataConversionWarning: A column-vector y was passed when a 1d array was expected. Please change the shape of y to (n_samples,), for example using ravel().\n",
      "  estimator.fit(X_train, y_train, **fit_params)\n",
      "/opt/conda/envs/python3/lib/python3.9/site-packages/sklearn/model_selection/_validation.py:593: DataConversionWarning: A column-vector y was passed when a 1d array was expected. Please change the shape of y to (n_samples,), for example using ravel().\n",
      "  estimator.fit(X_train, y_train, **fit_params)\n",
      "/opt/conda/envs/python3/lib/python3.9/site-packages/sklearn/model_selection/_validation.py:593: DataConversionWarning: A column-vector y was passed when a 1d array was expected. Please change the shape of y to (n_samples,), for example using ravel().\n",
      "  estimator.fit(X_train, y_train, **fit_params)\n",
      "/opt/conda/envs/python3/lib/python3.9/site-packages/sklearn/model_selection/_validation.py:593: DataConversionWarning: A column-vector y was passed when a 1d array was expected. Please change the shape of y to (n_samples,), for example using ravel().\n",
      "  estimator.fit(X_train, y_train, **fit_params)\n"
     ]
    },
    {
     "name": "stderr",
     "output_type": "stream",
     "text": [
      "/opt/conda/envs/python3/lib/python3.9/site-packages/sklearn/model_selection/_validation.py:593: DataConversionWarning: A column-vector y was passed when a 1d array was expected. Please change the shape of y to (n_samples,), for example using ravel().\n",
      "  estimator.fit(X_train, y_train, **fit_params)\n",
      "/opt/conda/envs/python3/lib/python3.9/site-packages/sklearn/model_selection/_validation.py:593: DataConversionWarning: A column-vector y was passed when a 1d array was expected. Please change the shape of y to (n_samples,), for example using ravel().\n",
      "  estimator.fit(X_train, y_train, **fit_params)\n",
      "/opt/conda/envs/python3/lib/python3.9/site-packages/sklearn/model_selection/_validation.py:593: DataConversionWarning: A column-vector y was passed when a 1d array was expected. Please change the shape of y to (n_samples,), for example using ravel().\n",
      "  estimator.fit(X_train, y_train, **fit_params)\n",
      "/opt/conda/envs/python3/lib/python3.9/site-packages/sklearn/model_selection/_validation.py:593: DataConversionWarning: A column-vector y was passed when a 1d array was expected. Please change the shape of y to (n_samples,), for example using ravel().\n",
      "  estimator.fit(X_train, y_train, **fit_params)\n",
      "/opt/conda/envs/python3/lib/python3.9/site-packages/sklearn/model_selection/_validation.py:593: DataConversionWarning: A column-vector y was passed when a 1d array was expected. Please change the shape of y to (n_samples,), for example using ravel().\n",
      "  estimator.fit(X_train, y_train, **fit_params)\n",
      "/opt/conda/envs/python3/lib/python3.9/site-packages/sklearn/model_selection/_validation.py:593: DataConversionWarning: A column-vector y was passed when a 1d array was expected. Please change the shape of y to (n_samples,), for example using ravel().\n",
      "  estimator.fit(X_train, y_train, **fit_params)\n",
      "/opt/conda/envs/python3/lib/python3.9/site-packages/sklearn/model_selection/_validation.py:593: DataConversionWarning: A column-vector y was passed when a 1d array was expected. Please change the shape of y to (n_samples,), for example using ravel().\n",
      "  estimator.fit(X_train, y_train, **fit_params)\n",
      "/opt/conda/envs/python3/lib/python3.9/site-packages/sklearn/model_selection/_validation.py:593: DataConversionWarning: A column-vector y was passed when a 1d array was expected. Please change the shape of y to (n_samples,), for example using ravel().\n",
      "  estimator.fit(X_train, y_train, **fit_params)\n",
      "/opt/conda/envs/python3/lib/python3.9/site-packages/sklearn/model_selection/_validation.py:593: DataConversionWarning: A column-vector y was passed when a 1d array was expected. Please change the shape of y to (n_samples,), for example using ravel().\n",
      "  estimator.fit(X_train, y_train, **fit_params)\n",
      "/opt/conda/envs/python3/lib/python3.9/site-packages/sklearn/model_selection/_validation.py:593: DataConversionWarning: A column-vector y was passed when a 1d array was expected. Please change the shape of y to (n_samples,), for example using ravel().\n",
      "  estimator.fit(X_train, y_train, **fit_params)\n",
      "/opt/conda/envs/python3/lib/python3.9/site-packages/sklearn/model_selection/_validation.py:593: DataConversionWarning: A column-vector y was passed when a 1d array was expected. Please change the shape of y to (n_samples,), for example using ravel().\n",
      "  estimator.fit(X_train, y_train, **fit_params)\n",
      "/opt/conda/envs/python3/lib/python3.9/site-packages/sklearn/model_selection/_validation.py:593: DataConversionWarning: A column-vector y was passed when a 1d array was expected. Please change the shape of y to (n_samples,), for example using ravel().\n",
      "  estimator.fit(X_train, y_train, **fit_params)\n",
      "/opt/conda/envs/python3/lib/python3.9/site-packages/sklearn/model_selection/_validation.py:593: DataConversionWarning: A column-vector y was passed when a 1d array was expected. Please change the shape of y to (n_samples,), for example using ravel().\n",
      "  estimator.fit(X_train, y_train, **fit_params)\n",
      "/opt/conda/envs/python3/lib/python3.9/site-packages/sklearn/model_selection/_validation.py:593: DataConversionWarning: A column-vector y was passed when a 1d array was expected. Please change the shape of y to (n_samples,), for example using ravel().\n",
      "  estimator.fit(X_train, y_train, **fit_params)\n",
      "/opt/conda/envs/python3/lib/python3.9/site-packages/sklearn/model_selection/_validation.py:593: DataConversionWarning: A column-vector y was passed when a 1d array was expected. Please change the shape of y to (n_samples,), for example using ravel().\n",
      "  estimator.fit(X_train, y_train, **fit_params)\n",
      "/opt/conda/envs/python3/lib/python3.9/site-packages/sklearn/model_selection/_validation.py:593: DataConversionWarning: A column-vector y was passed when a 1d array was expected. Please change the shape of y to (n_samples,), for example using ravel().\n",
      "  estimator.fit(X_train, y_train, **fit_params)\n",
      "/opt/conda/envs/python3/lib/python3.9/site-packages/sklearn/model_selection/_validation.py:593: DataConversionWarning: A column-vector y was passed when a 1d array was expected. Please change the shape of y to (n_samples,), for example using ravel().\n",
      "  estimator.fit(X_train, y_train, **fit_params)\n",
      "/opt/conda/envs/python3/lib/python3.9/site-packages/sklearn/model_selection/_validation.py:593: DataConversionWarning: A column-vector y was passed when a 1d array was expected. Please change the shape of y to (n_samples,), for example using ravel().\n",
      "  estimator.fit(X_train, y_train, **fit_params)\n",
      "/opt/conda/envs/python3/lib/python3.9/site-packages/sklearn/model_selection/_validation.py:593: DataConversionWarning: A column-vector y was passed when a 1d array was expected. Please change the shape of y to (n_samples,), for example using ravel().\n",
      "  estimator.fit(X_train, y_train, **fit_params)\n",
      "/opt/conda/envs/python3/lib/python3.9/site-packages/sklearn/model_selection/_validation.py:593: DataConversionWarning: A column-vector y was passed when a 1d array was expected. Please change the shape of y to (n_samples,), for example using ravel().\n",
      "  estimator.fit(X_train, y_train, **fit_params)\n",
      "/opt/conda/envs/python3/lib/python3.9/site-packages/sklearn/model_selection/_validation.py:593: DataConversionWarning: A column-vector y was passed when a 1d array was expected. Please change the shape of y to (n_samples,), for example using ravel().\n",
      "  estimator.fit(X_train, y_train, **fit_params)\n",
      "/opt/conda/envs/python3/lib/python3.9/site-packages/sklearn/model_selection/_validation.py:593: DataConversionWarning: A column-vector y was passed when a 1d array was expected. Please change the shape of y to (n_samples,), for example using ravel().\n",
      "  estimator.fit(X_train, y_train, **fit_params)\n",
      "/opt/conda/envs/python3/lib/python3.9/site-packages/sklearn/model_selection/_validation.py:593: DataConversionWarning: A column-vector y was passed when a 1d array was expected. Please change the shape of y to (n_samples,), for example using ravel().\n",
      "  estimator.fit(X_train, y_train, **fit_params)\n",
      "/opt/conda/envs/python3/lib/python3.9/site-packages/sklearn/model_selection/_validation.py:593: DataConversionWarning: A column-vector y was passed when a 1d array was expected. Please change the shape of y to (n_samples,), for example using ravel().\n",
      "  estimator.fit(X_train, y_train, **fit_params)\n",
      "/opt/conda/envs/python3/lib/python3.9/site-packages/sklearn/model_selection/_validation.py:593: DataConversionWarning: A column-vector y was passed when a 1d array was expected. Please change the shape of y to (n_samples,), for example using ravel().\n",
      "  estimator.fit(X_train, y_train, **fit_params)\n",
      "/opt/conda/envs/python3/lib/python3.9/site-packages/sklearn/model_selection/_validation.py:593: DataConversionWarning: A column-vector y was passed when a 1d array was expected. Please change the shape of y to (n_samples,), for example using ravel().\n",
      "  estimator.fit(X_train, y_train, **fit_params)\n",
      "/opt/conda/envs/python3/lib/python3.9/site-packages/sklearn/model_selection/_validation.py:593: DataConversionWarning: A column-vector y was passed when a 1d array was expected. Please change the shape of y to (n_samples,), for example using ravel().\n",
      "  estimator.fit(X_train, y_train, **fit_params)\n",
      "/opt/conda/envs/python3/lib/python3.9/site-packages/sklearn/model_selection/_validation.py:593: DataConversionWarning: A column-vector y was passed when a 1d array was expected. Please change the shape of y to (n_samples,), for example using ravel().\n",
      "  estimator.fit(X_train, y_train, **fit_params)\n"
     ]
    },
    {
     "name": "stderr",
     "output_type": "stream",
     "text": [
      "/opt/conda/envs/python3/lib/python3.9/site-packages/sklearn/model_selection/_validation.py:593: DataConversionWarning: A column-vector y was passed when a 1d array was expected. Please change the shape of y to (n_samples,), for example using ravel().\n",
      "  estimator.fit(X_train, y_train, **fit_params)\n",
      "/opt/conda/envs/python3/lib/python3.9/site-packages/sklearn/model_selection/_validation.py:593: DataConversionWarning: A column-vector y was passed when a 1d array was expected. Please change the shape of y to (n_samples,), for example using ravel().\n",
      "  estimator.fit(X_train, y_train, **fit_params)\n",
      "/opt/conda/envs/python3/lib/python3.9/site-packages/sklearn/model_selection/_validation.py:593: DataConversionWarning: A column-vector y was passed when a 1d array was expected. Please change the shape of y to (n_samples,), for example using ravel().\n",
      "  estimator.fit(X_train, y_train, **fit_params)\n",
      "/opt/conda/envs/python3/lib/python3.9/site-packages/sklearn/model_selection/_validation.py:593: DataConversionWarning: A column-vector y was passed when a 1d array was expected. Please change the shape of y to (n_samples,), for example using ravel().\n",
      "  estimator.fit(X_train, y_train, **fit_params)\n",
      "/opt/conda/envs/python3/lib/python3.9/site-packages/sklearn/model_selection/_validation.py:593: DataConversionWarning: A column-vector y was passed when a 1d array was expected. Please change the shape of y to (n_samples,), for example using ravel().\n",
      "  estimator.fit(X_train, y_train, **fit_params)\n",
      "/opt/conda/envs/python3/lib/python3.9/site-packages/sklearn/model_selection/_validation.py:593: DataConversionWarning: A column-vector y was passed when a 1d array was expected. Please change the shape of y to (n_samples,), for example using ravel().\n",
      "  estimator.fit(X_train, y_train, **fit_params)\n",
      "/opt/conda/envs/python3/lib/python3.9/site-packages/sklearn/model_selection/_validation.py:593: DataConversionWarning: A column-vector y was passed when a 1d array was expected. Please change the shape of y to (n_samples,), for example using ravel().\n",
      "  estimator.fit(X_train, y_train, **fit_params)\n",
      "/opt/conda/envs/python3/lib/python3.9/site-packages/sklearn/model_selection/_validation.py:593: DataConversionWarning: A column-vector y was passed when a 1d array was expected. Please change the shape of y to (n_samples,), for example using ravel().\n",
      "  estimator.fit(X_train, y_train, **fit_params)\n",
      "/opt/conda/envs/python3/lib/python3.9/site-packages/sklearn/model_selection/_validation.py:593: DataConversionWarning: A column-vector y was passed when a 1d array was expected. Please change the shape of y to (n_samples,), for example using ravel().\n",
      "  estimator.fit(X_train, y_train, **fit_params)\n",
      "/opt/conda/envs/python3/lib/python3.9/site-packages/sklearn/model_selection/_validation.py:593: DataConversionWarning: A column-vector y was passed when a 1d array was expected. Please change the shape of y to (n_samples,), for example using ravel().\n",
      "  estimator.fit(X_train, y_train, **fit_params)\n",
      "/opt/conda/envs/python3/lib/python3.9/site-packages/sklearn/model_selection/_validation.py:593: DataConversionWarning: A column-vector y was passed when a 1d array was expected. Please change the shape of y to (n_samples,), for example using ravel().\n",
      "  estimator.fit(X_train, y_train, **fit_params)\n",
      "/opt/conda/envs/python3/lib/python3.9/site-packages/sklearn/model_selection/_validation.py:593: DataConversionWarning: A column-vector y was passed when a 1d array was expected. Please change the shape of y to (n_samples,), for example using ravel().\n",
      "  estimator.fit(X_train, y_train, **fit_params)\n",
      "/opt/conda/envs/python3/lib/python3.9/site-packages/sklearn/model_selection/_validation.py:593: DataConversionWarning: A column-vector y was passed when a 1d array was expected. Please change the shape of y to (n_samples,), for example using ravel().\n",
      "  estimator.fit(X_train, y_train, **fit_params)\n",
      "/opt/conda/envs/python3/lib/python3.9/site-packages/sklearn/model_selection/_validation.py:593: DataConversionWarning: A column-vector y was passed when a 1d array was expected. Please change the shape of y to (n_samples,), for example using ravel().\n",
      "  estimator.fit(X_train, y_train, **fit_params)\n",
      "/opt/conda/envs/python3/lib/python3.9/site-packages/sklearn/model_selection/_validation.py:593: DataConversionWarning: A column-vector y was passed when a 1d array was expected. Please change the shape of y to (n_samples,), for example using ravel().\n",
      "  estimator.fit(X_train, y_train, **fit_params)\n",
      "/opt/conda/envs/python3/lib/python3.9/site-packages/sklearn/model_selection/_validation.py:593: DataConversionWarning: A column-vector y was passed when a 1d array was expected. Please change the shape of y to (n_samples,), for example using ravel().\n",
      "  estimator.fit(X_train, y_train, **fit_params)\n",
      "/opt/conda/envs/python3/lib/python3.9/site-packages/sklearn/model_selection/_validation.py:593: DataConversionWarning: A column-vector y was passed when a 1d array was expected. Please change the shape of y to (n_samples,), for example using ravel().\n",
      "  estimator.fit(X_train, y_train, **fit_params)\n",
      "/opt/conda/envs/python3/lib/python3.9/site-packages/sklearn/model_selection/_validation.py:593: DataConversionWarning: A column-vector y was passed when a 1d array was expected. Please change the shape of y to (n_samples,), for example using ravel().\n",
      "  estimator.fit(X_train, y_train, **fit_params)\n",
      "/opt/conda/envs/python3/lib/python3.9/site-packages/sklearn/model_selection/_validation.py:593: DataConversionWarning: A column-vector y was passed when a 1d array was expected. Please change the shape of y to (n_samples,), for example using ravel().\n",
      "  estimator.fit(X_train, y_train, **fit_params)\n",
      "/opt/conda/envs/python3/lib/python3.9/site-packages/sklearn/model_selection/_validation.py:593: DataConversionWarning: A column-vector y was passed when a 1d array was expected. Please change the shape of y to (n_samples,), for example using ravel().\n",
      "  estimator.fit(X_train, y_train, **fit_params)\n",
      "/opt/conda/envs/python3/lib/python3.9/site-packages/sklearn/model_selection/_validation.py:593: DataConversionWarning: A column-vector y was passed when a 1d array was expected. Please change the shape of y to (n_samples,), for example using ravel().\n",
      "  estimator.fit(X_train, y_train, **fit_params)\n",
      "/opt/conda/envs/python3/lib/python3.9/site-packages/sklearn/model_selection/_validation.py:593: DataConversionWarning: A column-vector y was passed when a 1d array was expected. Please change the shape of y to (n_samples,), for example using ravel().\n",
      "  estimator.fit(X_train, y_train, **fit_params)\n",
      "/opt/conda/envs/python3/lib/python3.9/site-packages/sklearn/model_selection/_validation.py:593: DataConversionWarning: A column-vector y was passed when a 1d array was expected. Please change the shape of y to (n_samples,), for example using ravel().\n",
      "  estimator.fit(X_train, y_train, **fit_params)\n",
      "/opt/conda/envs/python3/lib/python3.9/site-packages/sklearn/model_selection/_validation.py:593: DataConversionWarning: A column-vector y was passed when a 1d array was expected. Please change the shape of y to (n_samples,), for example using ravel().\n",
      "  estimator.fit(X_train, y_train, **fit_params)\n",
      "/opt/conda/envs/python3/lib/python3.9/site-packages/sklearn/model_selection/_validation.py:593: DataConversionWarning: A column-vector y was passed when a 1d array was expected. Please change the shape of y to (n_samples,), for example using ravel().\n",
      "  estimator.fit(X_train, y_train, **fit_params)\n",
      "/opt/conda/envs/python3/lib/python3.9/site-packages/sklearn/model_selection/_validation.py:593: DataConversionWarning: A column-vector y was passed when a 1d array was expected. Please change the shape of y to (n_samples,), for example using ravel().\n",
      "  estimator.fit(X_train, y_train, **fit_params)\n",
      "/opt/conda/envs/python3/lib/python3.9/site-packages/sklearn/model_selection/_validation.py:593: DataConversionWarning: A column-vector y was passed when a 1d array was expected. Please change the shape of y to (n_samples,), for example using ravel().\n",
      "  estimator.fit(X_train, y_train, **fit_params)\n",
      "/opt/conda/envs/python3/lib/python3.9/site-packages/sklearn/model_selection/_validation.py:593: DataConversionWarning: A column-vector y was passed when a 1d array was expected. Please change the shape of y to (n_samples,), for example using ravel().\n",
      "  estimator.fit(X_train, y_train, **fit_params)\n"
     ]
    },
    {
     "name": "stderr",
     "output_type": "stream",
     "text": [
      "/opt/conda/envs/python3/lib/python3.9/site-packages/sklearn/model_selection/_validation.py:593: DataConversionWarning: A column-vector y was passed when a 1d array was expected. Please change the shape of y to (n_samples,), for example using ravel().\n",
      "  estimator.fit(X_train, y_train, **fit_params)\n",
      "/opt/conda/envs/python3/lib/python3.9/site-packages/sklearn/model_selection/_validation.py:593: DataConversionWarning: A column-vector y was passed when a 1d array was expected. Please change the shape of y to (n_samples,), for example using ravel().\n",
      "  estimator.fit(X_train, y_train, **fit_params)\n",
      "/opt/conda/envs/python3/lib/python3.9/site-packages/sklearn/model_selection/_validation.py:593: DataConversionWarning: A column-vector y was passed when a 1d array was expected. Please change the shape of y to (n_samples,), for example using ravel().\n",
      "  estimator.fit(X_train, y_train, **fit_params)\n",
      "/opt/conda/envs/python3/lib/python3.9/site-packages/sklearn/model_selection/_validation.py:593: DataConversionWarning: A column-vector y was passed when a 1d array was expected. Please change the shape of y to (n_samples,), for example using ravel().\n",
      "  estimator.fit(X_train, y_train, **fit_params)\n",
      "/opt/conda/envs/python3/lib/python3.9/site-packages/sklearn/model_selection/_validation.py:593: DataConversionWarning: A column-vector y was passed when a 1d array was expected. Please change the shape of y to (n_samples,), for example using ravel().\n",
      "  estimator.fit(X_train, y_train, **fit_params)\n",
      "/opt/conda/envs/python3/lib/python3.9/site-packages/sklearn/model_selection/_validation.py:593: DataConversionWarning: A column-vector y was passed when a 1d array was expected. Please change the shape of y to (n_samples,), for example using ravel().\n",
      "  estimator.fit(X_train, y_train, **fit_params)\n",
      "/opt/conda/envs/python3/lib/python3.9/site-packages/sklearn/model_selection/_validation.py:593: DataConversionWarning: A column-vector y was passed when a 1d array was expected. Please change the shape of y to (n_samples,), for example using ravel().\n",
      "  estimator.fit(X_train, y_train, **fit_params)\n",
      "/opt/conda/envs/python3/lib/python3.9/site-packages/sklearn/model_selection/_validation.py:593: DataConversionWarning: A column-vector y was passed when a 1d array was expected. Please change the shape of y to (n_samples,), for example using ravel().\n",
      "  estimator.fit(X_train, y_train, **fit_params)\n",
      "/opt/conda/envs/python3/lib/python3.9/site-packages/sklearn/model_selection/_validation.py:593: DataConversionWarning: A column-vector y was passed when a 1d array was expected. Please change the shape of y to (n_samples,), for example using ravel().\n",
      "  estimator.fit(X_train, y_train, **fit_params)\n",
      "/opt/conda/envs/python3/lib/python3.9/site-packages/sklearn/model_selection/_validation.py:593: DataConversionWarning: A column-vector y was passed when a 1d array was expected. Please change the shape of y to (n_samples,), for example using ravel().\n",
      "  estimator.fit(X_train, y_train, **fit_params)\n",
      "/opt/conda/envs/python3/lib/python3.9/site-packages/sklearn/model_selection/_validation.py:593: DataConversionWarning: A column-vector y was passed when a 1d array was expected. Please change the shape of y to (n_samples,), for example using ravel().\n",
      "  estimator.fit(X_train, y_train, **fit_params)\n",
      "/opt/conda/envs/python3/lib/python3.9/site-packages/sklearn/model_selection/_validation.py:593: DataConversionWarning: A column-vector y was passed when a 1d array was expected. Please change the shape of y to (n_samples,), for example using ravel().\n",
      "  estimator.fit(X_train, y_train, **fit_params)\n",
      "/opt/conda/envs/python3/lib/python3.9/site-packages/sklearn/model_selection/_validation.py:593: DataConversionWarning: A column-vector y was passed when a 1d array was expected. Please change the shape of y to (n_samples,), for example using ravel().\n",
      "  estimator.fit(X_train, y_train, **fit_params)\n",
      "/opt/conda/envs/python3/lib/python3.9/site-packages/sklearn/model_selection/_validation.py:593: DataConversionWarning: A column-vector y was passed when a 1d array was expected. Please change the shape of y to (n_samples,), for example using ravel().\n",
      "  estimator.fit(X_train, y_train, **fit_params)\n",
      "/opt/conda/envs/python3/lib/python3.9/site-packages/sklearn/model_selection/_validation.py:593: DataConversionWarning: A column-vector y was passed when a 1d array was expected. Please change the shape of y to (n_samples,), for example using ravel().\n",
      "  estimator.fit(X_train, y_train, **fit_params)\n",
      "/opt/conda/envs/python3/lib/python3.9/site-packages/sklearn/model_selection/_validation.py:593: DataConversionWarning: A column-vector y was passed when a 1d array was expected. Please change the shape of y to (n_samples,), for example using ravel().\n",
      "  estimator.fit(X_train, y_train, **fit_params)\n",
      "/opt/conda/envs/python3/lib/python3.9/site-packages/sklearn/model_selection/_validation.py:593: DataConversionWarning: A column-vector y was passed when a 1d array was expected. Please change the shape of y to (n_samples,), for example using ravel().\n",
      "  estimator.fit(X_train, y_train, **fit_params)\n",
      "/opt/conda/envs/python3/lib/python3.9/site-packages/sklearn/model_selection/_validation.py:593: DataConversionWarning: A column-vector y was passed when a 1d array was expected. Please change the shape of y to (n_samples,), for example using ravel().\n",
      "  estimator.fit(X_train, y_train, **fit_params)\n",
      "/opt/conda/envs/python3/lib/python3.9/site-packages/sklearn/model_selection/_validation.py:593: DataConversionWarning: A column-vector y was passed when a 1d array was expected. Please change the shape of y to (n_samples,), for example using ravel().\n",
      "  estimator.fit(X_train, y_train, **fit_params)\n",
      "/opt/conda/envs/python3/lib/python3.9/site-packages/sklearn/model_selection/_validation.py:593: DataConversionWarning: A column-vector y was passed when a 1d array was expected. Please change the shape of y to (n_samples,), for example using ravel().\n",
      "  estimator.fit(X_train, y_train, **fit_params)\n",
      "/opt/conda/envs/python3/lib/python3.9/site-packages/sklearn/model_selection/_validation.py:593: DataConversionWarning: A column-vector y was passed when a 1d array was expected. Please change the shape of y to (n_samples,), for example using ravel().\n",
      "  estimator.fit(X_train, y_train, **fit_params)\n",
      "/opt/conda/envs/python3/lib/python3.9/site-packages/sklearn/model_selection/_validation.py:593: DataConversionWarning: A column-vector y was passed when a 1d array was expected. Please change the shape of y to (n_samples,), for example using ravel().\n",
      "  estimator.fit(X_train, y_train, **fit_params)\n",
      "/opt/conda/envs/python3/lib/python3.9/site-packages/sklearn/model_selection/_validation.py:593: DataConversionWarning: A column-vector y was passed when a 1d array was expected. Please change the shape of y to (n_samples,), for example using ravel().\n",
      "  estimator.fit(X_train, y_train, **fit_params)\n",
      "/opt/conda/envs/python3/lib/python3.9/site-packages/sklearn/model_selection/_validation.py:593: DataConversionWarning: A column-vector y was passed when a 1d array was expected. Please change the shape of y to (n_samples,), for example using ravel().\n",
      "  estimator.fit(X_train, y_train, **fit_params)\n",
      "/opt/conda/envs/python3/lib/python3.9/site-packages/sklearn/model_selection/_validation.py:593: DataConversionWarning: A column-vector y was passed when a 1d array was expected. Please change the shape of y to (n_samples,), for example using ravel().\n",
      "  estimator.fit(X_train, y_train, **fit_params)\n",
      "/opt/conda/envs/python3/lib/python3.9/site-packages/sklearn/model_selection/_validation.py:593: DataConversionWarning: A column-vector y was passed when a 1d array was expected. Please change the shape of y to (n_samples,), for example using ravel().\n",
      "  estimator.fit(X_train, y_train, **fit_params)\n",
      "/opt/conda/envs/python3/lib/python3.9/site-packages/sklearn/model_selection/_validation.py:593: DataConversionWarning: A column-vector y was passed when a 1d array was expected. Please change the shape of y to (n_samples,), for example using ravel().\n",
      "  estimator.fit(X_train, y_train, **fit_params)\n",
      "/opt/conda/envs/python3/lib/python3.9/site-packages/sklearn/model_selection/_validation.py:593: DataConversionWarning: A column-vector y was passed when a 1d array was expected. Please change the shape of y to (n_samples,), for example using ravel().\n",
      "  estimator.fit(X_train, y_train, **fit_params)\n"
     ]
    },
    {
     "name": "stderr",
     "output_type": "stream",
     "text": [
      "/opt/conda/envs/python3/lib/python3.9/site-packages/sklearn/model_selection/_validation.py:593: DataConversionWarning: A column-vector y was passed when a 1d array was expected. Please change the shape of y to (n_samples,), for example using ravel().\n",
      "  estimator.fit(X_train, y_train, **fit_params)\n",
      "/opt/conda/envs/python3/lib/python3.9/site-packages/sklearn/model_selection/_validation.py:593: DataConversionWarning: A column-vector y was passed when a 1d array was expected. Please change the shape of y to (n_samples,), for example using ravel().\n",
      "  estimator.fit(X_train, y_train, **fit_params)\n",
      "/opt/conda/envs/python3/lib/python3.9/site-packages/sklearn/model_selection/_validation.py:593: DataConversionWarning: A column-vector y was passed when a 1d array was expected. Please change the shape of y to (n_samples,), for example using ravel().\n",
      "  estimator.fit(X_train, y_train, **fit_params)\n",
      "/opt/conda/envs/python3/lib/python3.9/site-packages/sklearn/model_selection/_validation.py:593: DataConversionWarning: A column-vector y was passed when a 1d array was expected. Please change the shape of y to (n_samples,), for example using ravel().\n",
      "  estimator.fit(X_train, y_train, **fit_params)\n",
      "/opt/conda/envs/python3/lib/python3.9/site-packages/sklearn/model_selection/_validation.py:593: DataConversionWarning: A column-vector y was passed when a 1d array was expected. Please change the shape of y to (n_samples,), for example using ravel().\n",
      "  estimator.fit(X_train, y_train, **fit_params)\n",
      "/opt/conda/envs/python3/lib/python3.9/site-packages/sklearn/model_selection/_validation.py:593: DataConversionWarning: A column-vector y was passed when a 1d array was expected. Please change the shape of y to (n_samples,), for example using ravel().\n",
      "  estimator.fit(X_train, y_train, **fit_params)\n",
      "/opt/conda/envs/python3/lib/python3.9/site-packages/sklearn/model_selection/_validation.py:593: DataConversionWarning: A column-vector y was passed when a 1d array was expected. Please change the shape of y to (n_samples,), for example using ravel().\n",
      "  estimator.fit(X_train, y_train, **fit_params)\n",
      "/opt/conda/envs/python3/lib/python3.9/site-packages/sklearn/model_selection/_validation.py:593: DataConversionWarning: A column-vector y was passed when a 1d array was expected. Please change the shape of y to (n_samples,), for example using ravel().\n",
      "  estimator.fit(X_train, y_train, **fit_params)\n",
      "/opt/conda/envs/python3/lib/python3.9/site-packages/sklearn/model_selection/_validation.py:593: DataConversionWarning: A column-vector y was passed when a 1d array was expected. Please change the shape of y to (n_samples,), for example using ravel().\n",
      "  estimator.fit(X_train, y_train, **fit_params)\n",
      "/opt/conda/envs/python3/lib/python3.9/site-packages/sklearn/model_selection/_validation.py:593: DataConversionWarning: A column-vector y was passed when a 1d array was expected. Please change the shape of y to (n_samples,), for example using ravel().\n",
      "  estimator.fit(X_train, y_train, **fit_params)\n",
      "/opt/conda/envs/python3/lib/python3.9/site-packages/sklearn/model_selection/_validation.py:593: DataConversionWarning: A column-vector y was passed when a 1d array was expected. Please change the shape of y to (n_samples,), for example using ravel().\n",
      "  estimator.fit(X_train, y_train, **fit_params)\n",
      "/opt/conda/envs/python3/lib/python3.9/site-packages/sklearn/model_selection/_validation.py:593: DataConversionWarning: A column-vector y was passed when a 1d array was expected. Please change the shape of y to (n_samples,), for example using ravel().\n",
      "  estimator.fit(X_train, y_train, **fit_params)\n",
      "/opt/conda/envs/python3/lib/python3.9/site-packages/sklearn/model_selection/_validation.py:593: DataConversionWarning: A column-vector y was passed when a 1d array was expected. Please change the shape of y to (n_samples,), for example using ravel().\n",
      "  estimator.fit(X_train, y_train, **fit_params)\n",
      "/opt/conda/envs/python3/lib/python3.9/site-packages/sklearn/model_selection/_validation.py:593: DataConversionWarning: A column-vector y was passed when a 1d array was expected. Please change the shape of y to (n_samples,), for example using ravel().\n",
      "  estimator.fit(X_train, y_train, **fit_params)\n",
      "/opt/conda/envs/python3/lib/python3.9/site-packages/sklearn/model_selection/_validation.py:593: DataConversionWarning: A column-vector y was passed when a 1d array was expected. Please change the shape of y to (n_samples,), for example using ravel().\n",
      "  estimator.fit(X_train, y_train, **fit_params)\n",
      "/opt/conda/envs/python3/lib/python3.9/site-packages/sklearn/model_selection/_validation.py:593: DataConversionWarning: A column-vector y was passed when a 1d array was expected. Please change the shape of y to (n_samples,), for example using ravel().\n",
      "  estimator.fit(X_train, y_train, **fit_params)\n",
      "/opt/conda/envs/python3/lib/python3.9/site-packages/sklearn/model_selection/_validation.py:593: DataConversionWarning: A column-vector y was passed when a 1d array was expected. Please change the shape of y to (n_samples,), for example using ravel().\n",
      "  estimator.fit(X_train, y_train, **fit_params)\n",
      "/opt/conda/envs/python3/lib/python3.9/site-packages/sklearn/model_selection/_validation.py:593: DataConversionWarning: A column-vector y was passed when a 1d array was expected. Please change the shape of y to (n_samples,), for example using ravel().\n",
      "  estimator.fit(X_train, y_train, **fit_params)\n",
      "/opt/conda/envs/python3/lib/python3.9/site-packages/sklearn/model_selection/_validation.py:593: DataConversionWarning: A column-vector y was passed when a 1d array was expected. Please change the shape of y to (n_samples,), for example using ravel().\n",
      "  estimator.fit(X_train, y_train, **fit_params)\n",
      "/opt/conda/envs/python3/lib/python3.9/site-packages/sklearn/model_selection/_validation.py:593: DataConversionWarning: A column-vector y was passed when a 1d array was expected. Please change the shape of y to (n_samples,), for example using ravel().\n",
      "  estimator.fit(X_train, y_train, **fit_params)\n",
      "/opt/conda/envs/python3/lib/python3.9/site-packages/sklearn/model_selection/_validation.py:593: DataConversionWarning: A column-vector y was passed when a 1d array was expected. Please change the shape of y to (n_samples,), for example using ravel().\n",
      "  estimator.fit(X_train, y_train, **fit_params)\n",
      "/opt/conda/envs/python3/lib/python3.9/site-packages/sklearn/model_selection/_validation.py:593: DataConversionWarning: A column-vector y was passed when a 1d array was expected. Please change the shape of y to (n_samples,), for example using ravel().\n",
      "  estimator.fit(X_train, y_train, **fit_params)\n",
      "/opt/conda/envs/python3/lib/python3.9/site-packages/sklearn/model_selection/_validation.py:593: DataConversionWarning: A column-vector y was passed when a 1d array was expected. Please change the shape of y to (n_samples,), for example using ravel().\n",
      "  estimator.fit(X_train, y_train, **fit_params)\n",
      "/opt/conda/envs/python3/lib/python3.9/site-packages/sklearn/model_selection/_validation.py:593: DataConversionWarning: A column-vector y was passed when a 1d array was expected. Please change the shape of y to (n_samples,), for example using ravel().\n",
      "  estimator.fit(X_train, y_train, **fit_params)\n",
      "/opt/conda/envs/python3/lib/python3.9/site-packages/sklearn/model_selection/_validation.py:593: DataConversionWarning: A column-vector y was passed when a 1d array was expected. Please change the shape of y to (n_samples,), for example using ravel().\n",
      "  estimator.fit(X_train, y_train, **fit_params)\n",
      "/opt/conda/envs/python3/lib/python3.9/site-packages/sklearn/model_selection/_validation.py:593: DataConversionWarning: A column-vector y was passed when a 1d array was expected. Please change the shape of y to (n_samples,), for example using ravel().\n",
      "  estimator.fit(X_train, y_train, **fit_params)\n",
      "/opt/conda/envs/python3/lib/python3.9/site-packages/sklearn/model_selection/_validation.py:593: DataConversionWarning: A column-vector y was passed when a 1d array was expected. Please change the shape of y to (n_samples,), for example using ravel().\n",
      "  estimator.fit(X_train, y_train, **fit_params)\n",
      "/opt/conda/envs/python3/lib/python3.9/site-packages/sklearn/model_selection/_validation.py:593: DataConversionWarning: A column-vector y was passed when a 1d array was expected. Please change the shape of y to (n_samples,), for example using ravel().\n",
      "  estimator.fit(X_train, y_train, **fit_params)\n"
     ]
    },
    {
     "name": "stderr",
     "output_type": "stream",
     "text": [
      "/opt/conda/envs/python3/lib/python3.9/site-packages/sklearn/model_selection/_validation.py:593: DataConversionWarning: A column-vector y was passed when a 1d array was expected. Please change the shape of y to (n_samples,), for example using ravel().\n",
      "  estimator.fit(X_train, y_train, **fit_params)\n",
      "/opt/conda/envs/python3/lib/python3.9/site-packages/sklearn/model_selection/_validation.py:593: DataConversionWarning: A column-vector y was passed when a 1d array was expected. Please change the shape of y to (n_samples,), for example using ravel().\n",
      "  estimator.fit(X_train, y_train, **fit_params)\n",
      "/opt/conda/envs/python3/lib/python3.9/site-packages/sklearn/model_selection/_validation.py:593: DataConversionWarning: A column-vector y was passed when a 1d array was expected. Please change the shape of y to (n_samples,), for example using ravel().\n",
      "  estimator.fit(X_train, y_train, **fit_params)\n",
      "/opt/conda/envs/python3/lib/python3.9/site-packages/sklearn/model_selection/_validation.py:593: DataConversionWarning: A column-vector y was passed when a 1d array was expected. Please change the shape of y to (n_samples,), for example using ravel().\n",
      "  estimator.fit(X_train, y_train, **fit_params)\n",
      "/opt/conda/envs/python3/lib/python3.9/site-packages/sklearn/model_selection/_validation.py:593: DataConversionWarning: A column-vector y was passed when a 1d array was expected. Please change the shape of y to (n_samples,), for example using ravel().\n",
      "  estimator.fit(X_train, y_train, **fit_params)\n",
      "/opt/conda/envs/python3/lib/python3.9/site-packages/sklearn/model_selection/_validation.py:593: DataConversionWarning: A column-vector y was passed when a 1d array was expected. Please change the shape of y to (n_samples,), for example using ravel().\n",
      "  estimator.fit(X_train, y_train, **fit_params)\n",
      "/opt/conda/envs/python3/lib/python3.9/site-packages/sklearn/model_selection/_validation.py:593: DataConversionWarning: A column-vector y was passed when a 1d array was expected. Please change the shape of y to (n_samples,), for example using ravel().\n",
      "  estimator.fit(X_train, y_train, **fit_params)\n",
      "/opt/conda/envs/python3/lib/python3.9/site-packages/sklearn/model_selection/_validation.py:593: DataConversionWarning: A column-vector y was passed when a 1d array was expected. Please change the shape of y to (n_samples,), for example using ravel().\n",
      "  estimator.fit(X_train, y_train, **fit_params)\n",
      "/opt/conda/envs/python3/lib/python3.9/site-packages/sklearn/model_selection/_validation.py:593: DataConversionWarning: A column-vector y was passed when a 1d array was expected. Please change the shape of y to (n_samples,), for example using ravel().\n",
      "  estimator.fit(X_train, y_train, **fit_params)\n",
      "/opt/conda/envs/python3/lib/python3.9/site-packages/sklearn/model_selection/_validation.py:593: DataConversionWarning: A column-vector y was passed when a 1d array was expected. Please change the shape of y to (n_samples,), for example using ravel().\n",
      "  estimator.fit(X_train, y_train, **fit_params)\n",
      "/opt/conda/envs/python3/lib/python3.9/site-packages/sklearn/model_selection/_validation.py:593: DataConversionWarning: A column-vector y was passed when a 1d array was expected. Please change the shape of y to (n_samples,), for example using ravel().\n",
      "  estimator.fit(X_train, y_train, **fit_params)\n",
      "/opt/conda/envs/python3/lib/python3.9/site-packages/sklearn/model_selection/_validation.py:593: DataConversionWarning: A column-vector y was passed when a 1d array was expected. Please change the shape of y to (n_samples,), for example using ravel().\n",
      "  estimator.fit(X_train, y_train, **fit_params)\n",
      "/opt/conda/envs/python3/lib/python3.9/site-packages/sklearn/model_selection/_validation.py:593: DataConversionWarning: A column-vector y was passed when a 1d array was expected. Please change the shape of y to (n_samples,), for example using ravel().\n",
      "  estimator.fit(X_train, y_train, **fit_params)\n",
      "/opt/conda/envs/python3/lib/python3.9/site-packages/sklearn/model_selection/_validation.py:593: DataConversionWarning: A column-vector y was passed when a 1d array was expected. Please change the shape of y to (n_samples,), for example using ravel().\n",
      "  estimator.fit(X_train, y_train, **fit_params)\n",
      "/opt/conda/envs/python3/lib/python3.9/site-packages/sklearn/model_selection/_validation.py:593: DataConversionWarning: A column-vector y was passed when a 1d array was expected. Please change the shape of y to (n_samples,), for example using ravel().\n",
      "  estimator.fit(X_train, y_train, **fit_params)\n",
      "/opt/conda/envs/python3/lib/python3.9/site-packages/sklearn/model_selection/_validation.py:593: DataConversionWarning: A column-vector y was passed when a 1d array was expected. Please change the shape of y to (n_samples,), for example using ravel().\n",
      "  estimator.fit(X_train, y_train, **fit_params)\n",
      "/opt/conda/envs/python3/lib/python3.9/site-packages/sklearn/model_selection/_validation.py:593: DataConversionWarning: A column-vector y was passed when a 1d array was expected. Please change the shape of y to (n_samples,), for example using ravel().\n",
      "  estimator.fit(X_train, y_train, **fit_params)\n",
      "/opt/conda/envs/python3/lib/python3.9/site-packages/sklearn/model_selection/_validation.py:593: DataConversionWarning: A column-vector y was passed when a 1d array was expected. Please change the shape of y to (n_samples,), for example using ravel().\n",
      "  estimator.fit(X_train, y_train, **fit_params)\n",
      "/opt/conda/envs/python3/lib/python3.9/site-packages/sklearn/model_selection/_validation.py:593: DataConversionWarning: A column-vector y was passed when a 1d array was expected. Please change the shape of y to (n_samples,), for example using ravel().\n",
      "  estimator.fit(X_train, y_train, **fit_params)\n",
      "/opt/conda/envs/python3/lib/python3.9/site-packages/sklearn/model_selection/_validation.py:593: DataConversionWarning: A column-vector y was passed when a 1d array was expected. Please change the shape of y to (n_samples,), for example using ravel().\n",
      "  estimator.fit(X_train, y_train, **fit_params)\n",
      "/opt/conda/envs/python3/lib/python3.9/site-packages/sklearn/model_selection/_validation.py:593: DataConversionWarning: A column-vector y was passed when a 1d array was expected. Please change the shape of y to (n_samples,), for example using ravel().\n",
      "  estimator.fit(X_train, y_train, **fit_params)\n",
      "/opt/conda/envs/python3/lib/python3.9/site-packages/sklearn/model_selection/_validation.py:593: DataConversionWarning: A column-vector y was passed when a 1d array was expected. Please change the shape of y to (n_samples,), for example using ravel().\n",
      "  estimator.fit(X_train, y_train, **fit_params)\n",
      "/opt/conda/envs/python3/lib/python3.9/site-packages/sklearn/model_selection/_validation.py:593: DataConversionWarning: A column-vector y was passed when a 1d array was expected. Please change the shape of y to (n_samples,), for example using ravel().\n",
      "  estimator.fit(X_train, y_train, **fit_params)\n",
      "/opt/conda/envs/python3/lib/python3.9/site-packages/sklearn/model_selection/_validation.py:593: DataConversionWarning: A column-vector y was passed when a 1d array was expected. Please change the shape of y to (n_samples,), for example using ravel().\n",
      "  estimator.fit(X_train, y_train, **fit_params)\n",
      "/opt/conda/envs/python3/lib/python3.9/site-packages/sklearn/model_selection/_validation.py:593: DataConversionWarning: A column-vector y was passed when a 1d array was expected. Please change the shape of y to (n_samples,), for example using ravel().\n",
      "  estimator.fit(X_train, y_train, **fit_params)\n",
      "/opt/conda/envs/python3/lib/python3.9/site-packages/sklearn/model_selection/_validation.py:593: DataConversionWarning: A column-vector y was passed when a 1d array was expected. Please change the shape of y to (n_samples,), for example using ravel().\n",
      "  estimator.fit(X_train, y_train, **fit_params)\n",
      "/opt/conda/envs/python3/lib/python3.9/site-packages/sklearn/model_selection/_validation.py:593: DataConversionWarning: A column-vector y was passed when a 1d array was expected. Please change the shape of y to (n_samples,), for example using ravel().\n",
      "  estimator.fit(X_train, y_train, **fit_params)\n",
      "/opt/conda/envs/python3/lib/python3.9/site-packages/sklearn/model_selection/_validation.py:593: DataConversionWarning: A column-vector y was passed when a 1d array was expected. Please change the shape of y to (n_samples,), for example using ravel().\n",
      "  estimator.fit(X_train, y_train, **fit_params)\n"
     ]
    },
    {
     "name": "stderr",
     "output_type": "stream",
     "text": [
      "/opt/conda/envs/python3/lib/python3.9/site-packages/sklearn/model_selection/_validation.py:593: DataConversionWarning: A column-vector y was passed when a 1d array was expected. Please change the shape of y to (n_samples,), for example using ravel().\n",
      "  estimator.fit(X_train, y_train, **fit_params)\n",
      "/opt/conda/envs/python3/lib/python3.9/site-packages/sklearn/model_selection/_validation.py:593: DataConversionWarning: A column-vector y was passed when a 1d array was expected. Please change the shape of y to (n_samples,), for example using ravel().\n",
      "  estimator.fit(X_train, y_train, **fit_params)\n",
      "/opt/conda/envs/python3/lib/python3.9/site-packages/sklearn/model_selection/_validation.py:593: DataConversionWarning: A column-vector y was passed when a 1d array was expected. Please change the shape of y to (n_samples,), for example using ravel().\n",
      "  estimator.fit(X_train, y_train, **fit_params)\n",
      "/opt/conda/envs/python3/lib/python3.9/site-packages/sklearn/model_selection/_validation.py:593: DataConversionWarning: A column-vector y was passed when a 1d array was expected. Please change the shape of y to (n_samples,), for example using ravel().\n",
      "  estimator.fit(X_train, y_train, **fit_params)\n",
      "/opt/conda/envs/python3/lib/python3.9/site-packages/sklearn/model_selection/_validation.py:593: DataConversionWarning: A column-vector y was passed when a 1d array was expected. Please change the shape of y to (n_samples,), for example using ravel().\n",
      "  estimator.fit(X_train, y_train, **fit_params)\n",
      "/opt/conda/envs/python3/lib/python3.9/site-packages/sklearn/model_selection/_validation.py:593: DataConversionWarning: A column-vector y was passed when a 1d array was expected. Please change the shape of y to (n_samples,), for example using ravel().\n",
      "  estimator.fit(X_train, y_train, **fit_params)\n",
      "/opt/conda/envs/python3/lib/python3.9/site-packages/sklearn/model_selection/_validation.py:593: DataConversionWarning: A column-vector y was passed when a 1d array was expected. Please change the shape of y to (n_samples,), for example using ravel().\n",
      "  estimator.fit(X_train, y_train, **fit_params)\n",
      "/opt/conda/envs/python3/lib/python3.9/site-packages/sklearn/model_selection/_validation.py:593: DataConversionWarning: A column-vector y was passed when a 1d array was expected. Please change the shape of y to (n_samples,), for example using ravel().\n",
      "  estimator.fit(X_train, y_train, **fit_params)\n",
      "/opt/conda/envs/python3/lib/python3.9/site-packages/sklearn/model_selection/_validation.py:593: DataConversionWarning: A column-vector y was passed when a 1d array was expected. Please change the shape of y to (n_samples,), for example using ravel().\n",
      "  estimator.fit(X_train, y_train, **fit_params)\n",
      "/opt/conda/envs/python3/lib/python3.9/site-packages/sklearn/model_selection/_validation.py:593: DataConversionWarning: A column-vector y was passed when a 1d array was expected. Please change the shape of y to (n_samples,), for example using ravel().\n",
      "  estimator.fit(X_train, y_train, **fit_params)\n",
      "/opt/conda/envs/python3/lib/python3.9/site-packages/sklearn/model_selection/_validation.py:593: DataConversionWarning: A column-vector y was passed when a 1d array was expected. Please change the shape of y to (n_samples,), for example using ravel().\n",
      "  estimator.fit(X_train, y_train, **fit_params)\n",
      "/opt/conda/envs/python3/lib/python3.9/site-packages/sklearn/model_selection/_validation.py:593: DataConversionWarning: A column-vector y was passed when a 1d array was expected. Please change the shape of y to (n_samples,), for example using ravel().\n",
      "  estimator.fit(X_train, y_train, **fit_params)\n",
      "/opt/conda/envs/python3/lib/python3.9/site-packages/sklearn/model_selection/_validation.py:593: DataConversionWarning: A column-vector y was passed when a 1d array was expected. Please change the shape of y to (n_samples,), for example using ravel().\n",
      "  estimator.fit(X_train, y_train, **fit_params)\n",
      "/opt/conda/envs/python3/lib/python3.9/site-packages/sklearn/model_selection/_validation.py:593: DataConversionWarning: A column-vector y was passed when a 1d array was expected. Please change the shape of y to (n_samples,), for example using ravel().\n",
      "  estimator.fit(X_train, y_train, **fit_params)\n",
      "/opt/conda/envs/python3/lib/python3.9/site-packages/sklearn/model_selection/_validation.py:593: DataConversionWarning: A column-vector y was passed when a 1d array was expected. Please change the shape of y to (n_samples,), for example using ravel().\n",
      "  estimator.fit(X_train, y_train, **fit_params)\n",
      "/opt/conda/envs/python3/lib/python3.9/site-packages/sklearn/model_selection/_validation.py:593: DataConversionWarning: A column-vector y was passed when a 1d array was expected. Please change the shape of y to (n_samples,), for example using ravel().\n",
      "  estimator.fit(X_train, y_train, **fit_params)\n",
      "/opt/conda/envs/python3/lib/python3.9/site-packages/sklearn/model_selection/_validation.py:593: DataConversionWarning: A column-vector y was passed when a 1d array was expected. Please change the shape of y to (n_samples,), for example using ravel().\n",
      "  estimator.fit(X_train, y_train, **fit_params)\n",
      "/opt/conda/envs/python3/lib/python3.9/site-packages/sklearn/model_selection/_validation.py:593: DataConversionWarning: A column-vector y was passed when a 1d array was expected. Please change the shape of y to (n_samples,), for example using ravel().\n",
      "  estimator.fit(X_train, y_train, **fit_params)\n",
      "/opt/conda/envs/python3/lib/python3.9/site-packages/sklearn/model_selection/_validation.py:593: DataConversionWarning: A column-vector y was passed when a 1d array was expected. Please change the shape of y to (n_samples,), for example using ravel().\n",
      "  estimator.fit(X_train, y_train, **fit_params)\n",
      "/opt/conda/envs/python3/lib/python3.9/site-packages/sklearn/model_selection/_validation.py:593: DataConversionWarning: A column-vector y was passed when a 1d array was expected. Please change the shape of y to (n_samples,), for example using ravel().\n",
      "  estimator.fit(X_train, y_train, **fit_params)\n",
      "/opt/conda/envs/python3/lib/python3.9/site-packages/sklearn/model_selection/_validation.py:593: DataConversionWarning: A column-vector y was passed when a 1d array was expected. Please change the shape of y to (n_samples,), for example using ravel().\n",
      "  estimator.fit(X_train, y_train, **fit_params)\n",
      "/opt/conda/envs/python3/lib/python3.9/site-packages/sklearn/model_selection/_validation.py:593: DataConversionWarning: A column-vector y was passed when a 1d array was expected. Please change the shape of y to (n_samples,), for example using ravel().\n",
      "  estimator.fit(X_train, y_train, **fit_params)\n",
      "/opt/conda/envs/python3/lib/python3.9/site-packages/sklearn/model_selection/_validation.py:593: DataConversionWarning: A column-vector y was passed when a 1d array was expected. Please change the shape of y to (n_samples,), for example using ravel().\n",
      "  estimator.fit(X_train, y_train, **fit_params)\n",
      "/opt/conda/envs/python3/lib/python3.9/site-packages/sklearn/model_selection/_validation.py:593: DataConversionWarning: A column-vector y was passed when a 1d array was expected. Please change the shape of y to (n_samples,), for example using ravel().\n",
      "  estimator.fit(X_train, y_train, **fit_params)\n",
      "/opt/conda/envs/python3/lib/python3.9/site-packages/sklearn/model_selection/_validation.py:593: DataConversionWarning: A column-vector y was passed when a 1d array was expected. Please change the shape of y to (n_samples,), for example using ravel().\n",
      "  estimator.fit(X_train, y_train, **fit_params)\n",
      "/opt/conda/envs/python3/lib/python3.9/site-packages/sklearn/model_selection/_validation.py:593: DataConversionWarning: A column-vector y was passed when a 1d array was expected. Please change the shape of y to (n_samples,), for example using ravel().\n",
      "  estimator.fit(X_train, y_train, **fit_params)\n",
      "/opt/conda/envs/python3/lib/python3.9/site-packages/sklearn/model_selection/_validation.py:593: DataConversionWarning: A column-vector y was passed when a 1d array was expected. Please change the shape of y to (n_samples,), for example using ravel().\n",
      "  estimator.fit(X_train, y_train, **fit_params)\n",
      "/opt/conda/envs/python3/lib/python3.9/site-packages/sklearn/model_selection/_validation.py:593: DataConversionWarning: A column-vector y was passed when a 1d array was expected. Please change the shape of y to (n_samples,), for example using ravel().\n",
      "  estimator.fit(X_train, y_train, **fit_params)\n"
     ]
    },
    {
     "name": "stderr",
     "output_type": "stream",
     "text": [
      "/opt/conda/envs/python3/lib/python3.9/site-packages/sklearn/model_selection/_validation.py:593: DataConversionWarning: A column-vector y was passed when a 1d array was expected. Please change the shape of y to (n_samples,), for example using ravel().\n",
      "  estimator.fit(X_train, y_train, **fit_params)\n",
      "/opt/conda/envs/python3/lib/python3.9/site-packages/sklearn/model_selection/_validation.py:593: DataConversionWarning: A column-vector y was passed when a 1d array was expected. Please change the shape of y to (n_samples,), for example using ravel().\n",
      "  estimator.fit(X_train, y_train, **fit_params)\n",
      "/opt/conda/envs/python3/lib/python3.9/site-packages/sklearn/model_selection/_validation.py:593: DataConversionWarning: A column-vector y was passed when a 1d array was expected. Please change the shape of y to (n_samples,), for example using ravel().\n",
      "  estimator.fit(X_train, y_train, **fit_params)\n",
      "/opt/conda/envs/python3/lib/python3.9/site-packages/sklearn/model_selection/_validation.py:593: DataConversionWarning: A column-vector y was passed when a 1d array was expected. Please change the shape of y to (n_samples,), for example using ravel().\n",
      "  estimator.fit(X_train, y_train, **fit_params)\n",
      "/opt/conda/envs/python3/lib/python3.9/site-packages/sklearn/model_selection/_validation.py:593: DataConversionWarning: A column-vector y was passed when a 1d array was expected. Please change the shape of y to (n_samples,), for example using ravel().\n",
      "  estimator.fit(X_train, y_train, **fit_params)\n",
      "/opt/conda/envs/python3/lib/python3.9/site-packages/sklearn/model_selection/_validation.py:593: DataConversionWarning: A column-vector y was passed when a 1d array was expected. Please change the shape of y to (n_samples,), for example using ravel().\n",
      "  estimator.fit(X_train, y_train, **fit_params)\n",
      "/opt/conda/envs/python3/lib/python3.9/site-packages/sklearn/model_selection/_validation.py:593: DataConversionWarning: A column-vector y was passed when a 1d array was expected. Please change the shape of y to (n_samples,), for example using ravel().\n",
      "  estimator.fit(X_train, y_train, **fit_params)\n",
      "/opt/conda/envs/python3/lib/python3.9/site-packages/sklearn/model_selection/_validation.py:593: DataConversionWarning: A column-vector y was passed when a 1d array was expected. Please change the shape of y to (n_samples,), for example using ravel().\n",
      "  estimator.fit(X_train, y_train, **fit_params)\n",
      "/opt/conda/envs/python3/lib/python3.9/site-packages/sklearn/model_selection/_validation.py:593: DataConversionWarning: A column-vector y was passed when a 1d array was expected. Please change the shape of y to (n_samples,), for example using ravel().\n",
      "  estimator.fit(X_train, y_train, **fit_params)\n",
      "/opt/conda/envs/python3/lib/python3.9/site-packages/sklearn/model_selection/_validation.py:593: DataConversionWarning: A column-vector y was passed when a 1d array was expected. Please change the shape of y to (n_samples,), for example using ravel().\n",
      "  estimator.fit(X_train, y_train, **fit_params)\n",
      "/opt/conda/envs/python3/lib/python3.9/site-packages/sklearn/model_selection/_validation.py:593: DataConversionWarning: A column-vector y was passed when a 1d array was expected. Please change the shape of y to (n_samples,), for example using ravel().\n",
      "  estimator.fit(X_train, y_train, **fit_params)\n",
      "/opt/conda/envs/python3/lib/python3.9/site-packages/sklearn/model_selection/_validation.py:593: DataConversionWarning: A column-vector y was passed when a 1d array was expected. Please change the shape of y to (n_samples,), for example using ravel().\n",
      "  estimator.fit(X_train, y_train, **fit_params)\n",
      "/opt/conda/envs/python3/lib/python3.9/site-packages/sklearn/model_selection/_validation.py:593: DataConversionWarning: A column-vector y was passed when a 1d array was expected. Please change the shape of y to (n_samples,), for example using ravel().\n",
      "  estimator.fit(X_train, y_train, **fit_params)\n",
      "/opt/conda/envs/python3/lib/python3.9/site-packages/sklearn/model_selection/_validation.py:593: DataConversionWarning: A column-vector y was passed when a 1d array was expected. Please change the shape of y to (n_samples,), for example using ravel().\n",
      "  estimator.fit(X_train, y_train, **fit_params)\n",
      "/opt/conda/envs/python3/lib/python3.9/site-packages/sklearn/model_selection/_validation.py:593: DataConversionWarning: A column-vector y was passed when a 1d array was expected. Please change the shape of y to (n_samples,), for example using ravel().\n",
      "  estimator.fit(X_train, y_train, **fit_params)\n",
      "/opt/conda/envs/python3/lib/python3.9/site-packages/sklearn/model_selection/_validation.py:593: DataConversionWarning: A column-vector y was passed when a 1d array was expected. Please change the shape of y to (n_samples,), for example using ravel().\n",
      "  estimator.fit(X_train, y_train, **fit_params)\n",
      "/opt/conda/envs/python3/lib/python3.9/site-packages/sklearn/model_selection/_validation.py:593: DataConversionWarning: A column-vector y was passed when a 1d array was expected. Please change the shape of y to (n_samples,), for example using ravel().\n",
      "  estimator.fit(X_train, y_train, **fit_params)\n",
      "/opt/conda/envs/python3/lib/python3.9/site-packages/sklearn/model_selection/_validation.py:593: DataConversionWarning: A column-vector y was passed when a 1d array was expected. Please change the shape of y to (n_samples,), for example using ravel().\n",
      "  estimator.fit(X_train, y_train, **fit_params)\n",
      "/opt/conda/envs/python3/lib/python3.9/site-packages/sklearn/model_selection/_validation.py:593: DataConversionWarning: A column-vector y was passed when a 1d array was expected. Please change the shape of y to (n_samples,), for example using ravel().\n",
      "  estimator.fit(X_train, y_train, **fit_params)\n",
      "/opt/conda/envs/python3/lib/python3.9/site-packages/sklearn/model_selection/_validation.py:593: DataConversionWarning: A column-vector y was passed when a 1d array was expected. Please change the shape of y to (n_samples,), for example using ravel().\n",
      "  estimator.fit(X_train, y_train, **fit_params)\n",
      "/opt/conda/envs/python3/lib/python3.9/site-packages/sklearn/model_selection/_validation.py:593: DataConversionWarning: A column-vector y was passed when a 1d array was expected. Please change the shape of y to (n_samples,), for example using ravel().\n",
      "  estimator.fit(X_train, y_train, **fit_params)\n",
      "/opt/conda/envs/python3/lib/python3.9/site-packages/sklearn/model_selection/_validation.py:593: DataConversionWarning: A column-vector y was passed when a 1d array was expected. Please change the shape of y to (n_samples,), for example using ravel().\n",
      "  estimator.fit(X_train, y_train, **fit_params)\n",
      "/opt/conda/envs/python3/lib/python3.9/site-packages/sklearn/model_selection/_validation.py:593: DataConversionWarning: A column-vector y was passed when a 1d array was expected. Please change the shape of y to (n_samples,), for example using ravel().\n",
      "  estimator.fit(X_train, y_train, **fit_params)\n",
      "/opt/conda/envs/python3/lib/python3.9/site-packages/sklearn/model_selection/_validation.py:593: DataConversionWarning: A column-vector y was passed when a 1d array was expected. Please change the shape of y to (n_samples,), for example using ravel().\n",
      "  estimator.fit(X_train, y_train, **fit_params)\n",
      "/opt/conda/envs/python3/lib/python3.9/site-packages/sklearn/model_selection/_validation.py:593: DataConversionWarning: A column-vector y was passed when a 1d array was expected. Please change the shape of y to (n_samples,), for example using ravel().\n",
      "  estimator.fit(X_train, y_train, **fit_params)\n",
      "/opt/conda/envs/python3/lib/python3.9/site-packages/sklearn/model_selection/_validation.py:593: DataConversionWarning: A column-vector y was passed when a 1d array was expected. Please change the shape of y to (n_samples,), for example using ravel().\n",
      "  estimator.fit(X_train, y_train, **fit_params)\n",
      "/opt/conda/envs/python3/lib/python3.9/site-packages/sklearn/model_selection/_validation.py:593: DataConversionWarning: A column-vector y was passed when a 1d array was expected. Please change the shape of y to (n_samples,), for example using ravel().\n",
      "  estimator.fit(X_train, y_train, **fit_params)\n",
      "/opt/conda/envs/python3/lib/python3.9/site-packages/sklearn/model_selection/_validation.py:593: DataConversionWarning: A column-vector y was passed when a 1d array was expected. Please change the shape of y to (n_samples,), for example using ravel().\n",
      "  estimator.fit(X_train, y_train, **fit_params)\n"
     ]
    },
    {
     "name": "stderr",
     "output_type": "stream",
     "text": [
      "/opt/conda/envs/python3/lib/python3.9/site-packages/sklearn/model_selection/_validation.py:593: DataConversionWarning: A column-vector y was passed when a 1d array was expected. Please change the shape of y to (n_samples,), for example using ravel().\n",
      "  estimator.fit(X_train, y_train, **fit_params)\n",
      "/opt/conda/envs/python3/lib/python3.9/site-packages/sklearn/model_selection/_validation.py:593: DataConversionWarning: A column-vector y was passed when a 1d array was expected. Please change the shape of y to (n_samples,), for example using ravel().\n",
      "  estimator.fit(X_train, y_train, **fit_params)\n",
      "/opt/conda/envs/python3/lib/python3.9/site-packages/sklearn/model_selection/_validation.py:593: DataConversionWarning: A column-vector y was passed when a 1d array was expected. Please change the shape of y to (n_samples,), for example using ravel().\n",
      "  estimator.fit(X_train, y_train, **fit_params)\n",
      "/opt/conda/envs/python3/lib/python3.9/site-packages/sklearn/model_selection/_validation.py:593: DataConversionWarning: A column-vector y was passed when a 1d array was expected. Please change the shape of y to (n_samples,), for example using ravel().\n",
      "  estimator.fit(X_train, y_train, **fit_params)\n",
      "/opt/conda/envs/python3/lib/python3.9/site-packages/sklearn/model_selection/_validation.py:593: DataConversionWarning: A column-vector y was passed when a 1d array was expected. Please change the shape of y to (n_samples,), for example using ravel().\n",
      "  estimator.fit(X_train, y_train, **fit_params)\n",
      "/opt/conda/envs/python3/lib/python3.9/site-packages/sklearn/model_selection/_validation.py:593: DataConversionWarning: A column-vector y was passed when a 1d array was expected. Please change the shape of y to (n_samples,), for example using ravel().\n",
      "  estimator.fit(X_train, y_train, **fit_params)\n",
      "/opt/conda/envs/python3/lib/python3.9/site-packages/sklearn/model_selection/_validation.py:593: DataConversionWarning: A column-vector y was passed when a 1d array was expected. Please change the shape of y to (n_samples,), for example using ravel().\n",
      "  estimator.fit(X_train, y_train, **fit_params)\n",
      "/opt/conda/envs/python3/lib/python3.9/site-packages/sklearn/model_selection/_validation.py:593: DataConversionWarning: A column-vector y was passed when a 1d array was expected. Please change the shape of y to (n_samples,), for example using ravel().\n",
      "  estimator.fit(X_train, y_train, **fit_params)\n",
      "/opt/conda/envs/python3/lib/python3.9/site-packages/sklearn/model_selection/_validation.py:593: DataConversionWarning: A column-vector y was passed when a 1d array was expected. Please change the shape of y to (n_samples,), for example using ravel().\n",
      "  estimator.fit(X_train, y_train, **fit_params)\n",
      "/opt/conda/envs/python3/lib/python3.9/site-packages/sklearn/model_selection/_validation.py:593: DataConversionWarning: A column-vector y was passed when a 1d array was expected. Please change the shape of y to (n_samples,), for example using ravel().\n",
      "  estimator.fit(X_train, y_train, **fit_params)\n",
      "/opt/conda/envs/python3/lib/python3.9/site-packages/sklearn/model_selection/_validation.py:593: DataConversionWarning: A column-vector y was passed when a 1d array was expected. Please change the shape of y to (n_samples,), for example using ravel().\n",
      "  estimator.fit(X_train, y_train, **fit_params)\n",
      "/opt/conda/envs/python3/lib/python3.9/site-packages/sklearn/model_selection/_validation.py:593: DataConversionWarning: A column-vector y was passed when a 1d array was expected. Please change the shape of y to (n_samples,), for example using ravel().\n",
      "  estimator.fit(X_train, y_train, **fit_params)\n",
      "/opt/conda/envs/python3/lib/python3.9/site-packages/sklearn/model_selection/_validation.py:593: DataConversionWarning: A column-vector y was passed when a 1d array was expected. Please change the shape of y to (n_samples,), for example using ravel().\n",
      "  estimator.fit(X_train, y_train, **fit_params)\n",
      "/opt/conda/envs/python3/lib/python3.9/site-packages/sklearn/model_selection/_validation.py:593: DataConversionWarning: A column-vector y was passed when a 1d array was expected. Please change the shape of y to (n_samples,), for example using ravel().\n",
      "  estimator.fit(X_train, y_train, **fit_params)\n",
      "/opt/conda/envs/python3/lib/python3.9/site-packages/sklearn/model_selection/_validation.py:593: DataConversionWarning: A column-vector y was passed when a 1d array was expected. Please change the shape of y to (n_samples,), for example using ravel().\n",
      "  estimator.fit(X_train, y_train, **fit_params)\n",
      "/opt/conda/envs/python3/lib/python3.9/site-packages/sklearn/model_selection/_validation.py:593: DataConversionWarning: A column-vector y was passed when a 1d array was expected. Please change the shape of y to (n_samples,), for example using ravel().\n",
      "  estimator.fit(X_train, y_train, **fit_params)\n",
      "/opt/conda/envs/python3/lib/python3.9/site-packages/sklearn/model_selection/_validation.py:593: DataConversionWarning: A column-vector y was passed when a 1d array was expected. Please change the shape of y to (n_samples,), for example using ravel().\n",
      "  estimator.fit(X_train, y_train, **fit_params)\n",
      "/opt/conda/envs/python3/lib/python3.9/site-packages/sklearn/model_selection/_validation.py:593: DataConversionWarning: A column-vector y was passed when a 1d array was expected. Please change the shape of y to (n_samples,), for example using ravel().\n",
      "  estimator.fit(X_train, y_train, **fit_params)\n",
      "/opt/conda/envs/python3/lib/python3.9/site-packages/sklearn/model_selection/_validation.py:593: DataConversionWarning: A column-vector y was passed when a 1d array was expected. Please change the shape of y to (n_samples,), for example using ravel().\n",
      "  estimator.fit(X_train, y_train, **fit_params)\n",
      "/opt/conda/envs/python3/lib/python3.9/site-packages/sklearn/model_selection/_validation.py:593: DataConversionWarning: A column-vector y was passed when a 1d array was expected. Please change the shape of y to (n_samples,), for example using ravel().\n",
      "  estimator.fit(X_train, y_train, **fit_params)\n",
      "/opt/conda/envs/python3/lib/python3.9/site-packages/sklearn/model_selection/_validation.py:593: DataConversionWarning: A column-vector y was passed when a 1d array was expected. Please change the shape of y to (n_samples,), for example using ravel().\n",
      "  estimator.fit(X_train, y_train, **fit_params)\n",
      "/opt/conda/envs/python3/lib/python3.9/site-packages/sklearn/model_selection/_validation.py:593: DataConversionWarning: A column-vector y was passed when a 1d array was expected. Please change the shape of y to (n_samples,), for example using ravel().\n",
      "  estimator.fit(X_train, y_train, **fit_params)\n",
      "/opt/conda/envs/python3/lib/python3.9/site-packages/sklearn/model_selection/_validation.py:593: DataConversionWarning: A column-vector y was passed when a 1d array was expected. Please change the shape of y to (n_samples,), for example using ravel().\n",
      "  estimator.fit(X_train, y_train, **fit_params)\n",
      "/opt/conda/envs/python3/lib/python3.9/site-packages/sklearn/model_selection/_validation.py:593: DataConversionWarning: A column-vector y was passed when a 1d array was expected. Please change the shape of y to (n_samples,), for example using ravel().\n",
      "  estimator.fit(X_train, y_train, **fit_params)\n",
      "/opt/conda/envs/python3/lib/python3.9/site-packages/sklearn/model_selection/_validation.py:593: DataConversionWarning: A column-vector y was passed when a 1d array was expected. Please change the shape of y to (n_samples,), for example using ravel().\n",
      "  estimator.fit(X_train, y_train, **fit_params)\n",
      "/opt/conda/envs/python3/lib/python3.9/site-packages/sklearn/model_selection/_validation.py:593: DataConversionWarning: A column-vector y was passed when a 1d array was expected. Please change the shape of y to (n_samples,), for example using ravel().\n",
      "  estimator.fit(X_train, y_train, **fit_params)\n",
      "/opt/conda/envs/python3/lib/python3.9/site-packages/sklearn/model_selection/_validation.py:593: DataConversionWarning: A column-vector y was passed when a 1d array was expected. Please change the shape of y to (n_samples,), for example using ravel().\n",
      "  estimator.fit(X_train, y_train, **fit_params)\n",
      "/opt/conda/envs/python3/lib/python3.9/site-packages/sklearn/model_selection/_validation.py:593: DataConversionWarning: A column-vector y was passed when a 1d array was expected. Please change the shape of y to (n_samples,), for example using ravel().\n",
      "  estimator.fit(X_train, y_train, **fit_params)\n"
     ]
    },
    {
     "name": "stderr",
     "output_type": "stream",
     "text": [
      "/opt/conda/envs/python3/lib/python3.9/site-packages/sklearn/model_selection/_validation.py:593: DataConversionWarning: A column-vector y was passed when a 1d array was expected. Please change the shape of y to (n_samples,), for example using ravel().\n",
      "  estimator.fit(X_train, y_train, **fit_params)\n",
      "/opt/conda/envs/python3/lib/python3.9/site-packages/sklearn/model_selection/_validation.py:593: DataConversionWarning: A column-vector y was passed when a 1d array was expected. Please change the shape of y to (n_samples,), for example using ravel().\n",
      "  estimator.fit(X_train, y_train, **fit_params)\n",
      "/opt/conda/envs/python3/lib/python3.9/site-packages/sklearn/model_selection/_validation.py:593: DataConversionWarning: A column-vector y was passed when a 1d array was expected. Please change the shape of y to (n_samples,), for example using ravel().\n",
      "  estimator.fit(X_train, y_train, **fit_params)\n",
      "/opt/conda/envs/python3/lib/python3.9/site-packages/sklearn/model_selection/_validation.py:593: DataConversionWarning: A column-vector y was passed when a 1d array was expected. Please change the shape of y to (n_samples,), for example using ravel().\n",
      "  estimator.fit(X_train, y_train, **fit_params)\n",
      "/opt/conda/envs/python3/lib/python3.9/site-packages/sklearn/model_selection/_validation.py:593: DataConversionWarning: A column-vector y was passed when a 1d array was expected. Please change the shape of y to (n_samples,), for example using ravel().\n",
      "  estimator.fit(X_train, y_train, **fit_params)\n",
      "/opt/conda/envs/python3/lib/python3.9/site-packages/sklearn/model_selection/_validation.py:593: DataConversionWarning: A column-vector y was passed when a 1d array was expected. Please change the shape of y to (n_samples,), for example using ravel().\n",
      "  estimator.fit(X_train, y_train, **fit_params)\n",
      "/opt/conda/envs/python3/lib/python3.9/site-packages/sklearn/model_selection/_validation.py:593: DataConversionWarning: A column-vector y was passed when a 1d array was expected. Please change the shape of y to (n_samples,), for example using ravel().\n",
      "  estimator.fit(X_train, y_train, **fit_params)\n",
      "/opt/conda/envs/python3/lib/python3.9/site-packages/sklearn/model_selection/_validation.py:593: DataConversionWarning: A column-vector y was passed when a 1d array was expected. Please change the shape of y to (n_samples,), for example using ravel().\n",
      "  estimator.fit(X_train, y_train, **fit_params)\n",
      "/opt/conda/envs/python3/lib/python3.9/site-packages/sklearn/model_selection/_validation.py:593: DataConversionWarning: A column-vector y was passed when a 1d array was expected. Please change the shape of y to (n_samples,), for example using ravel().\n",
      "  estimator.fit(X_train, y_train, **fit_params)\n",
      "/opt/conda/envs/python3/lib/python3.9/site-packages/sklearn/model_selection/_validation.py:593: DataConversionWarning: A column-vector y was passed when a 1d array was expected. Please change the shape of y to (n_samples,), for example using ravel().\n",
      "  estimator.fit(X_train, y_train, **fit_params)\n",
      "/opt/conda/envs/python3/lib/python3.9/site-packages/sklearn/model_selection/_validation.py:593: DataConversionWarning: A column-vector y was passed when a 1d array was expected. Please change the shape of y to (n_samples,), for example using ravel().\n",
      "  estimator.fit(X_train, y_train, **fit_params)\n",
      "/opt/conda/envs/python3/lib/python3.9/site-packages/sklearn/model_selection/_validation.py:593: DataConversionWarning: A column-vector y was passed when a 1d array was expected. Please change the shape of y to (n_samples,), for example using ravel().\n",
      "  estimator.fit(X_train, y_train, **fit_params)\n",
      "/opt/conda/envs/python3/lib/python3.9/site-packages/sklearn/model_selection/_validation.py:593: DataConversionWarning: A column-vector y was passed when a 1d array was expected. Please change the shape of y to (n_samples,), for example using ravel().\n",
      "  estimator.fit(X_train, y_train, **fit_params)\n",
      "/opt/conda/envs/python3/lib/python3.9/site-packages/sklearn/model_selection/_validation.py:593: DataConversionWarning: A column-vector y was passed when a 1d array was expected. Please change the shape of y to (n_samples,), for example using ravel().\n",
      "  estimator.fit(X_train, y_train, **fit_params)\n",
      "/opt/conda/envs/python3/lib/python3.9/site-packages/sklearn/model_selection/_validation.py:593: DataConversionWarning: A column-vector y was passed when a 1d array was expected. Please change the shape of y to (n_samples,), for example using ravel().\n",
      "  estimator.fit(X_train, y_train, **fit_params)\n",
      "/opt/conda/envs/python3/lib/python3.9/site-packages/sklearn/model_selection/_validation.py:593: DataConversionWarning: A column-vector y was passed when a 1d array was expected. Please change the shape of y to (n_samples,), for example using ravel().\n",
      "  estimator.fit(X_train, y_train, **fit_params)\n",
      "/opt/conda/envs/python3/lib/python3.9/site-packages/sklearn/model_selection/_validation.py:593: DataConversionWarning: A column-vector y was passed when a 1d array was expected. Please change the shape of y to (n_samples,), for example using ravel().\n",
      "  estimator.fit(X_train, y_train, **fit_params)\n",
      "/opt/conda/envs/python3/lib/python3.9/site-packages/sklearn/model_selection/_validation.py:593: DataConversionWarning: A column-vector y was passed when a 1d array was expected. Please change the shape of y to (n_samples,), for example using ravel().\n",
      "  estimator.fit(X_train, y_train, **fit_params)\n",
      "/opt/conda/envs/python3/lib/python3.9/site-packages/sklearn/model_selection/_validation.py:593: DataConversionWarning: A column-vector y was passed when a 1d array was expected. Please change the shape of y to (n_samples,), for example using ravel().\n",
      "  estimator.fit(X_train, y_train, **fit_params)\n",
      "/opt/conda/envs/python3/lib/python3.9/site-packages/sklearn/model_selection/_validation.py:593: DataConversionWarning: A column-vector y was passed when a 1d array was expected. Please change the shape of y to (n_samples,), for example using ravel().\n",
      "  estimator.fit(X_train, y_train, **fit_params)\n",
      "/opt/conda/envs/python3/lib/python3.9/site-packages/sklearn/model_selection/_validation.py:593: DataConversionWarning: A column-vector y was passed when a 1d array was expected. Please change the shape of y to (n_samples,), for example using ravel().\n",
      "  estimator.fit(X_train, y_train, **fit_params)\n",
      "/opt/conda/envs/python3/lib/python3.9/site-packages/sklearn/model_selection/_validation.py:593: DataConversionWarning: A column-vector y was passed when a 1d array was expected. Please change the shape of y to (n_samples,), for example using ravel().\n",
      "  estimator.fit(X_train, y_train, **fit_params)\n",
      "/opt/conda/envs/python3/lib/python3.9/site-packages/sklearn/model_selection/_validation.py:593: DataConversionWarning: A column-vector y was passed when a 1d array was expected. Please change the shape of y to (n_samples,), for example using ravel().\n",
      "  estimator.fit(X_train, y_train, **fit_params)\n",
      "/opt/conda/envs/python3/lib/python3.9/site-packages/sklearn/model_selection/_validation.py:593: DataConversionWarning: A column-vector y was passed when a 1d array was expected. Please change the shape of y to (n_samples,), for example using ravel().\n",
      "  estimator.fit(X_train, y_train, **fit_params)\n",
      "/opt/conda/envs/python3/lib/python3.9/site-packages/sklearn/model_selection/_validation.py:593: DataConversionWarning: A column-vector y was passed when a 1d array was expected. Please change the shape of y to (n_samples,), for example using ravel().\n",
      "  estimator.fit(X_train, y_train, **fit_params)\n",
      "/opt/conda/envs/python3/lib/python3.9/site-packages/sklearn/model_selection/_validation.py:593: DataConversionWarning: A column-vector y was passed when a 1d array was expected. Please change the shape of y to (n_samples,), for example using ravel().\n",
      "  estimator.fit(X_train, y_train, **fit_params)\n",
      "/opt/conda/envs/python3/lib/python3.9/site-packages/sklearn/model_selection/_validation.py:593: DataConversionWarning: A column-vector y was passed when a 1d array was expected. Please change the shape of y to (n_samples,), for example using ravel().\n",
      "  estimator.fit(X_train, y_train, **fit_params)\n",
      "/opt/conda/envs/python3/lib/python3.9/site-packages/sklearn/model_selection/_validation.py:593: DataConversionWarning: A column-vector y was passed when a 1d array was expected. Please change the shape of y to (n_samples,), for example using ravel().\n",
      "  estimator.fit(X_train, y_train, **fit_params)\n"
     ]
    },
    {
     "name": "stderr",
     "output_type": "stream",
     "text": [
      "/opt/conda/envs/python3/lib/python3.9/site-packages/sklearn/model_selection/_validation.py:593: DataConversionWarning: A column-vector y was passed when a 1d array was expected. Please change the shape of y to (n_samples,), for example using ravel().\n",
      "  estimator.fit(X_train, y_train, **fit_params)\n",
      "/opt/conda/envs/python3/lib/python3.9/site-packages/sklearn/model_selection/_validation.py:593: DataConversionWarning: A column-vector y was passed when a 1d array was expected. Please change the shape of y to (n_samples,), for example using ravel().\n",
      "  estimator.fit(X_train, y_train, **fit_params)\n",
      "/opt/conda/envs/python3/lib/python3.9/site-packages/sklearn/model_selection/_validation.py:593: DataConversionWarning: A column-vector y was passed when a 1d array was expected. Please change the shape of y to (n_samples,), for example using ravel().\n",
      "  estimator.fit(X_train, y_train, **fit_params)\n",
      "/opt/conda/envs/python3/lib/python3.9/site-packages/sklearn/model_selection/_validation.py:593: DataConversionWarning: A column-vector y was passed when a 1d array was expected. Please change the shape of y to (n_samples,), for example using ravel().\n",
      "  estimator.fit(X_train, y_train, **fit_params)\n",
      "/opt/conda/envs/python3/lib/python3.9/site-packages/sklearn/model_selection/_validation.py:593: DataConversionWarning: A column-vector y was passed when a 1d array was expected. Please change the shape of y to (n_samples,), for example using ravel().\n",
      "  estimator.fit(X_train, y_train, **fit_params)\n",
      "/opt/conda/envs/python3/lib/python3.9/site-packages/sklearn/model_selection/_validation.py:593: DataConversionWarning: A column-vector y was passed when a 1d array was expected. Please change the shape of y to (n_samples,), for example using ravel().\n",
      "  estimator.fit(X_train, y_train, **fit_params)\n",
      "/opt/conda/envs/python3/lib/python3.9/site-packages/sklearn/model_selection/_validation.py:593: DataConversionWarning: A column-vector y was passed when a 1d array was expected. Please change the shape of y to (n_samples,), for example using ravel().\n",
      "  estimator.fit(X_train, y_train, **fit_params)\n",
      "/opt/conda/envs/python3/lib/python3.9/site-packages/sklearn/model_selection/_validation.py:593: DataConversionWarning: A column-vector y was passed when a 1d array was expected. Please change the shape of y to (n_samples,), for example using ravel().\n",
      "  estimator.fit(X_train, y_train, **fit_params)\n",
      "/opt/conda/envs/python3/lib/python3.9/site-packages/sklearn/model_selection/_validation.py:593: DataConversionWarning: A column-vector y was passed when a 1d array was expected. Please change the shape of y to (n_samples,), for example using ravel().\n",
      "  estimator.fit(X_train, y_train, **fit_params)\n",
      "/opt/conda/envs/python3/lib/python3.9/site-packages/sklearn/model_selection/_validation.py:593: DataConversionWarning: A column-vector y was passed when a 1d array was expected. Please change the shape of y to (n_samples,), for example using ravel().\n",
      "  estimator.fit(X_train, y_train, **fit_params)\n",
      "/opt/conda/envs/python3/lib/python3.9/site-packages/sklearn/model_selection/_validation.py:593: DataConversionWarning: A column-vector y was passed when a 1d array was expected. Please change the shape of y to (n_samples,), for example using ravel().\n",
      "  estimator.fit(X_train, y_train, **fit_params)\n",
      "/opt/conda/envs/python3/lib/python3.9/site-packages/sklearn/model_selection/_validation.py:593: DataConversionWarning: A column-vector y was passed when a 1d array was expected. Please change the shape of y to (n_samples,), for example using ravel().\n",
      "  estimator.fit(X_train, y_train, **fit_params)\n",
      "/opt/conda/envs/python3/lib/python3.9/site-packages/sklearn/model_selection/_validation.py:593: DataConversionWarning: A column-vector y was passed when a 1d array was expected. Please change the shape of y to (n_samples,), for example using ravel().\n",
      "  estimator.fit(X_train, y_train, **fit_params)\n",
      "/opt/conda/envs/python3/lib/python3.9/site-packages/sklearn/model_selection/_validation.py:593: DataConversionWarning: A column-vector y was passed when a 1d array was expected. Please change the shape of y to (n_samples,), for example using ravel().\n",
      "  estimator.fit(X_train, y_train, **fit_params)\n",
      "/opt/conda/envs/python3/lib/python3.9/site-packages/sklearn/model_selection/_validation.py:593: DataConversionWarning: A column-vector y was passed when a 1d array was expected. Please change the shape of y to (n_samples,), for example using ravel().\n",
      "  estimator.fit(X_train, y_train, **fit_params)\n",
      "/opt/conda/envs/python3/lib/python3.9/site-packages/sklearn/model_selection/_validation.py:593: DataConversionWarning: A column-vector y was passed when a 1d array was expected. Please change the shape of y to (n_samples,), for example using ravel().\n",
      "  estimator.fit(X_train, y_train, **fit_params)\n",
      "/opt/conda/envs/python3/lib/python3.9/site-packages/sklearn/model_selection/_validation.py:593: DataConversionWarning: A column-vector y was passed when a 1d array was expected. Please change the shape of y to (n_samples,), for example using ravel().\n",
      "  estimator.fit(X_train, y_train, **fit_params)\n",
      "/opt/conda/envs/python3/lib/python3.9/site-packages/sklearn/model_selection/_validation.py:593: DataConversionWarning: A column-vector y was passed when a 1d array was expected. Please change the shape of y to (n_samples,), for example using ravel().\n",
      "  estimator.fit(X_train, y_train, **fit_params)\n",
      "/opt/conda/envs/python3/lib/python3.9/site-packages/sklearn/model_selection/_validation.py:593: DataConversionWarning: A column-vector y was passed when a 1d array was expected. Please change the shape of y to (n_samples,), for example using ravel().\n",
      "  estimator.fit(X_train, y_train, **fit_params)\n",
      "/opt/conda/envs/python3/lib/python3.9/site-packages/sklearn/model_selection/_validation.py:593: DataConversionWarning: A column-vector y was passed when a 1d array was expected. Please change the shape of y to (n_samples,), for example using ravel().\n",
      "  estimator.fit(X_train, y_train, **fit_params)\n",
      "/opt/conda/envs/python3/lib/python3.9/site-packages/sklearn/model_selection/_validation.py:593: DataConversionWarning: A column-vector y was passed when a 1d array was expected. Please change the shape of y to (n_samples,), for example using ravel().\n",
      "  estimator.fit(X_train, y_train, **fit_params)\n",
      "/opt/conda/envs/python3/lib/python3.9/site-packages/sklearn/model_selection/_validation.py:593: DataConversionWarning: A column-vector y was passed when a 1d array was expected. Please change the shape of y to (n_samples,), for example using ravel().\n",
      "  estimator.fit(X_train, y_train, **fit_params)\n",
      "/opt/conda/envs/python3/lib/python3.9/site-packages/sklearn/model_selection/_validation.py:593: DataConversionWarning: A column-vector y was passed when a 1d array was expected. Please change the shape of y to (n_samples,), for example using ravel().\n",
      "  estimator.fit(X_train, y_train, **fit_params)\n",
      "/opt/conda/envs/python3/lib/python3.9/site-packages/sklearn/model_selection/_validation.py:593: DataConversionWarning: A column-vector y was passed when a 1d array was expected. Please change the shape of y to (n_samples,), for example using ravel().\n",
      "  estimator.fit(X_train, y_train, **fit_params)\n",
      "/opt/conda/envs/python3/lib/python3.9/site-packages/sklearn/model_selection/_validation.py:593: DataConversionWarning: A column-vector y was passed when a 1d array was expected. Please change the shape of y to (n_samples,), for example using ravel().\n",
      "  estimator.fit(X_train, y_train, **fit_params)\n",
      "/opt/conda/envs/python3/lib/python3.9/site-packages/sklearn/model_selection/_validation.py:593: DataConversionWarning: A column-vector y was passed when a 1d array was expected. Please change the shape of y to (n_samples,), for example using ravel().\n",
      "  estimator.fit(X_train, y_train, **fit_params)\n",
      "/opt/conda/envs/python3/lib/python3.9/site-packages/sklearn/model_selection/_validation.py:593: DataConversionWarning: A column-vector y was passed when a 1d array was expected. Please change the shape of y to (n_samples,), for example using ravel().\n",
      "  estimator.fit(X_train, y_train, **fit_params)\n",
      "/opt/conda/envs/python3/lib/python3.9/site-packages/sklearn/model_selection/_validation.py:593: DataConversionWarning: A column-vector y was passed when a 1d array was expected. Please change the shape of y to (n_samples,), for example using ravel().\n",
      "  estimator.fit(X_train, y_train, **fit_params)\n"
     ]
    },
    {
     "name": "stderr",
     "output_type": "stream",
     "text": [
      "/opt/conda/envs/python3/lib/python3.9/site-packages/sklearn/model_selection/_validation.py:593: DataConversionWarning: A column-vector y was passed when a 1d array was expected. Please change the shape of y to (n_samples,), for example using ravel().\n",
      "  estimator.fit(X_train, y_train, **fit_params)\n",
      "/opt/conda/envs/python3/lib/python3.9/site-packages/sklearn/model_selection/_validation.py:593: DataConversionWarning: A column-vector y was passed when a 1d array was expected. Please change the shape of y to (n_samples,), for example using ravel().\n",
      "  estimator.fit(X_train, y_train, **fit_params)\n",
      "/opt/conda/envs/python3/lib/python3.9/site-packages/sklearn/model_selection/_validation.py:593: DataConversionWarning: A column-vector y was passed when a 1d array was expected. Please change the shape of y to (n_samples,), for example using ravel().\n",
      "  estimator.fit(X_train, y_train, **fit_params)\n",
      "/opt/conda/envs/python3/lib/python3.9/site-packages/sklearn/model_selection/_validation.py:593: DataConversionWarning: A column-vector y was passed when a 1d array was expected. Please change the shape of y to (n_samples,), for example using ravel().\n",
      "  estimator.fit(X_train, y_train, **fit_params)\n",
      "/opt/conda/envs/python3/lib/python3.9/site-packages/sklearn/model_selection/_validation.py:593: DataConversionWarning: A column-vector y was passed when a 1d array was expected. Please change the shape of y to (n_samples,), for example using ravel().\n",
      "  estimator.fit(X_train, y_train, **fit_params)\n",
      "/opt/conda/envs/python3/lib/python3.9/site-packages/sklearn/model_selection/_validation.py:593: DataConversionWarning: A column-vector y was passed when a 1d array was expected. Please change the shape of y to (n_samples,), for example using ravel().\n",
      "  estimator.fit(X_train, y_train, **fit_params)\n",
      "/opt/conda/envs/python3/lib/python3.9/site-packages/sklearn/model_selection/_validation.py:593: DataConversionWarning: A column-vector y was passed when a 1d array was expected. Please change the shape of y to (n_samples,), for example using ravel().\n",
      "  estimator.fit(X_train, y_train, **fit_params)\n",
      "/opt/conda/envs/python3/lib/python3.9/site-packages/sklearn/model_selection/_validation.py:593: DataConversionWarning: A column-vector y was passed when a 1d array was expected. Please change the shape of y to (n_samples,), for example using ravel().\n",
      "  estimator.fit(X_train, y_train, **fit_params)\n",
      "/opt/conda/envs/python3/lib/python3.9/site-packages/sklearn/model_selection/_validation.py:593: DataConversionWarning: A column-vector y was passed when a 1d array was expected. Please change the shape of y to (n_samples,), for example using ravel().\n",
      "  estimator.fit(X_train, y_train, **fit_params)\n",
      "/opt/conda/envs/python3/lib/python3.9/site-packages/sklearn/model_selection/_validation.py:593: DataConversionWarning: A column-vector y was passed when a 1d array was expected. Please change the shape of y to (n_samples,), for example using ravel().\n",
      "  estimator.fit(X_train, y_train, **fit_params)\n",
      "/opt/conda/envs/python3/lib/python3.9/site-packages/sklearn/model_selection/_validation.py:593: DataConversionWarning: A column-vector y was passed when a 1d array was expected. Please change the shape of y to (n_samples,), for example using ravel().\n",
      "  estimator.fit(X_train, y_train, **fit_params)\n",
      "/opt/conda/envs/python3/lib/python3.9/site-packages/sklearn/model_selection/_validation.py:593: DataConversionWarning: A column-vector y was passed when a 1d array was expected. Please change the shape of y to (n_samples,), for example using ravel().\n",
      "  estimator.fit(X_train, y_train, **fit_params)\n",
      "/opt/conda/envs/python3/lib/python3.9/site-packages/sklearn/model_selection/_validation.py:593: DataConversionWarning: A column-vector y was passed when a 1d array was expected. Please change the shape of y to (n_samples,), for example using ravel().\n",
      "  estimator.fit(X_train, y_train, **fit_params)\n",
      "/opt/conda/envs/python3/lib/python3.9/site-packages/sklearn/model_selection/_validation.py:593: DataConversionWarning: A column-vector y was passed when a 1d array was expected. Please change the shape of y to (n_samples,), for example using ravel().\n",
      "  estimator.fit(X_train, y_train, **fit_params)\n",
      "/opt/conda/envs/python3/lib/python3.9/site-packages/sklearn/model_selection/_validation.py:593: DataConversionWarning: A column-vector y was passed when a 1d array was expected. Please change the shape of y to (n_samples,), for example using ravel().\n",
      "  estimator.fit(X_train, y_train, **fit_params)\n",
      "/opt/conda/envs/python3/lib/python3.9/site-packages/sklearn/model_selection/_validation.py:593: DataConversionWarning: A column-vector y was passed when a 1d array was expected. Please change the shape of y to (n_samples,), for example using ravel().\n",
      "  estimator.fit(X_train, y_train, **fit_params)\n",
      "/opt/conda/envs/python3/lib/python3.9/site-packages/sklearn/model_selection/_validation.py:593: DataConversionWarning: A column-vector y was passed when a 1d array was expected. Please change the shape of y to (n_samples,), for example using ravel().\n",
      "  estimator.fit(X_train, y_train, **fit_params)\n",
      "/opt/conda/envs/python3/lib/python3.9/site-packages/sklearn/model_selection/_validation.py:593: DataConversionWarning: A column-vector y was passed when a 1d array was expected. Please change the shape of y to (n_samples,), for example using ravel().\n",
      "  estimator.fit(X_train, y_train, **fit_params)\n",
      "/opt/conda/envs/python3/lib/python3.9/site-packages/sklearn/model_selection/_validation.py:593: DataConversionWarning: A column-vector y was passed when a 1d array was expected. Please change the shape of y to (n_samples,), for example using ravel().\n",
      "  estimator.fit(X_train, y_train, **fit_params)\n",
      "/opt/conda/envs/python3/lib/python3.9/site-packages/sklearn/model_selection/_validation.py:593: DataConversionWarning: A column-vector y was passed when a 1d array was expected. Please change the shape of y to (n_samples,), for example using ravel().\n",
      "  estimator.fit(X_train, y_train, **fit_params)\n",
      "/opt/conda/envs/python3/lib/python3.9/site-packages/sklearn/model_selection/_validation.py:593: DataConversionWarning: A column-vector y was passed when a 1d array was expected. Please change the shape of y to (n_samples,), for example using ravel().\n",
      "  estimator.fit(X_train, y_train, **fit_params)\n",
      "/opt/conda/envs/python3/lib/python3.9/site-packages/sklearn/model_selection/_validation.py:593: DataConversionWarning: A column-vector y was passed when a 1d array was expected. Please change the shape of y to (n_samples,), for example using ravel().\n",
      "  estimator.fit(X_train, y_train, **fit_params)\n",
      "/opt/conda/envs/python3/lib/python3.9/site-packages/sklearn/model_selection/_validation.py:593: DataConversionWarning: A column-vector y was passed when a 1d array was expected. Please change the shape of y to (n_samples,), for example using ravel().\n",
      "  estimator.fit(X_train, y_train, **fit_params)\n",
      "/opt/conda/envs/python3/lib/python3.9/site-packages/sklearn/model_selection/_validation.py:593: DataConversionWarning: A column-vector y was passed when a 1d array was expected. Please change the shape of y to (n_samples,), for example using ravel().\n",
      "  estimator.fit(X_train, y_train, **fit_params)\n",
      "/opt/conda/envs/python3/lib/python3.9/site-packages/sklearn/model_selection/_validation.py:593: DataConversionWarning: A column-vector y was passed when a 1d array was expected. Please change the shape of y to (n_samples,), for example using ravel().\n",
      "  estimator.fit(X_train, y_train, **fit_params)\n",
      "/opt/conda/envs/python3/lib/python3.9/site-packages/sklearn/model_selection/_validation.py:593: DataConversionWarning: A column-vector y was passed when a 1d array was expected. Please change the shape of y to (n_samples,), for example using ravel().\n",
      "  estimator.fit(X_train, y_train, **fit_params)\n",
      "/opt/conda/envs/python3/lib/python3.9/site-packages/sklearn/model_selection/_validation.py:593: DataConversionWarning: A column-vector y was passed when a 1d array was expected. Please change the shape of y to (n_samples,), for example using ravel().\n",
      "  estimator.fit(X_train, y_train, **fit_params)\n",
      "/opt/conda/envs/python3/lib/python3.9/site-packages/sklearn/model_selection/_validation.py:593: DataConversionWarning: A column-vector y was passed when a 1d array was expected. Please change the shape of y to (n_samples,), for example using ravel().\n",
      "  estimator.fit(X_train, y_train, **fit_params)\n"
     ]
    },
    {
     "name": "stderr",
     "output_type": "stream",
     "text": [
      "/opt/conda/envs/python3/lib/python3.9/site-packages/sklearn/model_selection/_validation.py:593: DataConversionWarning: A column-vector y was passed when a 1d array was expected. Please change the shape of y to (n_samples,), for example using ravel().\n",
      "  estimator.fit(X_train, y_train, **fit_params)\n",
      "/opt/conda/envs/python3/lib/python3.9/site-packages/sklearn/model_selection/_validation.py:593: DataConversionWarning: A column-vector y was passed when a 1d array was expected. Please change the shape of y to (n_samples,), for example using ravel().\n",
      "  estimator.fit(X_train, y_train, **fit_params)\n",
      "/opt/conda/envs/python3/lib/python3.9/site-packages/sklearn/model_selection/_validation.py:593: DataConversionWarning: A column-vector y was passed when a 1d array was expected. Please change the shape of y to (n_samples,), for example using ravel().\n",
      "  estimator.fit(X_train, y_train, **fit_params)\n",
      "/opt/conda/envs/python3/lib/python3.9/site-packages/sklearn/model_selection/_validation.py:593: DataConversionWarning: A column-vector y was passed when a 1d array was expected. Please change the shape of y to (n_samples,), for example using ravel().\n",
      "  estimator.fit(X_train, y_train, **fit_params)\n",
      "/opt/conda/envs/python3/lib/python3.9/site-packages/sklearn/model_selection/_validation.py:593: DataConversionWarning: A column-vector y was passed when a 1d array was expected. Please change the shape of y to (n_samples,), for example using ravel().\n",
      "  estimator.fit(X_train, y_train, **fit_params)\n",
      "/opt/conda/envs/python3/lib/python3.9/site-packages/sklearn/model_selection/_validation.py:593: DataConversionWarning: A column-vector y was passed when a 1d array was expected. Please change the shape of y to (n_samples,), for example using ravel().\n",
      "  estimator.fit(X_train, y_train, **fit_params)\n",
      "/opt/conda/envs/python3/lib/python3.9/site-packages/sklearn/model_selection/_validation.py:593: DataConversionWarning: A column-vector y was passed when a 1d array was expected. Please change the shape of y to (n_samples,), for example using ravel().\n",
      "  estimator.fit(X_train, y_train, **fit_params)\n",
      "/opt/conda/envs/python3/lib/python3.9/site-packages/sklearn/model_selection/_validation.py:593: DataConversionWarning: A column-vector y was passed when a 1d array was expected. Please change the shape of y to (n_samples,), for example using ravel().\n",
      "  estimator.fit(X_train, y_train, **fit_params)\n",
      "/opt/conda/envs/python3/lib/python3.9/site-packages/sklearn/model_selection/_validation.py:593: DataConversionWarning: A column-vector y was passed when a 1d array was expected. Please change the shape of y to (n_samples,), for example using ravel().\n",
      "  estimator.fit(X_train, y_train, **fit_params)\n",
      "/opt/conda/envs/python3/lib/python3.9/site-packages/sklearn/model_selection/_validation.py:593: DataConversionWarning: A column-vector y was passed when a 1d array was expected. Please change the shape of y to (n_samples,), for example using ravel().\n",
      "  estimator.fit(X_train, y_train, **fit_params)\n",
      "/opt/conda/envs/python3/lib/python3.9/site-packages/sklearn/model_selection/_validation.py:593: DataConversionWarning: A column-vector y was passed when a 1d array was expected. Please change the shape of y to (n_samples,), for example using ravel().\n",
      "  estimator.fit(X_train, y_train, **fit_params)\n",
      "/opt/conda/envs/python3/lib/python3.9/site-packages/sklearn/model_selection/_validation.py:593: DataConversionWarning: A column-vector y was passed when a 1d array was expected. Please change the shape of y to (n_samples,), for example using ravel().\n",
      "  estimator.fit(X_train, y_train, **fit_params)\n",
      "/opt/conda/envs/python3/lib/python3.9/site-packages/sklearn/model_selection/_validation.py:593: DataConversionWarning: A column-vector y was passed when a 1d array was expected. Please change the shape of y to (n_samples,), for example using ravel().\n",
      "  estimator.fit(X_train, y_train, **fit_params)\n",
      "/opt/conda/envs/python3/lib/python3.9/site-packages/sklearn/model_selection/_validation.py:593: DataConversionWarning: A column-vector y was passed when a 1d array was expected. Please change the shape of y to (n_samples,), for example using ravel().\n",
      "  estimator.fit(X_train, y_train, **fit_params)\n",
      "/opt/conda/envs/python3/lib/python3.9/site-packages/sklearn/model_selection/_validation.py:593: DataConversionWarning: A column-vector y was passed when a 1d array was expected. Please change the shape of y to (n_samples,), for example using ravel().\n",
      "  estimator.fit(X_train, y_train, **fit_params)\n",
      "/opt/conda/envs/python3/lib/python3.9/site-packages/sklearn/model_selection/_validation.py:593: DataConversionWarning: A column-vector y was passed when a 1d array was expected. Please change the shape of y to (n_samples,), for example using ravel().\n",
      "  estimator.fit(X_train, y_train, **fit_params)\n",
      "/opt/conda/envs/python3/lib/python3.9/site-packages/sklearn/model_selection/_validation.py:593: DataConversionWarning: A column-vector y was passed when a 1d array was expected. Please change the shape of y to (n_samples,), for example using ravel().\n",
      "  estimator.fit(X_train, y_train, **fit_params)\n",
      "/opt/conda/envs/python3/lib/python3.9/site-packages/sklearn/model_selection/_validation.py:593: DataConversionWarning: A column-vector y was passed when a 1d array was expected. Please change the shape of y to (n_samples,), for example using ravel().\n",
      "  estimator.fit(X_train, y_train, **fit_params)\n",
      "/opt/conda/envs/python3/lib/python3.9/site-packages/sklearn/model_selection/_validation.py:593: DataConversionWarning: A column-vector y was passed when a 1d array was expected. Please change the shape of y to (n_samples,), for example using ravel().\n",
      "  estimator.fit(X_train, y_train, **fit_params)\n",
      "/opt/conda/envs/python3/lib/python3.9/site-packages/sklearn/model_selection/_validation.py:593: DataConversionWarning: A column-vector y was passed when a 1d array was expected. Please change the shape of y to (n_samples,), for example using ravel().\n",
      "  estimator.fit(X_train, y_train, **fit_params)\n",
      "/opt/conda/envs/python3/lib/python3.9/site-packages/sklearn/model_selection/_validation.py:593: DataConversionWarning: A column-vector y was passed when a 1d array was expected. Please change the shape of y to (n_samples,), for example using ravel().\n",
      "  estimator.fit(X_train, y_train, **fit_params)\n",
      "/opt/conda/envs/python3/lib/python3.9/site-packages/sklearn/model_selection/_validation.py:593: DataConversionWarning: A column-vector y was passed when a 1d array was expected. Please change the shape of y to (n_samples,), for example using ravel().\n",
      "  estimator.fit(X_train, y_train, **fit_params)\n",
      "/opt/conda/envs/python3/lib/python3.9/site-packages/sklearn/model_selection/_validation.py:593: DataConversionWarning: A column-vector y was passed when a 1d array was expected. Please change the shape of y to (n_samples,), for example using ravel().\n",
      "  estimator.fit(X_train, y_train, **fit_params)\n",
      "/opt/conda/envs/python3/lib/python3.9/site-packages/sklearn/model_selection/_validation.py:593: DataConversionWarning: A column-vector y was passed when a 1d array was expected. Please change the shape of y to (n_samples,), for example using ravel().\n",
      "  estimator.fit(X_train, y_train, **fit_params)\n",
      "/opt/conda/envs/python3/lib/python3.9/site-packages/sklearn/model_selection/_validation.py:593: DataConversionWarning: A column-vector y was passed when a 1d array was expected. Please change the shape of y to (n_samples,), for example using ravel().\n",
      "  estimator.fit(X_train, y_train, **fit_params)\n",
      "/opt/conda/envs/python3/lib/python3.9/site-packages/sklearn/model_selection/_validation.py:593: DataConversionWarning: A column-vector y was passed when a 1d array was expected. Please change the shape of y to (n_samples,), for example using ravel().\n",
      "  estimator.fit(X_train, y_train, **fit_params)\n",
      "/opt/conda/envs/python3/lib/python3.9/site-packages/sklearn/model_selection/_validation.py:593: DataConversionWarning: A column-vector y was passed when a 1d array was expected. Please change the shape of y to (n_samples,), for example using ravel().\n",
      "  estimator.fit(X_train, y_train, **fit_params)\n",
      "/opt/conda/envs/python3/lib/python3.9/site-packages/sklearn/model_selection/_validation.py:593: DataConversionWarning: A column-vector y was passed when a 1d array was expected. Please change the shape of y to (n_samples,), for example using ravel().\n",
      "  estimator.fit(X_train, y_train, **fit_params)\n"
     ]
    },
    {
     "name": "stderr",
     "output_type": "stream",
     "text": [
      "/opt/conda/envs/python3/lib/python3.9/site-packages/sklearn/model_selection/_validation.py:593: DataConversionWarning: A column-vector y was passed when a 1d array was expected. Please change the shape of y to (n_samples,), for example using ravel().\n",
      "  estimator.fit(X_train, y_train, **fit_params)\n",
      "/opt/conda/envs/python3/lib/python3.9/site-packages/sklearn/model_selection/_validation.py:593: DataConversionWarning: A column-vector y was passed when a 1d array was expected. Please change the shape of y to (n_samples,), for example using ravel().\n",
      "  estimator.fit(X_train, y_train, **fit_params)\n",
      "/opt/conda/envs/python3/lib/python3.9/site-packages/sklearn/model_selection/_validation.py:593: DataConversionWarning: A column-vector y was passed when a 1d array was expected. Please change the shape of y to (n_samples,), for example using ravel().\n",
      "  estimator.fit(X_train, y_train, **fit_params)\n",
      "/opt/conda/envs/python3/lib/python3.9/site-packages/sklearn/model_selection/_validation.py:593: DataConversionWarning: A column-vector y was passed when a 1d array was expected. Please change the shape of y to (n_samples,), for example using ravel().\n",
      "  estimator.fit(X_train, y_train, **fit_params)\n",
      "/opt/conda/envs/python3/lib/python3.9/site-packages/sklearn/model_selection/_validation.py:593: DataConversionWarning: A column-vector y was passed when a 1d array was expected. Please change the shape of y to (n_samples,), for example using ravel().\n",
      "  estimator.fit(X_train, y_train, **fit_params)\n",
      "/opt/conda/envs/python3/lib/python3.9/site-packages/sklearn/model_selection/_validation.py:593: DataConversionWarning: A column-vector y was passed when a 1d array was expected. Please change the shape of y to (n_samples,), for example using ravel().\n",
      "  estimator.fit(X_train, y_train, **fit_params)\n",
      "/opt/conda/envs/python3/lib/python3.9/site-packages/sklearn/model_selection/_validation.py:593: DataConversionWarning: A column-vector y was passed when a 1d array was expected. Please change the shape of y to (n_samples,), for example using ravel().\n",
      "  estimator.fit(X_train, y_train, **fit_params)\n",
      "/opt/conda/envs/python3/lib/python3.9/site-packages/sklearn/model_selection/_validation.py:593: DataConversionWarning: A column-vector y was passed when a 1d array was expected. Please change the shape of y to (n_samples,), for example using ravel().\n",
      "  estimator.fit(X_train, y_train, **fit_params)\n",
      "/opt/conda/envs/python3/lib/python3.9/site-packages/sklearn/model_selection/_validation.py:593: DataConversionWarning: A column-vector y was passed when a 1d array was expected. Please change the shape of y to (n_samples,), for example using ravel().\n",
      "  estimator.fit(X_train, y_train, **fit_params)\n",
      "/opt/conda/envs/python3/lib/python3.9/site-packages/sklearn/model_selection/_validation.py:593: DataConversionWarning: A column-vector y was passed when a 1d array was expected. Please change the shape of y to (n_samples,), for example using ravel().\n",
      "  estimator.fit(X_train, y_train, **fit_params)\n",
      "/opt/conda/envs/python3/lib/python3.9/site-packages/sklearn/model_selection/_validation.py:593: DataConversionWarning: A column-vector y was passed when a 1d array was expected. Please change the shape of y to (n_samples,), for example using ravel().\n",
      "  estimator.fit(X_train, y_train, **fit_params)\n",
      "/opt/conda/envs/python3/lib/python3.9/site-packages/sklearn/model_selection/_validation.py:593: DataConversionWarning: A column-vector y was passed when a 1d array was expected. Please change the shape of y to (n_samples,), for example using ravel().\n",
      "  estimator.fit(X_train, y_train, **fit_params)\n",
      "/opt/conda/envs/python3/lib/python3.9/site-packages/sklearn/model_selection/_validation.py:593: DataConversionWarning: A column-vector y was passed when a 1d array was expected. Please change the shape of y to (n_samples,), for example using ravel().\n",
      "  estimator.fit(X_train, y_train, **fit_params)\n",
      "/opt/conda/envs/python3/lib/python3.9/site-packages/sklearn/model_selection/_validation.py:593: DataConversionWarning: A column-vector y was passed when a 1d array was expected. Please change the shape of y to (n_samples,), for example using ravel().\n",
      "  estimator.fit(X_train, y_train, **fit_params)\n",
      "/opt/conda/envs/python3/lib/python3.9/site-packages/sklearn/model_selection/_validation.py:593: DataConversionWarning: A column-vector y was passed when a 1d array was expected. Please change the shape of y to (n_samples,), for example using ravel().\n",
      "  estimator.fit(X_train, y_train, **fit_params)\n",
      "/opt/conda/envs/python3/lib/python3.9/site-packages/sklearn/model_selection/_validation.py:593: DataConversionWarning: A column-vector y was passed when a 1d array was expected. Please change the shape of y to (n_samples,), for example using ravel().\n",
      "  estimator.fit(X_train, y_train, **fit_params)\n",
      "/opt/conda/envs/python3/lib/python3.9/site-packages/sklearn/model_selection/_validation.py:593: DataConversionWarning: A column-vector y was passed when a 1d array was expected. Please change the shape of y to (n_samples,), for example using ravel().\n",
      "  estimator.fit(X_train, y_train, **fit_params)\n",
      "/opt/conda/envs/python3/lib/python3.9/site-packages/sklearn/model_selection/_validation.py:593: DataConversionWarning: A column-vector y was passed when a 1d array was expected. Please change the shape of y to (n_samples,), for example using ravel().\n",
      "  estimator.fit(X_train, y_train, **fit_params)\n",
      "/opt/conda/envs/python3/lib/python3.9/site-packages/sklearn/model_selection/_validation.py:593: DataConversionWarning: A column-vector y was passed when a 1d array was expected. Please change the shape of y to (n_samples,), for example using ravel().\n",
      "  estimator.fit(X_train, y_train, **fit_params)\n",
      "/opt/conda/envs/python3/lib/python3.9/site-packages/sklearn/model_selection/_validation.py:593: DataConversionWarning: A column-vector y was passed when a 1d array was expected. Please change the shape of y to (n_samples,), for example using ravel().\n",
      "  estimator.fit(X_train, y_train, **fit_params)\n",
      "/opt/conda/envs/python3/lib/python3.9/site-packages/sklearn/model_selection/_validation.py:593: DataConversionWarning: A column-vector y was passed when a 1d array was expected. Please change the shape of y to (n_samples,), for example using ravel().\n",
      "  estimator.fit(X_train, y_train, **fit_params)\n",
      "/opt/conda/envs/python3/lib/python3.9/site-packages/sklearn/model_selection/_validation.py:593: DataConversionWarning: A column-vector y was passed when a 1d array was expected. Please change the shape of y to (n_samples,), for example using ravel().\n",
      "  estimator.fit(X_train, y_train, **fit_params)\n",
      "/opt/conda/envs/python3/lib/python3.9/site-packages/sklearn/model_selection/_validation.py:593: DataConversionWarning: A column-vector y was passed when a 1d array was expected. Please change the shape of y to (n_samples,), for example using ravel().\n",
      "  estimator.fit(X_train, y_train, **fit_params)\n",
      "/opt/conda/envs/python3/lib/python3.9/site-packages/sklearn/model_selection/_validation.py:593: DataConversionWarning: A column-vector y was passed when a 1d array was expected. Please change the shape of y to (n_samples,), for example using ravel().\n",
      "  estimator.fit(X_train, y_train, **fit_params)\n",
      "/opt/conda/envs/python3/lib/python3.9/site-packages/sklearn/model_selection/_validation.py:593: DataConversionWarning: A column-vector y was passed when a 1d array was expected. Please change the shape of y to (n_samples,), for example using ravel().\n",
      "  estimator.fit(X_train, y_train, **fit_params)\n",
      "/opt/conda/envs/python3/lib/python3.9/site-packages/sklearn/model_selection/_validation.py:593: DataConversionWarning: A column-vector y was passed when a 1d array was expected. Please change the shape of y to (n_samples,), for example using ravel().\n",
      "  estimator.fit(X_train, y_train, **fit_params)\n",
      "/opt/conda/envs/python3/lib/python3.9/site-packages/sklearn/model_selection/_validation.py:593: DataConversionWarning: A column-vector y was passed when a 1d array was expected. Please change the shape of y to (n_samples,), for example using ravel().\n",
      "  estimator.fit(X_train, y_train, **fit_params)\n",
      "/opt/conda/envs/python3/lib/python3.9/site-packages/sklearn/model_selection/_validation.py:593: DataConversionWarning: A column-vector y was passed when a 1d array was expected. Please change the shape of y to (n_samples,), for example using ravel().\n",
      "  estimator.fit(X_train, y_train, **fit_params)\n"
     ]
    },
    {
     "name": "stderr",
     "output_type": "stream",
     "text": [
      "/opt/conda/envs/python3/lib/python3.9/site-packages/sklearn/model_selection/_validation.py:593: DataConversionWarning: A column-vector y was passed when a 1d array was expected. Please change the shape of y to (n_samples,), for example using ravel().\n",
      "  estimator.fit(X_train, y_train, **fit_params)\n",
      "/opt/conda/envs/python3/lib/python3.9/site-packages/sklearn/model_selection/_validation.py:593: DataConversionWarning: A column-vector y was passed when a 1d array was expected. Please change the shape of y to (n_samples,), for example using ravel().\n",
      "  estimator.fit(X_train, y_train, **fit_params)\n",
      "/opt/conda/envs/python3/lib/python3.9/site-packages/sklearn/model_selection/_validation.py:593: DataConversionWarning: A column-vector y was passed when a 1d array was expected. Please change the shape of y to (n_samples,), for example using ravel().\n",
      "  estimator.fit(X_train, y_train, **fit_params)\n",
      "/opt/conda/envs/python3/lib/python3.9/site-packages/sklearn/model_selection/_validation.py:593: DataConversionWarning: A column-vector y was passed when a 1d array was expected. Please change the shape of y to (n_samples,), for example using ravel().\n",
      "  estimator.fit(X_train, y_train, **fit_params)\n",
      "/opt/conda/envs/python3/lib/python3.9/site-packages/sklearn/model_selection/_validation.py:593: DataConversionWarning: A column-vector y was passed when a 1d array was expected. Please change the shape of y to (n_samples,), for example using ravel().\n",
      "  estimator.fit(X_train, y_train, **fit_params)\n",
      "/opt/conda/envs/python3/lib/python3.9/site-packages/sklearn/model_selection/_validation.py:593: DataConversionWarning: A column-vector y was passed when a 1d array was expected. Please change the shape of y to (n_samples,), for example using ravel().\n",
      "  estimator.fit(X_train, y_train, **fit_params)\n",
      "/opt/conda/envs/python3/lib/python3.9/site-packages/sklearn/model_selection/_validation.py:593: DataConversionWarning: A column-vector y was passed when a 1d array was expected. Please change the shape of y to (n_samples,), for example using ravel().\n",
      "  estimator.fit(X_train, y_train, **fit_params)\n",
      "/opt/conda/envs/python3/lib/python3.9/site-packages/sklearn/model_selection/_validation.py:593: DataConversionWarning: A column-vector y was passed when a 1d array was expected. Please change the shape of y to (n_samples,), for example using ravel().\n",
      "  estimator.fit(X_train, y_train, **fit_params)\n",
      "/opt/conda/envs/python3/lib/python3.9/site-packages/sklearn/model_selection/_validation.py:593: DataConversionWarning: A column-vector y was passed when a 1d array was expected. Please change the shape of y to (n_samples,), for example using ravel().\n",
      "  estimator.fit(X_train, y_train, **fit_params)\n",
      "/opt/conda/envs/python3/lib/python3.9/site-packages/sklearn/model_selection/_validation.py:593: DataConversionWarning: A column-vector y was passed when a 1d array was expected. Please change the shape of y to (n_samples,), for example using ravel().\n",
      "  estimator.fit(X_train, y_train, **fit_params)\n",
      "/opt/conda/envs/python3/lib/python3.9/site-packages/sklearn/model_selection/_validation.py:593: DataConversionWarning: A column-vector y was passed when a 1d array was expected. Please change the shape of y to (n_samples,), for example using ravel().\n",
      "  estimator.fit(X_train, y_train, **fit_params)\n",
      "/opt/conda/envs/python3/lib/python3.9/site-packages/sklearn/model_selection/_validation.py:593: DataConversionWarning: A column-vector y was passed when a 1d array was expected. Please change the shape of y to (n_samples,), for example using ravel().\n",
      "  estimator.fit(X_train, y_train, **fit_params)\n",
      "/opt/conda/envs/python3/lib/python3.9/site-packages/sklearn/model_selection/_validation.py:593: DataConversionWarning: A column-vector y was passed when a 1d array was expected. Please change the shape of y to (n_samples,), for example using ravel().\n",
      "  estimator.fit(X_train, y_train, **fit_params)\n",
      "/opt/conda/envs/python3/lib/python3.9/site-packages/sklearn/model_selection/_validation.py:593: DataConversionWarning: A column-vector y was passed when a 1d array was expected. Please change the shape of y to (n_samples,), for example using ravel().\n",
      "  estimator.fit(X_train, y_train, **fit_params)\n",
      "/opt/conda/envs/python3/lib/python3.9/site-packages/sklearn/model_selection/_validation.py:593: DataConversionWarning: A column-vector y was passed when a 1d array was expected. Please change the shape of y to (n_samples,), for example using ravel().\n",
      "  estimator.fit(X_train, y_train, **fit_params)\n",
      "/opt/conda/envs/python3/lib/python3.9/site-packages/sklearn/model_selection/_validation.py:593: DataConversionWarning: A column-vector y was passed when a 1d array was expected. Please change the shape of y to (n_samples,), for example using ravel().\n",
      "  estimator.fit(X_train, y_train, **fit_params)\n",
      "/opt/conda/envs/python3/lib/python3.9/site-packages/sklearn/model_selection/_validation.py:593: DataConversionWarning: A column-vector y was passed when a 1d array was expected. Please change the shape of y to (n_samples,), for example using ravel().\n",
      "  estimator.fit(X_train, y_train, **fit_params)\n",
      "/opt/conda/envs/python3/lib/python3.9/site-packages/sklearn/model_selection/_validation.py:593: DataConversionWarning: A column-vector y was passed when a 1d array was expected. Please change the shape of y to (n_samples,), for example using ravel().\n",
      "  estimator.fit(X_train, y_train, **fit_params)\n",
      "/opt/conda/envs/python3/lib/python3.9/site-packages/sklearn/model_selection/_validation.py:593: DataConversionWarning: A column-vector y was passed when a 1d array was expected. Please change the shape of y to (n_samples,), for example using ravel().\n",
      "  estimator.fit(X_train, y_train, **fit_params)\n",
      "/opt/conda/envs/python3/lib/python3.9/site-packages/sklearn/model_selection/_validation.py:593: DataConversionWarning: A column-vector y was passed when a 1d array was expected. Please change the shape of y to (n_samples,), for example using ravel().\n",
      "  estimator.fit(X_train, y_train, **fit_params)\n",
      "/opt/conda/envs/python3/lib/python3.9/site-packages/sklearn/model_selection/_validation.py:593: DataConversionWarning: A column-vector y was passed when a 1d array was expected. Please change the shape of y to (n_samples,), for example using ravel().\n",
      "  estimator.fit(X_train, y_train, **fit_params)\n",
      "/opt/conda/envs/python3/lib/python3.9/site-packages/sklearn/model_selection/_validation.py:593: DataConversionWarning: A column-vector y was passed when a 1d array was expected. Please change the shape of y to (n_samples,), for example using ravel().\n",
      "  estimator.fit(X_train, y_train, **fit_params)\n",
      "/opt/conda/envs/python3/lib/python3.9/site-packages/sklearn/model_selection/_validation.py:593: DataConversionWarning: A column-vector y was passed when a 1d array was expected. Please change the shape of y to (n_samples,), for example using ravel().\n",
      "  estimator.fit(X_train, y_train, **fit_params)\n",
      "/opt/conda/envs/python3/lib/python3.9/site-packages/sklearn/model_selection/_validation.py:593: DataConversionWarning: A column-vector y was passed when a 1d array was expected. Please change the shape of y to (n_samples,), for example using ravel().\n",
      "  estimator.fit(X_train, y_train, **fit_params)\n",
      "/opt/conda/envs/python3/lib/python3.9/site-packages/sklearn/model_selection/_validation.py:593: DataConversionWarning: A column-vector y was passed when a 1d array was expected. Please change the shape of y to (n_samples,), for example using ravel().\n",
      "  estimator.fit(X_train, y_train, **fit_params)\n",
      "/opt/conda/envs/python3/lib/python3.9/site-packages/sklearn/model_selection/_validation.py:593: DataConversionWarning: A column-vector y was passed when a 1d array was expected. Please change the shape of y to (n_samples,), for example using ravel().\n",
      "  estimator.fit(X_train, y_train, **fit_params)\n",
      "/opt/conda/envs/python3/lib/python3.9/site-packages/sklearn/model_selection/_validation.py:593: DataConversionWarning: A column-vector y was passed when a 1d array was expected. Please change the shape of y to (n_samples,), for example using ravel().\n",
      "  estimator.fit(X_train, y_train, **fit_params)\n",
      "/opt/conda/envs/python3/lib/python3.9/site-packages/sklearn/model_selection/_validation.py:593: DataConversionWarning: A column-vector y was passed when a 1d array was expected. Please change the shape of y to (n_samples,), for example using ravel().\n",
      "  estimator.fit(X_train, y_train, **fit_params)\n"
     ]
    },
    {
     "name": "stderr",
     "output_type": "stream",
     "text": [
      "/opt/conda/envs/python3/lib/python3.9/site-packages/sklearn/model_selection/_validation.py:593: DataConversionWarning: A column-vector y was passed when a 1d array was expected. Please change the shape of y to (n_samples,), for example using ravel().\n",
      "  estimator.fit(X_train, y_train, **fit_params)\n",
      "/opt/conda/envs/python3/lib/python3.9/site-packages/sklearn/model_selection/_validation.py:593: DataConversionWarning: A column-vector y was passed when a 1d array was expected. Please change the shape of y to (n_samples,), for example using ravel().\n",
      "  estimator.fit(X_train, y_train, **fit_params)\n",
      "/opt/conda/envs/python3/lib/python3.9/site-packages/sklearn/model_selection/_validation.py:593: DataConversionWarning: A column-vector y was passed when a 1d array was expected. Please change the shape of y to (n_samples,), for example using ravel().\n",
      "  estimator.fit(X_train, y_train, **fit_params)\n",
      "/opt/conda/envs/python3/lib/python3.9/site-packages/sklearn/model_selection/_validation.py:593: DataConversionWarning: A column-vector y was passed when a 1d array was expected. Please change the shape of y to (n_samples,), for example using ravel().\n",
      "  estimator.fit(X_train, y_train, **fit_params)\n",
      "/opt/conda/envs/python3/lib/python3.9/site-packages/sklearn/model_selection/_validation.py:593: DataConversionWarning: A column-vector y was passed when a 1d array was expected. Please change the shape of y to (n_samples,), for example using ravel().\n",
      "  estimator.fit(X_train, y_train, **fit_params)\n",
      "/opt/conda/envs/python3/lib/python3.9/site-packages/sklearn/model_selection/_validation.py:593: DataConversionWarning: A column-vector y was passed when a 1d array was expected. Please change the shape of y to (n_samples,), for example using ravel().\n",
      "  estimator.fit(X_train, y_train, **fit_params)\n",
      "/opt/conda/envs/python3/lib/python3.9/site-packages/sklearn/model_selection/_validation.py:593: DataConversionWarning: A column-vector y was passed when a 1d array was expected. Please change the shape of y to (n_samples,), for example using ravel().\n",
      "  estimator.fit(X_train, y_train, **fit_params)\n",
      "/opt/conda/envs/python3/lib/python3.9/site-packages/sklearn/model_selection/_validation.py:593: DataConversionWarning: A column-vector y was passed when a 1d array was expected. Please change the shape of y to (n_samples,), for example using ravel().\n",
      "  estimator.fit(X_train, y_train, **fit_params)\n",
      "/opt/conda/envs/python3/lib/python3.9/site-packages/sklearn/model_selection/_validation.py:593: DataConversionWarning: A column-vector y was passed when a 1d array was expected. Please change the shape of y to (n_samples,), for example using ravel().\n",
      "  estimator.fit(X_train, y_train, **fit_params)\n",
      "/opt/conda/envs/python3/lib/python3.9/site-packages/sklearn/model_selection/_validation.py:593: DataConversionWarning: A column-vector y was passed when a 1d array was expected. Please change the shape of y to (n_samples,), for example using ravel().\n",
      "  estimator.fit(X_train, y_train, **fit_params)\n",
      "/opt/conda/envs/python3/lib/python3.9/site-packages/sklearn/model_selection/_validation.py:593: DataConversionWarning: A column-vector y was passed when a 1d array was expected. Please change the shape of y to (n_samples,), for example using ravel().\n",
      "  estimator.fit(X_train, y_train, **fit_params)\n",
      "/opt/conda/envs/python3/lib/python3.9/site-packages/sklearn/model_selection/_validation.py:593: DataConversionWarning: A column-vector y was passed when a 1d array was expected. Please change the shape of y to (n_samples,), for example using ravel().\n",
      "  estimator.fit(X_train, y_train, **fit_params)\n",
      "/opt/conda/envs/python3/lib/python3.9/site-packages/sklearn/model_selection/_validation.py:593: DataConversionWarning: A column-vector y was passed when a 1d array was expected. Please change the shape of y to (n_samples,), for example using ravel().\n",
      "  estimator.fit(X_train, y_train, **fit_params)\n",
      "/opt/conda/envs/python3/lib/python3.9/site-packages/sklearn/model_selection/_validation.py:593: DataConversionWarning: A column-vector y was passed when a 1d array was expected. Please change the shape of y to (n_samples,), for example using ravel().\n",
      "  estimator.fit(X_train, y_train, **fit_params)\n",
      "/opt/conda/envs/python3/lib/python3.9/site-packages/sklearn/model_selection/_validation.py:593: DataConversionWarning: A column-vector y was passed when a 1d array was expected. Please change the shape of y to (n_samples,), for example using ravel().\n",
      "  estimator.fit(X_train, y_train, **fit_params)\n",
      "/opt/conda/envs/python3/lib/python3.9/site-packages/sklearn/model_selection/_validation.py:593: DataConversionWarning: A column-vector y was passed when a 1d array was expected. Please change the shape of y to (n_samples,), for example using ravel().\n",
      "  estimator.fit(X_train, y_train, **fit_params)\n",
      "/opt/conda/envs/python3/lib/python3.9/site-packages/sklearn/model_selection/_validation.py:593: DataConversionWarning: A column-vector y was passed when a 1d array was expected. Please change the shape of y to (n_samples,), for example using ravel().\n",
      "  estimator.fit(X_train, y_train, **fit_params)\n",
      "/opt/conda/envs/python3/lib/python3.9/site-packages/sklearn/model_selection/_validation.py:593: DataConversionWarning: A column-vector y was passed when a 1d array was expected. Please change the shape of y to (n_samples,), for example using ravel().\n",
      "  estimator.fit(X_train, y_train, **fit_params)\n",
      "/opt/conda/envs/python3/lib/python3.9/site-packages/sklearn/model_selection/_validation.py:593: DataConversionWarning: A column-vector y was passed when a 1d array was expected. Please change the shape of y to (n_samples,), for example using ravel().\n",
      "  estimator.fit(X_train, y_train, **fit_params)\n",
      "/opt/conda/envs/python3/lib/python3.9/site-packages/sklearn/model_selection/_validation.py:593: DataConversionWarning: A column-vector y was passed when a 1d array was expected. Please change the shape of y to (n_samples,), for example using ravel().\n",
      "  estimator.fit(X_train, y_train, **fit_params)\n",
      "/opt/conda/envs/python3/lib/python3.9/site-packages/sklearn/model_selection/_validation.py:593: DataConversionWarning: A column-vector y was passed when a 1d array was expected. Please change the shape of y to (n_samples,), for example using ravel().\n",
      "  estimator.fit(X_train, y_train, **fit_params)\n",
      "/opt/conda/envs/python3/lib/python3.9/site-packages/sklearn/model_selection/_validation.py:593: DataConversionWarning: A column-vector y was passed when a 1d array was expected. Please change the shape of y to (n_samples,), for example using ravel().\n",
      "  estimator.fit(X_train, y_train, **fit_params)\n",
      "/opt/conda/envs/python3/lib/python3.9/site-packages/sklearn/model_selection/_validation.py:593: DataConversionWarning: A column-vector y was passed when a 1d array was expected. Please change the shape of y to (n_samples,), for example using ravel().\n",
      "  estimator.fit(X_train, y_train, **fit_params)\n",
      "/opt/conda/envs/python3/lib/python3.9/site-packages/sklearn/model_selection/_validation.py:593: DataConversionWarning: A column-vector y was passed when a 1d array was expected. Please change the shape of y to (n_samples,), for example using ravel().\n",
      "  estimator.fit(X_train, y_train, **fit_params)\n",
      "/opt/conda/envs/python3/lib/python3.9/site-packages/sklearn/model_selection/_validation.py:593: DataConversionWarning: A column-vector y was passed when a 1d array was expected. Please change the shape of y to (n_samples,), for example using ravel().\n",
      "  estimator.fit(X_train, y_train, **fit_params)\n",
      "/opt/conda/envs/python3/lib/python3.9/site-packages/sklearn/model_selection/_validation.py:593: DataConversionWarning: A column-vector y was passed when a 1d array was expected. Please change the shape of y to (n_samples,), for example using ravel().\n",
      "  estimator.fit(X_train, y_train, **fit_params)\n",
      "/opt/conda/envs/python3/lib/python3.9/site-packages/sklearn/model_selection/_validation.py:593: DataConversionWarning: A column-vector y was passed when a 1d array was expected. Please change the shape of y to (n_samples,), for example using ravel().\n",
      "  estimator.fit(X_train, y_train, **fit_params)\n",
      "/opt/conda/envs/python3/lib/python3.9/site-packages/sklearn/model_selection/_validation.py:593: DataConversionWarning: A column-vector y was passed when a 1d array was expected. Please change the shape of y to (n_samples,), for example using ravel().\n",
      "  estimator.fit(X_train, y_train, **fit_params)\n"
     ]
    },
    {
     "name": "stderr",
     "output_type": "stream",
     "text": [
      "/opt/conda/envs/python3/lib/python3.9/site-packages/sklearn/model_selection/_validation.py:593: DataConversionWarning: A column-vector y was passed when a 1d array was expected. Please change the shape of y to (n_samples,), for example using ravel().\n",
      "  estimator.fit(X_train, y_train, **fit_params)\n",
      "/opt/conda/envs/python3/lib/python3.9/site-packages/sklearn/model_selection/_validation.py:593: DataConversionWarning: A column-vector y was passed when a 1d array was expected. Please change the shape of y to (n_samples,), for example using ravel().\n",
      "  estimator.fit(X_train, y_train, **fit_params)\n",
      "/opt/conda/envs/python3/lib/python3.9/site-packages/sklearn/model_selection/_validation.py:593: DataConversionWarning: A column-vector y was passed when a 1d array was expected. Please change the shape of y to (n_samples,), for example using ravel().\n",
      "  estimator.fit(X_train, y_train, **fit_params)\n",
      "/opt/conda/envs/python3/lib/python3.9/site-packages/sklearn/model_selection/_validation.py:593: DataConversionWarning: A column-vector y was passed when a 1d array was expected. Please change the shape of y to (n_samples,), for example using ravel().\n",
      "  estimator.fit(X_train, y_train, **fit_params)\n",
      "/opt/conda/envs/python3/lib/python3.9/site-packages/sklearn/model_selection/_validation.py:593: DataConversionWarning: A column-vector y was passed when a 1d array was expected. Please change the shape of y to (n_samples,), for example using ravel().\n",
      "  estimator.fit(X_train, y_train, **fit_params)\n",
      "/opt/conda/envs/python3/lib/python3.9/site-packages/sklearn/model_selection/_validation.py:593: DataConversionWarning: A column-vector y was passed when a 1d array was expected. Please change the shape of y to (n_samples,), for example using ravel().\n",
      "  estimator.fit(X_train, y_train, **fit_params)\n",
      "/opt/conda/envs/python3/lib/python3.9/site-packages/sklearn/model_selection/_validation.py:593: DataConversionWarning: A column-vector y was passed when a 1d array was expected. Please change the shape of y to (n_samples,), for example using ravel().\n",
      "  estimator.fit(X_train, y_train, **fit_params)\n",
      "/opt/conda/envs/python3/lib/python3.9/site-packages/sklearn/model_selection/_validation.py:593: DataConversionWarning: A column-vector y was passed when a 1d array was expected. Please change the shape of y to (n_samples,), for example using ravel().\n",
      "  estimator.fit(X_train, y_train, **fit_params)\n",
      "/opt/conda/envs/python3/lib/python3.9/site-packages/sklearn/model_selection/_validation.py:593: DataConversionWarning: A column-vector y was passed when a 1d array was expected. Please change the shape of y to (n_samples,), for example using ravel().\n",
      "  estimator.fit(X_train, y_train, **fit_params)\n",
      "/opt/conda/envs/python3/lib/python3.9/site-packages/sklearn/model_selection/_validation.py:593: DataConversionWarning: A column-vector y was passed when a 1d array was expected. Please change the shape of y to (n_samples,), for example using ravel().\n",
      "  estimator.fit(X_train, y_train, **fit_params)\n",
      "/opt/conda/envs/python3/lib/python3.9/site-packages/sklearn/model_selection/_validation.py:593: DataConversionWarning: A column-vector y was passed when a 1d array was expected. Please change the shape of y to (n_samples,), for example using ravel().\n",
      "  estimator.fit(X_train, y_train, **fit_params)\n",
      "/opt/conda/envs/python3/lib/python3.9/site-packages/sklearn/model_selection/_validation.py:593: DataConversionWarning: A column-vector y was passed when a 1d array was expected. Please change the shape of y to (n_samples,), for example using ravel().\n",
      "  estimator.fit(X_train, y_train, **fit_params)\n",
      "/opt/conda/envs/python3/lib/python3.9/site-packages/sklearn/model_selection/_validation.py:593: DataConversionWarning: A column-vector y was passed when a 1d array was expected. Please change the shape of y to (n_samples,), for example using ravel().\n",
      "  estimator.fit(X_train, y_train, **fit_params)\n",
      "/opt/conda/envs/python3/lib/python3.9/site-packages/sklearn/model_selection/_validation.py:593: DataConversionWarning: A column-vector y was passed when a 1d array was expected. Please change the shape of y to (n_samples,), for example using ravel().\n",
      "  estimator.fit(X_train, y_train, **fit_params)\n",
      "/opt/conda/envs/python3/lib/python3.9/site-packages/sklearn/model_selection/_validation.py:593: DataConversionWarning: A column-vector y was passed when a 1d array was expected. Please change the shape of y to (n_samples,), for example using ravel().\n",
      "  estimator.fit(X_train, y_train, **fit_params)\n",
      "/opt/conda/envs/python3/lib/python3.9/site-packages/sklearn/model_selection/_validation.py:593: DataConversionWarning: A column-vector y was passed when a 1d array was expected. Please change the shape of y to (n_samples,), for example using ravel().\n",
      "  estimator.fit(X_train, y_train, **fit_params)\n",
      "/opt/conda/envs/python3/lib/python3.9/site-packages/sklearn/model_selection/_validation.py:593: DataConversionWarning: A column-vector y was passed when a 1d array was expected. Please change the shape of y to (n_samples,), for example using ravel().\n",
      "  estimator.fit(X_train, y_train, **fit_params)\n",
      "/opt/conda/envs/python3/lib/python3.9/site-packages/sklearn/model_selection/_validation.py:593: DataConversionWarning: A column-vector y was passed when a 1d array was expected. Please change the shape of y to (n_samples,), for example using ravel().\n",
      "  estimator.fit(X_train, y_train, **fit_params)\n",
      "/opt/conda/envs/python3/lib/python3.9/site-packages/sklearn/model_selection/_validation.py:593: DataConversionWarning: A column-vector y was passed when a 1d array was expected. Please change the shape of y to (n_samples,), for example using ravel().\n",
      "  estimator.fit(X_train, y_train, **fit_params)\n",
      "/opt/conda/envs/python3/lib/python3.9/site-packages/sklearn/model_selection/_validation.py:593: DataConversionWarning: A column-vector y was passed when a 1d array was expected. Please change the shape of y to (n_samples,), for example using ravel().\n",
      "  estimator.fit(X_train, y_train, **fit_params)\n",
      "/opt/conda/envs/python3/lib/python3.9/site-packages/sklearn/model_selection/_validation.py:593: DataConversionWarning: A column-vector y was passed when a 1d array was expected. Please change the shape of y to (n_samples,), for example using ravel().\n",
      "  estimator.fit(X_train, y_train, **fit_params)\n",
      "/opt/conda/envs/python3/lib/python3.9/site-packages/sklearn/model_selection/_validation.py:593: DataConversionWarning: A column-vector y was passed when a 1d array was expected. Please change the shape of y to (n_samples,), for example using ravel().\n",
      "  estimator.fit(X_train, y_train, **fit_params)\n",
      "/opt/conda/envs/python3/lib/python3.9/site-packages/sklearn/model_selection/_validation.py:593: DataConversionWarning: A column-vector y was passed when a 1d array was expected. Please change the shape of y to (n_samples,), for example using ravel().\n",
      "  estimator.fit(X_train, y_train, **fit_params)\n",
      "/opt/conda/envs/python3/lib/python3.9/site-packages/sklearn/model_selection/_validation.py:593: DataConversionWarning: A column-vector y was passed when a 1d array was expected. Please change the shape of y to (n_samples,), for example using ravel().\n",
      "  estimator.fit(X_train, y_train, **fit_params)\n",
      "/opt/conda/envs/python3/lib/python3.9/site-packages/sklearn/model_selection/_validation.py:593: DataConversionWarning: A column-vector y was passed when a 1d array was expected. Please change the shape of y to (n_samples,), for example using ravel().\n",
      "  estimator.fit(X_train, y_train, **fit_params)\n",
      "/opt/conda/envs/python3/lib/python3.9/site-packages/sklearn/model_selection/_validation.py:593: DataConversionWarning: A column-vector y was passed when a 1d array was expected. Please change the shape of y to (n_samples,), for example using ravel().\n",
      "  estimator.fit(X_train, y_train, **fit_params)\n",
      "/opt/conda/envs/python3/lib/python3.9/site-packages/sklearn/model_selection/_validation.py:593: DataConversionWarning: A column-vector y was passed when a 1d array was expected. Please change the shape of y to (n_samples,), for example using ravel().\n",
      "  estimator.fit(X_train, y_train, **fit_params)\n",
      "/opt/conda/envs/python3/lib/python3.9/site-packages/sklearn/model_selection/_validation.py:593: DataConversionWarning: A column-vector y was passed when a 1d array was expected. Please change the shape of y to (n_samples,), for example using ravel().\n",
      "  estimator.fit(X_train, y_train, **fit_params)\n"
     ]
    },
    {
     "name": "stderr",
     "output_type": "stream",
     "text": [
      "/opt/conda/envs/python3/lib/python3.9/site-packages/sklearn/model_selection/_validation.py:593: DataConversionWarning: A column-vector y was passed when a 1d array was expected. Please change the shape of y to (n_samples,), for example using ravel().\n",
      "  estimator.fit(X_train, y_train, **fit_params)\n",
      "/opt/conda/envs/python3/lib/python3.9/site-packages/sklearn/model_selection/_validation.py:593: DataConversionWarning: A column-vector y was passed when a 1d array was expected. Please change the shape of y to (n_samples,), for example using ravel().\n",
      "  estimator.fit(X_train, y_train, **fit_params)\n",
      "/opt/conda/envs/python3/lib/python3.9/site-packages/sklearn/model_selection/_validation.py:593: DataConversionWarning: A column-vector y was passed when a 1d array was expected. Please change the shape of y to (n_samples,), for example using ravel().\n",
      "  estimator.fit(X_train, y_train, **fit_params)\n",
      "/opt/conda/envs/python3/lib/python3.9/site-packages/sklearn/model_selection/_validation.py:593: DataConversionWarning: A column-vector y was passed when a 1d array was expected. Please change the shape of y to (n_samples,), for example using ravel().\n",
      "  estimator.fit(X_train, y_train, **fit_params)\n",
      "/opt/conda/envs/python3/lib/python3.9/site-packages/sklearn/model_selection/_validation.py:593: DataConversionWarning: A column-vector y was passed when a 1d array was expected. Please change the shape of y to (n_samples,), for example using ravel().\n",
      "  estimator.fit(X_train, y_train, **fit_params)\n",
      "/opt/conda/envs/python3/lib/python3.9/site-packages/sklearn/model_selection/_validation.py:593: DataConversionWarning: A column-vector y was passed when a 1d array was expected. Please change the shape of y to (n_samples,), for example using ravel().\n",
      "  estimator.fit(X_train, y_train, **fit_params)\n",
      "/opt/conda/envs/python3/lib/python3.9/site-packages/sklearn/model_selection/_validation.py:593: DataConversionWarning: A column-vector y was passed when a 1d array was expected. Please change the shape of y to (n_samples,), for example using ravel().\n",
      "  estimator.fit(X_train, y_train, **fit_params)\n",
      "/opt/conda/envs/python3/lib/python3.9/site-packages/sklearn/model_selection/_validation.py:593: DataConversionWarning: A column-vector y was passed when a 1d array was expected. Please change the shape of y to (n_samples,), for example using ravel().\n",
      "  estimator.fit(X_train, y_train, **fit_params)\n",
      "/opt/conda/envs/python3/lib/python3.9/site-packages/sklearn/model_selection/_validation.py:593: DataConversionWarning: A column-vector y was passed when a 1d array was expected. Please change the shape of y to (n_samples,), for example using ravel().\n",
      "  estimator.fit(X_train, y_train, **fit_params)\n",
      "/opt/conda/envs/python3/lib/python3.9/site-packages/sklearn/model_selection/_validation.py:593: DataConversionWarning: A column-vector y was passed when a 1d array was expected. Please change the shape of y to (n_samples,), for example using ravel().\n",
      "  estimator.fit(X_train, y_train, **fit_params)\n",
      "/opt/conda/envs/python3/lib/python3.9/site-packages/sklearn/model_selection/_validation.py:593: DataConversionWarning: A column-vector y was passed when a 1d array was expected. Please change the shape of y to (n_samples,), for example using ravel().\n",
      "  estimator.fit(X_train, y_train, **fit_params)\n",
      "/opt/conda/envs/python3/lib/python3.9/site-packages/sklearn/model_selection/_validation.py:593: DataConversionWarning: A column-vector y was passed when a 1d array was expected. Please change the shape of y to (n_samples,), for example using ravel().\n",
      "  estimator.fit(X_train, y_train, **fit_params)\n",
      "/opt/conda/envs/python3/lib/python3.9/site-packages/sklearn/model_selection/_validation.py:593: DataConversionWarning: A column-vector y was passed when a 1d array was expected. Please change the shape of y to (n_samples,), for example using ravel().\n",
      "  estimator.fit(X_train, y_train, **fit_params)\n",
      "/opt/conda/envs/python3/lib/python3.9/site-packages/sklearn/model_selection/_validation.py:593: DataConversionWarning: A column-vector y was passed when a 1d array was expected. Please change the shape of y to (n_samples,), for example using ravel().\n",
      "  estimator.fit(X_train, y_train, **fit_params)\n",
      "/opt/conda/envs/python3/lib/python3.9/site-packages/sklearn/model_selection/_validation.py:593: DataConversionWarning: A column-vector y was passed when a 1d array was expected. Please change the shape of y to (n_samples,), for example using ravel().\n",
      "  estimator.fit(X_train, y_train, **fit_params)\n",
      "/opt/conda/envs/python3/lib/python3.9/site-packages/sklearn/model_selection/_validation.py:593: DataConversionWarning: A column-vector y was passed when a 1d array was expected. Please change the shape of y to (n_samples,), for example using ravel().\n",
      "  estimator.fit(X_train, y_train, **fit_params)\n",
      "/opt/conda/envs/python3/lib/python3.9/site-packages/sklearn/model_selection/_validation.py:593: DataConversionWarning: A column-vector y was passed when a 1d array was expected. Please change the shape of y to (n_samples,), for example using ravel().\n",
      "  estimator.fit(X_train, y_train, **fit_params)\n",
      "/opt/conda/envs/python3/lib/python3.9/site-packages/sklearn/model_selection/_validation.py:593: DataConversionWarning: A column-vector y was passed when a 1d array was expected. Please change the shape of y to (n_samples,), for example using ravel().\n",
      "  estimator.fit(X_train, y_train, **fit_params)\n",
      "/opt/conda/envs/python3/lib/python3.9/site-packages/sklearn/model_selection/_validation.py:593: DataConversionWarning: A column-vector y was passed when a 1d array was expected. Please change the shape of y to (n_samples,), for example using ravel().\n",
      "  estimator.fit(X_train, y_train, **fit_params)\n",
      "/opt/conda/envs/python3/lib/python3.9/site-packages/sklearn/model_selection/_validation.py:593: DataConversionWarning: A column-vector y was passed when a 1d array was expected. Please change the shape of y to (n_samples,), for example using ravel().\n",
      "  estimator.fit(X_train, y_train, **fit_params)\n",
      "/opt/conda/envs/python3/lib/python3.9/site-packages/sklearn/model_selection/_validation.py:593: DataConversionWarning: A column-vector y was passed when a 1d array was expected. Please change the shape of y to (n_samples,), for example using ravel().\n",
      "  estimator.fit(X_train, y_train, **fit_params)\n",
      "/opt/conda/envs/python3/lib/python3.9/site-packages/sklearn/model_selection/_validation.py:593: DataConversionWarning: A column-vector y was passed when a 1d array was expected. Please change the shape of y to (n_samples,), for example using ravel().\n",
      "  estimator.fit(X_train, y_train, **fit_params)\n",
      "/opt/conda/envs/python3/lib/python3.9/site-packages/sklearn/model_selection/_validation.py:593: DataConversionWarning: A column-vector y was passed when a 1d array was expected. Please change the shape of y to (n_samples,), for example using ravel().\n",
      "  estimator.fit(X_train, y_train, **fit_params)\n",
      "/opt/conda/envs/python3/lib/python3.9/site-packages/sklearn/model_selection/_validation.py:593: DataConversionWarning: A column-vector y was passed when a 1d array was expected. Please change the shape of y to (n_samples,), for example using ravel().\n",
      "  estimator.fit(X_train, y_train, **fit_params)\n",
      "/opt/conda/envs/python3/lib/python3.9/site-packages/sklearn/model_selection/_validation.py:593: DataConversionWarning: A column-vector y was passed when a 1d array was expected. Please change the shape of y to (n_samples,), for example using ravel().\n",
      "  estimator.fit(X_train, y_train, **fit_params)\n",
      "/opt/conda/envs/python3/lib/python3.9/site-packages/sklearn/model_selection/_validation.py:593: DataConversionWarning: A column-vector y was passed when a 1d array was expected. Please change the shape of y to (n_samples,), for example using ravel().\n",
      "  estimator.fit(X_train, y_train, **fit_params)\n",
      "/opt/conda/envs/python3/lib/python3.9/site-packages/sklearn/model_selection/_validation.py:593: DataConversionWarning: A column-vector y was passed when a 1d array was expected. Please change the shape of y to (n_samples,), for example using ravel().\n",
      "  estimator.fit(X_train, y_train, **fit_params)\n",
      "/opt/conda/envs/python3/lib/python3.9/site-packages/sklearn/model_selection/_validation.py:593: DataConversionWarning: A column-vector y was passed when a 1d array was expected. Please change the shape of y to (n_samples,), for example using ravel().\n",
      "  estimator.fit(X_train, y_train, **fit_params)\n"
     ]
    },
    {
     "name": "stderr",
     "output_type": "stream",
     "text": [
      "/opt/conda/envs/python3/lib/python3.9/site-packages/sklearn/model_selection/_validation.py:593: DataConversionWarning: A column-vector y was passed when a 1d array was expected. Please change the shape of y to (n_samples,), for example using ravel().\n",
      "  estimator.fit(X_train, y_train, **fit_params)\n",
      "/opt/conda/envs/python3/lib/python3.9/site-packages/sklearn/model_selection/_validation.py:593: DataConversionWarning: A column-vector y was passed when a 1d array was expected. Please change the shape of y to (n_samples,), for example using ravel().\n",
      "  estimator.fit(X_train, y_train, **fit_params)\n",
      "/opt/conda/envs/python3/lib/python3.9/site-packages/sklearn/model_selection/_validation.py:593: DataConversionWarning: A column-vector y was passed when a 1d array was expected. Please change the shape of y to (n_samples,), for example using ravel().\n",
      "  estimator.fit(X_train, y_train, **fit_params)\n",
      "/opt/conda/envs/python3/lib/python3.9/site-packages/sklearn/model_selection/_validation.py:593: DataConversionWarning: A column-vector y was passed when a 1d array was expected. Please change the shape of y to (n_samples,), for example using ravel().\n",
      "  estimator.fit(X_train, y_train, **fit_params)\n",
      "/opt/conda/envs/python3/lib/python3.9/site-packages/sklearn/model_selection/_validation.py:593: DataConversionWarning: A column-vector y was passed when a 1d array was expected. Please change the shape of y to (n_samples,), for example using ravel().\n",
      "  estimator.fit(X_train, y_train, **fit_params)\n",
      "/opt/conda/envs/python3/lib/python3.9/site-packages/sklearn/model_selection/_validation.py:593: DataConversionWarning: A column-vector y was passed when a 1d array was expected. Please change the shape of y to (n_samples,), for example using ravel().\n",
      "  estimator.fit(X_train, y_train, **fit_params)\n",
      "/opt/conda/envs/python3/lib/python3.9/site-packages/sklearn/model_selection/_validation.py:593: DataConversionWarning: A column-vector y was passed when a 1d array was expected. Please change the shape of y to (n_samples,), for example using ravel().\n",
      "  estimator.fit(X_train, y_train, **fit_params)\n",
      "/opt/conda/envs/python3/lib/python3.9/site-packages/sklearn/model_selection/_validation.py:593: DataConversionWarning: A column-vector y was passed when a 1d array was expected. Please change the shape of y to (n_samples,), for example using ravel().\n",
      "  estimator.fit(X_train, y_train, **fit_params)\n",
      "/opt/conda/envs/python3/lib/python3.9/site-packages/sklearn/model_selection/_validation.py:593: DataConversionWarning: A column-vector y was passed when a 1d array was expected. Please change the shape of y to (n_samples,), for example using ravel().\n",
      "  estimator.fit(X_train, y_train, **fit_params)\n",
      "/opt/conda/envs/python3/lib/python3.9/site-packages/sklearn/model_selection/_validation.py:593: DataConversionWarning: A column-vector y was passed when a 1d array was expected. Please change the shape of y to (n_samples,), for example using ravel().\n",
      "  estimator.fit(X_train, y_train, **fit_params)\n",
      "/opt/conda/envs/python3/lib/python3.9/site-packages/sklearn/model_selection/_validation.py:593: DataConversionWarning: A column-vector y was passed when a 1d array was expected. Please change the shape of y to (n_samples,), for example using ravel().\n",
      "  estimator.fit(X_train, y_train, **fit_params)\n",
      "/opt/conda/envs/python3/lib/python3.9/site-packages/sklearn/model_selection/_validation.py:593: DataConversionWarning: A column-vector y was passed when a 1d array was expected. Please change the shape of y to (n_samples,), for example using ravel().\n",
      "  estimator.fit(X_train, y_train, **fit_params)\n",
      "/opt/conda/envs/python3/lib/python3.9/site-packages/sklearn/model_selection/_validation.py:593: DataConversionWarning: A column-vector y was passed when a 1d array was expected. Please change the shape of y to (n_samples,), for example using ravel().\n",
      "  estimator.fit(X_train, y_train, **fit_params)\n",
      "/opt/conda/envs/python3/lib/python3.9/site-packages/sklearn/model_selection/_validation.py:593: DataConversionWarning: A column-vector y was passed when a 1d array was expected. Please change the shape of y to (n_samples,), for example using ravel().\n",
      "  estimator.fit(X_train, y_train, **fit_params)\n",
      "/opt/conda/envs/python3/lib/python3.9/site-packages/sklearn/model_selection/_validation.py:593: DataConversionWarning: A column-vector y was passed when a 1d array was expected. Please change the shape of y to (n_samples,), for example using ravel().\n",
      "  estimator.fit(X_train, y_train, **fit_params)\n",
      "/opt/conda/envs/python3/lib/python3.9/site-packages/sklearn/model_selection/_validation.py:593: DataConversionWarning: A column-vector y was passed when a 1d array was expected. Please change the shape of y to (n_samples,), for example using ravel().\n",
      "  estimator.fit(X_train, y_train, **fit_params)\n",
      "/opt/conda/envs/python3/lib/python3.9/site-packages/sklearn/model_selection/_validation.py:593: DataConversionWarning: A column-vector y was passed when a 1d array was expected. Please change the shape of y to (n_samples,), for example using ravel().\n",
      "  estimator.fit(X_train, y_train, **fit_params)\n",
      "/opt/conda/envs/python3/lib/python3.9/site-packages/sklearn/model_selection/_validation.py:593: DataConversionWarning: A column-vector y was passed when a 1d array was expected. Please change the shape of y to (n_samples,), for example using ravel().\n",
      "  estimator.fit(X_train, y_train, **fit_params)\n",
      "/opt/conda/envs/python3/lib/python3.9/site-packages/sklearn/model_selection/_validation.py:593: DataConversionWarning: A column-vector y was passed when a 1d array was expected. Please change the shape of y to (n_samples,), for example using ravel().\n",
      "  estimator.fit(X_train, y_train, **fit_params)\n",
      "/opt/conda/envs/python3/lib/python3.9/site-packages/sklearn/model_selection/_validation.py:593: DataConversionWarning: A column-vector y was passed when a 1d array was expected. Please change the shape of y to (n_samples,), for example using ravel().\n",
      "  estimator.fit(X_train, y_train, **fit_params)\n",
      "/opt/conda/envs/python3/lib/python3.9/site-packages/sklearn/model_selection/_validation.py:593: DataConversionWarning: A column-vector y was passed when a 1d array was expected. Please change the shape of y to (n_samples,), for example using ravel().\n",
      "  estimator.fit(X_train, y_train, **fit_params)\n",
      "/opt/conda/envs/python3/lib/python3.9/site-packages/sklearn/model_selection/_validation.py:593: DataConversionWarning: A column-vector y was passed when a 1d array was expected. Please change the shape of y to (n_samples,), for example using ravel().\n",
      "  estimator.fit(X_train, y_train, **fit_params)\n",
      "/opt/conda/envs/python3/lib/python3.9/site-packages/sklearn/model_selection/_validation.py:593: DataConversionWarning: A column-vector y was passed when a 1d array was expected. Please change the shape of y to (n_samples,), for example using ravel().\n",
      "  estimator.fit(X_train, y_train, **fit_params)\n",
      "/opt/conda/envs/python3/lib/python3.9/site-packages/sklearn/model_selection/_validation.py:593: DataConversionWarning: A column-vector y was passed when a 1d array was expected. Please change the shape of y to (n_samples,), for example using ravel().\n",
      "  estimator.fit(X_train, y_train, **fit_params)\n",
      "/opt/conda/envs/python3/lib/python3.9/site-packages/sklearn/model_selection/_validation.py:593: DataConversionWarning: A column-vector y was passed when a 1d array was expected. Please change the shape of y to (n_samples,), for example using ravel().\n",
      "  estimator.fit(X_train, y_train, **fit_params)\n",
      "/opt/conda/envs/python3/lib/python3.9/site-packages/sklearn/model_selection/_validation.py:593: DataConversionWarning: A column-vector y was passed when a 1d array was expected. Please change the shape of y to (n_samples,), for example using ravel().\n",
      "  estimator.fit(X_train, y_train, **fit_params)\n",
      "/opt/conda/envs/python3/lib/python3.9/site-packages/sklearn/model_selection/_validation.py:593: DataConversionWarning: A column-vector y was passed when a 1d array was expected. Please change the shape of y to (n_samples,), for example using ravel().\n",
      "  estimator.fit(X_train, y_train, **fit_params)\n",
      "/opt/conda/envs/python3/lib/python3.9/site-packages/sklearn/model_selection/_validation.py:593: DataConversionWarning: A column-vector y was passed when a 1d array was expected. Please change the shape of y to (n_samples,), for example using ravel().\n",
      "  estimator.fit(X_train, y_train, **fit_params)\n"
     ]
    },
    {
     "name": "stderr",
     "output_type": "stream",
     "text": [
      "/opt/conda/envs/python3/lib/python3.9/site-packages/sklearn/model_selection/_validation.py:593: DataConversionWarning: A column-vector y was passed when a 1d array was expected. Please change the shape of y to (n_samples,), for example using ravel().\n",
      "  estimator.fit(X_train, y_train, **fit_params)\n",
      "/opt/conda/envs/python3/lib/python3.9/site-packages/sklearn/model_selection/_validation.py:593: DataConversionWarning: A column-vector y was passed when a 1d array was expected. Please change the shape of y to (n_samples,), for example using ravel().\n",
      "  estimator.fit(X_train, y_train, **fit_params)\n",
      "/opt/conda/envs/python3/lib/python3.9/site-packages/sklearn/model_selection/_validation.py:593: DataConversionWarning: A column-vector y was passed when a 1d array was expected. Please change the shape of y to (n_samples,), for example using ravel().\n",
      "  estimator.fit(X_train, y_train, **fit_params)\n",
      "/opt/conda/envs/python3/lib/python3.9/site-packages/sklearn/model_selection/_validation.py:593: DataConversionWarning: A column-vector y was passed when a 1d array was expected. Please change the shape of y to (n_samples,), for example using ravel().\n",
      "  estimator.fit(X_train, y_train, **fit_params)\n",
      "/opt/conda/envs/python3/lib/python3.9/site-packages/sklearn/model_selection/_validation.py:593: DataConversionWarning: A column-vector y was passed when a 1d array was expected. Please change the shape of y to (n_samples,), for example using ravel().\n",
      "  estimator.fit(X_train, y_train, **fit_params)\n",
      "/opt/conda/envs/python3/lib/python3.9/site-packages/sklearn/model_selection/_validation.py:593: DataConversionWarning: A column-vector y was passed when a 1d array was expected. Please change the shape of y to (n_samples,), for example using ravel().\n",
      "  estimator.fit(X_train, y_train, **fit_params)\n",
      "/opt/conda/envs/python3/lib/python3.9/site-packages/sklearn/model_selection/_validation.py:593: DataConversionWarning: A column-vector y was passed when a 1d array was expected. Please change the shape of y to (n_samples,), for example using ravel().\n",
      "  estimator.fit(X_train, y_train, **fit_params)\n",
      "/opt/conda/envs/python3/lib/python3.9/site-packages/sklearn/model_selection/_validation.py:593: DataConversionWarning: A column-vector y was passed when a 1d array was expected. Please change the shape of y to (n_samples,), for example using ravel().\n",
      "  estimator.fit(X_train, y_train, **fit_params)\n",
      "/opt/conda/envs/python3/lib/python3.9/site-packages/sklearn/model_selection/_search.py:880: DataConversionWarning: A column-vector y was passed when a 1d array was expected. Please change the shape of y to (n_samples,), for example using ravel().\n",
      "  self.best_estimator_.fit(X, y, **fit_params)\n"
     ]
    },
    {
     "name": "stdout",
     "output_type": "stream",
     "text": [
      "Best Hyperparameters: {'max_depth': 10, 'min_samples_leaf': 1, 'min_samples_split': 10, 'n_estimators': 200}\n",
      "Best AUC-ROC Score: 0.8593407197920376\n"
     ]
    }
   ],
   "source": [
    "# Hyperparameter tuning for RandomForest with GridSearch\n",
    "\n",
    "param_grid = {\n",
    "    'max_depth': [None, 5, 10, 15],\n",
    "    'min_samples_split': [2, 5, 10],\n",
    "    'min_samples_leaf': [1, 2, 4],\n",
    "    'n_estimators': [50, 100, 200]\n",
    "}\n",
    "\n",
    "# Create the RandomForestClassifier model\n",
    "rf_model = RandomForestClassifier(random_state=54321)\n",
    "\n",
    "# Define the scoring metrics\n",
    "scoring = {\n",
    "    'accuracy': make_scorer(accuracy_score),\n",
    "    'f1_score': make_scorer(f1_score),\n",
    "    'roc_auc': 'roc_auc'\n",
    "}\n",
    "\n",
    "# Perform grid search\n",
    "grid_search = GridSearchCV(estimator=rf_model, param_grid=param_grid, cv=5, scoring=scoring, refit='roc_auc', return_train_score=True, verbose=1, n_jobs=-1)\n",
    "grid_search.fit(X_train, y_train)\n",
    "\n",
    "# Print the best hyperparameters and their corresponding metrics\n",
    "print(\"Best Hyperparameters:\", grid_search.best_params_)\n",
    "print(\"Best AUC-ROC Score:\", grid_search.best_score_)"
   ]
  },
  {
   "cell_type": "code",
   "execution_count": 55,
   "metadata": {},
   "outputs": [
    {
     "name": "stdout",
     "output_type": "stream",
     "text": [
      "Test AUC-ROC: 0.8630\n",
      "Test Accuracy: 0.8183\n",
      "Test F1 Score: 0.6098\n"
     ]
    }
   ],
   "source": [
    "# Evaluate the best model on the test data\n",
    "\n",
    "best_rf_model = grid_search.best_estimator_\n",
    "y_test_pred = best_rf_model.predict(X_test)\n",
    "y_test_prob = best_rf_model.predict_proba(X_test)[:, 1]\n",
    "\n",
    "# Calculate metrics\n",
    "rf_auc_roc_test = roc_auc_score(y_test, y_test_prob)\n",
    "rf_accuracy_test = accuracy_score(y_test, y_test_pred)\n",
    "rf_f1_test = f1_score(y_test, y_test_pred)\n",
    "\n",
    "\n",
    "print(f\"Test AUC-ROC: {rf_auc_roc_test:.4f}\")\n",
    "print(f\"Test Accuracy: {rf_accuracy_test:.4f}\")\n",
    "print(f\"Test F1 Score: {rf_f1_test:.4f}\")"
   ]
  },
  {
   "cell_type": "markdown",
   "metadata": {},
   "source": [
    "## Stage 5. Model Evaluation<a id='evaluate'></a>"
   ]
  },
  {
   "cell_type": "code",
   "execution_count": 56,
   "metadata": {},
   "outputs": [
    {
     "name": "stdout",
     "output_type": "stream",
     "text": [
      "Logistic Regression Validation Metrics:\n",
      "AUC-ROC:  0.8542\n",
      "Accuracy: 0.8133\n",
      "F1 Score: 0.6237\n"
     ]
    }
   ],
   "source": [
    "print(\"Logistic Regression Validation Metrics:\")\n",
    "print(f\"AUC-ROC:  {lg_roc_auc_test:.4f}\")\n",
    "print(f\"Accuracy: {lg_accuracy_test:.4f}\")\n",
    "print(f\"F1 Score: {lg_f1_test:.4f}\")"
   ]
  },
  {
   "cell_type": "code",
   "execution_count": 57,
   "metadata": {},
   "outputs": [
    {
     "name": "stdout",
     "output_type": "stream",
     "text": [
      "DecisionTree Metrics:\n",
      "AUC-ROC: 0.8520\n",
      "Accuracy: 0.8013\n",
      "F1 Score: 0.5639\n"
     ]
    }
   ],
   "source": [
    "print('DecisionTree Metrics:')\n",
    "print(f\"AUC-ROC: {best_metrics['auc_roc']:.4f}\")\n",
    "print(f\"Accuracy: {best_metrics['accuracy']:.4f}\")\n",
    "print(f\"F1 Score: {best_metrics['f1_score']:.4f}\")"
   ]
  },
  {
   "cell_type": "code",
   "execution_count": 58,
   "metadata": {},
   "outputs": [
    {
     "name": "stdout",
     "output_type": "stream",
     "text": [
      "RandomForest Metrics:\n",
      "AUC-ROC:  0.8564\n",
      "Accuracy: 0.8219\n",
      "F1 Score: 0.6203\n"
     ]
    }
   ],
   "source": [
    "print('RandomForest Metrics:')\n",
    "print(f\"AUC-ROC:  {best_rf_metrics['rf_auc_roc']:.4f}\")\n",
    "print(f\"Accuracy: {best_rf_metrics['rf_accuracy']:.4f}\")\n",
    "print(f\"F1 Score: {best_rf_metrics['rf_f1_score']:.4f}\")"
   ]
  },
  {
   "cell_type": "code",
   "execution_count": 59,
   "metadata": {},
   "outputs": [
    {
     "name": "stdout",
     "output_type": "stream",
     "text": [
      "RandomForest Metrics after Tuning:\n",
      "Test AUC-ROC: 0.8630\n",
      "Test Accuracy: 0.8183\n",
      "Test F1 Score: 0.6098\n"
     ]
    }
   ],
   "source": [
    "print('RandomForest Metrics after Tuning:')\n",
    "print(f\"Test AUC-ROC: {rf_auc_roc_test:.4f}\")\n",
    "print(f\"Test Accuracy: {rf_accuracy_test:.4f}\")\n",
    "print(f\"Test F1 Score: {rf_f1_test:.4f}\")"
   ]
  },
  {
   "cell_type": "markdown",
   "metadata": {},
   "source": [
    "# Conclusion<a id='end'></a>"
   ]
  },
  {
   "cell_type": "markdown",
   "metadata": {},
   "source": [
    "All 3 models have a high AUC-ROC score of 0.85 and above. In particularly, `RandomForest model` perform the best in predicting the churn. Further action is taken by using hyperparameter tuning in RandomForest model. Thus, it has achieve the highest AUC-ROC score of 0.86.\n",
    "\n",
    "RandomForest Metrics after Tuning:\n",
    "-  AUC-ROC: High, indicating excellent model performance and good generalization.\n",
    "-  Accuracy: High, reflecting the model's ability to predict instances correctly.\n",
    "-  F1 Score: Moderately high, indicating a balance between precision and recall but still have room for improvement."
   ]
  }
 ],
 "metadata": {
  "ExecuteTimeLog": [
   {
    "duration": 340,
    "start_time": "2024-07-09T10:50:52.452Z"
   },
   {
    "duration": 20,
    "start_time": "2024-07-09T10:52:13.528Z"
   },
   {
    "duration": 428,
    "start_time": "2024-07-09T10:52:37.267Z"
   },
   {
    "duration": 21,
    "start_time": "2024-07-09T10:52:40.407Z"
   },
   {
    "duration": 19,
    "start_time": "2024-07-09T10:57:50.029Z"
   },
   {
    "duration": 56,
    "start_time": "2024-07-09T10:57:50.052Z"
   },
   {
    "duration": 0,
    "start_time": "2024-07-09T10:57:50.131Z"
   },
   {
    "duration": 0,
    "start_time": "2024-07-09T10:57:50.133Z"
   },
   {
    "duration": 441,
    "start_time": "2024-07-09T10:58:38.358Z"
   },
   {
    "duration": 1259,
    "start_time": "2024-07-09T10:58:38.802Z"
   },
   {
    "duration": 0,
    "start_time": "2024-07-09T10:58:40.064Z"
   },
   {
    "duration": 0,
    "start_time": "2024-07-09T10:58:40.066Z"
   },
   {
    "duration": 0,
    "start_time": "2024-07-09T10:58:40.069Z"
   },
   {
    "duration": 0,
    "start_time": "2024-07-09T10:58:40.071Z"
   },
   {
    "duration": 493,
    "start_time": "2024-07-09T10:59:28.708Z"
   },
   {
    "duration": 1246,
    "start_time": "2024-07-09T10:59:29.206Z"
   },
   {
    "duration": 0,
    "start_time": "2024-07-09T10:59:30.456Z"
   },
   {
    "duration": 0,
    "start_time": "2024-07-09T10:59:30.458Z"
   },
   {
    "duration": 0,
    "start_time": "2024-07-09T10:59:30.460Z"
   },
   {
    "duration": 1,
    "start_time": "2024-07-09T10:59:30.462Z"
   },
   {
    "duration": 286,
    "start_time": "2024-07-09T11:00:39.383Z"
   },
   {
    "duration": 180,
    "start_time": "2024-07-09T11:00:52.450Z"
   },
   {
    "duration": 22,
    "start_time": "2024-07-09T11:01:01.738Z"
   },
   {
    "duration": 44,
    "start_time": "2024-07-09T11:01:01.765Z"
   },
   {
    "duration": 32,
    "start_time": "2024-07-09T11:01:01.813Z"
   },
   {
    "duration": 0,
    "start_time": "2024-07-09T11:01:01.850Z"
   },
   {
    "duration": 16,
    "start_time": "2024-07-09T11:01:21.724Z"
   },
   {
    "duration": 13,
    "start_time": "2024-07-09T11:01:23.604Z"
   },
   {
    "duration": 15,
    "start_time": "2024-07-09T11:04:07.671Z"
   },
   {
    "duration": 15,
    "start_time": "2024-07-09T11:04:10.936Z"
   },
   {
    "duration": 12,
    "start_time": "2024-07-09T11:04:10.954Z"
   },
   {
    "duration": 11,
    "start_time": "2024-07-09T11:04:10.970Z"
   },
   {
    "duration": 9,
    "start_time": "2024-07-09T11:04:10.984Z"
   },
   {
    "duration": 458,
    "start_time": "2024-07-15T02:55:55.470Z"
   },
   {
    "duration": 256,
    "start_time": "2024-07-15T02:55:55.932Z"
   },
   {
    "duration": 17,
    "start_time": "2024-07-15T02:55:56.192Z"
   },
   {
    "duration": 30,
    "start_time": "2024-07-15T02:55:56.212Z"
   },
   {
    "duration": 18,
    "start_time": "2024-07-15T02:55:56.247Z"
   },
   {
    "duration": 14,
    "start_time": "2024-07-15T02:55:56.268Z"
   },
   {
    "duration": 52,
    "start_time": "2024-07-15T02:55:56.285Z"
   },
   {
    "duration": 15,
    "start_time": "2024-07-15T02:55:56.342Z"
   },
   {
    "duration": 15,
    "start_time": "2024-07-15T02:55:56.361Z"
   },
   {
    "duration": 13,
    "start_time": "2024-07-15T02:55:56.380Z"
   },
   {
    "duration": 4745,
    "start_time": "2024-07-15T02:58:47.911Z"
   },
   {
    "duration": 982,
    "start_time": "2024-07-15T03:37:46.881Z"
   },
   {
    "duration": 7,
    "start_time": "2024-07-15T03:38:38.235Z"
   },
   {
    "duration": 18,
    "start_time": "2024-07-15T03:38:59.413Z"
   },
   {
    "duration": 170,
    "start_time": "2024-07-15T03:39:13.861Z"
   },
   {
    "duration": 92,
    "start_time": "2024-07-15T03:39:21.652Z"
   },
   {
    "duration": 26,
    "start_time": "2024-07-15T03:53:19.829Z"
   },
   {
    "duration": 9,
    "start_time": "2024-07-15T03:53:26.972Z"
   },
   {
    "duration": 1233,
    "start_time": "2024-07-15T03:53:29.792Z"
   },
   {
    "duration": 5,
    "start_time": "2024-07-15T03:54:18.183Z"
   },
   {
    "duration": 8,
    "start_time": "2024-07-15T03:55:14.288Z"
   },
   {
    "duration": 7,
    "start_time": "2024-07-15T03:55:17.862Z"
   },
   {
    "duration": 5,
    "start_time": "2024-07-15T03:59:04.421Z"
   },
   {
    "duration": 51,
    "start_time": "2024-07-15T03:59:22.319Z"
   },
   {
    "duration": 14,
    "start_time": "2024-07-15T03:59:59.697Z"
   },
   {
    "duration": 49,
    "start_time": "2024-07-15T04:00:01.544Z"
   },
   {
    "duration": 1516,
    "start_time": "2024-07-15T04:05:11.890Z"
   },
   {
    "duration": 177,
    "start_time": "2024-07-15T04:05:13.410Z"
   },
   {
    "duration": 18,
    "start_time": "2024-07-15T04:05:13.589Z"
   },
   {
    "duration": 28,
    "start_time": "2024-07-15T04:05:13.611Z"
   },
   {
    "duration": 7,
    "start_time": "2024-07-15T04:05:13.642Z"
   },
   {
    "duration": 5,
    "start_time": "2024-07-15T04:05:13.653Z"
   },
   {
    "duration": 1012,
    "start_time": "2024-07-15T04:05:13.662Z"
   },
   {
    "duration": 27,
    "start_time": "2024-07-15T04:05:14.677Z"
   },
   {
    "duration": 31,
    "start_time": "2024-07-15T04:05:14.708Z"
   },
   {
    "duration": 15,
    "start_time": "2024-07-15T04:05:14.745Z"
   },
   {
    "duration": 13,
    "start_time": "2024-07-15T04:05:14.762Z"
   },
   {
    "duration": 54,
    "start_time": "2024-07-15T04:05:14.779Z"
   },
   {
    "duration": 12,
    "start_time": "2024-07-15T04:05:14.836Z"
   },
   {
    "duration": 8,
    "start_time": "2024-07-15T04:05:53.327Z"
   },
   {
    "duration": 816,
    "start_time": "2024-07-15T04:18:38.227Z"
   },
   {
    "duration": 110,
    "start_time": "2024-07-15T04:20:54.346Z"
   },
   {
    "duration": 7,
    "start_time": "2024-07-15T04:20:58.286Z"
   },
   {
    "duration": 6,
    "start_time": "2024-07-15T04:21:10.743Z"
   },
   {
    "duration": 25,
    "start_time": "2024-07-15T04:21:37.798Z"
   },
   {
    "duration": 25,
    "start_time": "2024-07-15T04:21:43.079Z"
   },
   {
    "duration": 30,
    "start_time": "2024-07-15T04:27:50.189Z"
   },
   {
    "duration": 879,
    "start_time": "2024-07-15T04:41:03.617Z"
   },
   {
    "duration": 1498,
    "start_time": "2024-07-15T04:42:48.872Z"
   },
   {
    "duration": 188,
    "start_time": "2024-07-15T04:42:50.374Z"
   },
   {
    "duration": 19,
    "start_time": "2024-07-15T04:42:50.564Z"
   },
   {
    "duration": 19,
    "start_time": "2024-07-15T04:42:50.586Z"
   },
   {
    "duration": 16,
    "start_time": "2024-07-15T04:42:50.631Z"
   },
   {
    "duration": 6,
    "start_time": "2024-07-15T04:42:50.650Z"
   },
   {
    "duration": 25,
    "start_time": "2024-07-15T04:42:50.659Z"
   },
   {
    "duration": 1294,
    "start_time": "2024-07-15T04:42:50.688Z"
   },
   {
    "duration": 0,
    "start_time": "2024-07-15T04:42:51.985Z"
   },
   {
    "duration": 0,
    "start_time": "2024-07-15T04:42:51.989Z"
   },
   {
    "duration": 0,
    "start_time": "2024-07-15T04:42:51.991Z"
   },
   {
    "duration": 0,
    "start_time": "2024-07-15T04:42:51.992Z"
   },
   {
    "duration": 0,
    "start_time": "2024-07-15T04:42:51.996Z"
   },
   {
    "duration": 0,
    "start_time": "2024-07-15T04:42:51.999Z"
   },
   {
    "duration": 806,
    "start_time": "2024-07-15T04:43:42.028Z"
   },
   {
    "duration": 53,
    "start_time": "2024-07-15T04:44:10.512Z"
   },
   {
    "duration": 60,
    "start_time": "2024-07-15T04:44:26.118Z"
   },
   {
    "duration": 1518,
    "start_time": "2024-07-15T04:44:34.702Z"
   },
   {
    "duration": 185,
    "start_time": "2024-07-15T04:44:36.223Z"
   },
   {
    "duration": 21,
    "start_time": "2024-07-15T04:44:36.410Z"
   },
   {
    "duration": 20,
    "start_time": "2024-07-15T04:44:36.436Z"
   },
   {
    "duration": 18,
    "start_time": "2024-07-15T04:44:36.460Z"
   },
   {
    "duration": 6,
    "start_time": "2024-07-15T04:44:36.483Z"
   },
   {
    "duration": 26,
    "start_time": "2024-07-15T04:44:36.531Z"
   },
   {
    "duration": 1174,
    "start_time": "2024-07-15T04:44:36.560Z"
   },
   {
    "duration": 0,
    "start_time": "2024-07-15T04:44:37.737Z"
   },
   {
    "duration": 0,
    "start_time": "2024-07-15T04:44:37.740Z"
   },
   {
    "duration": 0,
    "start_time": "2024-07-15T04:44:37.742Z"
   },
   {
    "duration": 0,
    "start_time": "2024-07-15T04:44:37.744Z"
   },
   {
    "duration": 0,
    "start_time": "2024-07-15T04:44:37.745Z"
   },
   {
    "duration": 0,
    "start_time": "2024-07-15T04:44:37.747Z"
   },
   {
    "duration": 29,
    "start_time": "2024-07-15T04:45:03.634Z"
   },
   {
    "duration": 63,
    "start_time": "2024-07-15T04:45:06.427Z"
   },
   {
    "duration": 1546,
    "start_time": "2024-07-15T04:49:56.944Z"
   },
   {
    "duration": 178,
    "start_time": "2024-07-15T04:49:58.494Z"
   },
   {
    "duration": 18,
    "start_time": "2024-07-15T04:49:58.675Z"
   },
   {
    "duration": 34,
    "start_time": "2024-07-15T04:49:58.697Z"
   },
   {
    "duration": 15,
    "start_time": "2024-07-15T04:49:58.734Z"
   },
   {
    "duration": 26,
    "start_time": "2024-07-15T04:49:58.752Z"
   },
   {
    "duration": 57,
    "start_time": "2024-07-15T04:49:58.781Z"
   },
   {
    "duration": 14,
    "start_time": "2024-07-15T04:49:58.841Z"
   },
   {
    "duration": 15,
    "start_time": "2024-07-15T04:49:58.858Z"
   },
   {
    "duration": 11,
    "start_time": "2024-07-15T04:49:58.878Z"
   },
   {
    "duration": 51,
    "start_time": "2024-07-15T04:49:58.892Z"
   },
   {
    "duration": 10,
    "start_time": "2024-07-15T04:49:58.946Z"
   },
   {
    "duration": 1222,
    "start_time": "2024-07-15T04:51:44.388Z"
   },
   {
    "duration": 4,
    "start_time": "2024-07-15T04:59:54.300Z"
   },
   {
    "duration": 80,
    "start_time": "2024-07-15T05:00:13.393Z"
   },
   {
    "duration": 25,
    "start_time": "2024-07-15T05:00:50.919Z"
   },
   {
    "duration": 1523,
    "start_time": "2024-07-15T05:01:21.273Z"
   },
   {
    "duration": 188,
    "start_time": "2024-07-15T05:01:22.800Z"
   },
   {
    "duration": 18,
    "start_time": "2024-07-15T05:01:22.992Z"
   },
   {
    "duration": 32,
    "start_time": "2024-07-15T05:01:23.014Z"
   },
   {
    "duration": 15,
    "start_time": "2024-07-15T05:01:23.050Z"
   },
   {
    "duration": 63,
    "start_time": "2024-07-15T05:01:23.068Z"
   },
   {
    "duration": 7,
    "start_time": "2024-07-15T05:01:23.134Z"
   },
   {
    "duration": 28,
    "start_time": "2024-07-15T05:01:23.145Z"
   },
   {
    "duration": 1263,
    "start_time": "2024-07-15T05:01:23.175Z"
   },
   {
    "duration": 0,
    "start_time": "2024-07-15T05:01:24.442Z"
   },
   {
    "duration": 0,
    "start_time": "2024-07-15T05:01:24.446Z"
   },
   {
    "duration": 0,
    "start_time": "2024-07-15T05:01:24.447Z"
   },
   {
    "duration": 0,
    "start_time": "2024-07-15T05:01:24.450Z"
   },
   {
    "duration": 0,
    "start_time": "2024-07-15T05:01:24.452Z"
   },
   {
    "duration": 0,
    "start_time": "2024-07-15T05:01:24.455Z"
   },
   {
    "duration": 37,
    "start_time": "2024-07-15T05:03:01.728Z"
   },
   {
    "duration": 5,
    "start_time": "2024-07-15T05:03:16.695Z"
   },
   {
    "duration": 25,
    "start_time": "2024-07-15T05:03:16.703Z"
   },
   {
    "duration": 78,
    "start_time": "2024-07-15T05:03:16.731Z"
   },
   {
    "duration": 77,
    "start_time": "2024-07-15T05:03:40.299Z"
   },
   {
    "duration": 1520,
    "start_time": "2024-07-15T05:14:01.372Z"
   },
   {
    "duration": 181,
    "start_time": "2024-07-15T05:14:02.896Z"
   },
   {
    "duration": 17,
    "start_time": "2024-07-15T05:14:03.080Z"
   },
   {
    "duration": 38,
    "start_time": "2024-07-15T05:14:03.100Z"
   },
   {
    "duration": 15,
    "start_time": "2024-07-15T05:14:03.143Z"
   },
   {
    "duration": 29,
    "start_time": "2024-07-15T05:14:03.161Z"
   },
   {
    "duration": 5,
    "start_time": "2024-07-15T05:14:03.192Z"
   },
   {
    "duration": 26,
    "start_time": "2024-07-15T05:14:03.232Z"
   },
   {
    "duration": 1281,
    "start_time": "2024-07-15T05:14:03.261Z"
   },
   {
    "duration": 0,
    "start_time": "2024-07-15T05:14:04.545Z"
   },
   {
    "duration": 0,
    "start_time": "2024-07-15T05:14:04.547Z"
   },
   {
    "duration": 0,
    "start_time": "2024-07-15T05:14:04.550Z"
   },
   {
    "duration": 0,
    "start_time": "2024-07-15T05:14:04.552Z"
   },
   {
    "duration": 0,
    "start_time": "2024-07-15T05:14:04.553Z"
   },
   {
    "duration": 0,
    "start_time": "2024-07-15T05:14:04.555Z"
   },
   {
    "duration": 1521,
    "start_time": "2024-07-15T05:17:31.196Z"
   },
   {
    "duration": 175,
    "start_time": "2024-07-15T05:17:32.720Z"
   },
   {
    "duration": 19,
    "start_time": "2024-07-15T05:17:32.897Z"
   },
   {
    "duration": 20,
    "start_time": "2024-07-15T05:17:32.933Z"
   },
   {
    "duration": 15,
    "start_time": "2024-07-15T05:17:32.956Z"
   },
   {
    "duration": 64,
    "start_time": "2024-07-15T05:17:32.974Z"
   },
   {
    "duration": 25,
    "start_time": "2024-07-15T05:17:33.041Z"
   },
   {
    "duration": 19,
    "start_time": "2024-07-15T05:17:33.069Z"
   },
   {
    "duration": 57,
    "start_time": "2024-07-15T05:17:33.093Z"
   },
   {
    "duration": 12,
    "start_time": "2024-07-15T05:17:33.155Z"
   },
   {
    "duration": 15,
    "start_time": "2024-07-15T05:17:33.171Z"
   },
   {
    "duration": 49,
    "start_time": "2024-07-15T05:17:33.189Z"
   },
   {
    "duration": 19,
    "start_time": "2024-07-15T05:17:33.242Z"
   },
   {
    "duration": 12,
    "start_time": "2024-07-15T05:17:33.264Z"
   },
   {
    "duration": 1546,
    "start_time": "2024-07-15T05:22:06.719Z"
   },
   {
    "duration": 180,
    "start_time": "2024-07-15T05:22:08.269Z"
   },
   {
    "duration": 18,
    "start_time": "2024-07-15T05:22:08.452Z"
   },
   {
    "duration": 18,
    "start_time": "2024-07-15T05:22:08.474Z"
   },
   {
    "duration": 41,
    "start_time": "2024-07-15T05:22:08.495Z"
   },
   {
    "duration": 31,
    "start_time": "2024-07-15T05:22:08.539Z"
   },
   {
    "duration": 24,
    "start_time": "2024-07-15T05:22:08.573Z"
   },
   {
    "duration": 48,
    "start_time": "2024-07-15T05:22:08.600Z"
   },
   {
    "duration": 25,
    "start_time": "2024-07-15T05:22:08.652Z"
   },
   {
    "duration": 47,
    "start_time": "2024-07-15T05:22:08.683Z"
   },
   {
    "duration": 18,
    "start_time": "2024-07-15T05:22:08.733Z"
   },
   {
    "duration": 17,
    "start_time": "2024-07-15T05:22:08.754Z"
   },
   {
    "duration": 15,
    "start_time": "2024-07-15T05:22:08.774Z"
   },
   {
    "duration": 43,
    "start_time": "2024-07-15T05:22:08.792Z"
   },
   {
    "duration": 5356,
    "start_time": "2024-07-23T04:20:05.473Z"
   },
   {
    "duration": 1216,
    "start_time": "2024-07-23T04:20:10.833Z"
   },
   {
    "duration": 0,
    "start_time": "2024-07-23T04:20:12.058Z"
   },
   {
    "duration": 0,
    "start_time": "2024-07-23T04:20:12.060Z"
   },
   {
    "duration": 0,
    "start_time": "2024-07-23T04:20:12.062Z"
   },
   {
    "duration": 0,
    "start_time": "2024-07-23T04:20:12.064Z"
   },
   {
    "duration": 0,
    "start_time": "2024-07-23T04:20:12.066Z"
   },
   {
    "duration": 0,
    "start_time": "2024-07-23T04:20:12.067Z"
   },
   {
    "duration": 0,
    "start_time": "2024-07-23T04:20:12.069Z"
   },
   {
    "duration": 0,
    "start_time": "2024-07-23T04:20:12.071Z"
   },
   {
    "duration": 0,
    "start_time": "2024-07-23T04:20:12.073Z"
   },
   {
    "duration": 0,
    "start_time": "2024-07-23T04:20:12.075Z"
   },
   {
    "duration": 0,
    "start_time": "2024-07-23T04:20:12.077Z"
   },
   {
    "duration": 0,
    "start_time": "2024-07-23T04:20:12.079Z"
   },
   {
    "duration": 0,
    "start_time": "2024-07-23T04:20:12.080Z"
   },
   {
    "duration": 0,
    "start_time": "2024-07-23T04:20:12.082Z"
   },
   {
    "duration": 0,
    "start_time": "2024-07-23T04:20:12.124Z"
   },
   {
    "duration": 0,
    "start_time": "2024-07-23T04:20:12.127Z"
   },
   {
    "duration": 0,
    "start_time": "2024-07-23T04:20:12.130Z"
   },
   {
    "duration": 0,
    "start_time": "2024-07-23T04:20:12.132Z"
   },
   {
    "duration": 0,
    "start_time": "2024-07-23T04:20:12.135Z"
   },
   {
    "duration": 0,
    "start_time": "2024-07-23T04:20:12.138Z"
   },
   {
    "duration": 1,
    "start_time": "2024-07-23T04:20:12.140Z"
   },
   {
    "duration": 0,
    "start_time": "2024-07-23T04:20:12.143Z"
   },
   {
    "duration": 0,
    "start_time": "2024-07-23T04:20:12.147Z"
   },
   {
    "duration": 0,
    "start_time": "2024-07-23T04:20:12.149Z"
   },
   {
    "duration": 0,
    "start_time": "2024-07-23T04:20:12.152Z"
   },
   {
    "duration": 0,
    "start_time": "2024-07-23T04:20:12.155Z"
   },
   {
    "duration": 0,
    "start_time": "2024-07-23T04:20:12.158Z"
   },
   {
    "duration": 0,
    "start_time": "2024-07-23T04:20:12.160Z"
   },
   {
    "duration": 0,
    "start_time": "2024-07-23T04:20:12.163Z"
   },
   {
    "duration": 0,
    "start_time": "2024-07-23T04:20:12.166Z"
   },
   {
    "duration": 0,
    "start_time": "2024-07-23T04:20:12.225Z"
   },
   {
    "duration": 0,
    "start_time": "2024-07-23T04:20:12.228Z"
   },
   {
    "duration": 0,
    "start_time": "2024-07-23T04:20:12.231Z"
   },
   {
    "duration": 0,
    "start_time": "2024-07-23T04:20:12.233Z"
   },
   {
    "duration": 0,
    "start_time": "2024-07-23T04:20:12.234Z"
   },
   {
    "duration": 0,
    "start_time": "2024-07-23T04:20:12.236Z"
   },
   {
    "duration": 0,
    "start_time": "2024-07-23T04:20:12.238Z"
   },
   {
    "duration": 0,
    "start_time": "2024-07-23T04:20:12.240Z"
   },
   {
    "duration": 0,
    "start_time": "2024-07-23T04:20:12.242Z"
   },
   {
    "duration": 0,
    "start_time": "2024-07-23T04:20:12.244Z"
   },
   {
    "duration": 0,
    "start_time": "2024-07-23T04:20:12.246Z"
   },
   {
    "duration": 0,
    "start_time": "2024-07-23T04:20:12.248Z"
   },
   {
    "duration": 0,
    "start_time": "2024-07-23T04:20:12.250Z"
   },
   {
    "duration": 0,
    "start_time": "2024-07-23T04:20:12.252Z"
   },
   {
    "duration": 0,
    "start_time": "2024-07-23T04:20:12.254Z"
   },
   {
    "duration": 0,
    "start_time": "2024-07-23T04:20:12.256Z"
   },
   {
    "duration": 0,
    "start_time": "2024-07-23T04:20:12.258Z"
   },
   {
    "duration": 0,
    "start_time": "2024-07-23T04:20:12.261Z"
   },
   {
    "duration": 0,
    "start_time": "2024-07-23T04:20:12.263Z"
   },
   {
    "duration": 0,
    "start_time": "2024-07-23T04:20:12.265Z"
   },
   {
    "duration": 0,
    "start_time": "2024-07-23T04:20:12.268Z"
   },
   {
    "duration": 0,
    "start_time": "2024-07-23T04:20:12.324Z"
   },
   {
    "duration": 1,
    "start_time": "2024-07-23T04:20:12.326Z"
   },
   {
    "duration": 0,
    "start_time": "2024-07-23T04:20:12.329Z"
   },
   {
    "duration": 0,
    "start_time": "2024-07-23T04:20:12.332Z"
   },
   {
    "duration": 0,
    "start_time": "2024-07-23T04:20:12.335Z"
   },
   {
    "duration": 1608,
    "start_time": "2024-07-23T04:20:35.529Z"
   },
   {
    "duration": 80,
    "start_time": "2024-07-23T04:20:37.141Z"
   },
   {
    "duration": 19,
    "start_time": "2024-07-23T04:20:37.224Z"
   },
   {
    "duration": 21,
    "start_time": "2024-07-23T04:20:37.248Z"
   },
   {
    "duration": 10,
    "start_time": "2024-07-23T04:20:37.273Z"
   },
   {
    "duration": 43,
    "start_time": "2024-07-23T04:20:37.286Z"
   },
   {
    "duration": 10,
    "start_time": "2024-07-23T04:20:37.334Z"
   },
   {
    "duration": 14,
    "start_time": "2024-07-23T04:20:37.353Z"
   },
   {
    "duration": 11,
    "start_time": "2024-07-23T04:20:37.374Z"
   },
   {
    "duration": 38,
    "start_time": "2024-07-23T04:20:37.393Z"
   },
   {
    "duration": 6,
    "start_time": "2024-07-23T04:20:37.435Z"
   },
   {
    "duration": 8,
    "start_time": "2024-07-23T04:20:37.444Z"
   },
   {
    "duration": 20,
    "start_time": "2024-07-23T04:20:37.455Z"
   },
   {
    "duration": 57,
    "start_time": "2024-07-23T04:20:37.478Z"
   },
   {
    "duration": 4,
    "start_time": "2024-07-23T04:20:37.539Z"
   },
   {
    "duration": 22,
    "start_time": "2024-07-23T04:20:37.546Z"
   },
   {
    "duration": 462,
    "start_time": "2024-07-23T04:20:37.572Z"
   },
   {
    "duration": 0,
    "start_time": "2024-07-23T04:20:38.039Z"
   },
   {
    "duration": 0,
    "start_time": "2024-07-23T04:20:38.043Z"
   },
   {
    "duration": 0,
    "start_time": "2024-07-23T04:20:38.045Z"
   },
   {
    "duration": 0,
    "start_time": "2024-07-23T04:20:38.048Z"
   },
   {
    "duration": 0,
    "start_time": "2024-07-23T04:20:38.050Z"
   },
   {
    "duration": 0,
    "start_time": "2024-07-23T04:20:38.052Z"
   },
   {
    "duration": 0,
    "start_time": "2024-07-23T04:20:38.054Z"
   },
   {
    "duration": 0,
    "start_time": "2024-07-23T04:20:38.059Z"
   },
   {
    "duration": 0,
    "start_time": "2024-07-23T04:20:38.061Z"
   },
   {
    "duration": 0,
    "start_time": "2024-07-23T04:20:38.064Z"
   },
   {
    "duration": 0,
    "start_time": "2024-07-23T04:20:38.067Z"
   },
   {
    "duration": 0,
    "start_time": "2024-07-23T04:20:38.070Z"
   },
   {
    "duration": 0,
    "start_time": "2024-07-23T04:20:38.073Z"
   },
   {
    "duration": 0,
    "start_time": "2024-07-23T04:20:38.076Z"
   },
   {
    "duration": 0,
    "start_time": "2024-07-23T04:20:38.077Z"
   },
   {
    "duration": 0,
    "start_time": "2024-07-23T04:20:38.078Z"
   },
   {
    "duration": 0,
    "start_time": "2024-07-23T04:20:38.079Z"
   },
   {
    "duration": 1,
    "start_time": "2024-07-23T04:20:38.123Z"
   },
   {
    "duration": 0,
    "start_time": "2024-07-23T04:20:38.125Z"
   },
   {
    "duration": 0,
    "start_time": "2024-07-23T04:20:38.127Z"
   },
   {
    "duration": 0,
    "start_time": "2024-07-23T04:20:38.128Z"
   },
   {
    "duration": 0,
    "start_time": "2024-07-23T04:20:38.130Z"
   },
   {
    "duration": 0,
    "start_time": "2024-07-23T04:20:38.131Z"
   },
   {
    "duration": 0,
    "start_time": "2024-07-23T04:20:38.133Z"
   },
   {
    "duration": 0,
    "start_time": "2024-07-23T04:20:38.134Z"
   },
   {
    "duration": 0,
    "start_time": "2024-07-23T04:20:38.137Z"
   },
   {
    "duration": 0,
    "start_time": "2024-07-23T04:20:38.139Z"
   },
   {
    "duration": 0,
    "start_time": "2024-07-23T04:20:38.142Z"
   },
   {
    "duration": 0,
    "start_time": "2024-07-23T04:20:38.144Z"
   },
   {
    "duration": 0,
    "start_time": "2024-07-23T04:20:38.146Z"
   },
   {
    "duration": 0,
    "start_time": "2024-07-23T04:20:38.148Z"
   },
   {
    "duration": 0,
    "start_time": "2024-07-23T04:20:38.150Z"
   },
   {
    "duration": 0,
    "start_time": "2024-07-23T04:20:38.153Z"
   },
   {
    "duration": 0,
    "start_time": "2024-07-23T04:20:38.155Z"
   },
   {
    "duration": 0,
    "start_time": "2024-07-23T04:20:38.157Z"
   },
   {
    "duration": 0,
    "start_time": "2024-07-23T04:20:38.160Z"
   },
   {
    "duration": 0,
    "start_time": "2024-07-23T04:20:38.163Z"
   },
   {
    "duration": 0,
    "start_time": "2024-07-23T04:20:38.165Z"
   },
   {
    "duration": 0,
    "start_time": "2024-07-23T04:20:38.223Z"
   },
   {
    "duration": 0,
    "start_time": "2024-07-23T04:20:38.225Z"
   },
   {
    "duration": 14,
    "start_time": "2024-07-23T04:21:49.099Z"
   },
   {
    "duration": 15,
    "start_time": "2024-07-23T04:21:52.768Z"
   },
   {
    "duration": 1573,
    "start_time": "2024-07-23T04:22:10.892Z"
   },
   {
    "duration": 65,
    "start_time": "2024-07-23T04:22:12.469Z"
   },
   {
    "duration": 20,
    "start_time": "2024-07-23T04:22:12.537Z"
   },
   {
    "duration": 21,
    "start_time": "2024-07-23T04:22:12.560Z"
   },
   {
    "duration": 36,
    "start_time": "2024-07-23T04:22:12.587Z"
   },
   {
    "duration": 8,
    "start_time": "2024-07-23T04:22:12.626Z"
   },
   {
    "duration": 6,
    "start_time": "2024-07-23T04:22:12.637Z"
   },
   {
    "duration": 6,
    "start_time": "2024-07-23T04:22:12.646Z"
   },
   {
    "duration": 13,
    "start_time": "2024-07-23T04:22:12.656Z"
   },
   {
    "duration": 58,
    "start_time": "2024-07-23T04:22:12.672Z"
   },
   {
    "duration": 8,
    "start_time": "2024-07-23T04:22:12.732Z"
   },
   {
    "duration": 8,
    "start_time": "2024-07-23T04:22:12.743Z"
   },
   {
    "duration": 19,
    "start_time": "2024-07-23T04:22:12.755Z"
   },
   {
    "duration": 59,
    "start_time": "2024-07-23T04:22:12.782Z"
   },
   {
    "duration": 5,
    "start_time": "2024-07-23T04:22:12.844Z"
   },
   {
    "duration": 18,
    "start_time": "2024-07-23T04:22:12.852Z"
   },
   {
    "duration": 51,
    "start_time": "2024-07-23T04:22:12.874Z"
   },
   {
    "duration": 15,
    "start_time": "2024-07-23T04:22:12.929Z"
   },
   {
    "duration": 17,
    "start_time": "2024-07-23T04:22:12.947Z"
   },
   {
    "duration": 13,
    "start_time": "2024-07-23T04:22:12.970Z"
   },
   {
    "duration": 46,
    "start_time": "2024-07-23T04:22:12.986Z"
   },
   {
    "duration": 10,
    "start_time": "2024-07-23T04:22:13.035Z"
   },
   {
    "duration": 97,
    "start_time": "2024-07-23T04:22:13.048Z"
   },
   {
    "duration": 26,
    "start_time": "2024-07-23T04:22:13.148Z"
   },
   {
    "duration": 12,
    "start_time": "2024-07-23T04:22:13.177Z"
   },
   {
    "duration": 61,
    "start_time": "2024-07-23T04:22:13.194Z"
   },
   {
    "duration": 15,
    "start_time": "2024-07-23T04:22:13.258Z"
   },
   {
    "duration": 9,
    "start_time": "2024-07-23T04:22:13.276Z"
   },
   {
    "duration": 52,
    "start_time": "2024-07-23T04:22:13.288Z"
   },
   {
    "duration": 21,
    "start_time": "2024-07-23T04:22:13.343Z"
   },
   {
    "duration": 436,
    "start_time": "2024-07-23T04:22:13.369Z"
   },
   {
    "duration": 0,
    "start_time": "2024-07-23T04:22:13.809Z"
   },
   {
    "duration": 0,
    "start_time": "2024-07-23T04:22:13.810Z"
   },
   {
    "duration": 0,
    "start_time": "2024-07-23T04:22:13.823Z"
   },
   {
    "duration": 0,
    "start_time": "2024-07-23T04:22:13.825Z"
   },
   {
    "duration": 0,
    "start_time": "2024-07-23T04:22:13.828Z"
   },
   {
    "duration": 0,
    "start_time": "2024-07-23T04:22:13.830Z"
   },
   {
    "duration": 0,
    "start_time": "2024-07-23T04:22:13.832Z"
   },
   {
    "duration": 0,
    "start_time": "2024-07-23T04:22:13.834Z"
   },
   {
    "duration": 0,
    "start_time": "2024-07-23T04:22:13.840Z"
   },
   {
    "duration": 0,
    "start_time": "2024-07-23T04:22:13.849Z"
   },
   {
    "duration": 0,
    "start_time": "2024-07-23T04:22:13.851Z"
   },
   {
    "duration": 0,
    "start_time": "2024-07-23T04:22:13.857Z"
   },
   {
    "duration": 0,
    "start_time": "2024-07-23T04:22:13.859Z"
   },
   {
    "duration": 0,
    "start_time": "2024-07-23T04:22:13.861Z"
   },
   {
    "duration": 0,
    "start_time": "2024-07-23T04:22:13.863Z"
   },
   {
    "duration": 0,
    "start_time": "2024-07-23T04:22:13.865Z"
   },
   {
    "duration": 0,
    "start_time": "2024-07-23T04:22:13.867Z"
   },
   {
    "duration": 0,
    "start_time": "2024-07-23T04:22:13.869Z"
   },
   {
    "duration": 0,
    "start_time": "2024-07-23T04:22:13.873Z"
   },
   {
    "duration": 0,
    "start_time": "2024-07-23T04:22:13.876Z"
   },
   {
    "duration": 0,
    "start_time": "2024-07-23T04:22:13.878Z"
   },
   {
    "duration": 0,
    "start_time": "2024-07-23T04:22:13.923Z"
   },
   {
    "duration": 0,
    "start_time": "2024-07-23T04:22:13.925Z"
   },
   {
    "duration": 0,
    "start_time": "2024-07-23T04:22:13.927Z"
   },
   {
    "duration": 0,
    "start_time": "2024-07-23T04:22:13.928Z"
   },
   {
    "duration": 0,
    "start_time": "2024-07-23T04:22:13.930Z"
   },
   {
    "duration": 16,
    "start_time": "2024-07-23T04:22:40.699Z"
   },
   {
    "duration": 4763,
    "start_time": "2024-07-23T04:22:44.304Z"
   },
   {
    "duration": 371,
    "start_time": "2024-07-23T04:22:59.684Z"
   },
   {
    "duration": 26,
    "start_time": "2024-07-23T04:23:00.058Z"
   },
   {
    "duration": 336,
    "start_time": "2024-07-23T04:23:00.087Z"
   },
   {
    "duration": 323,
    "start_time": "2024-07-23T04:23:11.427Z"
   },
   {
    "duration": 9,
    "start_time": "2024-07-23T04:23:11.754Z"
   },
   {
    "duration": 21,
    "start_time": "2024-07-23T04:23:23.263Z"
   },
   {
    "duration": 50,
    "start_time": "2024-07-23T04:23:23.287Z"
   },
   {
    "duration": 4,
    "start_time": "2024-07-23T04:23:23.340Z"
   },
   {
    "duration": 16,
    "start_time": "2024-07-23T04:23:23.349Z"
   },
   {
    "duration": 9,
    "start_time": "2024-07-23T04:23:23.373Z"
   },
   {
    "duration": 55,
    "start_time": "2024-07-23T04:23:23.385Z"
   },
   {
    "duration": 74,
    "start_time": "2024-07-23T04:23:38.656Z"
   },
   {
    "duration": 9,
    "start_time": "2024-07-23T04:23:41.134Z"
   },
   {
    "duration": 27,
    "start_time": "2024-07-23T04:23:55.891Z"
   },
   {
    "duration": 3222,
    "start_time": "2024-07-23T04:23:55.921Z"
   },
   {
    "duration": 6,
    "start_time": "2024-07-23T04:23:59.146Z"
   },
   {
    "duration": 14,
    "start_time": "2024-07-23T04:24:35.284Z"
   },
   {
    "duration": 64899,
    "start_time": "2024-07-23T04:24:35.302Z"
   },
   {
    "duration": 6,
    "start_time": "2024-07-23T04:25:40.205Z"
   },
   {
    "duration": 0,
    "start_time": "2024-07-23T04:31:42.267Z"
   },
   {
    "duration": 426105,
    "start_time": "2024-07-23T04:31:50.324Z"
   },
   {
    "duration": 136,
    "start_time": "2024-07-23T04:38:56.434Z"
   },
   {
    "duration": 38,
    "start_time": "2024-07-23T04:44:29.538Z"
   },
   {
    "duration": 3,
    "start_time": "2024-07-23T04:52:57.844Z"
   },
   {
    "duration": 303,
    "start_time": "2024-07-23T04:53:00.613Z"
   },
   {
    "duration": 486,
    "start_time": "2024-07-23T05:00:59.608Z"
   },
   {
    "duration": 0,
    "start_time": "2024-07-23T05:01:00.097Z"
   },
   {
    "duration": 40,
    "start_time": "2024-07-23T05:06:54.645Z"
   },
   {
    "duration": 280,
    "start_time": "2024-07-23T05:07:32.333Z"
   },
   {
    "duration": 148,
    "start_time": "2024-07-23T05:09:08.769Z"
   },
   {
    "duration": 426687,
    "start_time": "2024-07-23T05:11:16.284Z"
   },
   {
    "duration": 140,
    "start_time": "2024-07-23T05:18:22.975Z"
   },
   {
    "duration": 5,
    "start_time": "2024-07-23T05:38:32.665Z"
   },
   {
    "duration": 11,
    "start_time": "2024-07-23T05:38:32.674Z"
   },
   {
    "duration": 5,
    "start_time": "2024-07-23T05:38:32.688Z"
   },
   {
    "duration": 6,
    "start_time": "2024-07-23T05:38:32.695Z"
   },
   {
    "duration": 10,
    "start_time": "2024-08-10T03:16:22.216Z"
   },
   {
    "duration": 1584,
    "start_time": "2024-08-10T04:28:09.672Z"
   },
   {
    "duration": 61,
    "start_time": "2024-08-10T04:28:11.259Z"
   },
   {
    "duration": 20,
    "start_time": "2024-08-10T04:28:11.323Z"
   },
   {
    "duration": 22,
    "start_time": "2024-08-10T04:28:11.347Z"
   },
   {
    "duration": 6,
    "start_time": "2024-08-10T04:28:11.372Z"
   },
   {
    "duration": 10,
    "start_time": "2024-08-10T04:28:11.381Z"
   },
   {
    "duration": 48,
    "start_time": "2024-08-10T04:28:11.394Z"
   },
   {
    "duration": 10,
    "start_time": "2024-08-10T04:28:11.445Z"
   },
   {
    "duration": 7,
    "start_time": "2024-08-10T04:28:11.459Z"
   },
   {
    "duration": 0,
    "start_time": "2024-08-10T04:28:11.473Z"
   },
   {
    "duration": 0,
    "start_time": "2024-08-10T04:28:11.475Z"
   },
   {
    "duration": 0,
    "start_time": "2024-08-10T04:28:11.477Z"
   },
   {
    "duration": 0,
    "start_time": "2024-08-10T04:28:11.479Z"
   },
   {
    "duration": 0,
    "start_time": "2024-08-10T04:28:11.482Z"
   },
   {
    "duration": 0,
    "start_time": "2024-08-10T04:28:11.483Z"
   },
   {
    "duration": 0,
    "start_time": "2024-08-10T04:28:11.484Z"
   },
   {
    "duration": 0,
    "start_time": "2024-08-10T04:28:11.527Z"
   },
   {
    "duration": 0,
    "start_time": "2024-08-10T04:28:11.529Z"
   },
   {
    "duration": 0,
    "start_time": "2024-08-10T04:28:11.530Z"
   },
   {
    "duration": 0,
    "start_time": "2024-08-10T04:28:11.532Z"
   },
   {
    "duration": 0,
    "start_time": "2024-08-10T04:28:11.534Z"
   },
   {
    "duration": 0,
    "start_time": "2024-08-10T04:28:11.536Z"
   },
   {
    "duration": 0,
    "start_time": "2024-08-10T04:28:11.537Z"
   },
   {
    "duration": 0,
    "start_time": "2024-08-10T04:28:11.539Z"
   },
   {
    "duration": 0,
    "start_time": "2024-08-10T04:28:11.541Z"
   },
   {
    "duration": 0,
    "start_time": "2024-08-10T04:28:11.542Z"
   },
   {
    "duration": 0,
    "start_time": "2024-08-10T04:28:11.544Z"
   },
   {
    "duration": 0,
    "start_time": "2024-08-10T04:28:11.546Z"
   },
   {
    "duration": 0,
    "start_time": "2024-08-10T04:28:11.548Z"
   },
   {
    "duration": 0,
    "start_time": "2024-08-10T04:28:11.550Z"
   },
   {
    "duration": 0,
    "start_time": "2024-08-10T04:28:11.552Z"
   },
   {
    "duration": 0,
    "start_time": "2024-08-10T04:28:11.553Z"
   },
   {
    "duration": 0,
    "start_time": "2024-08-10T04:28:11.555Z"
   },
   {
    "duration": 0,
    "start_time": "2024-08-10T04:28:11.558Z"
   },
   {
    "duration": 0,
    "start_time": "2024-08-10T04:28:11.559Z"
   },
   {
    "duration": 0,
    "start_time": "2024-08-10T04:28:11.561Z"
   },
   {
    "duration": 0,
    "start_time": "2024-08-10T04:28:11.562Z"
   },
   {
    "duration": 0,
    "start_time": "2024-08-10T04:28:11.564Z"
   },
   {
    "duration": 0,
    "start_time": "2024-08-10T04:28:11.567Z"
   },
   {
    "duration": 0,
    "start_time": "2024-08-10T04:28:11.568Z"
   },
   {
    "duration": 0,
    "start_time": "2024-08-10T04:28:11.626Z"
   },
   {
    "duration": 0,
    "start_time": "2024-08-10T04:28:11.628Z"
   },
   {
    "duration": 0,
    "start_time": "2024-08-10T04:28:11.629Z"
   },
   {
    "duration": 0,
    "start_time": "2024-08-10T04:28:11.631Z"
   },
   {
    "duration": 0,
    "start_time": "2024-08-10T04:28:11.633Z"
   },
   {
    "duration": 0,
    "start_time": "2024-08-10T04:28:11.635Z"
   },
   {
    "duration": 1,
    "start_time": "2024-08-10T04:28:11.636Z"
   },
   {
    "duration": 0,
    "start_time": "2024-08-10T04:28:11.639Z"
   },
   {
    "duration": 0,
    "start_time": "2024-08-10T04:28:11.641Z"
   },
   {
    "duration": 0,
    "start_time": "2024-08-10T04:28:11.644Z"
   },
   {
    "duration": 0,
    "start_time": "2024-08-10T04:28:11.645Z"
   },
   {
    "duration": 0,
    "start_time": "2024-08-10T04:28:11.647Z"
   },
   {
    "duration": 0,
    "start_time": "2024-08-10T04:28:11.649Z"
   },
   {
    "duration": 0,
    "start_time": "2024-08-10T04:28:11.651Z"
   },
   {
    "duration": 0,
    "start_time": "2024-08-10T04:28:11.652Z"
   },
   {
    "duration": 0,
    "start_time": "2024-08-10T04:28:11.653Z"
   },
   {
    "duration": 0,
    "start_time": "2024-08-10T04:28:11.657Z"
   },
   {
    "duration": 0,
    "start_time": "2024-08-10T04:28:11.658Z"
   },
   {
    "duration": 0,
    "start_time": "2024-08-10T04:28:11.660Z"
   },
   {
    "duration": 21,
    "start_time": "2024-08-10T04:28:52.549Z"
   },
   {
    "duration": 1545,
    "start_time": "2024-08-10T04:29:19.137Z"
   },
   {
    "duration": 64,
    "start_time": "2024-08-10T04:29:20.685Z"
   },
   {
    "duration": 18,
    "start_time": "2024-08-10T04:29:20.752Z"
   },
   {
    "duration": 21,
    "start_time": "2024-08-10T04:29:20.773Z"
   },
   {
    "duration": 31,
    "start_time": "2024-08-10T04:29:20.798Z"
   },
   {
    "duration": 9,
    "start_time": "2024-08-10T04:29:20.832Z"
   },
   {
    "duration": 20,
    "start_time": "2024-08-10T04:29:20.845Z"
   },
   {
    "duration": 12,
    "start_time": "2024-08-10T04:29:20.871Z"
   },
   {
    "duration": 55,
    "start_time": "2024-08-10T04:29:20.886Z"
   },
   {
    "duration": 7,
    "start_time": "2024-08-10T04:29:20.944Z"
   },
   {
    "duration": 0,
    "start_time": "2024-08-10T04:29:20.958Z"
   },
   {
    "duration": 0,
    "start_time": "2024-08-10T04:29:20.961Z"
   },
   {
    "duration": 0,
    "start_time": "2024-08-10T04:29:20.963Z"
   },
   {
    "duration": 0,
    "start_time": "2024-08-10T04:29:20.965Z"
   },
   {
    "duration": 0,
    "start_time": "2024-08-10T04:29:20.968Z"
   },
   {
    "duration": 0,
    "start_time": "2024-08-10T04:29:20.970Z"
   },
   {
    "duration": 0,
    "start_time": "2024-08-10T04:29:20.972Z"
   },
   {
    "duration": 0,
    "start_time": "2024-08-10T04:29:20.975Z"
   },
   {
    "duration": 0,
    "start_time": "2024-08-10T04:29:20.977Z"
   },
   {
    "duration": 0,
    "start_time": "2024-08-10T04:29:20.979Z"
   },
   {
    "duration": 0,
    "start_time": "2024-08-10T04:29:21.030Z"
   },
   {
    "duration": 0,
    "start_time": "2024-08-10T04:29:21.031Z"
   },
   {
    "duration": 0,
    "start_time": "2024-08-10T04:29:21.033Z"
   },
   {
    "duration": 0,
    "start_time": "2024-08-10T04:29:21.035Z"
   },
   {
    "duration": 0,
    "start_time": "2024-08-10T04:29:21.038Z"
   },
   {
    "duration": 0,
    "start_time": "2024-08-10T04:29:21.040Z"
   },
   {
    "duration": 0,
    "start_time": "2024-08-10T04:29:21.042Z"
   },
   {
    "duration": 0,
    "start_time": "2024-08-10T04:29:21.044Z"
   },
   {
    "duration": 0,
    "start_time": "2024-08-10T04:29:21.046Z"
   },
   {
    "duration": 0,
    "start_time": "2024-08-10T04:29:21.049Z"
   },
   {
    "duration": 0,
    "start_time": "2024-08-10T04:29:21.051Z"
   },
   {
    "duration": 0,
    "start_time": "2024-08-10T04:29:21.053Z"
   },
   {
    "duration": 0,
    "start_time": "2024-08-10T04:29:21.056Z"
   },
   {
    "duration": 0,
    "start_time": "2024-08-10T04:29:21.058Z"
   },
   {
    "duration": 0,
    "start_time": "2024-08-10T04:29:21.060Z"
   },
   {
    "duration": 0,
    "start_time": "2024-08-10T04:29:21.062Z"
   },
   {
    "duration": 0,
    "start_time": "2024-08-10T04:29:21.065Z"
   },
   {
    "duration": 0,
    "start_time": "2024-08-10T04:29:21.067Z"
   },
   {
    "duration": 0,
    "start_time": "2024-08-10T04:29:21.069Z"
   },
   {
    "duration": 0,
    "start_time": "2024-08-10T04:29:21.071Z"
   },
   {
    "duration": 0,
    "start_time": "2024-08-10T04:29:21.073Z"
   },
   {
    "duration": 0,
    "start_time": "2024-08-10T04:29:21.127Z"
   },
   {
    "duration": 0,
    "start_time": "2024-08-10T04:29:21.129Z"
   },
   {
    "duration": 0,
    "start_time": "2024-08-10T04:29:21.130Z"
   },
   {
    "duration": 0,
    "start_time": "2024-08-10T04:29:21.132Z"
   },
   {
    "duration": 0,
    "start_time": "2024-08-10T04:29:21.134Z"
   },
   {
    "duration": 0,
    "start_time": "2024-08-10T04:29:21.136Z"
   },
   {
    "duration": 0,
    "start_time": "2024-08-10T04:29:21.137Z"
   },
   {
    "duration": 0,
    "start_time": "2024-08-10T04:29:21.139Z"
   },
   {
    "duration": 0,
    "start_time": "2024-08-10T04:29:21.141Z"
   },
   {
    "duration": 0,
    "start_time": "2024-08-10T04:29:21.142Z"
   },
   {
    "duration": 0,
    "start_time": "2024-08-10T04:29:21.144Z"
   },
   {
    "duration": 0,
    "start_time": "2024-08-10T04:29:21.146Z"
   },
   {
    "duration": 0,
    "start_time": "2024-08-10T04:29:21.147Z"
   },
   {
    "duration": 0,
    "start_time": "2024-08-10T04:29:21.148Z"
   },
   {
    "duration": 0,
    "start_time": "2024-08-10T04:29:21.150Z"
   },
   {
    "duration": 0,
    "start_time": "2024-08-10T04:29:21.151Z"
   },
   {
    "duration": 0,
    "start_time": "2024-08-10T04:29:21.152Z"
   },
   {
    "duration": 0,
    "start_time": "2024-08-10T04:29:21.154Z"
   },
   {
    "duration": 0,
    "start_time": "2024-08-10T04:29:21.161Z"
   },
   {
    "duration": 4,
    "start_time": "2024-08-10T04:30:45.672Z"
   },
   {
    "duration": 13,
    "start_time": "2024-08-10T04:30:47.150Z"
   },
   {
    "duration": 1237,
    "start_time": "2024-08-10T04:31:05.690Z"
   },
   {
    "duration": 6,
    "start_time": "2024-08-10T04:32:18.853Z"
   },
   {
    "duration": 7,
    "start_time": "2024-08-10T04:32:48.836Z"
   },
   {
    "duration": 6,
    "start_time": "2024-08-10T04:32:54.770Z"
   },
   {
    "duration": 7,
    "start_time": "2024-08-10T04:33:15.291Z"
   },
   {
    "duration": 6,
    "start_time": "2024-08-10T04:33:18.240Z"
   },
   {
    "duration": 12,
    "start_time": "2024-08-10T04:33:21.995Z"
   },
   {
    "duration": 19,
    "start_time": "2024-08-10T04:33:40.129Z"
   },
   {
    "duration": 18,
    "start_time": "2024-08-10T04:33:59.229Z"
   },
   {
    "duration": 6,
    "start_time": "2024-08-10T04:34:05.674Z"
   },
   {
    "duration": 5,
    "start_time": "2024-08-10T04:34:12.430Z"
   },
   {
    "duration": 1511,
    "start_time": "2024-08-10T04:34:55.294Z"
   },
   {
    "duration": 58,
    "start_time": "2024-08-10T04:34:56.808Z"
   },
   {
    "duration": 20,
    "start_time": "2024-08-10T04:34:56.869Z"
   },
   {
    "duration": 32,
    "start_time": "2024-08-10T04:34:56.894Z"
   },
   {
    "duration": 8,
    "start_time": "2024-08-10T04:34:56.929Z"
   },
   {
    "duration": 9,
    "start_time": "2024-08-10T04:34:56.940Z"
   },
   {
    "duration": 19,
    "start_time": "2024-08-10T04:34:56.954Z"
   },
   {
    "duration": 6,
    "start_time": "2024-08-10T04:34:56.976Z"
   },
   {
    "duration": 6,
    "start_time": "2024-08-10T04:34:57.025Z"
   },
   {
    "duration": 13,
    "start_time": "2024-08-10T04:34:57.037Z"
   },
   {
    "duration": 7,
    "start_time": "2024-08-10T04:34:57.053Z"
   },
   {
    "duration": 8,
    "start_time": "2024-08-10T04:34:57.062Z"
   },
   {
    "duration": 15,
    "start_time": "2024-08-10T04:34:57.072Z"
   },
   {
    "duration": 17,
    "start_time": "2024-08-10T04:34:57.127Z"
   },
   {
    "duration": 16,
    "start_time": "2024-08-10T04:34:57.147Z"
   },
   {
    "duration": 7,
    "start_time": "2024-08-10T04:34:57.166Z"
   },
   {
    "duration": 54,
    "start_time": "2024-08-10T04:34:57.175Z"
   },
   {
    "duration": 18,
    "start_time": "2024-08-10T04:34:57.233Z"
   },
   {
    "duration": 17,
    "start_time": "2024-08-10T04:34:57.254Z"
   },
   {
    "duration": 15,
    "start_time": "2024-08-10T04:34:57.274Z"
   },
   {
    "duration": 49,
    "start_time": "2024-08-10T04:34:57.292Z"
   },
   {
    "duration": 11,
    "start_time": "2024-08-10T04:34:57.345Z"
   },
   {
    "duration": 15,
    "start_time": "2024-08-10T04:34:57.359Z"
   },
   {
    "duration": 49,
    "start_time": "2024-08-10T04:34:57.377Z"
   },
   {
    "duration": 67,
    "start_time": "2024-08-10T04:34:57.429Z"
   },
   {
    "duration": 39,
    "start_time": "2024-08-10T04:34:57.499Z"
   },
   {
    "duration": 11,
    "start_time": "2024-08-10T04:34:57.541Z"
   },
   {
    "duration": 33,
    "start_time": "2024-08-10T04:34:57.561Z"
   },
   {
    "duration": 44,
    "start_time": "2024-08-10T04:34:57.597Z"
   },
   {
    "duration": 9,
    "start_time": "2024-08-10T04:34:57.643Z"
   },
   {
    "duration": 23,
    "start_time": "2024-08-10T04:34:57.655Z"
   },
   {
    "duration": 57,
    "start_time": "2024-08-10T04:34:57.681Z"
   },
   {
    "duration": 15,
    "start_time": "2024-08-10T04:34:57.742Z"
   },
   {
    "duration": 4819,
    "start_time": "2024-08-10T04:34:57.760Z"
   },
   {
    "duration": 284,
    "start_time": "2024-08-10T04:35:02.582Z"
   },
   {
    "duration": 24,
    "start_time": "2024-08-10T04:35:02.869Z"
   },
   {
    "duration": 309,
    "start_time": "2024-08-10T04:35:02.898Z"
   },
   {
    "duration": 323,
    "start_time": "2024-08-10T04:35:03.211Z"
   },
   {
    "duration": 10,
    "start_time": "2024-08-10T04:35:03.538Z"
   },
   {
    "duration": 25,
    "start_time": "2024-08-10T04:35:03.553Z"
   },
   {
    "duration": 82,
    "start_time": "2024-08-10T04:35:03.581Z"
   },
   {
    "duration": 4,
    "start_time": "2024-08-10T04:35:03.666Z"
   },
   {
    "duration": 15,
    "start_time": "2024-08-10T04:35:03.674Z"
   },
   {
    "duration": 34,
    "start_time": "2024-08-10T04:35:03.694Z"
   },
   {
    "duration": 27,
    "start_time": "2024-08-10T04:35:03.731Z"
   },
   {
    "duration": 180,
    "start_time": "2024-08-10T04:35:03.761Z"
   },
   {
    "duration": 79,
    "start_time": "2024-08-10T04:35:03.947Z"
   },
   {
    "duration": 25,
    "start_time": "2024-08-10T04:35:04.029Z"
   },
   {
    "duration": 3206,
    "start_time": "2024-08-10T04:35:04.057Z"
   },
   {
    "duration": 7,
    "start_time": "2024-08-10T04:35:07.266Z"
   },
   {
    "duration": 14,
    "start_time": "2024-08-10T04:35:07.276Z"
   },
   {
    "duration": 64022,
    "start_time": "2024-08-10T04:35:07.293Z"
   },
   {
    "duration": 11,
    "start_time": "2024-08-10T04:36:11.319Z"
   },
   {
    "duration": 421160,
    "start_time": "2024-08-10T04:36:11.332Z"
   },
   {
    "duration": 141,
    "start_time": "2024-08-10T04:43:12.496Z"
   },
   {
    "duration": 7,
    "start_time": "2024-08-10T04:43:12.642Z"
   },
   {
    "duration": 6,
    "start_time": "2024-08-10T04:43:12.652Z"
   },
   {
    "duration": 5,
    "start_time": "2024-08-10T04:43:12.661Z"
   },
   {
    "duration": 5,
    "start_time": "2024-08-10T04:43:12.669Z"
   }
  ],
  "kernelspec": {
   "display_name": "Python 3 (ipykernel)",
   "language": "python",
   "name": "python3"
  },
  "language_info": {
   "codemirror_mode": {
    "name": "ipython",
    "version": 3
   },
   "file_extension": ".py",
   "mimetype": "text/x-python",
   "name": "python",
   "nbconvert_exporter": "python",
   "pygments_lexer": "ipython3",
   "version": "3.9.19"
  },
  "toc": {
   "base_numbering": 1,
   "nav_menu": {},
   "number_sections": true,
   "sideBar": true,
   "skip_h1_title": true,
   "title_cell": "Table of Contents",
   "title_sidebar": "Contents",
   "toc_cell": false,
   "toc_position": {
    "height": "calc(100% - 180px)",
    "left": "10px",
    "top": "150px",
    "width": "307.2px"
   },
   "toc_section_display": true,
   "toc_window_display": false
  }
 },
 "nbformat": 4,
 "nbformat_minor": 2
}
